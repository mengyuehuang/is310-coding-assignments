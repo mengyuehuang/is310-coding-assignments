{
 "cells": [
  {
   "cell_type": "code",
   "execution_count": 1,
   "metadata": {},
   "outputs": [],
   "source": [
    "import pandas as pd\n",
    "import numpy as np\n",
    "import seaborn as sns\n",
    "import matplotlib.pyplot as plt"
   ]
  },
  {
   "cell_type": "code",
   "execution_count": 8,
   "metadata": {},
   "outputs": [],
   "source": [
    "film_scripts_df = pd.read_csv('cleaned_pudding_data.csv', encoding='ISO-8859-1')\n",
    "character_list_df = pd.read_csv(r'C:\\Users\\98768\\Desktop\\is310\\week8\\pudding\\character_list5.csv', encoding='ISO-8859-1')\n",
    "character_mapping_df = pd.read_csv(r'C:\\Users\\98768\\Desktop\\is310\\week8\\pudding\\character_mapping.csv', encoding='ISO-8859-1')\n",
    "metaddata_df = pd.read_csv(r'C:\\Users\\98768\\Desktop\\is310\\week8\\pudding\\meta_data7.csv', encoding='ISO-8859-1')"
   ]
  },
  {
   "cell_type": "code",
   "execution_count": null,
   "metadata": {},
   "outputs": [],
   "source": []
  }
 ],
 "metadata": {
  "kernelspec": {
   "display_name": "is310-env",
   "language": "python",
   "name": "python3"
  },
  "language_info": {
   "codemirror_mode": {
    "name": "ipython",
    "version": 3
   },
   "file_extension": ".py",
   "mimetype": "text/x-python",
   "name": "python",
   "nbconvert_exporter": "python",
   "pygments_lexer": "ipython3",
   "version": "3.12.0"
  }
 },
 "nbformat": 4,
 "nbformat_minor": 2
}
