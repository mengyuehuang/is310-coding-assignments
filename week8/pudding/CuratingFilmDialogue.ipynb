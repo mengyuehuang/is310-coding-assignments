{
 "cells": [
  {
   "cell_type": "code",
   "execution_count": 95,
   "metadata": {},
   "outputs": [],
   "source": [
    "import pandas as pd\n",
    "import numpy as np\n",
    "import seaborn as sns\n",
    "import matplotlib.pyplot as plt"
   ]
  },
  {
   "cell_type": "markdown",
   "metadata": {},
   "source": [
    "### character_list5"
   ]
  },
  {
   "cell_type": "code",
   "execution_count": 21,
   "metadata": {},
   "outputs": [
    {
     "data": {
      "text/html": [
       "<div>\n",
       "<style scoped>\n",
       "    .dataframe tbody tr th:only-of-type {\n",
       "        vertical-align: middle;\n",
       "    }\n",
       "\n",
       "    .dataframe tbody tr th {\n",
       "        vertical-align: top;\n",
       "    }\n",
       "\n",
       "    .dataframe thead th {\n",
       "        text-align: right;\n",
       "    }\n",
       "</style>\n",
       "<table border=\"1\" class=\"dataframe\">\n",
       "  <thead>\n",
       "    <tr style=\"text-align: right;\">\n",
       "      <th></th>\n",
       "      <th>script_id</th>\n",
       "      <th>imdb_character_name</th>\n",
       "      <th>words</th>\n",
       "      <th>gender</th>\n",
       "      <th>age</th>\n",
       "    </tr>\n",
       "  </thead>\n",
       "  <tbody>\n",
       "    <tr>\n",
       "      <th>0</th>\n",
       "      <td>280</td>\n",
       "      <td>betty</td>\n",
       "      <td>311</td>\n",
       "      <td>f</td>\n",
       "      <td>35.0</td>\n",
       "    </tr>\n",
       "    <tr>\n",
       "      <th>1</th>\n",
       "      <td>280</td>\n",
       "      <td>carolyn johnson</td>\n",
       "      <td>873</td>\n",
       "      <td>f</td>\n",
       "      <td>NaN</td>\n",
       "    </tr>\n",
       "    <tr>\n",
       "      <th>2</th>\n",
       "      <td>280</td>\n",
       "      <td>eleanor</td>\n",
       "      <td>138</td>\n",
       "      <td>f</td>\n",
       "      <td>NaN</td>\n",
       "    </tr>\n",
       "    <tr>\n",
       "      <th>3</th>\n",
       "      <td>280</td>\n",
       "      <td>francesca johns</td>\n",
       "      <td>2251</td>\n",
       "      <td>f</td>\n",
       "      <td>46.0</td>\n",
       "    </tr>\n",
       "    <tr>\n",
       "      <th>4</th>\n",
       "      <td>280</td>\n",
       "      <td>madge</td>\n",
       "      <td>190</td>\n",
       "      <td>f</td>\n",
       "      <td>46.0</td>\n",
       "    </tr>\n",
       "  </tbody>\n",
       "</table>\n",
       "</div>"
      ],
      "text/plain": [
       "   script_id imdb_character_name  words gender   age\n",
       "0        280               betty    311      f  35.0\n",
       "1        280     carolyn johnson    873      f   NaN\n",
       "2        280             eleanor    138      f   NaN\n",
       "3        280     francesca johns   2251      f  46.0\n",
       "4        280               madge    190      f  46.0"
      ]
     },
     "execution_count": 21,
     "metadata": {},
     "output_type": "execute_result"
    }
   ],
   "source": [
    "char_list = pd.read_csv('character_list5.csv', encoding='latin1')\n",
    "char_list.head()"
   ]
  },
  {
   "cell_type": "code",
   "execution_count": 22,
   "metadata": {},
   "outputs": [
    {
     "data": {
      "text/plain": [
       "script_id                 0\n",
       "imdb_character_name       2\n",
       "words                     0\n",
       "gender                    0\n",
       "age                    4785\n",
       "dtype: int64"
      ]
     },
     "execution_count": 22,
     "metadata": {},
     "output_type": "execute_result"
    }
   ],
   "source": [
    "char_list.isna().sum()"
   ]
  },
  {
   "cell_type": "code",
   "execution_count": 23,
   "metadata": {},
   "outputs": [
    {
     "data": {
      "text/plain": [
       "(18263, 5)"
      ]
     },
     "execution_count": 23,
     "metadata": {},
     "output_type": "execute_result"
    }
   ],
   "source": [
    "char_list = char_list.dropna()\n",
    "char_list.shape"
   ]
  },
  {
   "cell_type": "code",
   "execution_count": 24,
   "metadata": {},
   "outputs": [
    {
     "data": {
      "text/plain": [
       "script_id                int64\n",
       "imdb_character_name     object\n",
       "words                    int64\n",
       "gender                  object\n",
       "age                    float64\n",
       "dtype: object"
      ]
     },
     "execution_count": 24,
     "metadata": {},
     "output_type": "execute_result"
    }
   ],
   "source": [
    "char_list.dtypes"
   ]
  },
  {
   "cell_type": "code",
   "execution_count": 25,
   "metadata": {},
   "outputs": [
    {
     "data": {
      "text/plain": [
       "array([\"'baby' brent\", \"'badge of honor\", \"'bagheera' the \", ..., 'álex',\n",
       "       'éponine', 'étienne'], dtype=object)"
      ]
     },
     "execution_count": 25,
     "metadata": {},
     "output_type": "execute_result"
    }
   ],
   "source": [
    "np.sort(char_list['imdb_character_name'].unique())"
   ]
  },
  {
   "cell_type": "code",
   "execution_count": 26,
   "metadata": {},
   "outputs": [
    {
     "data": {
      "text/plain": [
       "array(['?', 'f', 'm'], dtype=object)"
      ]
     },
     "execution_count": 26,
     "metadata": {},
     "output_type": "execute_result"
    }
   ],
   "source": [
    "np.sort(char_list['gender'].unique())"
   ]
  },
  {
   "cell_type": "code",
   "execution_count": 27,
   "metadata": {},
   "outputs": [
    {
     "data": {
      "text/plain": [
       "(18261, 5)"
      ]
     },
     "execution_count": 27,
     "metadata": {},
     "output_type": "execute_result"
    }
   ],
   "source": [
    "char_list = char_list[char_list['gender'] != '?']\n",
    "char_list.shape"
   ]
  },
  {
   "cell_type": "markdown",
   "metadata": {},
   "source": [
    "### character_mapping"
   ]
  },
  {
   "cell_type": "code",
   "execution_count": 6,
   "metadata": {},
   "outputs": [
    {
     "data": {
      "text/html": [
       "<div>\n",
       "<style scoped>\n",
       "    .dataframe tbody tr th:only-of-type {\n",
       "        vertical-align: middle;\n",
       "    }\n",
       "\n",
       "    .dataframe tbody tr th {\n",
       "        vertical-align: top;\n",
       "    }\n",
       "\n",
       "    .dataframe thead th {\n",
       "        text-align: right;\n",
       "    }\n",
       "</style>\n",
       "<table border=\"1\" class=\"dataframe\">\n",
       "  <thead>\n",
       "    <tr style=\"text-align: right;\">\n",
       "      <th></th>\n",
       "      <th>script_id</th>\n",
       "      <th>imdb_id</th>\n",
       "      <th>character_from_script</th>\n",
       "      <th>closest_character_name_from_imdb_match</th>\n",
       "      <th>closest_imdb_character_id</th>\n",
       "    </tr>\n",
       "  </thead>\n",
       "  <tbody>\n",
       "    <tr>\n",
       "      <th>0</th>\n",
       "      <td>1</td>\n",
       "      <td>tt0147800</td>\n",
       "      <td>bianca</td>\n",
       "      <td>bianca stratford</td>\n",
       "      <td>nm0646351</td>\n",
       "    </tr>\n",
       "    <tr>\n",
       "      <th>1</th>\n",
       "      <td>1</td>\n",
       "      <td>tt0147800</td>\n",
       "      <td>cameron</td>\n",
       "      <td>cameron james</td>\n",
       "      <td>nm0330687</td>\n",
       "    </tr>\n",
       "    <tr>\n",
       "      <th>2</th>\n",
       "      <td>1</td>\n",
       "      <td>tt0147800</td>\n",
       "      <td>chastity</td>\n",
       "      <td>chastity</td>\n",
       "      <td>nm0005517</td>\n",
       "    </tr>\n",
       "    <tr>\n",
       "      <th>3</th>\n",
       "      <td>1</td>\n",
       "      <td>tt0147800</td>\n",
       "      <td>joey</td>\n",
       "      <td>joey donner</td>\n",
       "      <td>nm0005080</td>\n",
       "    </tr>\n",
       "    <tr>\n",
       "      <th>4</th>\n",
       "      <td>1</td>\n",
       "      <td>tt0147800</td>\n",
       "      <td>kat</td>\n",
       "      <td>kat stratford</td>\n",
       "      <td>nm0005466</td>\n",
       "    </tr>\n",
       "  </tbody>\n",
       "</table>\n",
       "</div>"
      ],
      "text/plain": [
       "   script_id    imdb_id character_from_script  \\\n",
       "0          1  tt0147800                bianca   \n",
       "1          1  tt0147800               cameron   \n",
       "2          1  tt0147800              chastity   \n",
       "3          1  tt0147800                  joey   \n",
       "4          1  tt0147800                   kat   \n",
       "\n",
       "  closest_character_name_from_imdb_match closest_imdb_character_id  \n",
       "0                       bianca stratford                 nm0646351  \n",
       "1                          cameron james                 nm0330687  \n",
       "2                               chastity                 nm0005517  \n",
       "3                            joey donner                 nm0005080  \n",
       "4                          kat stratford                 nm0005466  "
      ]
     },
     "execution_count": 6,
     "metadata": {},
     "output_type": "execute_result"
    }
   ],
   "source": [
    "char_mapping = pd.read_csv('character_mapping.csv', encoding='latin1')\n",
    "char_mapping.head()"
   ]
  },
  {
   "cell_type": "code",
   "execution_count": 28,
   "metadata": {},
   "outputs": [
    {
     "data": {
      "text/plain": [
       "script_id                                  0\n",
       "imdb_id                                    0\n",
       "character_from_script                     53\n",
       "closest_character_name_from_imdb_match    64\n",
       "closest_imdb_character_id                  0\n",
       "dtype: int64"
      ]
     },
     "execution_count": 28,
     "metadata": {},
     "output_type": "execute_result"
    }
   ],
   "source": [
    "char_mapping.isna().sum()"
   ]
  },
  {
   "cell_type": "code",
   "execution_count": 29,
   "metadata": {},
   "outputs": [
    {
     "data": {
      "text/plain": [
       "(99275, 5)"
      ]
     },
     "execution_count": 29,
     "metadata": {},
     "output_type": "execute_result"
    }
   ],
   "source": [
    "char_mapping = char_mapping.dropna()\n",
    "char_mapping.shape"
   ]
  },
  {
   "cell_type": "code",
   "execution_count": 30,
   "metadata": {},
   "outputs": [
    {
     "data": {
      "text/plain": [
       "script_id                                  int64\n",
       "imdb_id                                   object\n",
       "character_from_script                     object\n",
       "closest_character_name_from_imdb_match    object\n",
       "closest_imdb_character_id                 object\n",
       "dtype: object"
      ]
     },
     "execution_count": 30,
     "metadata": {},
     "output_type": "execute_result"
    }
   ],
   "source": [
    "char_mapping.dtypes"
   ]
  },
  {
   "cell_type": "code",
   "execution_count": 31,
   "metadata": {},
   "outputs": [
    {
     "data": {
      "text/plain": [
       "array(['tt0019777', 'tt0021884', 'tt0022054', ..., 'tt3850214',\n",
       "       'tt3859076', 'tt4270516'], dtype=object)"
      ]
     },
     "execution_count": 31,
     "metadata": {},
     "output_type": "execute_result"
    }
   ],
   "source": [
    "np.sort(char_mapping['imdb_id'].unique())"
   ]
  },
  {
   "cell_type": "code",
   "execution_count": 34,
   "metadata": {},
   "outputs": [
    {
     "data": {
      "text/plain": [
       "array(['a', 'a black ralegal anthea burton leads a young black law',\n",
       "       'a card white o black screen reads', ..., 'zwaiter', 'zydowski',\n",
       "       'zzi'], dtype=object)"
      ]
     },
     "execution_count": 34,
     "metadata": {},
     "output_type": "execute_result"
    }
   ],
   "source": [
    "np.sort(char_mapping['character_from_script'].unique())"
   ]
  },
  {
   "cell_type": "code",
   "execution_count": 32,
   "metadata": {},
   "outputs": [
    {
     "data": {
      "text/plain": [
       "array(['#1', \"'american gothic' woman\", \"'baby' brent\", ..., 'álex',\n",
       "       'éponine', 'étienne'], dtype=object)"
      ]
     },
     "execution_count": 32,
     "metadata": {},
     "output_type": "execute_result"
    }
   ],
   "source": [
    "np.sort(char_mapping['closest_character_name_from_imdb_match'].unique())"
   ]
  },
  {
   "cell_type": "code",
   "execution_count": 33,
   "metadata": {},
   "outputs": [
    {
     "data": {
      "text/plain": [
       "array(['nm0000001', 'nm0000002', 'nm0000004', ..., 'nm7823159',\n",
       "       'nm7830294', 'nm7870244'], dtype=object)"
      ]
     },
     "execution_count": 33,
     "metadata": {},
     "output_type": "execute_result"
    }
   ],
   "source": [
    "np.sort(char_mapping['closest_imdb_character_id'].unique())"
   ]
  },
  {
   "cell_type": "markdown",
   "metadata": {},
   "source": [
    "### meta_data7"
   ]
  },
  {
   "cell_type": "code",
   "execution_count": 7,
   "metadata": {},
   "outputs": [
    {
     "data": {
      "text/html": [
       "<div>\n",
       "<style scoped>\n",
       "    .dataframe tbody tr th:only-of-type {\n",
       "        vertical-align: middle;\n",
       "    }\n",
       "\n",
       "    .dataframe tbody tr th {\n",
       "        vertical-align: top;\n",
       "    }\n",
       "\n",
       "    .dataframe thead th {\n",
       "        text-align: right;\n",
       "    }\n",
       "</style>\n",
       "<table border=\"1\" class=\"dataframe\">\n",
       "  <thead>\n",
       "    <tr style=\"text-align: right;\">\n",
       "      <th></th>\n",
       "      <th>script_id</th>\n",
       "      <th>imdb_id</th>\n",
       "      <th>title</th>\n",
       "      <th>year</th>\n",
       "      <th>gross</th>\n",
       "      <th>lines_data</th>\n",
       "    </tr>\n",
       "  </thead>\n",
       "  <tbody>\n",
       "    <tr>\n",
       "      <th>0</th>\n",
       "      <td>1534</td>\n",
       "      <td>tt1022603</td>\n",
       "      <td>(500) Days of Summer</td>\n",
       "      <td>2009</td>\n",
       "      <td>37.0</td>\n",
       "      <td>7435445256774774443342577775657744434444564456...</td>\n",
       "    </tr>\n",
       "    <tr>\n",
       "      <th>1</th>\n",
       "      <td>1512</td>\n",
       "      <td>tt0147800</td>\n",
       "      <td>10 Things I Hate About You</td>\n",
       "      <td>1999</td>\n",
       "      <td>65.0</td>\n",
       "      <td>1777752320274533344457777722433777334443764677...</td>\n",
       "    </tr>\n",
       "    <tr>\n",
       "      <th>2</th>\n",
       "      <td>1514</td>\n",
       "      <td>tt0417385</td>\n",
       "      <td>12 and Holding</td>\n",
       "      <td>2005</td>\n",
       "      <td>NaN</td>\n",
       "      <td>5461357777754212454544441367774433446547647753...</td>\n",
       "    </tr>\n",
       "    <tr>\n",
       "      <th>3</th>\n",
       "      <td>1517</td>\n",
       "      <td>tt2024544</td>\n",
       "      <td>12 Years a Slave</td>\n",
       "      <td>2013</td>\n",
       "      <td>60.0</td>\n",
       "      <td>4567334777777777777777447777756477777444777777...</td>\n",
       "    </tr>\n",
       "    <tr>\n",
       "      <th>4</th>\n",
       "      <td>1520</td>\n",
       "      <td>tt1542344</td>\n",
       "      <td>127 Hours</td>\n",
       "      <td>2010</td>\n",
       "      <td>20.0</td>\n",
       "      <td>453513352345765766777777773340</td>\n",
       "    </tr>\n",
       "  </tbody>\n",
       "</table>\n",
       "</div>"
      ],
      "text/plain": [
       "   script_id    imdb_id                       title  year  gross  \\\n",
       "0       1534  tt1022603        (500) Days of Summer  2009   37.0   \n",
       "1       1512  tt0147800  10 Things I Hate About You  1999   65.0   \n",
       "2       1514  tt0417385              12 and Holding  2005    NaN   \n",
       "3       1517  tt2024544            12 Years a Slave  2013   60.0   \n",
       "4       1520  tt1542344                   127 Hours  2010   20.0   \n",
       "\n",
       "                                          lines_data  \n",
       "0  7435445256774774443342577775657744434444564456...  \n",
       "1  1777752320274533344457777722433777334443764677...  \n",
       "2  5461357777754212454544441367774433446547647753...  \n",
       "3  4567334777777777777777447777756477777444777777...  \n",
       "4                     453513352345765766777777773340  "
      ]
     },
     "execution_count": 7,
     "metadata": {},
     "output_type": "execute_result"
    }
   ],
   "source": [
    "meta = pd.read_csv('meta_data7.csv', encoding='latin1')\n",
    "meta.head()"
   ]
  },
  {
   "cell_type": "code",
   "execution_count": 35,
   "metadata": {},
   "outputs": [
    {
     "data": {
      "text/plain": [
       "script_id       0\n",
       "imdb_id         0\n",
       "title           0\n",
       "year            0\n",
       "gross         338\n",
       "lines_data      0\n",
       "dtype: int64"
      ]
     },
     "execution_count": 35,
     "metadata": {},
     "output_type": "execute_result"
    }
   ],
   "source": [
    "meta.isna().sum()"
   ]
  },
  {
   "cell_type": "code",
   "execution_count": 36,
   "metadata": {},
   "outputs": [
    {
     "data": {
      "text/plain": [
       "(1662, 6)"
      ]
     },
     "execution_count": 36,
     "metadata": {},
     "output_type": "execute_result"
    }
   ],
   "source": [
    "meta = meta.dropna()\n",
    "meta.shape"
   ]
  },
  {
   "cell_type": "code",
   "execution_count": 37,
   "metadata": {},
   "outputs": [
    {
     "data": {
      "text/plain": [
       "script_id       int64\n",
       "imdb_id        object\n",
       "title          object\n",
       "year            int64\n",
       "gross         float64\n",
       "lines_data     object\n",
       "dtype: object"
      ]
     },
     "execution_count": 37,
     "metadata": {},
     "output_type": "execute_result"
    }
   ],
   "source": [
    "meta.dtypes"
   ]
  },
  {
   "cell_type": "code",
   "execution_count": 38,
   "metadata": {},
   "outputs": [
    {
     "data": {
      "text/plain": [
       "array(['tt0021884', 'tt0031725', 'tt0032138', ..., 'tt3850214',\n",
       "       'tt3859076', 'tt4270516'], dtype=object)"
      ]
     },
     "execution_count": 38,
     "metadata": {},
     "output_type": "execute_result"
    }
   ],
   "source": [
    "np.sort(meta['imdb_id'].unique())"
   ]
  },
  {
   "cell_type": "code",
   "execution_count": 39,
   "metadata": {},
   "outputs": [
    {
     "data": {
      "text/plain": [
       "array(['(500) Days of Summer', '10 Things I Hate About You',\n",
       "       '12 Years a Slave', ..., 'Zodiac', 'eXistenZ', 'xXx'], dtype=object)"
      ]
     },
     "execution_count": 39,
     "metadata": {},
     "output_type": "execute_result"
    }
   ],
   "source": [
    "np.sort(meta['title'].unique())"
   ]
  },
  {
   "cell_type": "code",
   "execution_count": 41,
   "metadata": {},
   "outputs": [
    {
     "data": {
      "text/plain": [
       "array(['00000000000000000000044332410000000000000000000000000000000014334343344244323252002202000000000000030000000000000000041000000',\n",
       "       '00000000000010000110000000100000000230000000000000000000000110000000',\n",
       "       '00000000000110030000112000000000000000000000131433230000000004675475000000000000000000000133444320265434200000000023232421023434032',\n",
       "       ...,\n",
       "       '777777777777777777777777777777777777777777777777777777777777777777777777777777777777777777777777777777777777777777777777777777777777777777777777777777777777777777777777777777774',\n",
       "       '777777777777777777777777777777777777777777777777777777777777777777777777777777777777777777777777777777777777777777777777777777777777777777777777777777777777777777777777777777777777777777774',\n",
       "       '777777777777777777777777777777777777777777777777777777777777777777777777777777777777777777777777777777777777777777777777777777777777777777777777777777777777777777777777777777777777777777777777777777777777777777777777777777777777777777777777777777777777777'],\n",
       "      dtype=object)"
      ]
     },
     "execution_count": 41,
     "metadata": {},
     "output_type": "execute_result"
    }
   ],
   "source": [
    "np.sort(meta['lines_data'].unique())"
   ]
  },
  {
   "cell_type": "markdown",
   "metadata": {},
   "source": [
    "### Questions"
   ]
  },
  {
   "cell_type": "code",
   "execution_count": 44,
   "metadata": {},
   "outputs": [
    {
     "name": "stdout",
     "output_type": "stream",
     "text": [
      "Index(['script_id', 'imdb_character_name', 'words', 'gender', 'age'], dtype='object') \n",
      " Index(['script_id', 'imdb_id', 'character_from_script',\n",
      "       'closest_character_name_from_imdb_match', 'closest_imdb_character_id'],\n",
      "      dtype='object') \n",
      " Index(['script_id', 'imdb_id', 'title', 'year', 'gross', 'lines_data'], dtype='object')\n"
     ]
    }
   ],
   "source": [
    "print(char_list.columns, '\\n', char_mapping.columns, '\\n', meta.columns)"
   ]
  },
  {
   "cell_type": "code",
   "execution_count": 62,
   "metadata": {},
   "outputs": [
    {
     "data": {
      "text/plain": [
       "(30026, 9)"
      ]
     },
     "execution_count": 62,
     "metadata": {},
     "output_type": "execute_result"
    }
   ],
   "source": [
    "imdbdf = pd.merge(meta, char_mapping, on = ['imdb_id', 'script_id'], how='inner')\n",
    "imdbdf.shape"
   ]
  },
  {
   "cell_type": "code",
   "execution_count": 67,
   "metadata": {},
   "outputs": [
    {
     "data": {
      "text/plain": [
       "script_id                                 0\n",
       "imdb_id                                   0\n",
       "title                                     0\n",
       "year                                      0\n",
       "gross                                     0\n",
       "lines_data                                0\n",
       "character_from_script                     0\n",
       "closest_character_name_from_imdb_match    0\n",
       "closest_imdb_character_id                 0\n",
       "dtype: int64"
      ]
     },
     "execution_count": 67,
     "metadata": {},
     "output_type": "execute_result"
    }
   ],
   "source": [
    "imdbdf.isna().sum()"
   ]
  },
  {
   "cell_type": "code",
   "execution_count": 68,
   "metadata": {},
   "outputs": [
    {
     "data": {
      "text/plain": [
       "(317684, 13)"
      ]
     },
     "execution_count": 68,
     "metadata": {},
     "output_type": "execute_result"
    }
   ],
   "source": [
    "df = pd.merge(char_list, imdbdf, on = 'script_id', how='inner')\n",
    "df.shape"
   ]
  },
  {
   "cell_type": "code",
   "execution_count": 70,
   "metadata": {},
   "outputs": [
    {
     "data": {
      "text/plain": [
       "script_id                                 0\n",
       "imdb_character_name                       0\n",
       "words                                     0\n",
       "gender                                    0\n",
       "age                                       0\n",
       "imdb_id                                   0\n",
       "title                                     0\n",
       "year                                      0\n",
       "gross                                     0\n",
       "lines_data                                0\n",
       "character_from_script                     0\n",
       "closest_character_name_from_imdb_match    0\n",
       "closest_imdb_character_id                 0\n",
       "dtype: int64"
      ]
     },
     "execution_count": 70,
     "metadata": {},
     "output_type": "execute_result"
    }
   ],
   "source": [
    "df.isna().sum()"
   ]
  },
  {
   "cell_type": "markdown",
   "metadata": {},
   "source": [
    "1. How could we tell if the amount of dialogue was increasing over time in movies? How might this influence the assessment about the breakdown of gender dialogue?"
   ]
  },
  {
   "cell_type": "code",
   "execution_count": 87,
   "metadata": {},
   "outputs": [
    {
     "data": {
      "text/html": [
       "<div>\n",
       "<style scoped>\n",
       "    .dataframe tbody tr th:only-of-type {\n",
       "        vertical-align: middle;\n",
       "    }\n",
       "\n",
       "    .dataframe tbody tr th {\n",
       "        vertical-align: top;\n",
       "    }\n",
       "\n",
       "    .dataframe thead th {\n",
       "        text-align: right;\n",
       "    }\n",
       "</style>\n",
       "<table border=\"1\" class=\"dataframe\">\n",
       "  <thead>\n",
       "    <tr style=\"text-align: right;\">\n",
       "      <th></th>\n",
       "      <th>script_id</th>\n",
       "      <th>imdb_character_name</th>\n",
       "      <th>words</th>\n",
       "      <th>gender</th>\n",
       "      <th>age</th>\n",
       "      <th>imdb_id</th>\n",
       "      <th>title</th>\n",
       "      <th>year</th>\n",
       "      <th>gross</th>\n",
       "      <th>lines_data</th>\n",
       "      <th>character_from_script</th>\n",
       "      <th>closest_character_name_from_imdb_match</th>\n",
       "      <th>closest_imdb_character_id</th>\n",
       "      <th>mapped</th>\n",
       "    </tr>\n",
       "  </thead>\n",
       "  <tbody>\n",
       "    <tr>\n",
       "      <th>38001</th>\n",
       "      <td>1517</td>\n",
       "      <td>tibeats</td>\n",
       "      <td>1288</td>\n",
       "      <td>m</td>\n",
       "      <td>29.0</td>\n",
       "      <td>tt2024544</td>\n",
       "      <td>12 Years a Slave</td>\n",
       "      <td>2013</td>\n",
       "      <td>60.0</td>\n",
       "      <td>4567334777777777777777447777756477777444777777...</td>\n",
       "      <td>sheriff</td>\n",
       "      <td>sheriff</td>\n",
       "      <td>nm0401132</td>\n",
       "      <td>1</td>\n",
       "    </tr>\n",
       "    <tr>\n",
       "      <th>180549</th>\n",
       "      <td>3909</td>\n",
       "      <td>adam maitland</td>\n",
       "      <td>1606</td>\n",
       "      <td>m</td>\n",
       "      <td>30.0</td>\n",
       "      <td>tt0094721</td>\n",
       "      <td>Beetlejuice</td>\n",
       "      <td>1988</td>\n",
       "      <td>155.0</td>\n",
       "      <td>4320234543335344341245343453342223004643255222...</td>\n",
       "      <td>charles</td>\n",
       "      <td>charles deetz</td>\n",
       "      <td>nm0000470</td>\n",
       "      <td>1</td>\n",
       "    </tr>\n",
       "    <tr>\n",
       "      <th>172619</th>\n",
       "      <td>3701</td>\n",
       "      <td>halyna</td>\n",
       "      <td>208</td>\n",
       "      <td>f</td>\n",
       "      <td>41.0</td>\n",
       "      <td>tt0896872</td>\n",
       "      <td>The Whistleblower</td>\n",
       "      <td>2010</td>\n",
       "      <td>1.0</td>\n",
       "      <td>0000555434411034342130003115020000243310234246...</td>\n",
       "      <td>tanjo</td>\n",
       "      <td>tanjo</td>\n",
       "      <td>nm0412096</td>\n",
       "      <td>0</td>\n",
       "    </tr>\n",
       "    <tr>\n",
       "      <th>115504</th>\n",
       "      <td>2719</td>\n",
       "      <td>mantis</td>\n",
       "      <td>282</td>\n",
       "      <td>m</td>\n",
       "      <td>26.0</td>\n",
       "      <td>tt0441773</td>\n",
       "      <td>Kung Fu Panda</td>\n",
       "      <td>2008</td>\n",
       "      <td>260.0</td>\n",
       "      <td>5777777757777766777777777777776677667776766575...</td>\n",
       "      <td>grateful bunny</td>\n",
       "      <td>grateful bunny</td>\n",
       "      <td>nm0443911</td>\n",
       "      <td>1</td>\n",
       "    </tr>\n",
       "    <tr>\n",
       "      <th>198234</th>\n",
       "      <td>4404</td>\n",
       "      <td>jim danvers</td>\n",
       "      <td>292</td>\n",
       "      <td>m</td>\n",
       "      <td>47.0</td>\n",
       "      <td>tt0388125</td>\n",
       "      <td>In Her Shoes</td>\n",
       "      <td>2005</td>\n",
       "      <td>44.0</td>\n",
       "      <td>2232100000030131100010000412360032124043133330...</td>\n",
       "      <td>mrs lefkowitz</td>\n",
       "      <td>mrs. lefkowitz</td>\n",
       "      <td>nm0066537</td>\n",
       "      <td>1</td>\n",
       "    </tr>\n",
       "  </tbody>\n",
       "</table>\n",
       "</div>"
      ],
      "text/plain": [
       "        script_id imdb_character_name  words gender   age    imdb_id  \\\n",
       "38001        1517             tibeats   1288      m  29.0  tt2024544   \n",
       "180549       3909       adam maitland   1606      m  30.0  tt0094721   \n",
       "172619       3701              halyna    208      f  41.0  tt0896872   \n",
       "115504       2719              mantis    282      m  26.0  tt0441773   \n",
       "198234       4404         jim danvers    292      m  47.0  tt0388125   \n",
       "\n",
       "                    title  year  gross  \\\n",
       "38001    12 Years a Slave  2013   60.0   \n",
       "180549        Beetlejuice  1988  155.0   \n",
       "172619  The Whistleblower  2010    1.0   \n",
       "115504      Kung Fu Panda  2008  260.0   \n",
       "198234       In Her Shoes  2005   44.0   \n",
       "\n",
       "                                               lines_data  \\\n",
       "38001   4567334777777777777777447777756477777444777777...   \n",
       "180549  4320234543335344341245343453342223004643255222...   \n",
       "172619  0000555434411034342130003115020000243310234246...   \n",
       "115504  5777777757777766777777777777776677667776766575...   \n",
       "198234  2232100000030131100010000412360032124043133330...   \n",
       "\n",
       "       character_from_script closest_character_name_from_imdb_match  \\\n",
       "38001                sheriff                                sheriff   \n",
       "180549               charles                          charles deetz   \n",
       "172619                 tanjo                                  tanjo   \n",
       "115504        grateful bunny                         grateful bunny   \n",
       "198234         mrs lefkowitz                         mrs. lefkowitz   \n",
       "\n",
       "       closest_imdb_character_id  mapped  \n",
       "38001                  nm0401132       1  \n",
       "180549                 nm0000470       1  \n",
       "172619                 nm0412096       0  \n",
       "115504                 nm0443911       1  \n",
       "198234                 nm0066537       1  "
      ]
     },
     "execution_count": 87,
     "metadata": {},
     "output_type": "execute_result"
    }
   ],
   "source": [
    "df['mapped'] = df['gender'].map({'m': 1, 'f': 0})\n",
    "df.sample(5)"
   ]
  },
  {
   "cell_type": "code",
   "execution_count": 101,
   "metadata": {},
   "outputs": [
    {
     "data": {
      "text/html": [
       "<div>\n",
       "<style scoped>\n",
       "    .dataframe tbody tr th:only-of-type {\n",
       "        vertical-align: middle;\n",
       "    }\n",
       "\n",
       "    .dataframe tbody tr th {\n",
       "        vertical-align: top;\n",
       "    }\n",
       "\n",
       "    .dataframe thead th {\n",
       "        text-align: right;\n",
       "    }\n",
       "</style>\n",
       "<table border=\"1\" class=\"dataframe\">\n",
       "  <thead>\n",
       "    <tr style=\"text-align: right;\">\n",
       "      <th></th>\n",
       "      <th>year</th>\n",
       "      <th>words</th>\n",
       "      <th>mapped</th>\n",
       "    </tr>\n",
       "  </thead>\n",
       "  <tbody>\n",
       "    <tr>\n",
       "      <th>0</th>\n",
       "      <td>2015</td>\n",
       "      <td>6462980</td>\n",
       "      <td>0.654422</td>\n",
       "    </tr>\n",
       "    <tr>\n",
       "      <th>1</th>\n",
       "      <td>2014</td>\n",
       "      <td>10378714</td>\n",
       "      <td>0.680893</td>\n",
       "    </tr>\n",
       "    <tr>\n",
       "      <th>2</th>\n",
       "      <td>2013</td>\n",
       "      <td>9548671</td>\n",
       "      <td>0.686431</td>\n",
       "    </tr>\n",
       "    <tr>\n",
       "      <th>3</th>\n",
       "      <td>2012</td>\n",
       "      <td>11069703</td>\n",
       "      <td>0.711214</td>\n",
       "    </tr>\n",
       "    <tr>\n",
       "      <th>4</th>\n",
       "      <td>2011</td>\n",
       "      <td>14593663</td>\n",
       "      <td>0.686781</td>\n",
       "    </tr>\n",
       "    <tr>\n",
       "      <th>5</th>\n",
       "      <td>2010</td>\n",
       "      <td>12618789</td>\n",
       "      <td>0.621175</td>\n",
       "    </tr>\n",
       "    <tr>\n",
       "      <th>6</th>\n",
       "      <td>2009</td>\n",
       "      <td>20034126</td>\n",
       "      <td>0.671572</td>\n",
       "    </tr>\n",
       "    <tr>\n",
       "      <th>7</th>\n",
       "      <td>2008</td>\n",
       "      <td>15194953</td>\n",
       "      <td>0.713494</td>\n",
       "    </tr>\n",
       "    <tr>\n",
       "      <th>8</th>\n",
       "      <td>2007</td>\n",
       "      <td>9302018</td>\n",
       "      <td>0.723386</td>\n",
       "    </tr>\n",
       "    <tr>\n",
       "      <th>9</th>\n",
       "      <td>2006</td>\n",
       "      <td>7892726</td>\n",
       "      <td>0.737365</td>\n",
       "    </tr>\n",
       "    <tr>\n",
       "      <th>10</th>\n",
       "      <td>2005</td>\n",
       "      <td>10926481</td>\n",
       "      <td>0.699158</td>\n",
       "    </tr>\n",
       "    <tr>\n",
       "      <th>11</th>\n",
       "      <td>2004</td>\n",
       "      <td>8248461</td>\n",
       "      <td>0.701351</td>\n",
       "    </tr>\n",
       "    <tr>\n",
       "      <th>12</th>\n",
       "      <td>2003</td>\n",
       "      <td>7144788</td>\n",
       "      <td>0.708439</td>\n",
       "    </tr>\n",
       "    <tr>\n",
       "      <th>13</th>\n",
       "      <td>2002</td>\n",
       "      <td>7794300</td>\n",
       "      <td>0.713414</td>\n",
       "    </tr>\n",
       "    <tr>\n",
       "      <th>14</th>\n",
       "      <td>2001</td>\n",
       "      <td>13972557</td>\n",
       "      <td>0.714565</td>\n",
       "    </tr>\n",
       "    <tr>\n",
       "      <th>15</th>\n",
       "      <td>2000</td>\n",
       "      <td>12680784</td>\n",
       "      <td>0.706159</td>\n",
       "    </tr>\n",
       "    <tr>\n",
       "      <th>16</th>\n",
       "      <td>1999</td>\n",
       "      <td>23309387</td>\n",
       "      <td>0.663151</td>\n",
       "    </tr>\n",
       "    <tr>\n",
       "      <th>17</th>\n",
       "      <td>1998</td>\n",
       "      <td>15478227</td>\n",
       "      <td>0.729865</td>\n",
       "    </tr>\n",
       "    <tr>\n",
       "      <th>18</th>\n",
       "      <td>1997</td>\n",
       "      <td>13698228</td>\n",
       "      <td>0.695809</td>\n",
       "    </tr>\n",
       "    <tr>\n",
       "      <th>19</th>\n",
       "      <td>1996</td>\n",
       "      <td>9362483</td>\n",
       "      <td>0.728969</td>\n",
       "    </tr>\n",
       "    <tr>\n",
       "      <th>20</th>\n",
       "      <td>1995</td>\n",
       "      <td>17168531</td>\n",
       "      <td>0.722287</td>\n",
       "    </tr>\n",
       "    <tr>\n",
       "      <th>21</th>\n",
       "      <td>1994</td>\n",
       "      <td>7076754</td>\n",
       "      <td>0.709199</td>\n",
       "    </tr>\n",
       "    <tr>\n",
       "      <th>22</th>\n",
       "      <td>1993</td>\n",
       "      <td>9098574</td>\n",
       "      <td>0.722673</td>\n",
       "    </tr>\n",
       "    <tr>\n",
       "      <th>23</th>\n",
       "      <td>1992</td>\n",
       "      <td>6812581</td>\n",
       "      <td>0.760623</td>\n",
       "    </tr>\n",
       "    <tr>\n",
       "      <th>24</th>\n",
       "      <td>1991</td>\n",
       "      <td>9773763</td>\n",
       "      <td>0.750831</td>\n",
       "    </tr>\n",
       "    <tr>\n",
       "      <th>25</th>\n",
       "      <td>1990</td>\n",
       "      <td>5819182</td>\n",
       "      <td>0.745367</td>\n",
       "    </tr>\n",
       "    <tr>\n",
       "      <th>26</th>\n",
       "      <td>1989</td>\n",
       "      <td>6985077</td>\n",
       "      <td>0.767290</td>\n",
       "    </tr>\n",
       "    <tr>\n",
       "      <th>27</th>\n",
       "      <td>1988</td>\n",
       "      <td>3407563</td>\n",
       "      <td>0.713017</td>\n",
       "    </tr>\n",
       "    <tr>\n",
       "      <th>28</th>\n",
       "      <td>1987</td>\n",
       "      <td>5739316</td>\n",
       "      <td>0.707423</td>\n",
       "    </tr>\n",
       "    <tr>\n",
       "      <th>29</th>\n",
       "      <td>1986</td>\n",
       "      <td>4103075</td>\n",
       "      <td>0.739744</td>\n",
       "    </tr>\n",
       "    <tr>\n",
       "      <th>30</th>\n",
       "      <td>1985</td>\n",
       "      <td>1789232</td>\n",
       "      <td>0.692008</td>\n",
       "    </tr>\n",
       "    <tr>\n",
       "      <th>31</th>\n",
       "      <td>1984</td>\n",
       "      <td>1958261</td>\n",
       "      <td>0.709771</td>\n",
       "    </tr>\n",
       "    <tr>\n",
       "      <th>32</th>\n",
       "      <td>1983</td>\n",
       "      <td>1815363</td>\n",
       "      <td>0.774654</td>\n",
       "    </tr>\n",
       "    <tr>\n",
       "      <th>33</th>\n",
       "      <td>1982</td>\n",
       "      <td>3348535</td>\n",
       "      <td>0.746983</td>\n",
       "    </tr>\n",
       "    <tr>\n",
       "      <th>34</th>\n",
       "      <td>1981</td>\n",
       "      <td>657669</td>\n",
       "      <td>0.691358</td>\n",
       "    </tr>\n",
       "    <tr>\n",
       "      <th>35</th>\n",
       "      <td>1980</td>\n",
       "      <td>1735734</td>\n",
       "      <td>0.653306</td>\n",
       "    </tr>\n",
       "    <tr>\n",
       "      <th>36</th>\n",
       "      <td>1979</td>\n",
       "      <td>1000645</td>\n",
       "      <td>0.858896</td>\n",
       "    </tr>\n",
       "    <tr>\n",
       "      <th>37</th>\n",
       "      <td>1978</td>\n",
       "      <td>301357</td>\n",
       "      <td>0.730081</td>\n",
       "    </tr>\n",
       "    <tr>\n",
       "      <th>38</th>\n",
       "      <td>1977</td>\n",
       "      <td>389950</td>\n",
       "      <td>0.806931</td>\n",
       "    </tr>\n",
       "    <tr>\n",
       "      <th>39</th>\n",
       "      <td>1976</td>\n",
       "      <td>215749</td>\n",
       "      <td>0.832317</td>\n",
       "    </tr>\n",
       "    <tr>\n",
       "      <th>40</th>\n",
       "      <td>1975</td>\n",
       "      <td>285197</td>\n",
       "      <td>0.709877</td>\n",
       "    </tr>\n",
       "    <tr>\n",
       "      <th>41</th>\n",
       "      <td>1974</td>\n",
       "      <td>907594</td>\n",
       "      <td>0.808797</td>\n",
       "    </tr>\n",
       "    <tr>\n",
       "      <th>42</th>\n",
       "      <td>1973</td>\n",
       "      <td>483056</td>\n",
       "      <td>0.776733</td>\n",
       "    </tr>\n",
       "    <tr>\n",
       "      <th>43</th>\n",
       "      <td>1972</td>\n",
       "      <td>630731</td>\n",
       "      <td>0.767950</td>\n",
       "    </tr>\n",
       "    <tr>\n",
       "      <th>44</th>\n",
       "      <td>1971</td>\n",
       "      <td>21270</td>\n",
       "      <td>0.666667</td>\n",
       "    </tr>\n",
       "    <tr>\n",
       "      <th>45</th>\n",
       "      <td>1970</td>\n",
       "      <td>329050</td>\n",
       "      <td>0.909091</td>\n",
       "    </tr>\n",
       "    <tr>\n",
       "      <th>46</th>\n",
       "      <td>1968</td>\n",
       "      <td>142328</td>\n",
       "      <td>0.899083</td>\n",
       "    </tr>\n",
       "    <tr>\n",
       "      <th>47</th>\n",
       "      <td>1967</td>\n",
       "      <td>77660</td>\n",
       "      <td>1.000000</td>\n",
       "    </tr>\n",
       "    <tr>\n",
       "      <th>48</th>\n",
       "      <td>1966</td>\n",
       "      <td>253010</td>\n",
       "      <td>0.733333</td>\n",
       "    </tr>\n",
       "    <tr>\n",
       "      <th>49</th>\n",
       "      <td>1960</td>\n",
       "      <td>69759</td>\n",
       "      <td>0.600000</td>\n",
       "    </tr>\n",
       "    <tr>\n",
       "      <th>50</th>\n",
       "      <td>1959</td>\n",
       "      <td>282456</td>\n",
       "      <td>0.623188</td>\n",
       "    </tr>\n",
       "    <tr>\n",
       "      <th>51</th>\n",
       "      <td>1958</td>\n",
       "      <td>198856</td>\n",
       "      <td>0.747312</td>\n",
       "    </tr>\n",
       "    <tr>\n",
       "      <th>52</th>\n",
       "      <td>1954</td>\n",
       "      <td>408354</td>\n",
       "      <td>0.751111</td>\n",
       "    </tr>\n",
       "    <tr>\n",
       "      <th>53</th>\n",
       "      <td>1949</td>\n",
       "      <td>221030</td>\n",
       "      <td>0.818182</td>\n",
       "    </tr>\n",
       "    <tr>\n",
       "      <th>54</th>\n",
       "      <td>1939</td>\n",
       "      <td>480742</td>\n",
       "      <td>0.752475</td>\n",
       "    </tr>\n",
       "    <tr>\n",
       "      <th>55</th>\n",
       "      <td>1931</td>\n",
       "      <td>34191</td>\n",
       "      <td>0.800000</td>\n",
       "    </tr>\n",
       "  </tbody>\n",
       "</table>\n",
       "</div>"
      ],
      "text/plain": [
       "    year     words    mapped\n",
       "0   2015   6462980  0.654422\n",
       "1   2014  10378714  0.680893\n",
       "2   2013   9548671  0.686431\n",
       "3   2012  11069703  0.711214\n",
       "4   2011  14593663  0.686781\n",
       "5   2010  12618789  0.621175\n",
       "6   2009  20034126  0.671572\n",
       "7   2008  15194953  0.713494\n",
       "8   2007   9302018  0.723386\n",
       "9   2006   7892726  0.737365\n",
       "10  2005  10926481  0.699158\n",
       "11  2004   8248461  0.701351\n",
       "12  2003   7144788  0.708439\n",
       "13  2002   7794300  0.713414\n",
       "14  2001  13972557  0.714565\n",
       "15  2000  12680784  0.706159\n",
       "16  1999  23309387  0.663151\n",
       "17  1998  15478227  0.729865\n",
       "18  1997  13698228  0.695809\n",
       "19  1996   9362483  0.728969\n",
       "20  1995  17168531  0.722287\n",
       "21  1994   7076754  0.709199\n",
       "22  1993   9098574  0.722673\n",
       "23  1992   6812581  0.760623\n",
       "24  1991   9773763  0.750831\n",
       "25  1990   5819182  0.745367\n",
       "26  1989   6985077  0.767290\n",
       "27  1988   3407563  0.713017\n",
       "28  1987   5739316  0.707423\n",
       "29  1986   4103075  0.739744\n",
       "30  1985   1789232  0.692008\n",
       "31  1984   1958261  0.709771\n",
       "32  1983   1815363  0.774654\n",
       "33  1982   3348535  0.746983\n",
       "34  1981    657669  0.691358\n",
       "35  1980   1735734  0.653306\n",
       "36  1979   1000645  0.858896\n",
       "37  1978    301357  0.730081\n",
       "38  1977    389950  0.806931\n",
       "39  1976    215749  0.832317\n",
       "40  1975    285197  0.709877\n",
       "41  1974    907594  0.808797\n",
       "42  1973    483056  0.776733\n",
       "43  1972    630731  0.767950\n",
       "44  1971     21270  0.666667\n",
       "45  1970    329050  0.909091\n",
       "46  1968    142328  0.899083\n",
       "47  1967     77660  1.000000\n",
       "48  1966    253010  0.733333\n",
       "49  1960     69759  0.600000\n",
       "50  1959    282456  0.623188\n",
       "51  1958    198856  0.747312\n",
       "52  1954    408354  0.751111\n",
       "53  1949    221030  0.818182\n",
       "54  1939    480742  0.752475\n",
       "55  1931     34191  0.800000"
      ]
     },
     "execution_count": 101,
     "metadata": {},
     "output_type": "execute_result"
    }
   ],
   "source": [
    "df1 = df[['mapped', 'words', 'year']].groupby('year').agg({'words': 'sum', 'mapped': 'mean'}) \\\n",
    "                                                     .sort_values(by='year', ascending=False).reset_index()\n",
    "df1"
   ]
  },
  {
   "cell_type": "code",
   "execution_count": 113,
   "metadata": {},
   "outputs": [
    {
     "data": {
      "image/png": "[encoded data removed]",
      "text/plain": [
       "<Figure size 700x500 with 1 Axes>"
      ]
     },
     "metadata": {},
     "output_type": "display_data"
    }
   ],
   "source": [
    "plt.figure(figsize=(7, 5))\n",
    "sns.scatterplot(x='year', y='words', hue='mapped', palette='coolwarm', data=df1)\n",
    "plt.show()"
   ]
  },
  {
   "cell_type": "markdown",
   "metadata": {},
   "source": [
    "2. How could test if there was any relationship between the film’s gross value and the amount of dialogue in the film?"
   ]
  },
  {
   "cell_type": "code",
   "execution_count": 114,
   "metadata": {},
   "outputs": [
    {
     "data": {
      "text/plain": [
       "Index(['script_id', 'imdb_character_name', 'words', 'gender', 'age', 'imdb_id',\n",
       "       'title', 'year', 'gross', 'lines_data', 'character_from_script',\n",
       "       'closest_character_name_from_imdb_match', 'closest_imdb_character_id',\n",
       "       'mapped'],\n",
       "      dtype='object')"
      ]
     },
     "execution_count": 114,
     "metadata": {},
     "output_type": "execute_result"
    }
   ],
   "source": [
    "df.columns"
   ]
  },
  {
   "cell_type": "code",
   "execution_count": 115,
   "metadata": {},
   "outputs": [
    {
     "data": {
      "text/html": [
       "<div>\n",
       "<style scoped>\n",
       "    .dataframe tbody tr th:only-of-type {\n",
       "        vertical-align: middle;\n",
       "    }\n",
       "\n",
       "    .dataframe tbody tr th {\n",
       "        vertical-align: top;\n",
       "    }\n",
       "\n",
       "    .dataframe thead th {\n",
       "        text-align: right;\n",
       "    }\n",
       "</style>\n",
       "<table border=\"1\" class=\"dataframe\">\n",
       "  <thead>\n",
       "    <tr style=\"text-align: right;\">\n",
       "      <th></th>\n",
       "      <th>imdb_id</th>\n",
       "      <th>words</th>\n",
       "      <th>gross</th>\n",
       "    </tr>\n",
       "  </thead>\n",
       "  <tbody>\n",
       "    <tr>\n",
       "      <th>0</th>\n",
       "      <td>tt4270516</td>\n",
       "      <td>115905</td>\n",
       "      <td>840.0</td>\n",
       "    </tr>\n",
       "    <tr>\n",
       "      <th>1</th>\n",
       "      <td>tt3859076</td>\n",
       "      <td>259670</td>\n",
       "      <td>690.0</td>\n",
       "    </tr>\n",
       "    <tr>\n",
       "      <th>2</th>\n",
       "      <td>tt3850214</td>\n",
       "      <td>88660</td>\n",
       "      <td>3564.0</td>\n",
       "    </tr>\n",
       "    <tr>\n",
       "      <th>3</th>\n",
       "      <td>tt3808342</td>\n",
       "      <td>5552</td>\n",
       "      <td>0.0</td>\n",
       "    </tr>\n",
       "    <tr>\n",
       "      <th>4</th>\n",
       "      <td>tt3722070</td>\n",
       "      <td>195569</td>\n",
       "      <td>0.0</td>\n",
       "    </tr>\n",
       "    <tr>\n",
       "      <th>...</th>\n",
       "      <td>...</td>\n",
       "      <td>...</td>\n",
       "      <td>...</td>\n",
       "    </tr>\n",
       "    <tr>\n",
       "      <th>1654</th>\n",
       "      <td>tt0041959</td>\n",
       "      <td>221030</td>\n",
       "      <td>2024.0</td>\n",
       "    </tr>\n",
       "    <tr>\n",
       "      <th>1655</th>\n",
       "      <td>tt0035423</td>\n",
       "      <td>37160</td>\n",
       "      <td>2880.0</td>\n",
       "    </tr>\n",
       "    <tr>\n",
       "      <th>1656</th>\n",
       "      <td>tt0032138</td>\n",
       "      <td>129864</td>\n",
       "      <td>117460.0</td>\n",
       "    </tr>\n",
       "    <tr>\n",
       "      <th>1657</th>\n",
       "      <td>tt0031725</td>\n",
       "      <td>350878</td>\n",
       "      <td>11880.0</td>\n",
       "    </tr>\n",
       "    <tr>\n",
       "      <th>1658</th>\n",
       "      <td>tt0021884</td>\n",
       "      <td>34191</td>\n",
       "      <td>13410.0</td>\n",
       "    </tr>\n",
       "  </tbody>\n",
       "</table>\n",
       "<p>1659 rows × 3 columns</p>\n",
       "</div>"
      ],
      "text/plain": [
       "        imdb_id   words     gross\n",
       "0     tt4270516  115905     840.0\n",
       "1     tt3859076  259670     690.0\n",
       "2     tt3850214   88660    3564.0\n",
       "3     tt3808342    5552       0.0\n",
       "4     tt3722070  195569       0.0\n",
       "...         ...     ...       ...\n",
       "1654  tt0041959  221030    2024.0\n",
       "1655  tt0035423   37160    2880.0\n",
       "1656  tt0032138  129864  117460.0\n",
       "1657  tt0031725  350878   11880.0\n",
       "1658  tt0021884   34191   13410.0\n",
       "\n",
       "[1659 rows x 3 columns]"
      ]
     },
     "execution_count": 115,
     "metadata": {},
     "output_type": "execute_result"
    }
   ],
   "source": [
    "df2 = df[['gross', 'words', 'imdb_id']].groupby('imdb_id').agg({'words': 'sum', 'gross': 'sum'}) \\\n",
    "                                                          .sort_values(by='imdb_id', ascending=False).reset_index()\n",
    "df2"
   ]
  },
  {
   "cell_type": "code",
   "execution_count": 116,
   "metadata": {},
   "outputs": [
    {
     "data": {
      "text/html": [
       "<div>\n",
       "<style scoped>\n",
       "    .dataframe tbody tr th:only-of-type {\n",
       "        vertical-align: middle;\n",
       "    }\n",
       "\n",
       "    .dataframe tbody tr th {\n",
       "        vertical-align: top;\n",
       "    }\n",
       "\n",
       "    .dataframe thead th {\n",
       "        text-align: right;\n",
       "    }\n",
       "</style>\n",
       "<table border=\"1\" class=\"dataframe\">\n",
       "  <thead>\n",
       "    <tr style=\"text-align: right;\">\n",
       "      <th></th>\n",
       "      <th>gross</th>\n",
       "      <th>words</th>\n",
       "    </tr>\n",
       "  </thead>\n",
       "  <tbody>\n",
       "    <tr>\n",
       "      <th>gross</th>\n",
       "      <td>1.000000</td>\n",
       "      <td>0.368841</td>\n",
       "    </tr>\n",
       "    <tr>\n",
       "      <th>words</th>\n",
       "      <td>0.368841</td>\n",
       "      <td>1.000000</td>\n",
       "    </tr>\n",
       "  </tbody>\n",
       "</table>\n",
       "</div>"
      ],
      "text/plain": [
       "          gross     words\n",
       "gross  1.000000  0.368841\n",
       "words  0.368841  1.000000"
      ]
     },
     "execution_count": 116,
     "metadata": {},
     "output_type": "execute_result"
    }
   ],
   "source": [
    "df2[['gross', 'words']].corr()"
   ]
  },
  {
   "cell_type": "code",
   "execution_count": 117,
   "metadata": {},
   "outputs": [
    {
     "data": {
      "image/png": "[encoded data removed]",
      "text/plain": [
       "<Figure size 700x500 with 1 Axes>"
      ]
     },
     "metadata": {},
     "output_type": "display_data"
    }
   ],
   "source": [
    "plt.figure(figsize=(7, 5))\n",
    "sns.scatterplot(x='words', y='gross', data=df2)\n",
    "plt.show()"
   ]
  }
 ],
 "metadata": {
  "kernelspec": {
   "display_name": "is310-env",
   "language": "python",
   "name": "python3"
  },
  "language_info": {
   "codemirror_mode": {
    "name": "ipython",
    "version": 3
   },
   "file_extension": ".py",
   "mimetype": "text/x-python",
   "name": "python",
   "nbconvert_exporter": "python",
   "pygments_lexer": "ipython3",
   "version": "3.12.0"
  }
 },
 "nbformat": 4,
 "nbformat_minor": 2
}
