{
 "cells": [
  {
   "cell_type": "markdown",
   "metadata": {},
   "source": [
    "### Preprocess on raw Cornell Data"
   ]
  },
  {
   "cell_type": "code",
   "execution_count": 4,
   "metadata": {},
   "outputs": [],
   "source": [
    "import pandas as pd\n",
    "import numpy as np\n",
    "from imdb import Cinemagoer"
   ]
  },
  {
   "cell_type": "code",
   "execution_count": null,
   "metadata": {},
   "outputs": [],
   "source": [
    "movies = pd.read_csv(r'C:\\Users\\98768\\Desktop\\is310\\project\\movie-corpus\\conversations.csv')\n",
    "#corpus = pd.read_csv(r'C:\\Users\\98768\\Desktop\\is310\\project\\movie-corpus\\corpus.csv')\n",
    "speakers = pd.read_csv(r'C:\\Users\\98768\\Desktop\\is310\\project\\movie-corpus\\speakers.csv')\n",
    "utterances = pd.read_csv('C:\\\\Users\\\\98768\\\\Desktop\\\\is310\\\\project\\\\movie-corpus\\\\utterances.csv')\n",
    "\n",
    "movies['release_year'] = movies['release_year'].str.replace('/I', '')\n",
    "movies['release_year'] = movies['release_year'].astype(int)\n",
    "\n",
    "utterances.rename(columns={'id': 'utterances_id'}, inplace=True)\n",
    "utterances.rename(columns={'conversation_id': 'belonging_id'}, inplace=True)\n",
    "utterances.rename(columns={'meta.movie_id': 'movie_idx'}, inplace=True)\n",
    "utterances.rename(columns={'reply-to': 'reply_to'}, inplace=True)\n",
    "utterances['reply_to'].fillna('end', inplace=True) # fill NaN with 'end' to indicate this utterances is the end of the conversation\n",
    "\n",
    "speakers['gender'] = speakers['gender'].str.lower() # convert gender to lowercase\n",
    "speakers['credit_pos'] = speakers['credit_pos'].replace('?', 0) # convert unkwnown credit position = 0\n",
    "speakers['credit_pos'] = speakers['credit_pos'].astype(int)\n",
    "\n",
    "print('conversations:', movies.columns.values)\n",
    "#print('corpus:', corpus.columns.values)\n",
    "print('speakers:', speakers.columns.values)\n",
    "print('utterances:', utterances.columns.values)"
   ]
  },
  {
   "cell_type": "code",
   "execution_count": null,
   "metadata": {},
   "outputs": [],
   "source": [
    "ia = Cinemagoer()\n",
    "\n",
    "# getting the movie id from Cinemagoer\n",
    "movie_ids = []\n",
    "\n",
    "for title in movies['movie_name']:\n",
    "    if ia.search_movie(title) is not None:\n",
    "        id = ia.search_movie(title)[0].movieID\n",
    "    else:\n",
    "        id = None\n",
    "    movie_ids.append(id)\n",
    "\n",
    "movies['Cinemagoer_id'] = movie_ids"
   ]
  },
  {
   "cell_type": "code",
   "execution_count": null,
   "metadata": {},
   "outputs": [],
   "source": [
    "# getting the plot from the Cinemagoer movie id\n",
    "def get_plot(movie_id):\n",
    "    if movie_id is not None:\n",
    "        movie = ia.get_movie(movie_id, info=['plot'])\n",
    "        if 'plot' in movie:\n",
    "            print(movie['plot'])\n",
    "            return movie['plot']\n",
    "    else:\n",
    "        return None\n",
    "\n",
    "# Add the plots to the movies DataFrame\n",
    "movies['multiple_plot'] = movies['Cinemagoer_id'].apply(get_plot)"
   ]
  },
  {
   "cell_type": "code",
   "execution_count": null,
   "metadata": {},
   "outputs": [],
   "source": [
    "# getting the synopsis from the Cinemagoer movie id\n",
    "def get_synopsis(movie_id):\n",
    "    if movie_id is not None:\n",
    "        movie = ia.get_movie(movie_id, info=['synopsis'])\n",
    "        if 'synopsis' in movie:\n",
    "            print(movie['synopsis'])\n",
    "            return movie['synopsis']\n",
    "    else:\n",
    "        return None\n",
    "\n",
    "# Add the plots to the movies DataFrame\n",
    "movies['synopsis'] = movies['Cinemagoer_id'].apply(get_synopsis)"
   ]
  },
  {
   "cell_type": "code",
   "execution_count": 6,
   "metadata": {},
   "outputs": [],
   "source": [
    "speakers.to_csv('C:\\\\Users\\\\98768\\\\Desktop\\\\is310\\\\project\\\\movie-corpus\\\\processed\\\\speakers.csv', index=False)\n",
    "movies.to_csv('C:\\\\Users\\\\98768\\\\Desktop\\\\is310\\\\project\\\\movie-corpus\\\\processed\\\\movies.csv', index=False)\n",
    "utterances.to_csv('C:\\\\Users\\\\98768\\\\Desktop\\\\is310\\\\project\\\\movie-corpus\\\\processed\\\\utterances.csv', index=False)"
   ]
  }
 ],
 "metadata": {
  "kernelspec": {
   "display_name": "is310-env",
   "language": "python",
   "name": "python3"
  },
  "language_info": {
   "codemirror_mode": {
    "name": "ipython",
    "version": 3
   },
   "file_extension": ".py",
   "mimetype": "text/x-python",
   "name": "python",
   "nbconvert_exporter": "python",
   "pygments_lexer": "ipython3",
   "version": "3.12.0"
  }
 },
 "nbformat": 4,
 "nbformat_minor": 2
}
