{
 "cells": [
  {
   "cell_type": "code",
   "execution_count": 1,
   "metadata": {},
   "outputs": [],
   "source": [
    "import pandas as pd\n",
    "import numpy as np\n",
    "import seaborn as sns\n",
    "import matplotlib.pyplot as plt\n",
    "\n",
    "import altair as alt\n",
    "from vega_datasets import data"
   ]
  },
  {
   "cell_type": "markdown",
   "metadata": {},
   "source": [
    "### Preprocessing"
   ]
  },
  {
   "cell_type": "markdown",
   "metadata": {},
   "source": [
    "#### character_list5"
   ]
  },
  {
   "cell_type": "code",
   "execution_count": 6,
   "metadata": {},
   "outputs": [
    {
     "data": {
      "text/plain": [
       "(23048, 5)"
      ]
     },
     "execution_count": 6,
     "metadata": {},
     "output_type": "execute_result"
    }
   ],
   "source": [
    "char_list = pd.read_csv('character_list5.csv', encoding='latin1')\n",
    "char_list.shape"
   ]
  },
  {
   "cell_type": "code",
   "execution_count": 7,
   "metadata": {},
   "outputs": [
    {
     "data": {
      "text/plain": [
       "script_id                 0\n",
       "imdb_character_name       2\n",
       "words                     0\n",
       "gender                    0\n",
       "age                    4785\n",
       "dtype: int64"
      ]
     },
     "execution_count": 7,
     "metadata": {},
     "output_type": "execute_result"
    }
   ],
   "source": [
    "char_list.isna().sum()"
   ]
  },
  {
   "cell_type": "code",
   "execution_count": 8,
   "metadata": {},
   "outputs": [
    {
     "data": {
      "text/plain": [
       "(18263, 5)"
      ]
     },
     "execution_count": 8,
     "metadata": {},
     "output_type": "execute_result"
    }
   ],
   "source": [
    "char_list = char_list.dropna()\n",
    "char_list.shape"
   ]
  },
  {
   "cell_type": "code",
   "execution_count": 9,
   "metadata": {},
   "outputs": [
    {
     "data": {
      "text/plain": [
       "script_id                int64\n",
       "imdb_character_name     object\n",
       "words                    int64\n",
       "gender                  object\n",
       "age                    float64\n",
       "dtype: object"
      ]
     },
     "execution_count": 9,
     "metadata": {},
     "output_type": "execute_result"
    }
   ],
   "source": [
    "char_list.dtypes"
   ]
  },
  {
   "cell_type": "code",
   "execution_count": 10,
   "metadata": {},
   "outputs": [
    {
     "data": {
      "text/plain": [
       "array([\"'baby' brent\", \"'badge of honor\", \"'bagheera' the \", ..., 'álex',\n",
       "       'éponine', 'étienne'], dtype=object)"
      ]
     },
     "execution_count": 10,
     "metadata": {},
     "output_type": "execute_result"
    }
   ],
   "source": [
    "np.sort(char_list['imdb_character_name'].unique())"
   ]
  },
  {
   "cell_type": "code",
   "execution_count": 11,
   "metadata": {},
   "outputs": [
    {
     "data": {
      "text/plain": [
       "array(['?', 'f', 'm'], dtype=object)"
      ]
     },
     "execution_count": 11,
     "metadata": {},
     "output_type": "execute_result"
    }
   ],
   "source": [
    "np.sort(char_list['gender'].unique())"
   ]
  },
  {
   "cell_type": "code",
   "execution_count": 12,
   "metadata": {},
   "outputs": [
    {
     "data": {
      "text/plain": [
       "(18261, 5)"
      ]
     },
     "execution_count": 12,
     "metadata": {},
     "output_type": "execute_result"
    }
   ],
   "source": [
    "# only keep and f and m genders\n",
    "char_list = char_list[char_list['gender'] != '?']\n",
    "char_list.shape"
   ]
  },
  {
   "cell_type": "markdown",
   "metadata": {},
   "source": [
    "#### character_mapping"
   ]
  },
  {
   "cell_type": "code",
   "execution_count": 17,
   "metadata": {},
   "outputs": [
    {
     "data": {
      "text/plain": [
       "(99390, 5)"
      ]
     },
     "execution_count": 17,
     "metadata": {},
     "output_type": "execute_result"
    }
   ],
   "source": [
    "char_mapping = pd.read_csv('character_mapping.csv', encoding='latin1')\n",
    "char_mapping.shape"
   ]
  },
  {
   "cell_type": "code",
   "execution_count": 18,
   "metadata": {},
   "outputs": [
    {
     "data": {
      "text/plain": [
       "script_id                                  0\n",
       "imdb_id                                    0\n",
       "character_from_script                     53\n",
       "closest_character_name_from_imdb_match    64\n",
       "closest_imdb_character_id                  0\n",
       "dtype: int64"
      ]
     },
     "execution_count": 18,
     "metadata": {},
     "output_type": "execute_result"
    }
   ],
   "source": [
    "char_mapping.isna().sum()"
   ]
  },
  {
   "cell_type": "code",
   "execution_count": 19,
   "metadata": {},
   "outputs": [
    {
     "data": {
      "text/plain": [
       "(99275, 5)"
      ]
     },
     "execution_count": 19,
     "metadata": {},
     "output_type": "execute_result"
    }
   ],
   "source": [
    "char_mapping = char_mapping.dropna()\n",
    "char_mapping.shape"
   ]
  },
  {
   "cell_type": "code",
   "execution_count": 20,
   "metadata": {},
   "outputs": [
    {
     "data": {
      "text/plain": [
       "script_id                                  int64\n",
       "imdb_id                                   object\n",
       "character_from_script                     object\n",
       "closest_character_name_from_imdb_match    object\n",
       "closest_imdb_character_id                 object\n",
       "dtype: object"
      ]
     },
     "execution_count": 20,
     "metadata": {},
     "output_type": "execute_result"
    }
   ],
   "source": [
    "char_mapping.dtypes"
   ]
  },
  {
   "cell_type": "code",
   "execution_count": 21,
   "metadata": {},
   "outputs": [
    {
     "data": {
      "text/plain": [
       "array(['tt0019777', 'tt0021884', 'tt0022054', ..., 'tt3850214',\n",
       "       'tt3859076', 'tt4270516'], dtype=object)"
      ]
     },
     "execution_count": 21,
     "metadata": {},
     "output_type": "execute_result"
    }
   ],
   "source": [
    "np.sort(char_mapping['imdb_id'].unique())"
   ]
  },
  {
   "cell_type": "code",
   "execution_count": 22,
   "metadata": {},
   "outputs": [
    {
     "data": {
      "text/plain": [
       "array(['a', 'a black ralegal anthea burton leads a young black law',\n",
       "       'a card white o black screen reads', ..., 'zwaiter', 'zydowski',\n",
       "       'zzi'], dtype=object)"
      ]
     },
     "execution_count": 22,
     "metadata": {},
     "output_type": "execute_result"
    }
   ],
   "source": [
    "np.sort(char_mapping['character_from_script'].unique())"
   ]
  },
  {
   "cell_type": "code",
   "execution_count": 23,
   "metadata": {},
   "outputs": [
    {
     "data": {
      "text/plain": [
       "array(['#1', \"'american gothic' woman\", \"'baby' brent\", ..., 'álex',\n",
       "       'éponine', 'étienne'], dtype=object)"
      ]
     },
     "execution_count": 23,
     "metadata": {},
     "output_type": "execute_result"
    }
   ],
   "source": [
    "np.sort(char_mapping['closest_character_name_from_imdb_match'].unique())"
   ]
  },
  {
   "cell_type": "code",
   "execution_count": 24,
   "metadata": {},
   "outputs": [
    {
     "data": {
      "text/plain": [
       "array(['nm0000001', 'nm0000002', 'nm0000004', ..., 'nm7823159',\n",
       "       'nm7830294', 'nm7870244'], dtype=object)"
      ]
     },
     "execution_count": 24,
     "metadata": {},
     "output_type": "execute_result"
    }
   ],
   "source": [
    "np.sort(char_mapping['closest_imdb_character_id'].unique())"
   ]
  },
  {
   "cell_type": "markdown",
   "metadata": {},
   "source": [
    "#### meta_data7"
   ]
  },
  {
   "cell_type": "code",
   "execution_count": 27,
   "metadata": {},
   "outputs": [
    {
     "data": {
      "text/plain": [
       "(2000, 6)"
      ]
     },
     "execution_count": 27,
     "metadata": {},
     "output_type": "execute_result"
    }
   ],
   "source": [
    "meta = pd.read_csv('meta_data7.csv', encoding='latin1')\n",
    "meta.shape"
   ]
  },
  {
   "cell_type": "code",
   "execution_count": 28,
   "metadata": {},
   "outputs": [
    {
     "data": {
      "text/plain": [
       "script_id       0\n",
       "imdb_id         0\n",
       "title           0\n",
       "year            0\n",
       "gross         338\n",
       "lines_data      0\n",
       "dtype: int64"
      ]
     },
     "execution_count": 28,
     "metadata": {},
     "output_type": "execute_result"
    }
   ],
   "source": [
    "meta.isna().sum()"
   ]
  },
  {
   "cell_type": "code",
   "execution_count": 29,
   "metadata": {},
   "outputs": [
    {
     "data": {
      "text/plain": [
       "(1662, 6)"
      ]
     },
     "execution_count": 29,
     "metadata": {},
     "output_type": "execute_result"
    }
   ],
   "source": [
    "meta = meta.dropna()\n",
    "meta.shape"
   ]
  },
  {
   "cell_type": "code",
   "execution_count": 30,
   "metadata": {},
   "outputs": [
    {
     "data": {
      "text/plain": [
       "script_id       int64\n",
       "imdb_id        object\n",
       "title          object\n",
       "year            int64\n",
       "gross         float64\n",
       "lines_data     object\n",
       "dtype: object"
      ]
     },
     "execution_count": 30,
     "metadata": {},
     "output_type": "execute_result"
    }
   ],
   "source": [
    "meta.dtypes"
   ]
  },
  {
   "cell_type": "code",
   "execution_count": 31,
   "metadata": {},
   "outputs": [
    {
     "data": {
      "text/plain": [
       "array(['tt0021884', 'tt0031725', 'tt0032138', ..., 'tt3850214',\n",
       "       'tt3859076', 'tt4270516'], dtype=object)"
      ]
     },
     "execution_count": 31,
     "metadata": {},
     "output_type": "execute_result"
    }
   ],
   "source": [
    "np.sort(meta['imdb_id'].unique())"
   ]
  },
  {
   "cell_type": "code",
   "execution_count": 32,
   "metadata": {},
   "outputs": [
    {
     "data": {
      "text/plain": [
       "array(['(500) Days of Summer', '10 Things I Hate About You',\n",
       "       '12 Years a Slave', ..., 'Zodiac', 'eXistenZ', 'xXx'], dtype=object)"
      ]
     },
     "execution_count": 32,
     "metadata": {},
     "output_type": "execute_result"
    }
   ],
   "source": [
    "np.sort(meta['title'].unique())"
   ]
  },
  {
   "cell_type": "code",
   "execution_count": 33,
   "metadata": {},
   "outputs": [
    {
     "data": {
      "text/plain": [
       "array(['00000000000000000000044332410000000000000000000000000000000014334343344244323252002202000000000000030000000000000000041000000',\n",
       "       '00000000000010000110000000100000000230000000000000000000000110000000',\n",
       "       '00000000000110030000112000000000000000000000131433230000000004675475000000000000000000000133444320265434200000000023232421023434032',\n",
       "       ...,\n",
       "       '777777777777777777777777777777777777777777777777777777777777777777777777777777777777777777777777777777777777777777777777777777777777777777777777777777777777777777777777777777774',\n",
       "       '777777777777777777777777777777777777777777777777777777777777777777777777777777777777777777777777777777777777777777777777777777777777777777777777777777777777777777777777777777777777777777774',\n",
       "       '777777777777777777777777777777777777777777777777777777777777777777777777777777777777777777777777777777777777777777777777777777777777777777777777777777777777777777777777777777777777777777777777777777777777777777777777777777777777777777777777777777777777777'],\n",
       "      dtype=object)"
      ]
     },
     "execution_count": 33,
     "metadata": {},
     "output_type": "execute_result"
    }
   ],
   "source": [
    "np.sort(meta['lines_data'].unique())"
   ]
  },
  {
   "cell_type": "markdown",
   "metadata": {},
   "source": [
    "### Merge together"
   ]
  },
  {
   "cell_type": "code",
   "execution_count": 41,
   "metadata": {},
   "outputs": [
    {
     "name": "stdout",
     "output_type": "stream",
     "text": [
      "Index(['script_id', 'imdb_character_name', 'words', 'gender', 'age'], dtype='object') \n",
      " Index(['script_id', 'imdb_id', 'character_from_script',\n",
      "       'closest_character_name_from_imdb_match', 'closest_imdb_character_id'],\n",
      "      dtype='object') \n",
      " Index(['script_id', 'imdb_id', 'title', 'year', 'gross', 'lines_data'], dtype='object')\n"
     ]
    }
   ],
   "source": [
    "# all the columns\n",
    "print(char_list.columns, '\\n', char_mapping.columns, '\\n', meta.columns)"
   ]
  },
  {
   "cell_type": "code",
   "execution_count": 42,
   "metadata": {},
   "outputs": [
    {
     "data": {
      "text/plain": [
       "script_id                                 0\n",
       "imdb_id                                   0\n",
       "title                                     0\n",
       "year                                      0\n",
       "gross                                     0\n",
       "lines_data                                0\n",
       "character_from_script                     0\n",
       "closest_character_name_from_imdb_match    0\n",
       "closest_imdb_character_id                 0\n",
       "dtype: int64"
      ]
     },
     "execution_count": 42,
     "metadata": {},
     "output_type": "execute_result"
    }
   ],
   "source": [
    "imdbdf = pd.merge(meta, char_mapping, on = ['imdb_id', 'script_id'], how='inner')\n",
    "imdbdf.isna().sum()"
   ]
  },
  {
   "cell_type": "code",
   "execution_count": 46,
   "metadata": {},
   "outputs": [
    {
     "data": {
      "text/plain": [
       "(317684, 13)"
      ]
     },
     "execution_count": 46,
     "metadata": {},
     "output_type": "execute_result"
    }
   ],
   "source": [
    "df = pd.merge(char_list, imdbdf, on = 'script_id', how='inner')\n",
    "df.shape"
   ]
  },
  {
   "cell_type": "code",
   "execution_count": 44,
   "metadata": {},
   "outputs": [
    {
     "data": {
      "text/plain": [
       "script_id                                 0\n",
       "imdb_character_name                       0\n",
       "words                                     0\n",
       "gender                                    0\n",
       "age                                       0\n",
       "imdb_id                                   0\n",
       "title                                     0\n",
       "year                                      0\n",
       "gross                                     0\n",
       "lines_data                                0\n",
       "character_from_script                     0\n",
       "closest_character_name_from_imdb_match    0\n",
       "closest_imdb_character_id                 0\n",
       "dtype: int64"
      ]
     },
     "execution_count": 44,
     "metadata": {},
     "output_type": "execute_result"
    }
   ],
   "source": [
    "df.isna().sum()"
   ]
  },
  {
   "cell_type": "markdown",
   "metadata": {},
   "source": [
    "### Your graphs should be interactive and have titles, as well as having the data be correctly formatted. \n",
    "\n",
    "### Answer our original questions using Pandas and Altair:\n",
    "\n",
    "1. How could we tell if the amount of dialogue was increasing over time in movies? \n",
    "\n",
    "   How might this influence the assessment about the breakdown of gender dialogue?"
   ]
  },
  {
   "cell_type": "code",
   "execution_count": 47,
   "metadata": {},
   "outputs": [
    {
     "data": {
      "text/html": [
       "<div>\n",
       "<style scoped>\n",
       "    .dataframe tbody tr th:only-of-type {\n",
       "        vertical-align: middle;\n",
       "    }\n",
       "\n",
       "    .dataframe tbody tr th {\n",
       "        vertical-align: top;\n",
       "    }\n",
       "\n",
       "    .dataframe thead th {\n",
       "        text-align: right;\n",
       "    }\n",
       "</style>\n",
       "<table border=\"1\" class=\"dataframe\">\n",
       "  <thead>\n",
       "    <tr style=\"text-align: right;\">\n",
       "      <th></th>\n",
       "      <th>script_id</th>\n",
       "      <th>imdb_character_name</th>\n",
       "      <th>words</th>\n",
       "      <th>gender</th>\n",
       "      <th>age</th>\n",
       "      <th>imdb_id</th>\n",
       "      <th>title</th>\n",
       "      <th>year</th>\n",
       "      <th>gross</th>\n",
       "      <th>lines_data</th>\n",
       "      <th>character_from_script</th>\n",
       "      <th>closest_character_name_from_imdb_match</th>\n",
       "      <th>closest_imdb_character_id</th>\n",
       "      <th>mapped_gender</th>\n",
       "    </tr>\n",
       "  </thead>\n",
       "  <tbody>\n",
       "    <tr>\n",
       "      <th>80359</th>\n",
       "      <td>2188</td>\n",
       "      <td>mr. howard</td>\n",
       "      <td>162</td>\n",
       "      <td>m</td>\n",
       "      <td>48.0</td>\n",
       "      <td>tt0157503</td>\n",
       "      <td>Drop Dead Gorgeous</td>\n",
       "      <td>1999</td>\n",
       "      <td>18.0</td>\n",
       "      <td>6213022311000002557432411001101220000124410000...</td>\n",
       "      <td>pregnant fry girl</td>\n",
       "      <td>pregnant fry girl</td>\n",
       "      <td>nm0241539</td>\n",
       "      <td>1</td>\n",
       "    </tr>\n",
       "    <tr>\n",
       "      <th>193183</th>\n",
       "      <td>4280</td>\n",
       "      <td>genco</td>\n",
       "      <td>332</td>\n",
       "      <td>m</td>\n",
       "      <td>22.0</td>\n",
       "      <td>tt0071562</td>\n",
       "      <td>The Godfather: Part II</td>\n",
       "      <td>1974</td>\n",
       "      <td>266.0</td>\n",
       "      <td>7761231275777546764467733677625677777777777777...</td>\n",
       "      <td>vito</td>\n",
       "      <td>vito corleone</td>\n",
       "      <td>nm0000134</td>\n",
       "      <td>1</td>\n",
       "    </tr>\n",
       "    <tr>\n",
       "      <th>100337</th>\n",
       "      <td>2530</td>\n",
       "      <td>celia foote</td>\n",
       "      <td>140</td>\n",
       "      <td>f</td>\n",
       "      <td>34.0</td>\n",
       "      <td>tt1454029</td>\n",
       "      <td>The Help</td>\n",
       "      <td>2011</td>\n",
       "      <td>186.0</td>\n",
       "      <td>0006340000000000000040000000031100000014000000...</td>\n",
       "      <td>constantine</td>\n",
       "      <td>constantine jefferson</td>\n",
       "      <td>nm0001807</td>\n",
       "      <td>0</td>\n",
       "    </tr>\n",
       "    <tr>\n",
       "      <th>316764</th>\n",
       "      <td>9241</td>\n",
       "      <td>matt freehauf</td>\n",
       "      <td>1801</td>\n",
       "      <td>m</td>\n",
       "      <td>42.0</td>\n",
       "      <td>tt1625346</td>\n",
       "      <td>Young Adult</td>\n",
       "      <td>2011</td>\n",
       "      <td>17.0</td>\n",
       "      <td>0000000003444233043546453445343345203212200124...</td>\n",
       "      <td>beth</td>\n",
       "      <td>beth slade</td>\n",
       "      <td>nm0714147</td>\n",
       "      <td>1</td>\n",
       "    </tr>\n",
       "    <tr>\n",
       "      <th>174889</th>\n",
       "      <td>3740</td>\n",
       "      <td>sam traxler</td>\n",
       "      <td>254</td>\n",
       "      <td>m</td>\n",
       "      <td>29.0</td>\n",
       "      <td>tt0185014</td>\n",
       "      <td>Wonder Boys</td>\n",
       "      <td>2000</td>\n",
       "      <td>31.0</td>\n",
       "      <td>5536777777343344637777756457777777773425677777...</td>\n",
       "      <td>pupcik</td>\n",
       "      <td>officer pupcik</td>\n",
       "      <td>nm0892540</td>\n",
       "      <td>1</td>\n",
       "    </tr>\n",
       "  </tbody>\n",
       "</table>\n",
       "</div>"
      ],
      "text/plain": [
       "        script_id imdb_character_name  words gender   age    imdb_id  \\\n",
       "80359        2188          mr. howard    162      m  48.0  tt0157503   \n",
       "193183       4280               genco    332      m  22.0  tt0071562   \n",
       "100337       2530         celia foote    140      f  34.0  tt1454029   \n",
       "316764       9241       matt freehauf   1801      m  42.0  tt1625346   \n",
       "174889       3740         sam traxler    254      m  29.0  tt0185014   \n",
       "\n",
       "                         title  year  gross  \\\n",
       "80359       Drop Dead Gorgeous  1999   18.0   \n",
       "193183  The Godfather: Part II  1974  266.0   \n",
       "100337                The Help  2011  186.0   \n",
       "316764             Young Adult  2011   17.0   \n",
       "174889             Wonder Boys  2000   31.0   \n",
       "\n",
       "                                               lines_data  \\\n",
       "80359   6213022311000002557432411001101220000124410000...   \n",
       "193183  7761231275777546764467733677625677777777777777...   \n",
       "100337  0006340000000000000040000000031100000014000000...   \n",
       "316764  0000000003444233043546453445343345203212200124...   \n",
       "174889  5536777777343344637777756457777777773425677777...   \n",
       "\n",
       "       character_from_script closest_character_name_from_imdb_match  \\\n",
       "80359      pregnant fry girl                      pregnant fry girl   \n",
       "193183                  vito                          vito corleone   \n",
       "100337           constantine                  constantine jefferson   \n",
       "316764                  beth                             beth slade   \n",
       "174889                pupcik                         officer pupcik   \n",
       "\n",
       "       closest_imdb_character_id  mapped_gender  \n",
       "80359                  nm0241539              1  \n",
       "193183                 nm0000134              1  \n",
       "100337                 nm0001807              0  \n",
       "316764                 nm0714147              1  \n",
       "174889                 nm0892540              1  "
      ]
     },
     "execution_count": 47,
     "metadata": {},
     "output_type": "execute_result"
    }
   ],
   "source": [
    "df['mapped_gender'] = df['gender'].map({'m': 1, 'f': 0})\n",
    "df.sample(5)"
   ]
  },
  {
   "cell_type": "code",
   "execution_count": 53,
   "metadata": {},
   "outputs": [
    {
     "data": {
      "text/html": [
       "<div>\n",
       "<style scoped>\n",
       "    .dataframe tbody tr th:only-of-type {\n",
       "        vertical-align: middle;\n",
       "    }\n",
       "\n",
       "    .dataframe tbody tr th {\n",
       "        vertical-align: top;\n",
       "    }\n",
       "\n",
       "    .dataframe thead th {\n",
       "        text-align: right;\n",
       "    }\n",
       "</style>\n",
       "<table border=\"1\" class=\"dataframe\">\n",
       "  <thead>\n",
       "    <tr style=\"text-align: right;\">\n",
       "      <th></th>\n",
       "      <th>year</th>\n",
       "      <th>words</th>\n",
       "      <th>mapped_gender</th>\n",
       "    </tr>\n",
       "  </thead>\n",
       "  <tbody>\n",
       "    <tr>\n",
       "      <th>0</th>\n",
       "      <td>2015</td>\n",
       "      <td>6462980</td>\n",
       "      <td>0.654422</td>\n",
       "    </tr>\n",
       "    <tr>\n",
       "      <th>1</th>\n",
       "      <td>2014</td>\n",
       "      <td>10378714</td>\n",
       "      <td>0.680893</td>\n",
       "    </tr>\n",
       "    <tr>\n",
       "      <th>2</th>\n",
       "      <td>2013</td>\n",
       "      <td>9548671</td>\n",
       "      <td>0.686431</td>\n",
       "    </tr>\n",
       "    <tr>\n",
       "      <th>3</th>\n",
       "      <td>2012</td>\n",
       "      <td>11069703</td>\n",
       "      <td>0.711214</td>\n",
       "    </tr>\n",
       "    <tr>\n",
       "      <th>4</th>\n",
       "      <td>2011</td>\n",
       "      <td>14593663</td>\n",
       "      <td>0.686781</td>\n",
       "    </tr>\n",
       "  </tbody>\n",
       "</table>\n",
       "</div>"
      ],
      "text/plain": [
       "   year     words  mapped_gender\n",
       "0  2015   6462980       0.654422\n",
       "1  2014  10378714       0.680893\n",
       "2  2013   9548671       0.686431\n",
       "3  2012  11069703       0.711214\n",
       "4  2011  14593663       0.686781"
      ]
     },
     "execution_count": 53,
     "metadata": {},
     "output_type": "execute_result"
    }
   ],
   "source": [
    "df1 = df[['mapped_gender', 'words', 'year']].groupby('year').agg({'words': 'sum', 'mapped_gender': 'mean'}) \\\n",
    "                                                     .sort_values(by='year', ascending=False).reset_index()\n",
    "df1.head()"
   ]
  },
  {
   "cell_type": "code",
   "execution_count": 93,
   "metadata": {},
   "outputs": [
    {
     "data": {
      "text/html": [
       "\n",
       "<style>\n",
       "  #altair-viz-cca66a55fd52434984b91a80b8763545.vega-embed {\n",
       "    width: 100%;\n",
       "    display: flex;\n",
       "  }\n",
       "\n",
       "  #altair-viz-cca66a55fd52434984b91a80b8763545.vega-embed details,\n",
       "  #altair-viz-cca66a55fd52434984b91a80b8763545.vega-embed details summary {\n",
       "    position: relative;\n",
       "  }\n",
       "</style>\n",
       "<div id=\"altair-viz-cca66a55fd52434984b91a80b8763545\"></div>\n",
       "<script type=\"text/javascript\">\n",
       "  var VEGA_DEBUG = (typeof VEGA_DEBUG == \"undefined\") ? {} : VEGA_DEBUG;\n",
       "  (function(spec, embedOpt){\n",
       "    let outputDiv = document.currentScript.previousElementSibling;\n",
       "    if (outputDiv.id !== \"altair-viz-cca66a55fd52434984b91a80b8763545\") {\n",
       "      outputDiv = document.getElementById(\"altair-viz-cca66a55fd52434984b91a80b8763545\");\n",
       "    }\n",
       "    const paths = {\n",
       "      \"vega\": \"https://cdn.jsdelivr.net/npm/vega@5?noext\",\n",
       "      \"vega-lib\": \"https://cdn.jsdelivr.net/npm/vega-lib?noext\",\n",
       "      \"vega-lite\": \"https://cdn.jsdelivr.net/npm/vega-lite@5.16.3?noext\",\n",
       "      \"vega-embed\": \"https://cdn.jsdelivr.net/npm/vega-embed@6?noext\",\n",
       "    };\n",
       "\n",
       "    function maybeLoadScript(lib, version) {\n",
       "      var key = `${lib.replace(\"-\", \"\")}_version`;\n",
       "      return (VEGA_DEBUG[key] == version) ?\n",
       "        Promise.resolve(paths[lib]) :\n",
       "        new Promise(function(resolve, reject) {\n",
       "          var s = document.createElement('script');\n",
       "          document.getElementsByTagName(\"head\")[0].appendChild(s);\n",
       "          s.async = true;\n",
       "          s.onload = () => {\n",
       "            VEGA_DEBUG[key] = version;\n",
       "            return resolve(paths[lib]);\n",
       "          };\n",
       "          s.onerror = () => reject(`Error loading script: ${paths[lib]}`);\n",
       "          s.src = paths[lib];\n",
       "        });\n",
       "    }\n",
       "\n",
       "    function showError(err) {\n",
       "      outputDiv.innerHTML = `<div class=\"error\" style=\"color:red;\">${err}</div>`;\n",
       "      throw err;\n",
       "    }\n",
       "\n",
       "    function displayChart(vegaEmbed) {\n",
       "      vegaEmbed(outputDiv, spec, embedOpt)\n",
       "        .catch(err => showError(`Javascript Error: ${err.message}<br>This usually means there's a typo in your chart specification. See the javascript console for the full traceback.`));\n",
       "    }\n",
       "\n",
       "    if(typeof define === \"function\" && define.amd) {\n",
       "      requirejs.config({paths});\n",
       "      require([\"vega-embed\"], displayChart, err => showError(`Error loading script: ${err.message}`));\n",
       "    } else {\n",
       "      maybeLoadScript(\"vega\", \"5\")\n",
       "        .then(() => maybeLoadScript(\"vega-lite\", \"5.16.3\"))\n",
       "        .then(() => maybeLoadScript(\"vega-embed\", \"6\"))\n",
       "        .catch(showError)\n",
       "        .then(() => displayChart(vegaEmbed));\n",
       "    }\n",
       "  })({\"config\": {\"view\": {\"continuousWidth\": 300, \"continuousHeight\": 300}}, \"data\": {\"name\": \"data-f1605ea25ee4c2b1a7db569f70e32fa4\"}, \"mark\": {\"type\": \"circle\", \"size\": 100}, \"encoding\": {\"color\": {\"field\": \"mapped_gender\", \"scale\": {\"scheme\": \"redblue\"}, \"type\": \"quantitative\"}, \"tooltip\": [{\"field\": \"year\", \"type\": \"quantitative\"}, {\"field\": \"words\", \"type\": \"quantitative\"}, {\"field\": \"mapped_gender\", \"type\": \"quantitative\"}], \"x\": {\"axis\": {\"labelAngle\": -45}, \"field\": \"year\", \"type\": \"nominal\"}, \"y\": {\"field\": \"words\", \"title\": \"words sum in script\", \"type\": \"quantitative\"}}, \"title\": \"Words_sum & Avg_gender across Year\", \"$schema\": \"https://vega.github.io/schema/vega-lite/v5.16.3.json\", \"datasets\": {\"data-f1605ea25ee4c2b1a7db569f70e32fa4\": [{\"year\": 2015, \"words\": 6462980, \"mapped_gender\": 0.6544219573052398}, {\"year\": 2014, \"words\": 10378714, \"mapped_gender\": 0.6808933899990958}, {\"year\": 2013, \"words\": 9548671, \"mapped_gender\": 0.6864307931570762}, {\"year\": 2012, \"words\": 11069703, \"mapped_gender\": 0.7112141315642235}, {\"year\": 2011, \"words\": 14593663, \"mapped_gender\": 0.6867814039848604}, {\"year\": 2010, \"words\": 12618789, \"mapped_gender\": 0.6211748939021666}, {\"year\": 2009, \"words\": 20034126, \"mapped_gender\": 0.6715721040189125}, {\"year\": 2008, \"words\": 15194953, \"mapped_gender\": 0.7134935304990758}, {\"year\": 2007, \"words\": 9302018, \"mapped_gender\": 0.7233859397417504}, {\"year\": 2006, \"words\": 7892726, \"mapped_gender\": 0.7373645179691957}, {\"year\": 2005, \"words\": 10926481, \"mapped_gender\": 0.6991577552758588}, {\"year\": 2004, \"words\": 8248461, \"mapped_gender\": 0.7013513513513514}, {\"year\": 2003, \"words\": 7144788, \"mapped_gender\": 0.7084392475851551}, {\"year\": 2002, \"words\": 7794300, \"mapped_gender\": 0.7134139185541604}, {\"year\": 2001, \"words\": 13972557, \"mapped_gender\": 0.7145651414600069}, {\"year\": 2000, \"words\": 12680784, \"mapped_gender\": 0.7061586176340274}, {\"year\": 1999, \"words\": 23309387, \"mapped_gender\": 0.6631509918574785}, {\"year\": 1998, \"words\": 15478227, \"mapped_gender\": 0.7298651918423782}, {\"year\": 1997, \"words\": 13698228, \"mapped_gender\": 0.695808691180252}, {\"year\": 1996, \"words\": 9362483, \"mapped_gender\": 0.7289688302982907}, {\"year\": 1995, \"words\": 17168531, \"mapped_gender\": 0.7222865651886168}, {\"year\": 1994, \"words\": 7076754, \"mapped_gender\": 0.7091992665036675}, {\"year\": 1993, \"words\": 9098574, \"mapped_gender\": 0.7226733977172959}, {\"year\": 1992, \"words\": 6812581, \"mapped_gender\": 0.7606230359338707}, {\"year\": 1991, \"words\": 9773763, \"mapped_gender\": 0.750831006515091}, {\"year\": 1990, \"words\": 5819182, \"mapped_gender\": 0.7453673064195897}, {\"year\": 1989, \"words\": 6985077, \"mapped_gender\": 0.7672898616811066}, {\"year\": 1988, \"words\": 3407563, \"mapped_gender\": 0.7130170007612281}, {\"year\": 1987, \"words\": 5739316, \"mapped_gender\": 0.7074226804123711}, {\"year\": 1986, \"words\": 4103075, \"mapped_gender\": 0.7397439247452312}, {\"year\": 1985, \"words\": 1789232, \"mapped_gender\": 0.6920077972709552}, {\"year\": 1984, \"words\": 1958261, \"mapped_gender\": 0.7097711587359244}, {\"year\": 1983, \"words\": 1815363, \"mapped_gender\": 0.7746543778801843}, {\"year\": 1982, \"words\": 3348535, \"mapped_gender\": 0.7469834087481146}, {\"year\": 1981, \"words\": 657669, \"mapped_gender\": 0.691358024691358}, {\"year\": 1980, \"words\": 1735734, \"mapped_gender\": 0.6533055700156168}, {\"year\": 1979, \"words\": 1000645, \"mapped_gender\": 0.8588957055214724}, {\"year\": 1978, \"words\": 301357, \"mapped_gender\": 0.7300813008130081}, {\"year\": 1977, \"words\": 389950, \"mapped_gender\": 0.806930693069307}, {\"year\": 1976, \"words\": 215749, \"mapped_gender\": 0.8323170731707317}, {\"year\": 1975, \"words\": 285197, \"mapped_gender\": 0.7098765432098766}, {\"year\": 1974, \"words\": 907594, \"mapped_gender\": 0.8087971274685817}, {\"year\": 1973, \"words\": 483056, \"mapped_gender\": 0.7767332549941246}, {\"year\": 1972, \"words\": 630731, \"mapped_gender\": 0.7679500520291364}, {\"year\": 1971, \"words\": 21270, \"mapped_gender\": 0.6666666666666666}, {\"year\": 1970, \"words\": 329050, \"mapped_gender\": 0.9090909090909091}, {\"year\": 1968, \"words\": 142328, \"mapped_gender\": 0.8990825688073395}, {\"year\": 1967, \"words\": 77660, \"mapped_gender\": 1.0}, {\"year\": 1966, \"words\": 253010, \"mapped_gender\": 0.7333333333333333}, {\"year\": 1960, \"words\": 69759, \"mapped_gender\": 0.6}, {\"year\": 1959, \"words\": 282456, \"mapped_gender\": 0.6231884057971014}, {\"year\": 1958, \"words\": 198856, \"mapped_gender\": 0.7473118279569892}, {\"year\": 1954, \"words\": 408354, \"mapped_gender\": 0.7511111111111111}, {\"year\": 1949, \"words\": 221030, \"mapped_gender\": 0.8181818181818182}, {\"year\": 1939, \"words\": 480742, \"mapped_gender\": 0.7524752475247525}, {\"year\": 1931, \"words\": 34191, \"mapped_gender\": 0.8}]}}, {\"mode\": \"vega-lite\"});\n",
       "</script>"
      ],
      "text/plain": [
       "alt.Chart(...)"
      ]
     },
     "execution_count": 93,
     "metadata": {},
     "output_type": "execute_result"
    }
   ],
   "source": [
    "source = df1\n",
    "\n",
    "chart = alt.Chart(source, title='Words_sum & Avg_gender across Year').mark_circle(size=100).encode(\n",
    "    x=alt.X('year:N', axis=alt.Axis(labelAngle=-45)),\n",
    "    y=alt.Y('words:Q').title('words sum in script'),\n",
    "    color=alt.Color('mapped_gender:Q', scale=alt.Scale(scheme='redblue')),\n",
    "    tooltip=['year', 'words', 'mapped_gender']\n",
    ")\n",
    "\n",
    "chart"
   ]
  },
  {
   "cell_type": "code",
   "execution_count": 86,
   "metadata": {},
   "outputs": [
    {
     "data": {
      "text/html": [
       "<div>\n",
       "<style scoped>\n",
       "    .dataframe tbody tr th:only-of-type {\n",
       "        vertical-align: middle;\n",
       "    }\n",
       "\n",
       "    .dataframe tbody tr th {\n",
       "        vertical-align: top;\n",
       "    }\n",
       "\n",
       "    .dataframe thead th {\n",
       "        text-align: right;\n",
       "    }\n",
       "</style>\n",
       "<table border=\"1\" class=\"dataframe\">\n",
       "  <thead>\n",
       "    <tr style=\"text-align: right;\">\n",
       "      <th></th>\n",
       "      <th>mapped_gender</th>\n",
       "      <th>year</th>\n",
       "      <th>words</th>\n",
       "    </tr>\n",
       "  </thead>\n",
       "  <tbody>\n",
       "    <tr>\n",
       "      <th>0</th>\n",
       "      <td>1</td>\n",
       "      <td>2015</td>\n",
       "      <td>4319634</td>\n",
       "    </tr>\n",
       "    <tr>\n",
       "      <th>1</th>\n",
       "      <td>0</td>\n",
       "      <td>2015</td>\n",
       "      <td>2143346</td>\n",
       "    </tr>\n",
       "    <tr>\n",
       "      <th>2</th>\n",
       "      <td>0</td>\n",
       "      <td>2014</td>\n",
       "      <td>3083085</td>\n",
       "    </tr>\n",
       "    <tr>\n",
       "      <th>3</th>\n",
       "      <td>1</td>\n",
       "      <td>2014</td>\n",
       "      <td>7295629</td>\n",
       "    </tr>\n",
       "    <tr>\n",
       "      <th>4</th>\n",
       "      <td>0</td>\n",
       "      <td>2013</td>\n",
       "      <td>2553330</td>\n",
       "    </tr>\n",
       "    <tr>\n",
       "      <th>...</th>\n",
       "      <td>...</td>\n",
       "      <td>...</td>\n",
       "      <td>...</td>\n",
       "    </tr>\n",
       "    <tr>\n",
       "      <th>106</th>\n",
       "      <td>1</td>\n",
       "      <td>1949</td>\n",
       "      <td>186254</td>\n",
       "    </tr>\n",
       "    <tr>\n",
       "      <th>107</th>\n",
       "      <td>1</td>\n",
       "      <td>1939</td>\n",
       "      <td>289104</td>\n",
       "    </tr>\n",
       "    <tr>\n",
       "      <th>108</th>\n",
       "      <td>0</td>\n",
       "      <td>1939</td>\n",
       "      <td>191638</td>\n",
       "    </tr>\n",
       "    <tr>\n",
       "      <th>109</th>\n",
       "      <td>0</td>\n",
       "      <td>1931</td>\n",
       "      <td>3825</td>\n",
       "    </tr>\n",
       "    <tr>\n",
       "      <th>110</th>\n",
       "      <td>1</td>\n",
       "      <td>1931</td>\n",
       "      <td>30366</td>\n",
       "    </tr>\n",
       "  </tbody>\n",
       "</table>\n",
       "<p>111 rows × 3 columns</p>\n",
       "</div>"
      ],
      "text/plain": [
       "     mapped_gender  year    words\n",
       "0                1  2015  4319634\n",
       "1                0  2015  2143346\n",
       "2                0  2014  3083085\n",
       "3                1  2014  7295629\n",
       "4                0  2013  2553330\n",
       "..             ...   ...      ...\n",
       "106              1  1949   186254\n",
       "107              1  1939   289104\n",
       "108              0  1939   191638\n",
       "109              0  1931     3825\n",
       "110              1  1931    30366\n",
       "\n",
       "[111 rows x 3 columns]"
      ]
     },
     "execution_count": 86,
     "metadata": {},
     "output_type": "execute_result"
    }
   ],
   "source": [
    "df12 = df[['mapped_gender', 'words', 'year']].groupby(['mapped_gender', 'year']).agg({'words': 'sum'}) \\\n",
    "                                                     .sort_values(by='year', ascending=False).reset_index()\n",
    "df12"
   ]
  },
  {
   "cell_type": "code",
   "execution_count": 95,
   "metadata": {},
   "outputs": [
    {
     "data": {
      "text/html": [
       "\n",
       "<style>\n",
       "  #altair-viz-f113dfcab9f4495fbd0f0621f1c23727.vega-embed {\n",
       "    width: 100%;\n",
       "    display: flex;\n",
       "  }\n",
       "\n",
       "  #altair-viz-f113dfcab9f4495fbd0f0621f1c23727.vega-embed details,\n",
       "  #altair-viz-f113dfcab9f4495fbd0f0621f1c23727.vega-embed details summary {\n",
       "    position: relative;\n",
       "  }\n",
       "</style>\n",
       "<div id=\"altair-viz-f113dfcab9f4495fbd0f0621f1c23727\"></div>\n",
       "<script type=\"text/javascript\">\n",
       "  var VEGA_DEBUG = (typeof VEGA_DEBUG == \"undefined\") ? {} : VEGA_DEBUG;\n",
       "  (function(spec, embedOpt){\n",
       "    let outputDiv = document.currentScript.previousElementSibling;\n",
       "    if (outputDiv.id !== \"altair-viz-f113dfcab9f4495fbd0f0621f1c23727\") {\n",
       "      outputDiv = document.getElementById(\"altair-viz-f113dfcab9f4495fbd0f0621f1c23727\");\n",
       "    }\n",
       "    const paths = {\n",
       "      \"vega\": \"https://cdn.jsdelivr.net/npm/vega@5?noext\",\n",
       "      \"vega-lib\": \"https://cdn.jsdelivr.net/npm/vega-lib?noext\",\n",
       "      \"vega-lite\": \"https://cdn.jsdelivr.net/npm/vega-lite@5.16.3?noext\",\n",
       "      \"vega-embed\": \"https://cdn.jsdelivr.net/npm/vega-embed@6?noext\",\n",
       "    };\n",
       "\n",
       "    function maybeLoadScript(lib, version) {\n",
       "      var key = `${lib.replace(\"-\", \"\")}_version`;\n",
       "      return (VEGA_DEBUG[key] == version) ?\n",
       "        Promise.resolve(paths[lib]) :\n",
       "        new Promise(function(resolve, reject) {\n",
       "          var s = document.createElement('script');\n",
       "          document.getElementsByTagName(\"head\")[0].appendChild(s);\n",
       "          s.async = true;\n",
       "          s.onload = () => {\n",
       "            VEGA_DEBUG[key] = version;\n",
       "            return resolve(paths[lib]);\n",
       "          };\n",
       "          s.onerror = () => reject(`Error loading script: ${paths[lib]}`);\n",
       "          s.src = paths[lib];\n",
       "        });\n",
       "    }\n",
       "\n",
       "    function showError(err) {\n",
       "      outputDiv.innerHTML = `<div class=\"error\" style=\"color:red;\">${err}</div>`;\n",
       "      throw err;\n",
       "    }\n",
       "\n",
       "    function displayChart(vegaEmbed) {\n",
       "      vegaEmbed(outputDiv, spec, embedOpt)\n",
       "        .catch(err => showError(`Javascript Error: ${err.message}<br>This usually means there's a typo in your chart specification. See the javascript console for the full traceback.`));\n",
       "    }\n",
       "\n",
       "    if(typeof define === \"function\" && define.amd) {\n",
       "      requirejs.config({paths});\n",
       "      require([\"vega-embed\"], displayChart, err => showError(`Error loading script: ${err.message}`));\n",
       "    } else {\n",
       "      maybeLoadScript(\"vega\", \"5\")\n",
       "        .then(() => maybeLoadScript(\"vega-lite\", \"5.16.3\"))\n",
       "        .then(() => maybeLoadScript(\"vega-embed\", \"6\"))\n",
       "        .catch(showError)\n",
       "        .then(() => displayChart(vegaEmbed));\n",
       "    }\n",
       "  })({\"config\": {\"view\": {\"continuousWidth\": 300, \"continuousHeight\": 300}}, \"layer\": [{\"mark\": {\"type\": \"line\"}, \"encoding\": {\"color\": {\"field\": \"mapped_gender\", \"type\": \"nominal\"}, \"x\": {\"axis\": {\"labelAngle\": -45}, \"field\": \"year\", \"type\": \"quantitative\"}, \"y\": {\"field\": \"words\", \"title\": \"words sum in script\", \"type\": \"quantitative\"}}, \"title\": \"Words_sum & Avg_gender across Year\"}, {\"mark\": {\"type\": \"circle\", \"size\": 50}, \"encoding\": {\"color\": {\"field\": \"mapped_gender\", \"type\": \"nominal\"}, \"tooltip\": [{\"field\": \"year\", \"type\": \"quantitative\"}, {\"field\": \"words\", \"type\": \"quantitative\"}, {\"field\": \"mapped_gender\", \"type\": \"quantitative\"}], \"x\": {\"axis\": {\"labelAngle\": -45}, \"field\": \"year\", \"type\": \"quantitative\"}, \"y\": {\"field\": \"words\", \"title\": \"words sum in script\", \"type\": \"quantitative\"}}}], \"data\": {\"name\": \"data-6db30e67b86c99de7178a98eab5aed28\"}, \"$schema\": \"https://vega.github.io/schema/vega-lite/v5.16.3.json\", \"datasets\": {\"data-6db30e67b86c99de7178a98eab5aed28\": [{\"mapped_gender\": 1, \"year\": 2015, \"words\": 4319634}, {\"mapped_gender\": 0, \"year\": 2015, \"words\": 2143346}, {\"mapped_gender\": 0, \"year\": 2014, \"words\": 3083085}, {\"mapped_gender\": 1, \"year\": 2014, \"words\": 7295629}, {\"mapped_gender\": 0, \"year\": 2013, \"words\": 2553330}, {\"mapped_gender\": 1, \"year\": 2013, \"words\": 6995341}, {\"mapped_gender\": 0, \"year\": 2012, \"words\": 2934087}, {\"mapped_gender\": 1, \"year\": 2012, \"words\": 8135616}, {\"mapped_gender\": 1, \"year\": 2011, \"words\": 10100966}, {\"mapped_gender\": 0, \"year\": 2011, \"words\": 4492697}, {\"mapped_gender\": 1, \"year\": 2010, \"words\": 8282316}, {\"mapped_gender\": 0, \"year\": 2010, \"words\": 4336473}, {\"mapped_gender\": 0, \"year\": 2009, \"words\": 6651507}, {\"mapped_gender\": 1, \"year\": 2009, \"words\": 13382619}, {\"mapped_gender\": 0, \"year\": 2008, \"words\": 4423717}, {\"mapped_gender\": 1, \"year\": 2008, \"words\": 10771236}, {\"mapped_gender\": 1, \"year\": 2007, \"words\": 6964386}, {\"mapped_gender\": 0, \"year\": 2007, \"words\": 2337632}, {\"mapped_gender\": 1, \"year\": 2006, \"words\": 6078812}, {\"mapped_gender\": 0, \"year\": 2006, \"words\": 1813914}, {\"mapped_gender\": 1, \"year\": 2005, \"words\": 8102586}, {\"mapped_gender\": 0, \"year\": 2005, \"words\": 2823895}, {\"mapped_gender\": 1, \"year\": 2004, \"words\": 6265429}, {\"mapped_gender\": 0, \"year\": 2004, \"words\": 1983032}, {\"mapped_gender\": 1, \"year\": 2003, \"words\": 5179227}, {\"mapped_gender\": 0, \"year\": 2003, \"words\": 1965561}, {\"mapped_gender\": 1, \"year\": 2002, \"words\": 5702483}, {\"mapped_gender\": 0, \"year\": 2002, \"words\": 2091817}, {\"mapped_gender\": 0, \"year\": 2001, \"words\": 4299266}, {\"mapped_gender\": 1, \"year\": 2001, \"words\": 9673291}, {\"mapped_gender\": 0, \"year\": 2000, \"words\": 3235323}, {\"mapped_gender\": 1, \"year\": 2000, \"words\": 9445461}, {\"mapped_gender\": 0, \"year\": 1999, \"words\": 6578893}, {\"mapped_gender\": 1, \"year\": 1999, \"words\": 16730494}, {\"mapped_gender\": 0, \"year\": 1998, \"words\": 3874861}, {\"mapped_gender\": 1, \"year\": 1998, \"words\": 11603366}, {\"mapped_gender\": 1, \"year\": 1997, \"words\": 10088424}, {\"mapped_gender\": 0, \"year\": 1997, \"words\": 3609804}, {\"mapped_gender\": 0, \"year\": 1996, \"words\": 2369769}, {\"mapped_gender\": 1, \"year\": 1996, \"words\": 6992714}, {\"mapped_gender\": 0, \"year\": 1995, \"words\": 4340695}, {\"mapped_gender\": 1, \"year\": 1995, \"words\": 12827836}, {\"mapped_gender\": 0, \"year\": 1994, \"words\": 1752371}, {\"mapped_gender\": 1, \"year\": 1994, \"words\": 5324383}, {\"mapped_gender\": 0, \"year\": 1993, \"words\": 2348662}, {\"mapped_gender\": 1, \"year\": 1993, \"words\": 6749912}, {\"mapped_gender\": 0, \"year\": 1992, \"words\": 1561162}, {\"mapped_gender\": 1, \"year\": 1992, \"words\": 5251419}, {\"mapped_gender\": 1, \"year\": 1991, \"words\": 7810474}, {\"mapped_gender\": 0, \"year\": 1991, \"words\": 1963289}, {\"mapped_gender\": 1, \"year\": 1990, \"words\": 4238372}, {\"mapped_gender\": 0, \"year\": 1990, \"words\": 1580810}, {\"mapped_gender\": 1, \"year\": 1989, \"words\": 5665485}, {\"mapped_gender\": 0, \"year\": 1989, \"words\": 1319592}, {\"mapped_gender\": 1, \"year\": 1988, \"words\": 2434045}, {\"mapped_gender\": 0, \"year\": 1988, \"words\": 973518}, {\"mapped_gender\": 1, \"year\": 1987, \"words\": 4334884}, {\"mapped_gender\": 0, \"year\": 1987, \"words\": 1404432}, {\"mapped_gender\": 0, \"year\": 1986, \"words\": 1185302}, {\"mapped_gender\": 1, \"year\": 1986, \"words\": 2917773}, {\"mapped_gender\": 1, \"year\": 1985, \"words\": 1280412}, {\"mapped_gender\": 0, \"year\": 1985, \"words\": 508820}, {\"mapped_gender\": 1, \"year\": 1984, \"words\": 1384655}, {\"mapped_gender\": 0, \"year\": 1984, \"words\": 573606}, {\"mapped_gender\": 1, \"year\": 1983, \"words\": 1323778}, {\"mapped_gender\": 0, \"year\": 1983, \"words\": 491585}, {\"mapped_gender\": 0, \"year\": 1982, \"words\": 901140}, {\"mapped_gender\": 1, \"year\": 1982, \"words\": 2447395}, {\"mapped_gender\": 0, \"year\": 1981, \"words\": 172289}, {\"mapped_gender\": 1, \"year\": 1981, \"words\": 485380}, {\"mapped_gender\": 0, \"year\": 1980, \"words\": 600849}, {\"mapped_gender\": 1, \"year\": 1980, \"words\": 1134885}, {\"mapped_gender\": 0, \"year\": 1979, \"words\": 95867}, {\"mapped_gender\": 1, \"year\": 1979, \"words\": 904778}, {\"mapped_gender\": 0, \"year\": 1978, \"words\": 69137}, {\"mapped_gender\": 1, \"year\": 1978, \"words\": 232220}, {\"mapped_gender\": 0, \"year\": 1977, \"words\": 74162}, {\"mapped_gender\": 1, \"year\": 1977, \"words\": 315788}, {\"mapped_gender\": 1, \"year\": 1976, \"words\": 196429}, {\"mapped_gender\": 0, \"year\": 1976, \"words\": 19320}, {\"mapped_gender\": 0, \"year\": 1975, \"words\": 30094}, {\"mapped_gender\": 1, \"year\": 1975, \"words\": 255103}, {\"mapped_gender\": 1, \"year\": 1974, \"words\": 794451}, {\"mapped_gender\": 0, \"year\": 1974, \"words\": 113143}, {\"mapped_gender\": 1, \"year\": 1973, \"words\": 367073}, {\"mapped_gender\": 0, \"year\": 1973, \"words\": 115983}, {\"mapped_gender\": 1, \"year\": 1972, \"words\": 520854}, {\"mapped_gender\": 0, \"year\": 1972, \"words\": 109877}, {\"mapped_gender\": 1, \"year\": 1971, \"words\": 19515}, {\"mapped_gender\": 0, \"year\": 1971, \"words\": 1755}, {\"mapped_gender\": 1, \"year\": 1970, \"words\": 314225}, {\"mapped_gender\": 0, \"year\": 1970, \"words\": 14825}, {\"mapped_gender\": 1, \"year\": 1968, \"words\": 121446}, {\"mapped_gender\": 0, \"year\": 1968, \"words\": 20882}, {\"mapped_gender\": 1, \"year\": 1967, \"words\": 77660}, {\"mapped_gender\": 1, \"year\": 1966, \"words\": 230810}, {\"mapped_gender\": 0, \"year\": 1966, \"words\": 22200}, {\"mapped_gender\": 0, \"year\": 1960, \"words\": 22905}, {\"mapped_gender\": 1, \"year\": 1960, \"words\": 46854}, {\"mapped_gender\": 1, \"year\": 1959, \"words\": 192188}, {\"mapped_gender\": 0, \"year\": 1959, \"words\": 90268}, {\"mapped_gender\": 1, \"year\": 1958, \"words\": 155884}, {\"mapped_gender\": 0, \"year\": 1958, \"words\": 42972}, {\"mapped_gender\": 1, \"year\": 1954, \"words\": 281583}, {\"mapped_gender\": 0, \"year\": 1954, \"words\": 126771}, {\"mapped_gender\": 0, \"year\": 1949, \"words\": 34776}, {\"mapped_gender\": 1, \"year\": 1949, \"words\": 186254}, {\"mapped_gender\": 1, \"year\": 1939, \"words\": 289104}, {\"mapped_gender\": 0, \"year\": 1939, \"words\": 191638}, {\"mapped_gender\": 0, \"year\": 1931, \"words\": 3825}, {\"mapped_gender\": 1, \"year\": 1931, \"words\": 30366}]}}, {\"mode\": \"vega-lite\"});\n",
       "</script>"
      ],
      "text/plain": [
       "alt.LayerChart(...)"
      ]
     },
     "execution_count": 95,
     "metadata": {},
     "output_type": "execute_result"
    }
   ],
   "source": [
    "source = df12\n",
    "\n",
    "line = alt.Chart(source, title='Words_sum & Avg_gender across Year').mark_line().encode(\n",
    "    x=alt.X('year:Q', axis=alt.Axis(labelAngle=-45)),\n",
    "    y=alt.Y('words:Q', title='words sum in script'),\n",
    "    color=alt.Color('mapped_gender:N'),\n",
    ")\n",
    "\n",
    "points = alt.Chart(source).mark_circle(size=50).encode(\n",
    "    x=alt.X('year:Q', axis=alt.Axis(labelAngle=-45)),\n",
    "    y=alt.Y('words:Q', title='words sum in script'),\n",
    "    color=alt.Color('mapped_gender:N'),\n",
    "    tooltip=['year', 'words', 'mapped_gender']\n",
    ")\n",
    "\n",
    "chart = line + points\n",
    "chart"
   ]
  },
  {
   "cell_type": "markdown",
   "metadata": {},
   "source": [
    "2. How could we test if there was any relationship between the film’s gross value and the amount of dialogue in the film?"
   ]
  },
  {
   "cell_type": "code",
   "execution_count": 72,
   "metadata": {},
   "outputs": [
    {
     "data": {
      "text/plain": [
       "Index(['script_id', 'imdb_character_name', 'words', 'gender', 'age', 'imdb_id',\n",
       "       'title', 'year', 'gross', 'lines_data', 'character_from_script',\n",
       "       'closest_character_name_from_imdb_match', 'closest_imdb_character_id',\n",
       "       'mapped_gender'],\n",
       "      dtype='object')"
      ]
     },
     "execution_count": 72,
     "metadata": {},
     "output_type": "execute_result"
    }
   ],
   "source": [
    "df.columns"
   ]
  },
  {
   "cell_type": "code",
   "execution_count": 76,
   "metadata": {},
   "outputs": [
    {
     "data": {
      "text/html": [
       "<div>\n",
       "<style scoped>\n",
       "    .dataframe tbody tr th:only-of-type {\n",
       "        vertical-align: middle;\n",
       "    }\n",
       "\n",
       "    .dataframe tbody tr th {\n",
       "        vertical-align: top;\n",
       "    }\n",
       "\n",
       "    .dataframe thead th {\n",
       "        text-align: right;\n",
       "    }\n",
       "</style>\n",
       "<table border=\"1\" class=\"dataframe\">\n",
       "  <thead>\n",
       "    <tr style=\"text-align: right;\">\n",
       "      <th></th>\n",
       "      <th>imdb_id</th>\n",
       "      <th>words</th>\n",
       "      <th>gross</th>\n",
       "    </tr>\n",
       "  </thead>\n",
       "  <tbody>\n",
       "    <tr>\n",
       "      <th>0</th>\n",
       "      <td>tt0468569</td>\n",
       "      <td>2147832</td>\n",
       "      <td>1157130.0</td>\n",
       "    </tr>\n",
       "    <tr>\n",
       "      <th>1</th>\n",
       "      <td>tt0120338</td>\n",
       "      <td>496908</td>\n",
       "      <td>913019.0</td>\n",
       "    </tr>\n",
       "    <tr>\n",
       "      <th>2</th>\n",
       "      <td>tt0076759</td>\n",
       "      <td>187283</td>\n",
       "      <td>478268.0</td>\n",
       "    </tr>\n",
       "    <tr>\n",
       "      <th>3</th>\n",
       "      <td>tt0120915</td>\n",
       "      <td>299715</td>\n",
       "      <td>400809.0</td>\n",
       "    </tr>\n",
       "    <tr>\n",
       "      <th>4</th>\n",
       "      <td>tt0068646</td>\n",
       "      <td>385230</td>\n",
       "      <td>393300.0</td>\n",
       "    </tr>\n",
       "  </tbody>\n",
       "</table>\n",
       "</div>"
      ],
      "text/plain": [
       "     imdb_id    words      gross\n",
       "0  tt0468569  2147832  1157130.0\n",
       "1  tt0120338   496908   913019.0\n",
       "2  tt0076759   187283   478268.0\n",
       "3  tt0120915   299715   400809.0\n",
       "4  tt0068646   385230   393300.0"
      ]
     },
     "execution_count": 76,
     "metadata": {},
     "output_type": "execute_result"
    }
   ],
   "source": [
    "df2 = df[['gross', 'words', 'imdb_id']].groupby('imdb_id').agg({'words': 'sum', 'gross': 'sum'}) \\\n",
    "                                                          .sort_values(by='gross', ascending=False).reset_index()\n",
    "df2.head()"
   ]
  },
  {
   "cell_type": "code",
   "execution_count": 77,
   "metadata": {},
   "outputs": [
    {
     "data": {
      "text/html": [
       "<div>\n",
       "<style scoped>\n",
       "    .dataframe tbody tr th:only-of-type {\n",
       "        vertical-align: middle;\n",
       "    }\n",
       "\n",
       "    .dataframe tbody tr th {\n",
       "        vertical-align: top;\n",
       "    }\n",
       "\n",
       "    .dataframe thead th {\n",
       "        text-align: right;\n",
       "    }\n",
       "</style>\n",
       "<table border=\"1\" class=\"dataframe\">\n",
       "  <thead>\n",
       "    <tr style=\"text-align: right;\">\n",
       "      <th></th>\n",
       "      <th>gross</th>\n",
       "      <th>words</th>\n",
       "    </tr>\n",
       "  </thead>\n",
       "  <tbody>\n",
       "    <tr>\n",
       "      <th>gross</th>\n",
       "      <td>1.000000</td>\n",
       "      <td>0.368841</td>\n",
       "    </tr>\n",
       "    <tr>\n",
       "      <th>words</th>\n",
       "      <td>0.368841</td>\n",
       "      <td>1.000000</td>\n",
       "    </tr>\n",
       "  </tbody>\n",
       "</table>\n",
       "</div>"
      ],
      "text/plain": [
       "          gross     words\n",
       "gross  1.000000  0.368841\n",
       "words  0.368841  1.000000"
      ]
     },
     "execution_count": 77,
     "metadata": {},
     "output_type": "execute_result"
    }
   ],
   "source": [
    "df2[['gross', 'words']].corr()"
   ]
  },
  {
   "cell_type": "code",
   "execution_count": 105,
   "metadata": {},
   "outputs": [
    {
     "data": {
      "text/html": [
       "\n",
       "<style>\n",
       "  #altair-viz-6b5ca3eeefc74ba2964c95a8d2ede4e4.vega-embed {\n",
       "    width: 100%;\n",
       "    display: flex;\n",
       "  }\n",
       "\n",
       "  #altair-viz-6b5ca3eeefc74ba2964c95a8d2ede4e4.vega-embed details,\n",
       "  #altair-viz-6b5ca3eeefc74ba2964c95a8d2ede4e4.vega-embed details summary {\n",
       "    position: relative;\n",
       "  }\n",
       "</style>\n",
       "<div id=\"altair-viz-6b5ca3eeefc74ba2964c95a8d2ede4e4\"></div>\n",
       "<script type=\"text/javascript\">\n",
       "  var VEGA_DEBUG = (typeof VEGA_DEBUG == \"undefined\") ? {} : VEGA_DEBUG;\n",
       "  (function(spec, embedOpt){\n",
       "    let outputDiv = document.currentScript.previousElementSibling;\n",
       "    if (outputDiv.id !== \"altair-viz-6b5ca3eeefc74ba2964c95a8d2ede4e4\") {\n",
       "      outputDiv = document.getElementById(\"altair-viz-6b5ca3eeefc74ba2964c95a8d2ede4e4\");\n",
       "    }\n",
       "    const paths = {\n",
       "      \"vega\": \"https://cdn.jsdelivr.net/npm/vega@5?noext\",\n",
       "      \"vega-lib\": \"https://cdn.jsdelivr.net/npm/vega-lib?noext\",\n",
       "      \"vega-lite\": \"https://cdn.jsdelivr.net/npm/vega-lite@5.16.3?noext\",\n",
       "      \"vega-embed\": \"https://cdn.jsdelivr.net/npm/vega-embed@6?noext\",\n",
       "    };\n",
       "\n",
       "    function maybeLoadScript(lib, version) {\n",
       "      var key = `${lib.replace(\"-\", \"\")}_version`;\n",
       "      return (VEGA_DEBUG[key] == version) ?\n",
       "        Promise.resolve(paths[lib]) :\n",
       "        new Promise(function(resolve, reject) {\n",
       "          var s = document.createElement('script');\n",
       "          document.getElementsByTagName(\"head\")[0].appendChild(s);\n",
       "          s.async = true;\n",
       "          s.onload = () => {\n",
       "            VEGA_DEBUG[key] = version;\n",
       "            return resolve(paths[lib]);\n",
       "          };\n",
       "          s.onerror = () => reject(`Error loading script: ${paths[lib]}`);\n",
       "          s.src = paths[lib];\n",
       "        });\n",
       "    }\n",
       "\n",
       "    function showError(err) {\n",
       "      outputDiv.innerHTML = `<div class=\"error\" style=\"color:red;\">${err}</div>`;\n",
       "      throw err;\n",
       "    }\n",
       "\n",
       "    function displayChart(vegaEmbed) {\n",
       "      vegaEmbed(outputDiv, spec, embedOpt)\n",
       "        .catch(err => showError(`Javascript Error: ${err.message}<br>This usually means there's a typo in your chart specification. See the javascript console for the full traceback.`));\n",
       "    }\n",
       "\n",
       "    if(typeof define === \"function\" && define.amd) {\n",
       "      requirejs.config({paths});\n",
       "      require([\"vega-embed\"], displayChart, err => showError(`Error loading script: ${err.message}`));\n",
       "    } else {\n",
       "      maybeLoadScript(\"vega\", \"5\")\n",
       "        .then(() => maybeLoadScript(\"vega-lite\", \"5.16.3\"))\n",
       "        .then(() => maybeLoadScript(\"vega-embed\", \"6\"))\n",
       "        .catch(showError)\n",
       "        .then(() => displayChart(vegaEmbed));\n",
       "    }\n",
       "  })({\"config\": {\"view\": {\"continuousWidth\": 300, \"continuousHeight\": 300}}, \"layer\": [{\"mark\": {\"type\": \"line\"}, \"encoding\": {\"x\": {\"field\": \"words\", \"title\": \"words sum in each film\", \"type\": \"quantitative\"}, \"y\": {\"field\": \"gross\", \"title\": \"inflation-adjusted gross\", \"type\": \"quantitative\"}}, \"title\": \"Words_sum & Gross Each Film\"}, {\"mark\": {\"type\": \"circle\", \"size\": 50}, \"encoding\": {\"tooltip\": [{\"field\": \"words\", \"format\": \",\", \"title\": \"words\", \"type\": \"quantitative\"}, {\"field\": \"gross\", \"format\": \",\", \"title\": \"gross\", \"type\": \"quantitative\"}], \"x\": {\"field\": \"words\", \"title\": \"words sum in each film\", \"type\": \"quantitative\"}, \"y\": {\"field\": \"gross\", \"title\": \"inflation-adjusted gross\", \"type\": \"quantitative\"}}}], \"data\": {\"name\": \"data-5915ef13618782285214f24751f66438\"}, \"width\": 1000, \"$schema\": \"https://vega.github.io/schema/vega-lite/v5.16.3.json\", \"datasets\": {\"data-5915ef13618782285214f24751f66438\": [{\"imdb_id\": \"tt0468569\", \"words\": 2147832, \"gross\": 1157130.0}, {\"imdb_id\": \"tt0120338\", \"words\": 496908, \"gross\": 913019.0}, {\"imdb_id\": \"tt0076759\", \"words\": 187283, \"gross\": 478268.0}, {\"imdb_id\": \"tt0120915\", \"words\": 299715, \"gross\": 400809.0}, {\"imdb_id\": \"tt0068646\", \"words\": 385230, \"gross\": 393300.0}, {\"imdb_id\": \"tt0106977\", \"words\": 624348, \"gross\": 362840.0}, {\"imdb_id\": \"tt0330373\", \"words\": 688940, \"gross\": 330120.0}, {\"imdb_id\": \"tt0102138\", \"words\": 4033950, \"gross\": 282750.0}, {\"imdb_id\": \"tt1345836\", \"words\": 398541, \"gross\": 266994.0}, {\"imdb_id\": \"tt0080684\", \"words\": 207138, \"gross\": 258612.0}, {\"imdb_id\": \"tt0499549\", \"words\": 375936, \"gross\": 252252.0}, {\"imdb_id\": \"tt0266543\", \"words\": 452592, \"gross\": 237168.0}, {\"imdb_id\": \"tt0073195\", \"words\": 192843, \"gross\": 231630.0}, {\"imdb_id\": \"tt0070735\", \"words\": 121900, \"gross\": 220080.0}, {\"imdb_id\": \"tt0071562\", \"words\": 689866, \"gross\": 218120.0}, {\"imdb_id\": \"tt0107290\", \"words\": 202521, \"gross\": 200872.0}, {\"imdb_id\": \"tt0295297\", \"words\": 405240, \"gross\": 197568.0}, {\"imdb_id\": \"tt0435761\", \"words\": 270405, \"gross\": 197424.0}, {\"imdb_id\": \"tt2488496\", \"words\": 134652, \"gross\": 194670.0}, {\"imdb_id\": \"tt1259571\", \"words\": 608600, \"gross\": 187136.0}, {\"imdb_id\": \"tt0848228\", \"words\": 232740, \"gross\": 183600.0}, {\"imdb_id\": \"tt0077766\", \"words\": 217442, \"gross\": 177248.0}, {\"imdb_id\": \"tt0099348\", \"words\": 421476, \"gross\": 174636.0}, {\"imdb_id\": \"tt0116629\", \"words\": 114969, \"gross\": 171570.0}, {\"imdb_id\": \"tt0069704\", \"words\": 212842, \"gross\": 168935.0}, {\"imdb_id\": \"tt0383574\", \"words\": 227000, \"gross\": 168300.0}, {\"imdb_id\": \"tt0304141\", \"words\": 356063, \"gross\": 168084.0}, {\"imdb_id\": \"tt0099810\", \"words\": 371370, \"gross\": 157500.0}, {\"imdb_id\": \"tt0265086\", \"words\": 308402, \"gross\": 157481.0}, {\"imdb_id\": \"tt0116695\", \"words\": 792870, \"gross\": 153621.0}, {\"imdb_id\": \"tt0443272\", \"words\": 474192, \"gross\": 146520.0}, {\"imdb_id\": \"tt0121765\", \"words\": 157815, \"gross\": 146475.0}, {\"imdb_id\": \"tt0109830\", \"words\": 209070, \"gross\": 142002.0}, {\"imdb_id\": \"tt0129387\", \"words\": 622242, \"gross\": 140832.0}, {\"imdb_id\": \"tt0086190\", \"words\": 81440, \"gross\": 136480.0}, {\"imdb_id\": \"tt0091763\", \"words\": 500340, \"gross\": 135660.0}, {\"imdb_id\": \"tt0167260\", \"words\": 76627, \"gross\": 134121.0}, {\"imdb_id\": \"tt0413267\", \"words\": 253170, \"gross\": 133650.0}, {\"imdb_id\": \"tt0104257\", \"words\": 1031000, \"gross\": 132750.0}, {\"imdb_id\": \"tt0167261\", \"words\": 92922, \"gross\": 129795.0}, {\"imdb_id\": \"tt0097428\", \"words\": 745734, \"gross\": 129360.0}, {\"imdb_id\": \"tt0240772\", \"words\": 763572, \"gross\": 128136.0}, {\"imdb_id\": \"tt0417741\", \"words\": 329394, \"gross\": 127400.0}, {\"imdb_id\": \"tt1190080\", \"words\": 559158, \"gross\": 125952.0}, {\"imdb_id\": \"tt0066026\", \"words\": 329050, \"gross\": 125950.0}, {\"imdb_id\": \"tt0118571\", \"words\": 148104, \"gross\": 125568.0}, {\"imdb_id\": \"tt0122933\", \"words\": 1020456, \"gross\": 125172.0}, {\"imdb_id\": \"tt0372784\", \"words\": 229350, \"gross\": 125100.0}, {\"imdb_id\": \"tt0061852\", \"words\": 77660, \"gross\": 124509.0}, {\"imdb_id\": \"tt0112641\", \"words\": 4699594, \"gross\": 122640.0}, {\"imdb_id\": \"tt0032138\", \"words\": 129864, \"gross\": 117460.0}, {\"imdb_id\": \"tt0071230\", \"words\": 106302, \"gross\": 117180.0}, {\"imdb_id\": \"tt0095016\", \"words\": 626320, \"gross\": 116960.0}, {\"imdb_id\": \"tt0120660\", \"words\": 522060, \"gross\": 116127.0}, {\"imdb_id\": \"tt0121766\", \"words\": 270980, \"gross\": 113300.0}, {\"imdb_id\": \"tt0332452\", \"words\": 970224, \"gross\": 113274.0}, {\"imdb_id\": \"tt0083511\", \"words\": 669312, \"gross\": 112896.0}, {\"imdb_id\": \"tt1216475\", \"words\": 432360, \"gross\": 112860.0}, {\"imdb_id\": \"tt0159365\", \"words\": 913770, \"gross\": 112203.0}, {\"imdb_id\": \"tt0878804\", \"words\": 413943, \"gross\": 110112.0}, {\"imdb_id\": \"tt0241527\", \"words\": 123184, \"gross\": 109312.0}, {\"imdb_id\": \"tt0102798\", \"words\": 317457, \"gross\": 108045.0}, {\"imdb_id\": \"tt0120737\", \"words\": 139120, \"gross\": 107968.0}, {\"imdb_id\": \"tt0075148\", \"words\": 141168, \"gross\": 106848.0}, {\"imdb_id\": \"tt0110357\", \"words\": 33144, \"gross\": 105600.0}, {\"imdb_id\": \"tt0117060\", \"words\": 334488, \"gross\": 104664.0}, {\"imdb_id\": \"tt2179136\", \"words\": 111259, \"gross\": 103788.0}, {\"imdb_id\": \"tt1001508\", \"words\": 1063458, \"gross\": 102787.0}, {\"imdb_id\": \"tt0181689\", \"words\": 467466, \"gross\": 100470.0}, {\"imdb_id\": \"tt0087332\", \"words\": 225351, \"gross\": 99456.0}, {\"imdb_id\": \"tt0069113\", \"words\": 100113, \"gross\": 97308.0}, {\"imdb_id\": \"tt0092007\", \"words\": 232075, \"gross\": 96375.0}, {\"imdb_id\": \"tt0081573\", \"words\": 133998, \"gross\": 96324.0}, {\"imdb_id\": \"tt0120591\", \"words\": 144417, \"gross\": 94248.0}, {\"imdb_id\": \"tt1000774\", \"words\": 1075824, \"gross\": 93240.0}, {\"imdb_id\": \"tt0181865\", \"words\": 251227, \"gross\": 92800.0}, {\"imdb_id\": \"tt0099423\", \"words\": 277965, \"gross\": 91234.0}, {\"imdb_id\": \"tt1024648\", \"words\": 375496, \"gross\": 91168.0}, {\"imdb_id\": \"tt1392170\", \"words\": 142783, \"gross\": 90780.0}, {\"imdb_id\": \"tt0449088\", \"words\": 168672, \"gross\": 90090.0}, {\"imdb_id\": \"tt0478311\", \"words\": 690704, \"gross\": 89488.0}, {\"imdb_id\": \"tt1099212\", \"words\": 337776, \"gross\": 88704.0}, {\"imdb_id\": \"tt0112346\", \"words\": 1398480, \"gross\": 88400.0}, {\"imdb_id\": \"tt0112462\", \"words\": 288912, \"gross\": 88320.0}, {\"imdb_id\": \"tt0407887\", \"words\": 937728, \"gross\": 88200.0}, {\"imdb_id\": \"tt0163187\", \"words\": 541372, \"gross\": 87880.0}, {\"imdb_id\": \"tt0093565\", \"words\": 611590, \"gross\": 87710.0}, {\"imdb_id\": \"tt1707386\", \"words\": 470376, \"gross\": 87480.0}, {\"imdb_id\": \"tt0053291\", \"words\": 241587, \"gross\": 86904.0}, {\"imdb_id\": \"tt0107818\", \"words\": 524636, \"gross\": 86346.0}, {\"imdb_id\": \"tt0372183\", \"words\": 253044, \"gross\": 86346.0}, {\"imdb_id\": \"tt0138097\", \"words\": 591624, \"gross\": 85470.0}, {\"imdb_id\": \"tt0097576\", \"words\": 325424, \"gross\": 85338.0}, {\"imdb_id\": \"tt0123964\", \"words\": 1062984, \"gross\": 85020.0}, {\"imdb_id\": \"tt0108160\", \"words\": 301774, \"gross\": 84854.0}, {\"imdb_id\": \"tt0117500\", \"words\": 146300, \"gross\": 84160.0}, {\"imdb_id\": \"tt0097165\", \"words\": 644672, \"gross\": 82320.0}, {\"imdb_id\": \"tt0363771\", \"words\": 78999, \"gross\": 80784.0}, {\"imdb_id\": \"tt0084434\", \"words\": 216315, \"gross\": 80256.0}, {\"imdb_id\": \"tt0119822\", \"words\": 628472, \"gross\": 80080.0}, {\"imdb_id\": \"tt3659388\", \"words\": 211806, \"gross\": 78960.0}, {\"imdb_id\": \"tt0290334\", \"words\": 81144, \"gross\": 78120.0}, {\"imdb_id\": \"tt1152836\", \"words\": 377006, \"gross\": 76832.0}, {\"imdb_id\": \"tt0163651\", \"words\": 471312, \"gross\": 75168.0}, {\"imdb_id\": \"tt0119567\", \"words\": 140752, \"gross\": 74214.0}, {\"imdb_id\": \"tt0167404\", \"words\": 234654, \"gross\": 73941.0}, {\"imdb_id\": \"tt0120667\", \"words\": 477576, \"gross\": 73710.0}, {\"imdb_id\": \"tt1014759\", \"words\": 107960, \"gross\": 73600.0}, {\"imdb_id\": \"tt0113161\", \"words\": 734332, \"gross\": 73440.0}, {\"imdb_id\": \"tt0172495\", \"words\": 400356, \"gross\": 73326.0}, {\"imdb_id\": \"tt0100802\", \"words\": 175890, \"gross\": 73200.0}, {\"imdb_id\": \"tt0114369\", \"words\": 570024, \"gross\": 72800.0}, {\"imdb_id\": \"tt0453562\", \"words\": 584235, \"gross\": 72720.0}, {\"imdb_id\": \"tt0122151\", \"words\": 517750, \"gross\": 72300.0}, {\"imdb_id\": \"tt0081375\", \"words\": 250320, \"gross\": 72000.0}, {\"imdb_id\": \"tt0088170\", \"words\": 178984, \"gross\": 71708.0}, {\"imdb_id\": \"tt0360717\", \"words\": 328560, \"gross\": 70800.0}, {\"imdb_id\": \"tt0325980\", \"words\": 187600, \"gross\": 70400.0}, {\"imdb_id\": \"tt1735898\", \"words\": 347334, \"gross\": 70304.0}, {\"imdb_id\": \"tt0108358\", \"words\": 236495, \"gross\": 70210.0}, {\"imdb_id\": \"tt0117705\", \"words\": 149589, \"gross\": 70092.0}, {\"imdb_id\": \"tt0092099\", \"words\": 275820, \"gross\": 69630.0}, {\"imdb_id\": \"tt0120082\", \"words\": 169296, \"gross\": 68760.0}, {\"imdb_id\": \"tt0119528\", \"words\": 151860, \"gross\": 68600.0}, {\"imdb_id\": \"tt0119654\", \"words\": 96960, \"gross\": 68112.0}, {\"imdb_id\": \"tt0985699\", \"words\": 540464, \"gross\": 68000.0}, {\"imdb_id\": \"tt0101414\", \"words\": 146160, \"gross\": 67800.0}, {\"imdb_id\": \"tt1790885\", \"words\": 429794, \"gross\": 67184.0}, {\"imdb_id\": \"tt0128853\", \"words\": 640752, \"gross\": 67080.0}, {\"imdb_id\": \"tt0101921\", \"words\": 284391, \"gross\": 66825.0}, {\"imdb_id\": \"tt0118971\", \"words\": 913562, \"gross\": 66010.0}, {\"imdb_id\": \"tt1637725\", \"words\": 308975, \"gross\": 65725.0}, {\"imdb_id\": \"tt1453405\", \"words\": 115330, \"gross\": 65208.0}, {\"imdb_id\": \"tt0361748\", \"words\": 409131, \"gross\": 64260.0}, {\"imdb_id\": \"tt0198781\", \"words\": 137579, \"gross\": 63635.0}, {\"imdb_id\": \"tt0053285\", \"words\": 40869, \"gross\": 63360.0}, {\"imdb_id\": \"tt0175880\", \"words\": 2164710, \"gross\": 62776.0}, {\"imdb_id\": \"tt0221027\", \"words\": 1066572, \"gross\": 62694.0}, {\"imdb_id\": \"tt0146838\", \"words\": 569754, \"gross\": 62694.0}, {\"imdb_id\": \"tt0079417\", \"words\": 184025, \"gross\": 62390.0}, {\"imdb_id\": \"tt0120689\", \"words\": 235695, \"gross\": 62244.0}, {\"imdb_id\": \"tt0090605\", \"words\": 317664, \"gross\": 62088.0}, {\"imdb_id\": \"tt0800369\", \"words\": 463166, \"gross\": 60984.0}, {\"imdb_id\": \"tt0195685\", \"words\": 384723, \"gross\": 60291.0}, {\"imdb_id\": \"tt0458339\", \"words\": 183540, \"gross\": 59752.0}, {\"imdb_id\": \"tt0817230\", \"words\": 234987, \"gross\": 59653.0}, {\"imdb_id\": \"tt0099653\", \"words\": 368828, \"gross\": 59584.0}, {\"imdb_id\": \"tt0079945\", \"words\": 166060, \"gross\": 59565.0}, {\"imdb_id\": \"tt0084805\", \"words\": 39984, \"gross\": 58576.0}, {\"imdb_id\": \"tt1454029\", \"words\": 545664, \"gross\": 58032.0}, {\"imdb_id\": \"tt0213149\", \"words\": 113468, \"gross\": 57950.0}, {\"imdb_id\": \"tt0086393\", \"words\": 259578, \"gross\": 57915.0}, {\"imdb_id\": \"tt0101393\", \"words\": 660000, \"gross\": 57600.0}, {\"imdb_id\": \"tt0319343\", \"words\": 207322, \"gross\": 57270.0}, {\"imdb_id\": \"tt0107798\", \"words\": 210060, \"gross\": 57240.0}, {\"imdb_id\": \"tt0086425\", \"words\": 166200, \"gross\": 57216.0}, {\"imdb_id\": \"tt1690953\", \"words\": 89088, \"gross\": 56592.0}, {\"imdb_id\": \"tt0389790\", \"words\": 246294, \"gross\": 56160.0}, {\"imdb_id\": \"tt1285016\", \"words\": 648813, \"gross\": 55968.0}, {\"imdb_id\": \"tt0822832\", \"words\": 394174, \"gross\": 55706.0}, {\"imdb_id\": \"tt0080487\", \"words\": 304916, \"gross\": 55552.0}, {\"imdb_id\": \"tt0349903\", \"words\": 386946, \"gross\": 55440.0}, {\"imdb_id\": \"tt0094291\", \"words\": 1094704, \"gross\": 55290.0}, {\"imdb_id\": \"tt0486946\", \"words\": 398140, \"gross\": 55120.0}, {\"imdb_id\": \"tt1375666\", \"words\": 256428, \"gross\": 54910.0}, {\"imdb_id\": \"tt0185431\", \"words\": 562302, \"gross\": 54054.0}, {\"imdb_id\": \"tt0218967\", \"words\": 735852, \"gross\": 53924.0}, {\"imdb_id\": \"tt0327056\", \"words\": 325952, \"gross\": 53664.0}, {\"imdb_id\": \"tt0396269\", \"words\": 323986, \"gross\": 52921.0}, {\"imdb_id\": \"tt0264464\", \"words\": 269784, \"gross\": 52920.0}, {\"imdb_id\": \"tt0088763\", \"words\": 131563, \"gross\": 52734.0}, {\"imdb_id\": \"tt0120762\", \"words\": 256680, \"gross\": 52416.0}, {\"imdb_id\": \"tt0416449\", \"words\": 164101, \"gross\": 52360.0}, {\"imdb_id\": \"tt0259446\", \"words\": 109872, \"gross\": 51840.0}, {\"imdb_id\": \"tt0111503\", \"words\": 365902, \"gross\": 51813.0}, {\"imdb_id\": \"tt0440963\", \"words\": 182232, \"gross\": 51660.0}, {\"imdb_id\": \"tt0993846\", \"words\": 490477, \"gross\": 50750.0}, {\"imdb_id\": \"tt0109040\", \"words\": 254856, \"gross\": 50400.0}, {\"imdb_id\": \"tt0316654\", \"words\": 101244, \"gross\": 50112.0}, {\"imdb_id\": \"tt0097815\", \"words\": 894748, \"gross\": 49704.0}, {\"imdb_id\": \"tt0261392\", \"words\": 1024690, \"gross\": 49450.0}, {\"imdb_id\": \"tt0816692\", \"words\": 179797, \"gross\": 49400.0}, {\"imdb_id\": \"tt0099785\", \"words\": 35728, \"gross\": 49392.0}, {\"imdb_id\": \"tt0151738\", \"words\": 709586, \"gross\": 49210.0}, {\"imdb_id\": \"tt0765429\", \"words\": 154780, \"gross\": 49200.0}, {\"imdb_id\": \"tt0054215\", \"words\": 69759, \"gross\": 49050.0}, {\"imdb_id\": \"tt0415306\", \"words\": 172275, \"gross\": 49000.0}, {\"imdb_id\": \"tt0103855\", \"words\": 212560, \"gross\": 48960.0}, {\"imdb_id\": \"tt0338751\", \"words\": 377910, \"gross\": 48672.0}, {\"imdb_id\": \"tt0375679\", \"words\": 331904, \"gross\": 48640.0}, {\"imdb_id\": \"tt0120755\", \"words\": 290696, \"gross\": 48580.0}, {\"imdb_id\": \"tt0111280\", \"words\": 194480, \"gross\": 48356.0}, {\"imdb_id\": \"tt0365737\", \"words\": 500795, \"gross\": 47804.0}, {\"imdb_id\": \"tt0094898\", \"words\": 112368, \"gross\": 47520.0}, {\"imdb_id\": \"tt1327773\", \"words\": 243049, \"gross\": 47125.0}, {\"imdb_id\": \"tt0369339\", \"words\": 294952, \"gross\": 47040.0}, {\"imdb_id\": \"tt2267998\", \"words\": 270144, \"gross\": 46992.0}, {\"imdb_id\": \"tt0113277\", \"words\": 109425, \"gross\": 46900.0}, {\"imdb_id\": \"tt0102975\", \"words\": 167694, \"gross\": 46816.0}, {\"imdb_id\": \"tt0110912\", \"words\": 165072, \"gross\": 46816.0}, {\"imdb_id\": \"tt0441773\", \"words\": 203760, \"gross\": 46800.0}, {\"imdb_id\": \"tt0118688\", \"words\": 207942, \"gross\": 46662.0}, {\"imdb_id\": \"tt0311113\", \"words\": 188876, \"gross\": 46575.0}, {\"imdb_id\": \"tt0120863\", \"words\": 560967, \"gross\": 46431.0}, {\"imdb_id\": \"tt0096895\", \"words\": 52514, \"gross\": 46200.0}, {\"imdb_id\": \"tt0096754\", \"words\": 377364, \"gross\": 46020.0}, {\"imdb_id\": \"tt1020072\", \"words\": 549340, \"gross\": 45980.0}, {\"imdb_id\": \"tt0280707\", \"words\": 347004, \"gross\": 44982.0}, {\"imdb_id\": \"tt0367882\", \"words\": 139100, \"gross\": 44928.0}, {\"imdb_id\": \"tt0096320\", \"words\": 157878, \"gross\": 44793.0}, {\"imdb_id\": \"tt0097958\", \"words\": 169347, \"gross\": 44460.0}, {\"imdb_id\": \"tt0266915\", \"words\": 263680, \"gross\": 44416.0}, {\"imdb_id\": \"tt0109686\", \"words\": 380310, \"gross\": 44352.0}, {\"imdb_id\": \"tt0107206\", \"words\": 187381, \"gross\": 44298.0}, {\"imdb_id\": \"tt0105695\", \"words\": 155420, \"gross\": 44099.0}, {\"imdb_id\": \"tt0118749\", \"words\": 702880, \"gross\": 44000.0}, {\"imdb_id\": \"tt0105417\", \"words\": 125325, \"gross\": 43950.0}, {\"imdb_id\": \"tt1568911\", \"words\": 159912, \"gross\": 43848.0}, {\"imdb_id\": \"tt0091167\", \"words\": 981584, \"gross\": 43710.0}, {\"imdb_id\": \"tt1325004\", \"words\": 52096, \"gross\": 43692.0}, {\"imdb_id\": \"tt0119282\", \"words\": 183519, \"gross\": 43197.0}, {\"imdb_id\": \"tt1568346\", \"words\": 333531, \"gross\": 42714.0}, {\"imdb_id\": \"tt0465234\", \"words\": 196112, \"gross\": 42534.0}, {\"imdb_id\": \"tt0090022\", \"words\": 234045, \"gross\": 42525.0}, {\"imdb_id\": \"tt0116209\", \"words\": 394600, \"gross\": 42350.0}, {\"imdb_id\": \"tt0086465\", \"words\": 145554, \"gross\": 42330.0}, {\"imdb_id\": \"tt1478338\", \"words\": 207290, \"gross\": 42180.0}, {\"imdb_id\": \"tt0382932\", \"words\": 134622, \"gross\": 42120.0}, {\"imdb_id\": \"tt0109446\", \"words\": 96420, \"gross\": 42020.0}, {\"imdb_id\": \"tt1205489\", \"words\": 700076, \"gross\": 41886.0}, {\"imdb_id\": \"tt1650062\", \"words\": 201000, \"gross\": 41700.0}, {\"imdb_id\": \"tt1800241\", \"words\": 416420, \"gross\": 41600.0}, {\"imdb_id\": \"tt0125439\", \"words\": 416514, \"gross\": 41580.0}, {\"imdb_id\": \"tt0102926\", \"words\": 184314, \"gross\": 41310.0}, {\"imdb_id\": \"tt0116996\", \"words\": 190185, \"gross\": 41292.0}, {\"imdb_id\": \"tt0258463\", \"words\": 119586, \"gross\": 41268.0}, {\"imdb_id\": \"tt0112573\", \"words\": 115626, \"gross\": 41223.0}, {\"imdb_id\": \"tt2096673\", \"words\": 105448, \"gross\": 41104.0}, {\"imdb_id\": \"tt0454848\", \"words\": 324108, \"gross\": 41067.0}, {\"imdb_id\": \"tt0080339\", \"words\": 97717, \"gross\": 40888.0}, {\"imdb_id\": \"tt2024544\", \"words\": 662080, \"gross\": 40800.0}, {\"imdb_id\": \"tt0102057\", \"words\": 112605, \"gross\": 40755.0}, {\"imdb_id\": \"tt0936501\", \"words\": 120004, \"gross\": 39900.0}, {\"imdb_id\": \"tt0104691\", \"words\": 255984, \"gross\": 39864.0}, {\"imdb_id\": \"tt0317705\", \"words\": 70308, \"gross\": 39420.0}, {\"imdb_id\": \"tt0443706\", \"words\": 534240, \"gross\": 39360.0}, {\"imdb_id\": \"tt1284575\", \"words\": 357264, \"gross\": 39240.0}, {\"imdb_id\": \"tt0110148\", \"words\": 415512, \"gross\": 39240.0}, {\"imdb_id\": \"tt0070047\", \"words\": 125220, \"gross\": 39000.0}, {\"imdb_id\": \"tt0119116\", \"words\": 174975, \"gross\": 39000.0}, {\"imdb_id\": \"tt0106582\", \"words\": 165020, \"gross\": 38720.0}, {\"imdb_id\": \"tt0096438\", \"words\": 138176, \"gross\": 38675.0}, {\"imdb_id\": \"tt0119217\", \"words\": 467124, \"gross\": 38367.0}, {\"imdb_id\": \"tt0084855\", \"words\": 499536, \"gross\": 38160.0}, {\"imdb_id\": \"tt0103064\", \"words\": 70620, \"gross\": 38070.0}, {\"imdb_id\": \"tt0125664\", \"words\": 777238, \"gross\": 37583.0}, {\"imdb_id\": \"tt0472181\", \"words\": 204240, \"gross\": 37440.0}, {\"imdb_id\": \"tt0110475\", \"words\": 89625, \"gross\": 37350.0}, {\"imdb_id\": \"tt0143145\", \"words\": 210482, \"gross\": 37107.0}, {\"imdb_id\": \"tt1010048\", \"words\": 488870, \"gross\": 36890.0}, {\"imdb_id\": \"tt0408306\", \"words\": 334336, \"gross\": 36864.0}, {\"imdb_id\": \"tt0177789\", \"words\": 238075, \"gross\": 36600.0}, {\"imdb_id\": \"tt0251160\", \"words\": 150351, \"gross\": 36570.0}, {\"imdb_id\": \"tt1046173\", \"words\": 208710, \"gross\": 36540.0}, {\"imdb_id\": \"tt0117571\", \"words\": 154980, \"gross\": 36360.0}, {\"imdb_id\": \"tt0092699\", \"words\": 882752, \"gross\": 36160.0}, {\"imdb_id\": \"tt0093058\", \"words\": 331250, \"gross\": 36050.0}, {\"imdb_id\": \"tt0134084\", \"words\": 277776, \"gross\": 36036.0}, {\"imdb_id\": \"tt0421715\", \"words\": 211032, \"gross\": 35802.0}, {\"imdb_id\": \"tt0094721\", \"words\": 204839, \"gross\": 35340.0}, {\"imdb_id\": \"tt0186566\", \"words\": 207856, \"gross\": 35332.0}, {\"imdb_id\": \"tt0910936\", \"words\": 350832, \"gross\": 35280.0}, {\"imdb_id\": \"tt0449467\", \"words\": 608520, \"gross\": 35100.0}, {\"imdb_id\": \"tt0093409\", \"words\": 302984, \"gross\": 35090.0}, {\"imdb_id\": \"tt0134119\", \"words\": 465444, \"gross\": 35028.0}, {\"imdb_id\": \"tt1386588\", \"words\": 183293, \"gross\": 34846.0}, {\"imdb_id\": \"tt3682448\", \"words\": 378726, \"gross\": 34780.0}, {\"imdb_id\": \"tt0120201\", \"words\": 207720, \"gross\": 34608.0}, {\"imdb_id\": \"tt0096446\", \"words\": 305604, \"gross\": 34606.0}, {\"imdb_id\": \"tt0114746\", \"words\": 214710, \"gross\": 34578.0}, {\"imdb_id\": \"tt1907668\", \"words\": 320352, \"gross\": 34272.0}, {\"imdb_id\": \"tt0250494\", \"words\": 148374, \"gross\": 34164.0}, {\"imdb_id\": \"tt0298148\", \"words\": 24248, \"gross\": 34160.0}, {\"imdb_id\": \"tt0120789\", \"words\": 541940, \"gross\": 34125.0}, {\"imdb_id\": \"tt0120885\", \"words\": 738568, \"gross\": 33858.0}, {\"imdb_id\": \"tt0101272\", \"words\": 102672, \"gross\": 33840.0}, {\"imdb_id\": \"tt0072431\", \"words\": 111426, \"gross\": 33684.0}, {\"imdb_id\": \"tt2294449\", \"words\": 170064, \"gross\": 33048.0}, {\"imdb_id\": \"tt0124315\", \"words\": 215649, \"gross\": 32928.0}, {\"imdb_id\": \"tt0988045\", \"words\": 166974, \"gross\": 32912.0}, {\"imdb_id\": \"tt0162661\", \"words\": 256120, \"gross\": 32680.0}, {\"imdb_id\": \"tt2294629\", \"words\": 88578, \"gross\": 32604.0}, {\"imdb_id\": \"tt0081283\", \"words\": 513544, \"gross\": 32568.0}, {\"imdb_id\": \"tt0131369\", \"words\": 1077616, \"gross\": 32148.0}, {\"imdb_id\": \"tt0120832\", \"words\": 294864, \"gross\": 32136.0}, {\"imdb_id\": \"tt0105435\", \"words\": 189380, \"gross\": 32100.0}, {\"imdb_id\": \"tt0169547\", \"words\": 267584, \"gross\": 31968.0}, {\"imdb_id\": \"tt0087538\", \"words\": 140352, \"gross\": 31960.0}, {\"imdb_id\": \"tt0109444\", \"words\": 59738, \"gross\": 31878.0}, {\"imdb_id\": \"tt0097757\", \"words\": 136392, \"gross\": 31812.0}, {\"imdb_id\": \"tt0120616\", \"words\": 71724, \"gross\": 31800.0}, {\"imdb_id\": \"tt1230414\", \"words\": 233816, \"gross\": 31702.0}, {\"imdb_id\": \"tt1758830\", \"words\": 518049, \"gross\": 31536.0}, {\"imdb_id\": \"tt0315327\", \"words\": 125970, \"gross\": 31500.0}, {\"imdb_id\": \"tt0086200\", \"words\": 117864, \"gross\": 31500.0}, {\"imdb_id\": \"tt0047296\", \"words\": 172074, \"gross\": 31450.0}, {\"imdb_id\": \"tt0133952\", \"words\": 852264, \"gross\": 31350.0}, {\"imdb_id\": \"tt1596363\", \"words\": 268926, \"gross\": 31248.0}, {\"imdb_id\": \"tt0181875\", \"words\": 786030, \"gross\": 30940.0}, {\"imdb_id\": \"tt0096874\", \"words\": 130271, \"gross\": 30702.0}, {\"imdb_id\": \"tt0187078\", \"words\": 164424, \"gross\": 30668.0}, {\"imdb_id\": \"tt0116905\", \"words\": 1336586, \"gross\": 30550.0}, {\"imdb_id\": \"tt0108052\", \"words\": 131250, \"gross\": 30150.0}, {\"imdb_id\": \"tt0371724\", \"words\": 514752, \"gross\": 29808.0}, {\"imdb_id\": \"tt0101507\", \"words\": 150633, \"gross\": 29736.0}, {\"imdb_id\": \"tt0093629\", \"words\": 147260, \"gross\": 29700.0}, {\"imdb_id\": \"tt1772341\", \"words\": 182112, \"gross\": 29664.0}, {\"imdb_id\": \"tt0080549\", \"words\": 170525, \"gross\": 29412.0}, {\"imdb_id\": \"tt0248667\", \"words\": 194458, \"gross\": 29370.0}, {\"imdb_id\": \"tt0117381\", \"words\": 249565, \"gross\": 29260.0}, {\"imdb_id\": \"tt0120812\", \"words\": 107352, \"gross\": 29232.0}, {\"imdb_id\": \"tt0120784\", \"words\": 124341, \"gross\": 29190.0}, {\"imdb_id\": \"tt0467406\", \"words\": 393408, \"gross\": 29160.0}, {\"imdb_id\": \"tt0119314\", \"words\": 532760, \"gross\": 29051.0}, {\"imdb_id\": \"tt1646971\", \"words\": 119350, \"gross\": 28952.0}, {\"imdb_id\": \"tt1189340\", \"words\": 505710, \"gross\": 28917.0}, {\"imdb_id\": \"tt0112864\", \"words\": 114606, \"gross\": 28800.0}, {\"imdb_id\": \"tt0126029\", \"words\": 279244, \"gross\": 28770.0}, {\"imdb_id\": \"tt0409459\", \"words\": 213218, \"gross\": 28500.0}, {\"imdb_id\": \"tt0120611\", \"words\": 286160, \"gross\": 28380.0}, {\"imdb_id\": \"tt1403865\", \"words\": 107445, \"gross\": 28200.0}, {\"imdb_id\": \"tt0110478\", \"words\": 172007, \"gross\": 28196.0}, {\"imdb_id\": \"tt1587310\", \"words\": 146806, \"gross\": 28160.0}, {\"imdb_id\": \"tt0086034\", \"words\": 49725, \"gross\": 28050.0}, {\"imdb_id\": \"tt0974661\", \"words\": 449226, \"gross\": 27972.0}, {\"imdb_id\": \"tt0119094\", \"words\": 59865, \"gross\": 27560.0}, {\"imdb_id\": \"tt0389860\", \"words\": 179189, \"gross\": 27512.0}, {\"imdb_id\": \"tt0103639\", \"words\": 70750, \"gross\": 27240.0}, {\"imdb_id\": \"tt1142988\", \"words\": 330144, \"gross\": 27192.0}, {\"imdb_id\": \"tt0368891\", \"words\": 119200, \"gross\": 27104.0}, {\"imdb_id\": \"tt0257106\", \"words\": 187112, \"gross\": 26923.0}, {\"imdb_id\": \"tt0329101\", \"words\": 128763, \"gross\": 26904.0}, {\"imdb_id\": \"tt1981677\", \"words\": 226314, \"gross\": 26838.0}, {\"imdb_id\": \"tt0368447\", \"words\": 76986, \"gross\": 26712.0}, {\"imdb_id\": \"tt2293640\", \"words\": 32923, \"gross\": 26642.0}, {\"imdb_id\": \"tt0063442\", \"words\": 109816, \"gross\": 26488.0}, {\"imdb_id\": \"tt0113820\", \"words\": 108262, \"gross\": 26400.0}, {\"imdb_id\": \"tt0212720\", \"words\": 110300, \"gross\": 26400.0}, {\"imdb_id\": \"tt0100405\", \"words\": 89064, \"gross\": 26352.0}, {\"imdb_id\": \"tt0811080\", \"words\": 319841, \"gross\": 26129.0}, {\"imdb_id\": \"tt0087469\", \"words\": 41936, \"gross\": 26096.0}, {\"imdb_id\": \"tt1343092\", \"words\": 217392, \"gross\": 26040.0}, {\"imdb_id\": \"tt1320253\", \"words\": 143564, \"gross\": 25764.0}, {\"imdb_id\": \"tt0103644\", \"words\": 165700, \"gross\": 25520.0}, {\"imdb_id\": \"tt0096463\", \"words\": 195678, \"gross\": 25515.0}, {\"imdb_id\": \"tt0119488\", \"words\": 151791, \"gross\": 25498.0}, {\"imdb_id\": \"tt0120780\", \"words\": 813800, \"gross\": 25116.0}, {\"imdb_id\": \"tt0800320\", \"words\": 117908, \"gross\": 25060.0}, {\"imdb_id\": \"tt0114148\", \"words\": 63745, \"gross\": 24992.0}, {\"imdb_id\": \"tt0120844\", \"words\": 140848, \"gross\": 24960.0}, {\"imdb_id\": \"tt0092005\", \"words\": 148971, \"gross\": 24888.0}, {\"imdb_id\": \"tt0113987\", \"words\": 984880, \"gross\": 24840.0}, {\"imdb_id\": \"tt0120902\", \"words\": 158580, \"gross\": 24800.0}, {\"imdb_id\": \"tt0096969\", \"words\": 102402, \"gross\": 24786.0}, {\"imdb_id\": \"tt0187393\", \"words\": 107831, \"gross\": 24752.0}, {\"imdb_id\": \"tt0114069\", \"words\": 155688, \"gross\": 24570.0}, {\"imdb_id\": \"tt0479143\", \"words\": 154484, \"gross\": 24552.0}, {\"imdb_id\": \"tt0103776\", \"words\": 67194, \"gross\": 24552.0}, {\"imdb_id\": \"tt0453467\", \"words\": 318024, \"gross\": 24480.0}, {\"imdb_id\": \"tt0117731\", \"words\": 93195, \"gross\": 24435.0}, {\"imdb_id\": \"tt0139654\", \"words\": 210404, \"gross\": 24219.0}, {\"imdb_id\": \"tt0117509\", \"words\": 181906, \"gross\": 24206.0}, {\"imdb_id\": \"tt0062622\", \"words\": 32512, \"gross\": 24064.0}, {\"imdb_id\": \"tt0079116\", \"words\": 113620, \"gross\": 23940.0}, {\"imdb_id\": \"tt1045778\", \"words\": 664428, \"gross\": 23800.0}, {\"imdb_id\": \"tt1049413\", \"words\": 122388, \"gross\": 23730.0}, {\"imdb_id\": \"tt0209958\", \"words\": 241076, \"gross\": 23716.0}, {\"imdb_id\": \"tt0469641\", \"words\": 126454, \"gross\": 23529.0}, {\"imdb_id\": \"tt0309593\", \"words\": 203283, \"gross\": 23517.0}, {\"imdb_id\": \"tt0829482\", \"words\": 210528, \"gross\": 23409.0}, {\"imdb_id\": \"tt0106673\", \"words\": 181588, \"gross\": 23408.0}, {\"imdb_id\": \"tt0140352\", \"words\": 764320, \"gross\": 23324.0}, {\"imdb_id\": \"tt0187738\", \"words\": 213028, \"gross\": 23180.0}, {\"imdb_id\": \"tt0145660\", \"words\": 48774, \"gross\": 23166.0}, {\"imdb_id\": \"tt0298130\", \"words\": 87600, \"gross\": 23160.0}, {\"imdb_id\": \"tt0272152\", \"words\": 197325, \"gross\": 23100.0}, {\"imdb_id\": \"tt1318514\", \"words\": 120717, \"gross\": 23086.0}, {\"imdb_id\": \"tt0277027\", \"words\": 428598, \"gross\": 23058.0}, {\"imdb_id\": \"tt0102803\", \"words\": 158440, \"gross\": 23040.0}, {\"imdb_id\": \"tt1490017\", \"words\": 81192, \"gross\": 23016.0}, {\"imdb_id\": \"tt0114388\", \"words\": 588888, \"gross\": 22950.0}, {\"imdb_id\": \"tt0124298\", \"words\": 1077872, \"gross\": 22770.0}, {\"imdb_id\": \"tt0091738\", \"words\": 198846, \"gross\": 22698.0}, {\"imdb_id\": \"tt0405159\", \"words\": 187956, \"gross\": 22680.0}, {\"imdb_id\": \"tt0120188\", \"words\": 174880, \"gross\": 22660.0}, {\"imdb_id\": \"tt0458525\", \"words\": 84696, \"gross\": 22464.0}, {\"imdb_id\": \"tt2180411\", \"words\": 97785, \"gross\": 22440.0}, {\"imdb_id\": \"tt0120815\", \"words\": 80384, \"gross\": 22400.0}, {\"imdb_id\": \"tt1482459\", \"words\": 62004, \"gross\": 22368.0}, {\"imdb_id\": \"tt0103772\", \"words\": 75510, \"gross\": 22230.0}, {\"imdb_id\": \"tt0808151\", \"words\": 260604, \"gross\": 22176.0}, {\"imdb_id\": \"tt0115956\", \"words\": 172752, \"gross\": 22080.0}, {\"imdb_id\": \"tt0107889\", \"words\": 776112, \"gross\": 21888.0}, {\"imdb_id\": \"tt1504320\", \"words\": 186511, \"gross\": 21879.0}, {\"imdb_id\": \"tt1033575\", \"words\": 293436, \"gross\": 21780.0}, {\"imdb_id\": \"tt0086927\", \"words\": 67320, \"gross\": 21780.0}, {\"imdb_id\": \"tt0232500\", \"words\": 80248, \"gross\": 21756.0}, {\"imdb_id\": \"tt0090966\", \"words\": 153625, \"gross\": 21750.0}, {\"imdb_id\": \"tt0241303\", \"words\": 107331, \"gross\": 21735.0}, {\"imdb_id\": \"tt0475394\", \"words\": 232047, \"gross\": 21620.0}, {\"imdb_id\": \"tt2017020\", \"words\": 172056, \"gross\": 21600.0}, {\"imdb_id\": \"tt0278504\", \"words\": 256140, \"gross\": 21600.0}, {\"imdb_id\": \"tt0099685\", \"words\": 322950, \"gross\": 21600.0}, {\"imdb_id\": \"tt0098382\", \"words\": 106125, \"gross\": 21600.0}, {\"imdb_id\": \"tt0212985\", \"words\": 96747, \"gross\": 21505.0}, {\"imdb_id\": \"tt0445934\", \"words\": 155168, \"gross\": 21456.0}, {\"imdb_id\": \"tt0163025\", \"words\": 45441, \"gross\": 21406.0}, {\"imdb_id\": \"tt0073629\", \"words\": 21894, \"gross\": 21384.0}, {\"imdb_id\": \"tt1323594\", \"words\": 47872, \"gross\": 21329.0}, {\"imdb_id\": \"tt0113492\", \"words\": 244178, \"gross\": 21252.0}, {\"imdb_id\": \"tt0094812\", \"words\": 317108, \"gross\": 21186.0}, {\"imdb_id\": \"tt0139668\", \"words\": 381420, \"gross\": 21168.0}, {\"imdb_id\": \"tt0112697\", \"words\": 169558, \"gross\": 21131.0}, {\"imdb_id\": \"tt0164912\", \"words\": 60203, \"gross\": 21032.0}, {\"imdb_id\": \"tt0133093\", \"words\": 68556, \"gross\": 21024.0}, {\"imdb_id\": \"tt0458352\", \"words\": 158634, \"gross\": 20916.0}, {\"imdb_id\": \"tt0104797\", \"words\": 177537, \"gross\": 20907.0}, {\"imdb_id\": \"tt0098554\", \"words\": 140582, \"gross\": 20878.0}, {\"imdb_id\": \"tt0816711\", \"words\": 62192, \"gross\": 20736.0}, {\"imdb_id\": \"tt0115759\", \"words\": 125400, \"gross\": 20700.0}, {\"imdb_id\": \"tt0101862\", \"words\": 135506, \"gross\": 20608.0}, {\"imdb_id\": \"tt2024432\", \"words\": 142524, \"gross\": 20592.0}, {\"imdb_id\": \"tt0442933\", \"words\": 104688, \"gross\": 20394.0}, {\"imdb_id\": \"tt0414387\", \"words\": 434148, \"gross\": 20332.0}, {\"imdb_id\": \"tt0112442\", \"words\": 161952, \"gross\": 20174.0}, {\"imdb_id\": \"tt0171580\", \"words\": 427644, \"gross\": 20160.0}, {\"imdb_id\": \"tt0359013\", \"words\": 162650, \"gross\": 20075.0}, {\"imdb_id\": \"tt0289765\", \"words\": 68656, \"gross\": 20016.0}, {\"imdb_id\": \"tt0443274\", \"words\": 76130, \"gross\": 20010.0}, {\"imdb_id\": \"tt0120891\", \"words\": 277712, \"gross\": 19890.0}, {\"imdb_id\": \"tt0405422\", \"words\": 138870, \"gross\": 19845.0}, {\"imdb_id\": \"tt0114436\", \"words\": 343511, \"gross\": 19840.0}, {\"imdb_id\": \"tt0120347\", \"words\": 40884, \"gross\": 19824.0}, {\"imdb_id\": \"tt0088247\", \"words\": 217800, \"gross\": 19800.0}, {\"imdb_id\": \"tt0824747\", \"words\": 335934, \"gross\": 19737.0}, {\"imdb_id\": \"tt0477348\", \"words\": 157689, \"gross\": 19530.0}, {\"imdb_id\": \"tt0108333\", \"words\": 137666, \"gross\": 19210.0}, {\"imdb_id\": \"tt0104412\", \"words\": 368896, \"gross\": 19200.0}, {\"imdb_id\": \"tt0377092\", \"words\": 126480, \"gross\": 19200.0}, {\"imdb_id\": \"tt0892769\", \"words\": 167950, \"gross\": 19120.0}, {\"imdb_id\": \"tt0186151\", \"words\": 316608, \"gross\": 19008.0}, {\"imdb_id\": \"tt0098273\", \"words\": 141687, \"gross\": 18816.0}, {\"imdb_id\": \"tt1535108\", \"words\": 153843, \"gross\": 18810.0}, {\"imdb_id\": \"tt0118548\", \"words\": 237760, \"gross\": 18800.0}, {\"imdb_id\": \"tt1409024\", \"words\": 190672, \"gross\": 18720.0}, {\"imdb_id\": \"tt0120855\", \"words\": 36248, \"gross\": 18688.0}, {\"imdb_id\": \"tt0110932\", \"words\": 269438, \"gross\": 18564.0}, {\"imdb_id\": \"tt0119396\", \"words\": 745332, \"gross\": 18525.0}, {\"imdb_id\": \"tt0082495\", \"words\": 69696, \"gross\": 18486.0}, {\"imdb_id\": \"tt0391198\", \"words\": 91170, \"gross\": 18480.0}, {\"imdb_id\": \"tt0482571\", \"words\": 225168, \"gross\": 18480.0}, {\"imdb_id\": \"tt0106519\", \"words\": 158680, \"gross\": 18480.0}, {\"imdb_id\": \"tt0120633\", \"words\": 76928, \"gross\": 18480.0}, {\"imdb_id\": \"tt0320661\", \"words\": 177168, \"gross\": 18432.0}, {\"imdb_id\": \"tt0286106\", \"words\": 48861, \"gross\": 18414.0}, {\"imdb_id\": \"tt0090060\", \"words\": 338000, \"gross\": 18400.0}, {\"imdb_id\": \"tt0068638\", \"words\": 103493, \"gross\": 18354.0}, {\"imdb_id\": \"tt0118884\", \"words\": 114852, \"gross\": 18336.0}, {\"imdb_id\": \"tt0160127\", \"words\": 137436, \"gross\": 18291.0}, {\"imdb_id\": \"tt0120655\", \"words\": 882252, \"gross\": 18252.0}, {\"imdb_id\": \"tt1041829\", \"words\": 164616, \"gross\": 18240.0}, {\"imdb_id\": \"tt1210166\", \"words\": 380989, \"gross\": 18204.0}, {\"imdb_id\": \"tt0375063\", \"words\": 486036, \"gross\": 18000.0}, {\"imdb_id\": \"tt2278388\", \"words\": 242353, \"gross\": 17980.0}, {\"imdb_id\": \"tt2582846\", \"words\": 267390, \"gross\": 17955.0}, {\"imdb_id\": \"tt0097216\", \"words\": 136160, \"gross\": 17940.0}, {\"imdb_id\": \"tt0480687\", \"words\": 531232, \"gross\": 17836.0}, {\"imdb_id\": \"tt0075686\", \"words\": 170768, \"gross\": 17784.0}, {\"imdb_id\": \"tt0120751\", \"words\": 125362, \"gross\": 17670.0}, {\"imdb_id\": \"tt0116583\", \"words\": 58220, \"gross\": 17640.0}, {\"imdb_id\": \"tt0357413\", \"words\": 151050, \"gross\": 17550.0}, {\"imdb_id\": \"tt1250777\", \"words\": 235680, \"gross\": 17472.0}, {\"imdb_id\": \"tt0102266\", \"words\": 190047, \"gross\": 17446.0}, {\"imdb_id\": \"tt0409847\", \"words\": 170784, \"gross\": 17440.0}, {\"imdb_id\": \"tt1398426\", \"words\": 77574, \"gross\": 17430.0}, {\"imdb_id\": \"tt0418689\", \"words\": 201960, \"gross\": 17424.0}, {\"imdb_id\": \"tt2404425\", \"words\": 375424, \"gross\": 17408.0}, {\"imdb_id\": \"tt0099487\", \"words\": 74940, \"gross\": 17400.0}, {\"imdb_id\": \"tt0112740\", \"words\": 111853, \"gross\": 17290.0}, {\"imdb_id\": \"tt0118883\", \"words\": 161400, \"gross\": 17280.0}, {\"imdb_id\": \"tt0325710\", \"words\": 201552, \"gross\": 17280.0}, {\"imdb_id\": \"tt0146309\", \"words\": 174264, \"gross\": 17160.0}, {\"imdb_id\": \"tt1201167\", \"words\": 941336, \"gross\": 17160.0}, {\"imdb_id\": \"tt0171363\", \"words\": 201344, \"gross\": 17160.0}, {\"imdb_id\": \"tt0268978\", \"words\": 84851, \"gross\": 17030.0}, {\"imdb_id\": \"tt1219289\", \"words\": 195660, \"gross\": 17028.0}, {\"imdb_id\": \"tt1605783\", \"words\": 232428, \"gross\": 16926.0}, {\"imdb_id\": \"tt0097351\", \"words\": 198456, \"gross\": 16920.0}, {\"imdb_id\": \"tt0783233\", \"words\": 134618, \"gross\": 16896.0}, {\"imdb_id\": \"tt0094012\", \"words\": 111580, \"gross\": 16800.0}, {\"imdb_id\": \"tt1091191\", \"words\": 88380, \"gross\": 16758.0}, {\"imdb_id\": \"tt0217505\", \"words\": 131556, \"gross\": 16704.0}, {\"imdb_id\": \"tt0120903\", \"words\": 48719, \"gross\": 16698.0}, {\"imdb_id\": \"tt0118799\", \"words\": 137564, \"gross\": 16677.0}, {\"imdb_id\": \"tt0356910\", \"words\": 53218, \"gross\": 16632.0}, {\"imdb_id\": \"tt0465538\", \"words\": 223346, \"gross\": 16592.0}, {\"imdb_id\": \"tt0964517\", \"words\": 305670, \"gross\": 16583.0}, {\"imdb_id\": \"tt0119173\", \"words\": 117194, \"gross\": 16562.0}, {\"imdb_id\": \"tt0368008\", \"words\": 155505, \"gross\": 16560.0}, {\"imdb_id\": \"tt1535109\", \"words\": 113238, \"gross\": 16416.0}, {\"imdb_id\": \"tt0976051\", \"words\": 357600, \"gross\": 16400.0}, {\"imdb_id\": \"tt0112722\", \"words\": 755264, \"gross\": 16384.0}, {\"imdb_id\": \"tt0099700\", \"words\": 115424, \"gross\": 16320.0}, {\"imdb_id\": \"tt0302886\", \"words\": 61883, \"gross\": 16264.0}, {\"imdb_id\": \"tt1499658\", \"words\": 169722, \"gross\": 16254.0}, {\"imdb_id\": \"tt0167190\", \"words\": 110736, \"gross\": 16236.0}, {\"imdb_id\": \"tt0087363\", \"words\": 32095, \"gross\": 16086.0}, {\"imdb_id\": \"tt0267913\", \"words\": 75720, \"gross\": 16030.0}, {\"imdb_id\": \"tt2084970\", \"words\": 152985, \"gross\": 16005.0}, {\"imdb_id\": \"tt0430357\", \"words\": 154755, \"gross\": 15960.0}, {\"imdb_id\": \"tt0099088\", \"words\": 98681, \"gross\": 15840.0}, {\"imdb_id\": \"tt0157503\", \"words\": 522480, \"gross\": 15840.0}, {\"imdb_id\": \"tt0120890\", \"words\": 433536, \"gross\": 15840.0}, {\"imdb_id\": \"tt0097441\", \"words\": 168126, \"gross\": 15834.0}, {\"imdb_id\": \"tt0102510\", \"words\": 53097, \"gross\": 15752.0}, {\"imdb_id\": \"tt0161081\", \"words\": 120798, \"gross\": 15750.0}, {\"imdb_id\": \"tt0094137\", \"words\": 80752, \"gross\": 15666.0}, {\"imdb_id\": \"tt0098635\", \"words\": 105160, \"gross\": 15631.0}, {\"imdb_id\": \"tt1037705\", \"words\": 282750, \"gross\": 15600.0}, {\"imdb_id\": \"tt0190641\", \"words\": 41104, \"gross\": 15484.0}, {\"imdb_id\": \"tt0385726\", \"words\": 237875, \"gross\": 15400.0}, {\"imdb_id\": \"tt0107048\", \"words\": 116324, \"gross\": 15392.0}, {\"imdb_id\": \"tt0120738\", \"words\": 90468, \"gross\": 15360.0}, {\"imdb_id\": \"tt2802144\", \"words\": 87648, \"gross\": 15232.0}, {\"imdb_id\": \"tt0099165\", \"words\": 327400, \"gross\": 15200.0}, {\"imdb_id\": \"tt0146675\", \"words\": 63061, \"gross\": 15162.0}, {\"imdb_id\": \"tt2140373\", \"words\": 267529, \"gross\": 15130.0}, {\"imdb_id\": \"tt0091875\", \"words\": 182763, \"gross\": 15120.0}, {\"imdb_id\": \"tt0093378\", \"words\": 127050, \"gross\": 15120.0}, {\"imdb_id\": \"tt2872732\", \"words\": 90960, \"gross\": 15120.0}, {\"imdb_id\": \"tt1013743\", \"words\": 187080, \"gross\": 15120.0}, {\"imdb_id\": \"tt0317740\", \"words\": 45419, \"gross\": 15048.0}, {\"imdb_id\": \"tt0147800\", \"words\": 408996, \"gross\": 15015.0}, {\"imdb_id\": \"tt1895587\", \"words\": 401577, \"gross\": 15015.0}, {\"imdb_id\": \"tt0333766\", \"words\": 484785, \"gross\": 14985.0}, {\"imdb_id\": \"tt0080319\", \"words\": 16371, \"gross\": 14985.0}, {\"imdb_id\": \"tt0099077\", \"words\": 146538, \"gross\": 14980.0}, {\"imdb_id\": \"tt0095742\", \"words\": 67590, \"gross\": 14976.0}, {\"imdb_id\": \"tt0117666\", \"words\": 698308, \"gross\": 14976.0}, {\"imdb_id\": \"tt1133985\", \"words\": 111969, \"gross\": 14976.0}, {\"imdb_id\": \"tt1570728\", \"words\": 189432, \"gross\": 14904.0}, {\"imdb_id\": \"tt0295701\", \"words\": 79310, \"gross\": 14770.0}, {\"imdb_id\": \"tt1193138\", \"words\": 217398, \"gross\": 14744.0}, {\"imdb_id\": \"tt0268995\", \"words\": 195372, \"gross\": 14742.0}, {\"imdb_id\": \"tt0942385\", \"words\": 111353, \"gross\": 14630.0}, {\"imdb_id\": \"tt0088128\", \"words\": 120773, \"gross\": 14628.0}, {\"imdb_id\": \"tt0111161\", \"words\": 371840, \"gross\": 14616.0}, {\"imdb_id\": \"tt0089155\", \"words\": 98256, \"gross\": 14592.0}, {\"imdb_id\": \"tt0116253\", \"words\": 97020, \"gross\": 14580.0}, {\"imdb_id\": \"tt0238546\", \"words\": 418392, \"gross\": 14580.0}, {\"imdb_id\": \"tt0080761\", \"words\": 41205, \"gross\": 14520.0}, {\"imdb_id\": \"tt0190590\", \"words\": 155898, \"gross\": 14454.0}, {\"imdb_id\": \"tt0265666\", \"words\": 149780, \"gross\": 14400.0}, {\"imdb_id\": \"tt0118055\", \"words\": 60138, \"gross\": 14400.0}, {\"imdb_id\": \"tt1446714\", \"words\": 78540, \"gross\": 14385.0}, {\"imdb_id\": \"tt0104389\", \"words\": 118170, \"gross\": 14352.0}, {\"imdb_id\": \"tt0087182\", \"words\": 102884, \"gross\": 14280.0}, {\"imdb_id\": \"tt0108037\", \"words\": 139740, \"gross\": 14280.0}, {\"imdb_id\": \"tt0099371\", \"words\": 66768, \"gross\": 14280.0}, {\"imdb_id\": \"tt0118655\", \"words\": 76902, \"gross\": 14280.0}, {\"imdb_id\": \"tt0101761\", \"words\": 210546, \"gross\": 14256.0}, {\"imdb_id\": \"tt0144214\", \"words\": 87435, \"gross\": 14256.0}, {\"imdb_id\": \"tt0120888\", \"words\": 85476, \"gross\": 14208.0}, {\"imdb_id\": \"tt1034303\", \"words\": 267722, \"gross\": 14144.0}, {\"imdb_id\": \"tt0381849\", \"words\": 119889, \"gross\": 14070.0}, {\"imdb_id\": \"tt1212419\", \"words\": 157404, \"gross\": 14040.0}, {\"imdb_id\": \"tt2305051\", \"words\": 244377, \"gross\": 14040.0}, {\"imdb_id\": \"tt1321870\", \"words\": 213148, \"gross\": 14014.0}, {\"imdb_id\": \"tt0132347\", \"words\": 264200, \"gross\": 14000.0}, {\"imdb_id\": \"tt0397535\", \"words\": 106020, \"gross\": 13860.0}, {\"imdb_id\": \"tt0094155\", \"words\": 382622, \"gross\": 13832.0}, {\"imdb_id\": \"tt0195945\", \"words\": 117105, \"gross\": 13800.0}, {\"imdb_id\": \"tt1397280\", \"words\": 106668, \"gross\": 13770.0}, {\"imdb_id\": \"tt0758730\", \"words\": 107280, \"gross\": 13728.0}, {\"imdb_id\": \"tt0477080\", \"words\": 137028, \"gross\": 13528.0}, {\"imdb_id\": \"tt0087062\", \"words\": 91426, \"gross\": 13464.0}, {\"imdb_id\": \"tt0109506\", \"words\": 100672, \"gross\": 13440.0}, {\"imdb_id\": \"tt0120587\", \"words\": 122240, \"gross\": 13440.0}, {\"imdb_id\": \"tt0021884\", \"words\": 34191, \"gross\": 13410.0}, {\"imdb_id\": \"tt0328099\", \"words\": 226317, \"gross\": 13377.0}, {\"imdb_id\": \"tt0117998\", \"words\": 38290, \"gross\": 13328.0}, {\"imdb_id\": \"tt0790724\", \"words\": 94095, \"gross\": 13311.0}, {\"imdb_id\": \"tt1068680\", \"words\": 251860, \"gross\": 13216.0}, {\"imdb_id\": \"tt0093260\", \"words\": 159390, \"gross\": 13167.0}, {\"imdb_id\": \"tt1599348\", \"words\": 67092, \"gross\": 13152.0}, {\"imdb_id\": \"tt0094737\", \"words\": 106722, \"gross\": 13122.0}, {\"imdb_id\": \"tt0082533\", \"words\": 97452, \"gross\": 13104.0}, {\"imdb_id\": \"tt0109813\", \"words\": 42544, \"gross\": 13056.0}, {\"imdb_id\": \"tt0101540\", \"words\": 65900, \"gross\": 13040.0}, {\"imdb_id\": \"tt0122459\", \"words\": 135250, \"gross\": 13000.0}, {\"imdb_id\": \"tt1371111\", \"words\": 310016, \"gross\": 12992.0}, {\"imdb_id\": \"tt0120686\", \"words\": 328504, \"gross\": 12936.0}, {\"imdb_id\": \"tt1405500\", \"words\": 255717, \"gross\": 12915.0}, {\"imdb_id\": \"tt0324216\", \"words\": 74074, \"gross\": 12880.0}, {\"imdb_id\": \"tt0077928\", \"words\": 46046, \"gross\": 12870.0}, {\"imdb_id\": \"tt0107808\", \"words\": 170856, \"gross\": 12870.0}, {\"imdb_id\": \"tt1028576\", \"words\": 150174, \"gross\": 12870.0}, {\"imdb_id\": \"tt1119646\", \"words\": 138900, \"gross\": 12840.0}, {\"imdb_id\": \"tt0102492\", \"words\": 86801, \"gross\": 12792.0}, {\"imdb_id\": \"tt0099871\", \"words\": 204840, \"gross\": 12720.0}, {\"imdb_id\": \"tt0408790\", \"words\": 93429, \"gross\": 12705.0}, {\"imdb_id\": \"tt0253474\", \"words\": 193820, \"gross\": 12672.0}, {\"imdb_id\": \"tt1798684\", \"words\": 235872, \"gross\": 12636.0}, {\"imdb_id\": \"tt0082398\", \"words\": 24011, \"gross\": 12610.0}, {\"imdb_id\": \"tt0431197\", \"words\": 111909, \"gross\": 12600.0}, {\"imdb_id\": \"tt1583420\", \"words\": 232636, \"gross\": 12597.0}, {\"imdb_id\": \"tt0259711\", \"words\": 93591, \"gross\": 12555.0}, {\"imdb_id\": \"tt0120770\", \"words\": 231984, \"gross\": 12544.0}, {\"imdb_id\": \"tt0070328\", \"words\": 23094, \"gross\": 12528.0}, {\"imdb_id\": \"tt0082031\", \"words\": 88291, \"gross\": 12516.0}, {\"imdb_id\": \"tt0100935\", \"words\": 794560, \"gross\": 12480.0}, {\"imdb_id\": \"tt0208092\", \"words\": 228420, \"gross\": 12480.0}, {\"imdb_id\": \"tt0385267\", \"words\": 161766, \"gross\": 12474.0}, {\"imdb_id\": \"tt0103874\", \"words\": 71432, \"gross\": 12384.0}, {\"imdb_id\": \"tt0100133\", \"words\": 137836, \"gross\": 12376.0}, {\"imdb_id\": \"tt0395584\", \"words\": 498456, \"gross\": 12320.0}, {\"imdb_id\": \"tt0191397\", \"words\": 68077, \"gross\": 12312.0}, {\"imdb_id\": \"tt0243585\", \"words\": 91504, \"gross\": 12288.0}, {\"imdb_id\": \"tt1748122\", \"words\": 153275, \"gross\": 12250.0}, {\"imdb_id\": \"tt0438488\", \"words\": 46128, \"gross\": 12180.0}, {\"imdb_id\": \"tt0881891\", \"words\": 370320, \"gross\": 12168.0}, {\"imdb_id\": \"tt0278435\", \"words\": 212325, \"gross\": 12122.0}, {\"imdb_id\": \"tt2096672\", \"words\": 217170, \"gross\": 12103.0}, {\"imdb_id\": \"tt0166943\", \"words\": 910008, \"gross\": 12100.0}, {\"imdb_id\": \"tt0098084\", \"words\": 95280, \"gross\": 12096.0}, {\"imdb_id\": \"tt0449059\", \"words\": 140063, \"gross\": 12087.0}, {\"imdb_id\": \"tt0884328\", \"words\": 307425, \"gross\": 12000.0}, {\"imdb_id\": \"tt0434409\", \"words\": 92092, \"gross\": 11970.0}, {\"imdb_id\": \"tt0319061\", \"words\": 125510, \"gross\": 11970.0}, {\"imdb_id\": \"tt0119345\", \"words\": 60973, \"gross\": 11968.0}, {\"imdb_id\": \"tt0103893\", \"words\": 238084, \"gross\": 11968.0}, {\"imdb_id\": \"tt0110613\", \"words\": 219560, \"gross\": 11968.0}, {\"imdb_id\": \"tt0031725\", \"words\": 350878, \"gross\": 11880.0}, {\"imdb_id\": \"tt0119925\", \"words\": 524130, \"gross\": 11880.0}, {\"imdb_id\": \"tt2334879\", \"words\": 126483, \"gross\": 11856.0}, {\"imdb_id\": \"tt0094332\", \"words\": 104664, \"gross\": 11844.0}, {\"imdb_id\": \"tt0130018\", \"words\": 151392, \"gross\": 11840.0}, {\"imdb_id\": \"tt0068327\", \"words\": 41895, \"gross\": 11826.0}, {\"imdb_id\": \"tt0395699\", \"words\": 63987, \"gross\": 11781.0}, {\"imdb_id\": \"tt0446029\", \"words\": 465681, \"gross\": 11730.0}, {\"imdb_id\": \"tt0103074\", \"words\": 196294, \"gross\": 11718.0}, {\"imdb_id\": \"tt0206275\", \"words\": 104076, \"gross\": 11676.0}, {\"imdb_id\": \"tt0120382\", \"words\": 49280, \"gross\": 11650.0}, {\"imdb_id\": \"tt0119174\", \"words\": 149040, \"gross\": 11648.0}, {\"imdb_id\": \"tt0087747\", \"words\": 154648, \"gross\": 11648.0}, {\"imdb_id\": \"tt0986263\", \"words\": 276288, \"gross\": 11616.0}, {\"imdb_id\": \"tt0104036\", \"words\": 166606, \"gross\": 11528.0}, {\"imdb_id\": \"tt0094715\", \"words\": 65120, \"gross\": 11520.0}, {\"imdb_id\": \"tt0119738\", \"words\": 58116, \"gross\": 11520.0}, {\"imdb_id\": \"tt0108399\", \"words\": 755514, \"gross\": 11475.0}, {\"imdb_id\": \"tt0104952\", \"words\": 53781, \"gross\": 11440.0}, {\"imdb_id\": \"tt0493464\", \"words\": 90570, \"gross\": 11410.0}, {\"imdb_id\": \"tt0286716\", \"words\": 45612, \"gross\": 11400.0}, {\"imdb_id\": \"tt0343818\", \"words\": 57456, \"gross\": 11368.0}, {\"imdb_id\": \"tt0118583\", \"words\": 61460, \"gross\": 11340.0}, {\"imdb_id\": \"tt0337741\", \"words\": 142362, \"gross\": 11340.0}, {\"imdb_id\": \"tt0844471\", \"words\": 80899, \"gross\": 11310.0}, {\"imdb_id\": \"tt1985966\", \"words\": 94512, \"gross\": 11264.0}, {\"imdb_id\": \"tt2226417\", \"words\": 83874, \"gross\": 11214.0}, {\"imdb_id\": \"tt0146336\", \"words\": 117280, \"gross\": 11200.0}, {\"imdb_id\": \"tt0086066\", \"words\": 121392, \"gross\": 11200.0}, {\"imdb_id\": \"tt0100477\", \"words\": 154784, \"gross\": 11172.0}, {\"imdb_id\": \"tt1929263\", \"words\": 139555, \"gross\": 11058.0}, {\"imdb_id\": \"tt0360486\", \"words\": 105456, \"gross\": 11016.0}, {\"imdb_id\": \"tt1276104\", \"words\": 257032, \"gross\": 10944.0}, {\"imdb_id\": \"tt1060277\", \"words\": 129523, \"gross\": 10944.0}, {\"imdb_id\": \"tt0983193\", \"words\": 88128, \"gross\": 10880.0}, {\"imdb_id\": \"tt1385826\", \"words\": 278720, \"gross\": 10880.0}, {\"imdb_id\": \"tt0109836\", \"words\": 130000, \"gross\": 10800.0}, {\"imdb_id\": \"tt0091306\", \"words\": 135020, \"gross\": 10800.0}, {\"imdb_id\": \"tt0825232\", \"words\": 144040, \"gross\": 10738.0}, {\"imdb_id\": \"tt0127536\", \"words\": 117495, \"gross\": 10725.0}, {\"imdb_id\": \"tt0416320\", \"words\": 448753, \"gross\": 10695.0}, {\"imdb_id\": \"tt0103919\", \"words\": 97650, \"gross\": 10692.0}, {\"imdb_id\": \"tt0117438\", \"words\": 31640, \"gross\": 10680.0}, {\"imdb_id\": \"tt0098987\", \"words\": 201674, \"gross\": 10648.0}, {\"imdb_id\": \"tt1272878\", \"words\": 185991, \"gross\": 10640.0}, {\"imdb_id\": \"tt1126591\", \"words\": 334590, \"gross\": 10621.0}, {\"imdb_id\": \"tt0379786\", \"words\": 684480, \"gross\": 10608.0}, {\"imdb_id\": \"tt0074812\", \"words\": 74581, \"gross\": 10608.0}, {\"imdb_id\": \"tt0800080\", \"words\": 51220, \"gross\": 10595.0}, {\"imdb_id\": \"tt2381111\", \"words\": 263004, \"gross\": 10571.0}, {\"imdb_id\": \"tt0086154\", \"words\": 140055, \"gross\": 10560.0}, {\"imdb_id\": \"tt0146882\", \"words\": 814960, \"gross\": 10560.0}, {\"imdb_id\": \"tt1657507\", \"words\": 175128, \"gross\": 10560.0}, {\"imdb_id\": \"tt1340800\", \"words\": 253638, \"gross\": 10530.0}, {\"imdb_id\": \"tt0758746\", \"words\": 56602, \"gross\": 10500.0}, {\"imdb_id\": \"tt0076729\", \"words\": 31899, \"gross\": 10395.0}, {\"imdb_id\": \"tt0455944\", \"words\": 64896, \"gross\": 10368.0}, {\"imdb_id\": \"tt0116282\", \"words\": 323664, \"gross\": 10368.0}, {\"imdb_id\": \"tt0061619\", \"words\": 228200, \"gross\": 10340.0}, {\"imdb_id\": \"tt0195714\", \"words\": 41625, \"gross\": 10320.0}, {\"imdb_id\": \"tt0106697\", \"words\": 76284, \"gross\": 10248.0}, {\"imdb_id\": \"tt0425112\", \"words\": 236800, \"gross\": 10150.0}, {\"imdb_id\": \"tt0944835\", \"words\": 74503, \"gross\": 10140.0}, {\"imdb_id\": \"tt1446192\", \"words\": 128535, \"gross\": 10080.0}, {\"imdb_id\": \"tt1623288\", \"words\": 192285, \"gross\": 10065.0}, {\"imdb_id\": \"tt0181984\", \"words\": 412703, \"gross\": 10044.0}, {\"imdb_id\": \"tt0091080\", \"words\": 92967, \"gross\": 10032.0}, {\"imdb_id\": \"tt0110632\", \"words\": 125016, \"gross\": 9984.0}, {\"imdb_id\": \"tt0093437\", \"words\": 104370, \"gross\": 9940.0}, {\"imdb_id\": \"tt0115798\", \"words\": 133434, \"gross\": 9912.0}, {\"imdb_id\": \"tt0220506\", \"words\": 89672, \"gross\": 9900.0}, {\"imdb_id\": \"tt0265349\", \"words\": 180766, \"gross\": 9880.0}, {\"imdb_id\": \"tt1392214\", \"words\": 123405, \"gross\": 9880.0}, {\"imdb_id\": \"tt0758774\", \"words\": 230874, \"gross\": 9870.0}, {\"imdb_id\": \"tt1321509\", \"words\": 281100, \"gross\": 9870.0}, {\"imdb_id\": \"tt0112857\", \"words\": 515704, \"gross\": 9856.0}, {\"imdb_id\": \"tt0253754\", \"words\": 143570, \"gross\": 9856.0}, {\"imdb_id\": \"tt0199725\", \"words\": 253260, \"gross\": 9856.0}, {\"imdb_id\": \"tt1226273\", \"words\": 222604, \"gross\": 9823.0}, {\"imdb_id\": \"tt1282140\", \"words\": 196945, \"gross\": 9792.0}, {\"imdb_id\": \"tt0174480\", \"words\": 229248, \"gross\": 9760.0}, {\"imdb_id\": \"tt0244244\", \"words\": 82160, \"gross\": 9737.0}, {\"imdb_id\": \"tt0183523\", \"words\": 92004, \"gross\": 9702.0}, {\"imdb_id\": \"tt0388125\", \"words\": 222640, \"gross\": 9680.0}, {\"imdb_id\": \"tt0929632\", \"words\": 411750, \"gross\": 9625.0}, {\"imdb_id\": \"tt0385880\", \"words\": 69344, \"gross\": 9603.0}, {\"imdb_id\": \"tt0090329\", \"words\": 52120, \"gross\": 9600.0}, {\"imdb_id\": \"tt0481499\", \"words\": 57152, \"gross\": 9600.0}, {\"imdb_id\": \"tt0301470\", \"words\": 83872, \"gross\": 9600.0}, {\"imdb_id\": \"tt0389722\", \"words\": 123408, \"gross\": 9600.0}, {\"imdb_id\": \"tt0454876\", \"words\": 78372, \"gross\": 9520.0}, {\"imdb_id\": \"tt1706593\", \"words\": 82042, \"gross\": 9520.0}, {\"imdb_id\": \"tt0379725\", \"words\": 528225, \"gross\": 9500.0}, {\"imdb_id\": \"tt0359950\", \"words\": 131325, \"gross\": 9486.0}, {\"imdb_id\": \"tt0139239\", \"words\": 311116, \"gross\": 9464.0}, {\"imdb_id\": \"tt1263670\", \"words\": 211134, \"gross\": 9450.0}, {\"imdb_id\": \"tt0164052\", \"words\": 165340, \"gross\": 9440.0}, {\"imdb_id\": \"tt1655420\", \"words\": 642096, \"gross\": 9408.0}, {\"imdb_id\": \"tt0107822\", \"words\": 130872, \"gross\": 9408.0}, {\"imdb_id\": \"tt0082340\", \"words\": 96750, \"gross\": 9360.0}, {\"imdb_id\": \"tt0120177\", \"words\": 71110, \"gross\": 9360.0}, {\"imdb_id\": \"tt0119229\", \"words\": 102464, \"gross\": 9328.0}, {\"imdb_id\": \"tt2562232\", \"words\": 223629, \"gross\": 9315.0}, {\"imdb_id\": \"tt0082846\", \"words\": 30310, \"gross\": 9300.0}, {\"imdb_id\": \"tt0307987\", \"words\": 105984, \"gross\": 9288.0}, {\"imdb_id\": \"tt0106677\", \"words\": 340476, \"gross\": 9248.0}, {\"imdb_id\": \"tt0387564\", \"words\": 284352, \"gross\": 9240.0}, {\"imdb_id\": \"tt1197624\", \"words\": 96024, \"gross\": 9180.0}, {\"imdb_id\": \"tt0118689\", \"words\": 108768, \"gross\": 9180.0}, {\"imdb_id\": \"tt0328107\", \"words\": 78216, \"gross\": 9156.0}, {\"imdb_id\": \"tt0114814\", \"words\": 209646, \"gross\": 9108.0}, {\"imdb_id\": \"tt0266697\", \"words\": 123740, \"gross\": 9090.0}, {\"imdb_id\": \"tt1979320\", \"words\": 243783, \"gross\": 9072.0}, {\"imdb_id\": \"tt0095253\", \"words\": 122746, \"gross\": 9048.0}, {\"imdb_id\": \"tt0162222\", \"words\": 31860, \"gross\": 9048.0}, {\"imdb_id\": \"tt0077651\", \"words\": 37869, \"gross\": 9048.0}, {\"imdb_id\": \"tt0289848\", \"words\": 209474, \"gross\": 8976.0}, {\"imdb_id\": \"tt1458175\", \"words\": 203760, \"gross\": 8970.0}, {\"imdb_id\": \"tt0101889\", \"words\": 101998, \"gross\": 8944.0}, {\"imdb_id\": \"tt0093779\", \"words\": 108927, \"gross\": 8840.0}, {\"imdb_id\": \"tt2039393\", \"words\": 259833, \"gross\": 8820.0}, {\"imdb_id\": \"tt0120603\", \"words\": 573594, \"gross\": 8820.0}, {\"imdb_id\": \"tt0089880\", \"words\": 13944, \"gross\": 8808.0}, {\"imdb_id\": \"tt0366551\", \"words\": 228536, \"gross\": 8800.0}, {\"imdb_id\": \"tt2980516\", \"words\": 121737, \"gross\": 8778.0}, {\"imdb_id\": \"tt0947798\", \"words\": 65865, \"gross\": 8775.0}, {\"imdb_id\": \"tt0114709\", \"words\": 80652, \"gross\": 8723.0}, {\"imdb_id\": \"tt1528100\", \"words\": 104937, \"gross\": 8694.0}, {\"imdb_id\": \"tt0386588\", \"words\": 54552, \"gross\": 8676.0}, {\"imdb_id\": \"tt0309698\", \"words\": 56810, \"gross\": 8658.0}, {\"imdb_id\": \"tt2784678\", \"words\": 313860, \"gross\": 8580.0}, {\"imdb_id\": \"tt0084726\", \"words\": 184484, \"gross\": 8568.0}, {\"imdb_id\": \"tt0386117\", \"words\": 67632, \"gross\": 8544.0}, {\"imdb_id\": \"tt0102685\", \"words\": 86912, \"gross\": 8544.0}, {\"imdb_id\": \"tt0098258\", \"words\": 173691, \"gross\": 8505.0}, {\"imdb_id\": \"tt0840361\", \"words\": 139510, \"gross\": 8484.0}, {\"imdb_id\": \"tt0289043\", \"words\": 64582, \"gross\": 8442.0}, {\"imdb_id\": \"tt0101669\", \"words\": 63240, \"gross\": 8424.0}, {\"imdb_id\": \"tt0417217\", \"words\": 430080, \"gross\": 8370.0}, {\"imdb_id\": \"tt0993842\", \"words\": 185858, \"gross\": 8360.0}, {\"imdb_id\": \"tt0085333\", \"words\": 85424, \"gross\": 8352.0}, {\"imdb_id\": \"tt0083972\", \"words\": 39845, \"gross\": 8346.0}, {\"imdb_id\": \"tt0102070\", \"words\": 183311, \"gross\": 8330.0}, {\"imdb_id\": \"tt0184858\", \"words\": 571900, \"gross\": 8325.0}, {\"imdb_id\": \"tt2431286\", \"words\": 211432, \"gross\": 8320.0}, {\"imdb_id\": \"tt0436697\", \"words\": 77798, \"gross\": 8288.0}, {\"imdb_id\": \"tt0095963\", \"words\": 120428, \"gross\": 8288.0}, {\"imdb_id\": \"tt0093300\", \"words\": 154170, \"gross\": 8280.0}, {\"imdb_id\": \"tt0117918\", \"words\": 141739, \"gross\": 8268.0}, {\"imdb_id\": \"tt1130080\", \"words\": 244344, \"gross\": 8208.0}, {\"imdb_id\": \"tt1067583\", \"words\": 265792, \"gross\": 8192.0}, {\"imdb_id\": \"tt0097981\", \"words\": 119578, \"gross\": 8160.0}, {\"imdb_id\": \"tt0094074\", \"words\": 152880, \"gross\": 8160.0}, {\"imdb_id\": \"tt0234215\", \"words\": 7710, \"gross\": 8100.0}, {\"imdb_id\": \"tt0115907\", \"words\": 225446, \"gross\": 8073.0}, {\"imdb_id\": \"tt0083967\", \"words\": 840128, \"gross\": 8064.0}, {\"imdb_id\": \"tt2473602\", \"words\": 238284, \"gross\": 8064.0}, {\"imdb_id\": \"tt0264796\", \"words\": 530000, \"gross\": 8050.0}, {\"imdb_id\": \"tt0084602\", \"words\": 170810, \"gross\": 8037.0}, {\"imdb_id\": \"tt1872194\", \"words\": 196700, \"gross\": 8000.0}, {\"imdb_id\": \"tt1007029\", \"words\": 174250, \"gross\": 8000.0}, {\"imdb_id\": \"tt1065073\", \"words\": 498168, \"gross\": 7992.0}, {\"imdb_id\": \"tt0120663\", \"words\": 40460, \"gross\": 7980.0}, {\"imdb_id\": \"tt1212450\", \"words\": 188640, \"gross\": 7920.0}, {\"imdb_id\": \"tt2404311\", \"words\": 222517, \"gross\": 7917.0}, {\"imdb_id\": \"tt0343737\", \"words\": 46490, \"gross\": 7900.0}, {\"imdb_id\": \"tt0118771\", \"words\": 58800, \"gross\": 7896.0}, {\"imdb_id\": \"tt0887883\", \"words\": 85956, \"gross\": 7884.0}, {\"imdb_id\": \"tt0091042\", \"words\": 47760, \"gross\": 7872.0}, {\"imdb_id\": \"tt0388795\", \"words\": 47908, \"gross\": 7840.0}, {\"imdb_id\": \"tt0206634\", \"words\": 129557, \"gross\": 7820.0}, {\"imdb_id\": \"tt0134273\", \"words\": 256424, \"gross\": 7812.0}, {\"imdb_id\": \"tt0179626\", \"words\": 157415, \"gross\": 7733.0}, {\"imdb_id\": \"tt0102789\", \"words\": 123196, \"gross\": 7695.0}, {\"imdb_id\": \"tt0085750\", \"words\": 62546, \"gross\": 7656.0}, {\"imdb_id\": \"tt0113627\", \"words\": 274176, \"gross\": 7616.0}, {\"imdb_id\": \"tt0407304\", \"words\": 13824, \"gross\": 7608.0}, {\"imdb_id\": \"tt0107362\", \"words\": 31020, \"gross\": 7560.0}, {\"imdb_id\": \"tt0107843\", \"words\": 85660, \"gross\": 7560.0}, {\"imdb_id\": \"tt0306685\", \"words\": 104650, \"gross\": 7546.0}, {\"imdb_id\": \"tt1013753\", \"words\": 191772, \"gross\": 7524.0}, {\"imdb_id\": \"tt1959490\", \"words\": 55970, \"gross\": 7490.0}, {\"imdb_id\": \"tt1124035\", \"words\": 180421, \"gross\": 7480.0}, {\"imdb_id\": \"tt0335245\", \"words\": 216240, \"gross\": 7480.0}, {\"imdb_id\": \"tt1179891\", \"words\": 88452, \"gross\": 7434.0}, {\"imdb_id\": \"tt0790686\", \"words\": 272720, \"gross\": 7400.0}, {\"imdb_id\": \"tt0133751\", \"words\": 59570, \"gross\": 7400.0}, {\"imdb_id\": \"tt0297884\", \"words\": 314784, \"gross\": 7360.0}, {\"imdb_id\": \"tt1340138\", \"words\": 118688, \"gross\": 7360.0}, {\"imdb_id\": \"tt0112571\", \"words\": 141184, \"gross\": 7360.0}, {\"imdb_id\": \"tt1663202\", \"words\": 42510, \"gross\": 7350.0}, {\"imdb_id\": \"tt0120744\", \"words\": 70960, \"gross\": 7350.0}, {\"imdb_id\": \"tt0787474\", \"words\": 88927, \"gross\": 7344.0}, {\"imdb_id\": \"tt0217869\", \"words\": 37384, \"gross\": 7344.0}, {\"imdb_id\": \"tt0102316\", \"words\": 176850, \"gross\": 7344.0}, {\"imdb_id\": \"tt1127180\", \"words\": 398276, \"gross\": 7344.0}, {\"imdb_id\": \"tt0247425\", \"words\": 221578, \"gross\": 7315.0}, {\"imdb_id\": \"tt0425210\", \"words\": 228186, \"gross\": 7308.0}, {\"imdb_id\": \"tt0240890\", \"words\": 140800, \"gross\": 7296.0}, {\"imdb_id\": \"tt1322269\", \"words\": 210070, \"gross\": 7280.0}, {\"imdb_id\": \"tt0411477\", \"words\": 98280, \"gross\": 7280.0}, {\"imdb_id\": \"tt0083833\", \"words\": 182908, \"gross\": 7216.0}, {\"imdb_id\": \"tt0093822\", \"words\": 111654, \"gross\": 7200.0}, {\"imdb_id\": \"tt0473075\", \"words\": 78612, \"gross\": 7200.0}, {\"imdb_id\": \"tt1038919\", \"words\": 93940, \"gross\": 7154.0}, {\"imdb_id\": \"tt0408236\", \"words\": 101220, \"gross\": 7128.0}, {\"imdb_id\": \"tt2713180\", \"words\": 88894, \"gross\": 7098.0}, {\"imdb_id\": \"tt0107688\", \"words\": 30105, \"gross\": 7065.0}, {\"imdb_id\": \"tt0105665\", \"words\": 384510, \"gross\": 7056.0}, {\"imdb_id\": \"tt0163978\", \"words\": 118899, \"gross\": 7040.0}, {\"imdb_id\": \"tt0294870\", \"words\": 170180, \"gross\": 7020.0}, {\"imdb_id\": \"tt0244000\", \"words\": 303534, \"gross\": 7020.0}, {\"imdb_id\": \"tt0120157\", \"words\": 218400, \"gross\": 7020.0}, {\"imdb_id\": \"tt0985694\", \"words\": 96866, \"gross\": 7018.0}, {\"imdb_id\": \"tt1412386\", \"words\": 240120, \"gross\": 7000.0}, {\"imdb_id\": \"tt0099739\", \"words\": 52152, \"gross\": 6984.0}, {\"imdb_id\": \"tt0258000\", \"words\": 30730, \"gross\": 6958.0}, {\"imdb_id\": \"tt1046947\", \"words\": 350976, \"gross\": 6912.0}, {\"imdb_id\": \"tt2170593\", \"words\": 118150, \"gross\": 6900.0}, {\"imdb_id\": \"tt0429493\", \"words\": 68229, \"gross\": 6885.0}, {\"imdb_id\": \"tt1038686\", \"words\": 135694, \"gross\": 6864.0}, {\"imdb_id\": \"tt0109707\", \"words\": 551646, \"gross\": 6840.0}, {\"imdb_id\": \"tt0103939\", \"words\": 206070, \"gross\": 6840.0}, {\"imdb_id\": \"tt0765010\", \"words\": 146047, \"gross\": 6732.0}, {\"imdb_id\": \"tt0120834\", \"words\": 204240, \"gross\": 6720.0}, {\"imdb_id\": \"tt0119349\", \"words\": 597180, \"gross\": 6720.0}, {\"imdb_id\": \"tt1817273\", \"words\": 274369, \"gross\": 6670.0}, {\"imdb_id\": \"tt1939659\", \"words\": 133700, \"gross\": 6660.0}, {\"imdb_id\": \"tt0285742\", \"words\": 78844, \"gross\": 6624.0}, {\"imdb_id\": \"tt0118715\", \"words\": 240741, \"gross\": 6624.0}, {\"imdb_id\": \"tt0120773\", \"words\": 262845, \"gross\": 6615.0}, {\"imdb_id\": \"tt0101698\", \"words\": 302300, \"gross\": 6600.0}, {\"imdb_id\": \"tt0100403\", \"words\": 58435, \"gross\": 6552.0}, {\"imdb_id\": \"tt1385867\", \"words\": 175997, \"gross\": 6517.0}, {\"imdb_id\": \"tt0186589\", \"words\": 348030, \"gross\": 6480.0}, {\"imdb_id\": \"tt0117057\", \"words\": 130220, \"gross\": 6480.0}, {\"imdb_id\": \"tt0099703\", \"words\": 346200, \"gross\": 6480.0}, {\"imdb_id\": \"tt0476964\", \"words\": 127428, \"gross\": 6440.0}, {\"imdb_id\": \"tt0116908\", \"words\": 66737, \"gross\": 6435.0}, {\"imdb_id\": \"tt1430132\", \"words\": 46395, \"gross\": 6390.0}, {\"imdb_id\": \"tt0132512\", \"words\": 456330, \"gross\": 6384.0}, {\"imdb_id\": \"tt0800039\", \"words\": 113218, \"gross\": 6384.0}, {\"imdb_id\": \"tt0371246\", \"words\": 165990, \"gross\": 6380.0}, {\"imdb_id\": \"tt3397884\", \"words\": 131318, \"gross\": 6336.0}, {\"imdb_id\": \"tt0160484\", \"words\": 160966, \"gross\": 6318.0}, {\"imdb_id\": \"tt0110737\", \"words\": 160986, \"gross\": 6314.0}, {\"imdb_id\": \"tt1125849\", \"words\": 285012, \"gross\": 6293.0}, {\"imdb_id\": \"tt0488120\", \"words\": 379104, \"gross\": 6272.0}, {\"imdb_id\": \"tt0890870\", \"words\": 51428, \"gross\": 6240.0}, {\"imdb_id\": \"tt1243957\", \"words\": 50076, \"gross\": 6216.0}, {\"imdb_id\": \"tt0101635\", \"words\": 150135, \"gross\": 6210.0}, {\"imdb_id\": \"tt1210042\", \"words\": 152925, \"gross\": 6200.0}, {\"imdb_id\": \"tt0116191\", \"words\": 188144, \"gross\": 6192.0}, {\"imdb_id\": \"tt0225071\", \"words\": 329766, \"gross\": 6120.0}, {\"imdb_id\": \"tt0101917\", \"words\": 45832, \"gross\": 6120.0}, {\"imdb_id\": \"tt0453556\", \"words\": 84210, \"gross\": 6120.0}, {\"imdb_id\": \"tt1022603\", \"words\": 272880, \"gross\": 6105.0}, {\"imdb_id\": \"tt1781769\", \"words\": 382176, \"gross\": 6084.0}, {\"imdb_id\": \"tt1306980\", \"words\": 156520, \"gross\": 6080.0}, {\"imdb_id\": \"tt0372532\", \"words\": 156480, \"gross\": 6048.0}, {\"imdb_id\": \"tt0268695\", \"words\": 62991, \"gross\": 6048.0}, {\"imdb_id\": \"tt0139414\", \"words\": 198548, \"gross\": 6048.0}, {\"imdb_id\": \"tt0120804\", \"words\": 68068, \"gross\": 6018.0}, {\"imdb_id\": \"tt0138524\", \"words\": 95376, \"gross\": 6000.0}, {\"imdb_id\": \"tt0144084\", \"words\": 412550, \"gross\": 6000.0}, {\"imdb_id\": \"tt0100814\", \"words\": 248320, \"gross\": 5984.0}, {\"imdb_id\": \"tt0166924\", \"words\": 456756, \"gross\": 5984.0}, {\"imdb_id\": \"tt1855325\", \"words\": 59735, \"gross\": 5980.0}, {\"imdb_id\": \"tt1632708\", \"words\": 109018, \"gross\": 5978.0}, {\"imdb_id\": \"tt0120696\", \"words\": 118320, \"gross\": 5940.0}, {\"imdb_id\": \"tt0454841\", \"words\": 106740, \"gross\": 5940.0}, {\"imdb_id\": \"tt0094631\", \"words\": 79604, \"gross\": 5936.0}, {\"imdb_id\": \"tt1980209\", \"words\": 74522, \"gross\": 5936.0}, {\"imdb_id\": \"tt1411238\", \"words\": 161249, \"gross\": 5929.0}, {\"imdb_id\": \"tt0092654\", \"words\": 99468, \"gross\": 5904.0}, {\"imdb_id\": \"tt0758752\", \"words\": 164031, \"gross\": 5880.0}, {\"imdb_id\": \"tt0139134\", \"words\": 202720, \"gross\": 5850.0}, {\"imdb_id\": \"tt0114084\", \"words\": 284576, \"gross\": 5824.0}, {\"imdb_id\": \"tt0489099\", \"words\": 88450, \"gross\": 5820.0}, {\"imdb_id\": \"tt0094008\", \"words\": 327648, \"gross\": 5808.0}, {\"imdb_id\": \"tt1057500\", \"words\": 105138, \"gross\": 5805.0}, {\"imdb_id\": \"tt0758758\", \"words\": 361620, \"gross\": 5796.0}, {\"imdb_id\": \"tt0185937\", \"words\": 56136, \"gross\": 5784.0}, {\"imdb_id\": \"tt0267891\", \"words\": 66450, \"gross\": 5760.0}, {\"imdb_id\": \"tt0104850\", \"words\": 140512, \"gross\": 5760.0}, {\"imdb_id\": \"tt0104549\", \"words\": 523200, \"gross\": 5750.0}, {\"imdb_id\": \"tt1092026\", \"words\": 233716, \"gross\": 5740.0}, {\"imdb_id\": \"tt0119643\", \"words\": 280600, \"gross\": 5740.0}, {\"imdb_id\": \"tt1336608\", \"words\": 62424, \"gross\": 5712.0}, {\"imdb_id\": \"tt0091867\", \"words\": 152796, \"gross\": 5712.0}, {\"imdb_id\": \"tt0112579\", \"words\": 43064, \"gross\": 5680.0}, {\"imdb_id\": \"tt0433383\", \"words\": 111705, \"gross\": 5670.0}, {\"imdb_id\": \"tt0151804\", \"words\": 356328, \"gross\": 5670.0}, {\"imdb_id\": \"tt0162346\", \"words\": 1029118, \"gross\": 5661.0}, {\"imdb_id\": \"tt0258153\", \"words\": 735258, \"gross\": 5642.0}, {\"imdb_id\": \"tt0373883\", \"words\": 48950, \"gross\": 5621.0}, {\"imdb_id\": \"tt0443543\", \"words\": 132156, \"gross\": 5616.0}, {\"imdb_id\": \"tt0116654\", \"words\": 64389, \"gross\": 5616.0}, {\"imdb_id\": \"tt0362270\", \"words\": 226219, \"gross\": 5610.0}, {\"imdb_id\": \"tt0427152\", \"words\": 103572, \"gross\": 5600.0}, {\"imdb_id\": \"tt0421073\", \"words\": 162576, \"gross\": 5580.0}, {\"imdb_id\": \"tt0093773\", \"words\": 16494, \"gross\": 5544.0}, {\"imdb_id\": \"tt0163988\", \"words\": 135180, \"gross\": 5544.0}, {\"imdb_id\": \"tt1186367\", \"words\": 124920, \"gross\": 5544.0}, {\"imdb_id\": \"tt0414982\", \"words\": 78910, \"gross\": 5538.0}, {\"imdb_id\": \"tt0078788\", \"words\": 468924, \"gross\": 5520.0}, {\"imdb_id\": \"tt0211915\", \"words\": 53232, \"gross\": 5508.0}, {\"imdb_id\": \"tt0327597\", \"words\": 46269, \"gross\": 5481.0}, {\"imdb_id\": \"tt0110097\", \"words\": 653172, \"gross\": 5460.0}, {\"imdb_id\": \"tt0113690\", \"words\": 212982, \"gross\": 5460.0}, {\"imdb_id\": \"tt1663662\", \"words\": 62330, \"gross\": 5450.0}, {\"imdb_id\": \"tt0471042\", \"words\": 50536, \"gross\": 5440.0}, {\"imdb_id\": \"tt0116365\", \"words\": 63546, \"gross\": 5440.0}, {\"imdb_id\": \"tt0084827\", \"words\": 27312, \"gross\": 5432.0}, {\"imdb_id\": \"tt0120791\", \"words\": 31464, \"gross\": 5418.0}, {\"imdb_id\": \"tt0116225\", \"words\": 47542, \"gross\": 5390.0}, {\"imdb_id\": \"tt0351977\", \"words\": 34296, \"gross\": 5376.0}, {\"imdb_id\": \"tt0348836\", \"words\": 110772, \"gross\": 5355.0}, {\"imdb_id\": \"tt0113189\", \"words\": 15010, \"gross\": 5350.0}, {\"imdb_id\": \"tt1486185\", \"words\": 179335, \"gross\": 5330.0}, {\"imdb_id\": \"tt0230600\", \"words\": 56538, \"gross\": 5328.0}, {\"imdb_id\": \"tt0095271\", \"words\": 53152, \"gross\": 5328.0}, {\"imdb_id\": \"tt0115644\", \"words\": 63024, \"gross\": 5328.0}, {\"imdb_id\": \"tt0100157\", \"words\": 69608, \"gross\": 5292.0}, {\"imdb_id\": \"tt0421054\", \"words\": 265582, \"gross\": 5278.0}, {\"imdb_id\": \"tt0090305\", \"words\": 108525, \"gross\": 5265.0}, {\"imdb_id\": \"tt1259521\", \"words\": 91039, \"gross\": 5265.0}, {\"imdb_id\": \"tt0469494\", \"words\": 112155, \"gross\": 5250.0}, {\"imdb_id\": \"tt0088847\", \"words\": 143104, \"gross\": 5208.0}, {\"imdb_id\": \"tt0218817\", \"words\": 461350, \"gross\": 5200.0}, {\"imdb_id\": \"tt0191754\", \"words\": 26444, \"gross\": 5192.0}, {\"imdb_id\": \"tt1058017\", \"words\": 153178, \"gross\": 5187.0}, {\"imdb_id\": \"tt0107497\", \"words\": 71271, \"gross\": 5184.0}, {\"imdb_id\": \"tt0463854\", \"words\": 55980, \"gross\": 5184.0}, {\"imdb_id\": \"tt0052311\", \"words\": 121176, \"gross\": 5168.0}, {\"imdb_id\": \"tt1059786\", \"words\": 38717, \"gross\": 5124.0}, {\"imdb_id\": \"tt0340163\", \"words\": 68156, \"gross\": 5060.0}, {\"imdb_id\": \"tt0088814\", \"words\": 58047, \"gross\": 5049.0}, {\"imdb_id\": \"tt0100507\", \"words\": 29496, \"gross\": 5040.0}, {\"imdb_id\": \"tt0399146\", \"words\": 121755, \"gross\": 5040.0}, {\"imdb_id\": \"tt2561572\", \"words\": 82323, \"gross\": 5022.0}, {\"imdb_id\": \"tt1855199\", \"words\": 137845, \"gross\": 5016.0}, {\"imdb_id\": \"tt1826590\", \"words\": 163758, \"gross\": 4998.0}, {\"imdb_id\": \"tt0114857\", \"words\": 84799, \"gross\": 4992.0}, {\"imdb_id\": \"tt0120004\", \"words\": 163254, \"gross\": 4992.0}, {\"imdb_id\": \"tt0383010\", \"words\": 73242, \"gross\": 4992.0}, {\"imdb_id\": \"tt0158983\", \"words\": 36416, \"gross\": 4984.0}, {\"imdb_id\": \"tt0183649\", \"words\": 140526, \"gross\": 4968.0}, {\"imdb_id\": \"tt0109456\", \"words\": 169697, \"gross\": 4961.0}, {\"imdb_id\": \"tt0101694\", \"words\": 79324, \"gross\": 4956.0}, {\"imdb_id\": \"tt1591095\", \"words\": 92520, \"gross\": 4956.0}, {\"imdb_id\": \"tt0120601\", \"words\": 141624, \"gross\": 4914.0}, {\"imdb_id\": \"tt0087800\", \"words\": 45837, \"gross\": 4896.0}, {\"imdb_id\": \"tt0959337\", \"words\": 340272, \"gross\": 4860.0}, {\"imdb_id\": \"tt0122690\", \"words\": 62703, \"gross\": 4851.0}, {\"imdb_id\": \"tt0875034\", \"words\": 161876, \"gross\": 4840.0}, {\"imdb_id\": \"tt0110955\", \"words\": 221445, \"gross\": 4830.0}, {\"imdb_id\": \"tt0099141\", \"words\": 27599, \"gross\": 4818.0}, {\"imdb_id\": \"tt0116409\", \"words\": 80832, \"gross\": 4800.0}, {\"imdb_id\": \"tt0097027\", \"words\": 124470, \"gross\": 4800.0}, {\"imdb_id\": \"tt1972571\", \"words\": 170373, \"gross\": 4788.0}, {\"imdb_id\": \"tt2980648\", \"words\": 68772, \"gross\": 4788.0}, {\"imdb_id\": \"tt0387877\", \"words\": 112290, \"gross\": 4785.0}, {\"imdb_id\": \"tt1411250\", \"words\": 59448, \"gross\": 4752.0}, {\"imdb_id\": \"tt0481369\", \"words\": 79392, \"gross\": 4752.0}, {\"imdb_id\": \"tt0096933\", \"words\": 33774, \"gross\": 4752.0}, {\"imdb_id\": \"tt0088846\", \"words\": 123084, \"gross\": 4752.0}, {\"imdb_id\": \"tt0185014\", \"words\": 378216, \"gross\": 4743.0}, {\"imdb_id\": \"tt0462322\", \"words\": 101167, \"gross\": 4743.0}, {\"imdb_id\": \"tt0367959\", \"words\": 71226, \"gross\": 4725.0}, {\"imdb_id\": \"tt0115963\", \"words\": 57484, \"gross\": 4704.0}, {\"imdb_id\": \"tt0113552\", \"words\": 112878, \"gross\": 4698.0}, {\"imdb_id\": \"tt1226229\", \"words\": 168014, \"gross\": 4690.0}, {\"imdb_id\": \"tt0332379\", \"words\": 27744, \"gross\": 4680.0}, {\"imdb_id\": \"tt0498399\", \"words\": 93652, \"gross\": 4680.0}, {\"imdb_id\": \"tt1265990\", \"words\": 182039, \"gross\": 4680.0}, {\"imdb_id\": \"tt0414055\", \"words\": 131688, \"gross\": 4680.0}, {\"imdb_id\": \"tt0790636\", \"words\": 148166, \"gross\": 4669.0}, {\"imdb_id\": \"tt0311289\", \"words\": 52896, \"gross\": 4656.0}, {\"imdb_id\": \"tt0118617\", \"words\": 25221, \"gross\": 4620.0}, {\"imdb_id\": \"tt0117951\", \"words\": 181792, \"gross\": 4608.0}, {\"imdb_id\": \"tt0106873\", \"words\": 472416, \"gross\": 4608.0}, {\"imdb_id\": \"tt0245674\", \"words\": 58545, \"gross\": 4608.0}, {\"imdb_id\": \"tt0829150\", \"words\": 59748, \"gross\": 4602.0}, {\"imdb_id\": \"tt1637688\", \"words\": 80864, \"gross\": 4592.0}, {\"imdb_id\": \"tt1659337\", \"words\": 199100, \"gross\": 4560.0}, {\"imdb_id\": \"tt0233469\", \"words\": 41558, \"gross\": 4543.0}, {\"imdb_id\": \"tt0097322\", \"words\": 189252, \"gross\": 4536.0}, {\"imdb_id\": \"tt1279935\", \"words\": 97391, \"gross\": 4536.0}, {\"imdb_id\": \"tt0963966\", \"words\": 91494, \"gross\": 4485.0}, {\"imdb_id\": \"tt0839980\", \"words\": 122584, \"gross\": 4480.0}, {\"imdb_id\": \"tt0094602\", \"words\": 106736, \"gross\": 4480.0}, {\"imdb_id\": \"tt0479968\", \"words\": 82300, \"gross\": 4480.0}, {\"imdb_id\": \"tt1488555\", \"words\": 258622, \"gross\": 4480.0}, {\"imdb_id\": \"tt0097388\", \"words\": 66944, \"gross\": 4464.0}, {\"imdb_id\": \"tt0120669\", \"words\": 622336, \"gross\": 4446.0}, {\"imdb_id\": \"tt0098524\", \"words\": 280436, \"gross\": 4446.0}, {\"imdb_id\": \"tt0142192\", \"words\": 135698, \"gross\": 4446.0}, {\"imdb_id\": \"tt0118900\", \"words\": 839752, \"gross\": 4440.0}, {\"imdb_id\": \"tt0111686\", \"words\": 89400, \"gross\": 4440.0}, {\"imdb_id\": \"tt1198138\", \"words\": 88284, \"gross\": 4424.0}, {\"imdb_id\": \"tt1764651\", \"words\": 32592, \"gross\": 4416.0}, {\"imdb_id\": \"tt0378194\", \"words\": 61648, \"gross\": 4416.0}, {\"imdb_id\": \"tt1528854\", \"words\": 90150, \"gross\": 4410.0}, {\"imdb_id\": \"tt0088206\", \"words\": 153552, \"gross\": 4410.0}, {\"imdb_id\": \"tt0266465\", \"words\": 101779, \"gross\": 4403.0}, {\"imdb_id\": \"tt0119081\", \"words\": 192478, \"gross\": 4400.0}, {\"imdb_id\": \"tt1454468\", \"words\": 28345, \"gross\": 4395.0}, {\"imdb_id\": \"tt0087843\", \"words\": 184380, \"gross\": 4368.0}, {\"imdb_id\": \"tt0450385\", \"words\": 39876, \"gross\": 4368.0}, {\"imdb_id\": \"tt0109348\", \"words\": 85088, \"gross\": 4320.0}, {\"imdb_id\": \"tt0465580\", \"words\": 70215, \"gross\": 4320.0}, {\"imdb_id\": \"tt1790864\", \"words\": 48984, \"gross\": 4320.0}, {\"imdb_id\": \"tt0862846\", \"words\": 440328, \"gross\": 4312.0}, {\"imdb_id\": \"tt0815236\", \"words\": 125720, \"gross\": 4284.0}, {\"imdb_id\": \"tt0105699\", \"words\": 47502, \"gross\": 4284.0}, {\"imdb_id\": \"tt0403702\", \"words\": 594936, \"gross\": 4284.0}, {\"imdb_id\": \"tt0104073\", \"words\": 71316, \"gross\": 4284.0}, {\"imdb_id\": \"tt0120184\", \"words\": 220104, \"gross\": 4284.0}, {\"imdb_id\": \"tt0149624\", \"words\": 214574, \"gross\": 4250.0}, {\"imdb_id\": \"tt0486822\", \"words\": 44429, \"gross\": 4242.0}, {\"imdb_id\": \"tt1231587\", \"words\": 133023, \"gross\": 4235.0}, {\"imdb_id\": \"tt0399295\", \"words\": 397584, \"gross\": 4224.0}, {\"imdb_id\": \"tt0106387\", \"words\": 97438, \"gross\": 4224.0}, {\"imdb_id\": \"tt1175491\", \"words\": 104412, \"gross\": 4200.0}, {\"imdb_id\": \"tt0107665\", \"words\": 47415, \"gross\": 4185.0}, {\"imdb_id\": \"tt0107254\", \"words\": 45288, \"gross\": 4158.0}, {\"imdb_id\": \"tt1234548\", \"words\": 131418, \"gross\": 4144.0}, {\"imdb_id\": \"tt0185371\", \"words\": 67790, \"gross\": 4140.0}, {\"imdb_id\": \"tt0106664\", \"words\": 208357, \"gross\": 4140.0}, {\"imdb_id\": \"tt0219653\", \"words\": 48490, \"gross\": 4134.0}, {\"imdb_id\": \"tt0450259\", \"words\": 46062, \"gross\": 4104.0}, {\"imdb_id\": \"tt0264395\", \"words\": 174408, \"gross\": 4104.0}, {\"imdb_id\": \"tt0432283\", \"words\": 233605, \"gross\": 4104.0}, {\"imdb_id\": \"tt0142688\", \"words\": 95536, \"gross\": 4096.0}, {\"imdb_id\": \"tt0116367\", \"words\": 330140, \"gross\": 4080.0}, {\"imdb_id\": \"tt0272020\", \"words\": 132420, \"gross\": 4050.0}, {\"imdb_id\": \"tt0128442\", \"words\": 69072, \"gross\": 4032.0}, {\"imdb_id\": \"tt0165710\", \"words\": 685760, \"gross\": 4032.0}, {\"imdb_id\": \"tt0271367\", \"words\": 174432, \"gross\": 4000.0}, {\"imdb_id\": \"tt0088172\", \"words\": 53919, \"gross\": 3996.0}, {\"imdb_id\": \"tt0134847\", \"words\": 118620, \"gross\": 3969.0}, {\"imdb_id\": \"tt1091722\", \"words\": 183326, \"gross\": 3960.0}, {\"imdb_id\": \"tt0119008\", \"words\": 105680, \"gross\": 3950.0}, {\"imdb_id\": \"tt0211443\", \"words\": 96807, \"gross\": 3933.0}, {\"imdb_id\": \"tt0467197\", \"words\": 48608, \"gross\": 3920.0}, {\"imdb_id\": \"tt0114558\", \"words\": 597052, \"gross\": 3915.0}, {\"imdb_id\": \"tt0098625\", \"words\": 161092, \"gross\": 3910.0}, {\"imdb_id\": \"tt0498380\", \"words\": 203856, \"gross\": 3906.0}, {\"imdb_id\": \"tt0113243\", \"words\": 293852, \"gross\": 3900.0}, {\"imdb_id\": \"tt1876451\", \"words\": 138015, \"gross\": 3900.0}, {\"imdb_id\": \"tt1821549\", \"words\": 193176, \"gross\": 3888.0}, {\"imdb_id\": \"tt1798709\", \"words\": 159824, \"gross\": 3888.0}, {\"imdb_id\": \"tt0108149\", \"words\": 465911, \"gross\": 3887.0}, {\"imdb_id\": \"tt0115857\", \"words\": 78128, \"gross\": 3840.0}, {\"imdb_id\": \"tt0892318\", \"words\": 101266, \"gross\": 3828.0}, {\"imdb_id\": \"tt0102411\", \"words\": 250444, \"gross\": 3825.0}, {\"imdb_id\": \"tt0457430\", \"words\": 50115, \"gross\": 3822.0}, {\"imdb_id\": \"tt1791528\", \"words\": 419244, \"gross\": 3808.0}, {\"imdb_id\": \"tt0097474\", \"words\": 48013, \"gross\": 3800.0}, {\"imdb_id\": \"tt0318155\", \"words\": 104976, \"gross\": 3780.0}, {\"imdb_id\": \"tt0116830\", \"words\": 79836, \"gross\": 3780.0}, {\"imdb_id\": \"tt0119664\", \"words\": 71820, \"gross\": 3780.0}, {\"imdb_id\": \"tt0093209\", \"words\": 134672, \"gross\": 3762.0}, {\"imdb_id\": \"tt0119675\", \"words\": 61854, \"gross\": 3744.0}, {\"imdb_id\": \"tt1212436\", \"words\": 142597, \"gross\": 3731.0}, {\"imdb_id\": \"tt0120053\", \"words\": 30792, \"gross\": 3712.0}, {\"imdb_id\": \"tt0103594\", \"words\": 151240, \"gross\": 3705.0}, {\"imdb_id\": \"tt0285531\", \"words\": 41943, \"gross\": 3696.0}, {\"imdb_id\": \"tt0859163\", \"words\": 40170, \"gross\": 3690.0}, {\"imdb_id\": \"tt1935179\", \"words\": 318160, \"gross\": 3680.0}, {\"imdb_id\": \"tt0094761\", \"words\": 88512, \"gross\": 3672.0}, {\"imdb_id\": \"tt0366548\", \"words\": 20293, \"gross\": 3668.0}, {\"imdb_id\": \"tt1197628\", \"words\": 493890, \"gross\": 3645.0}, {\"imdb_id\": \"tt0418819\", \"words\": 108405, \"gross\": 3645.0}, {\"imdb_id\": \"tt1291584\", \"words\": 193864, \"gross\": 3630.0}, {\"imdb_id\": \"tt0338013\", \"words\": 239536, \"gross\": 3619.0}, {\"imdb_id\": \"tt0090756\", \"words\": 352152, \"gross\": 3600.0}, {\"imdb_id\": \"tt0945513\", \"words\": 164520, \"gross\": 3600.0}, {\"imdb_id\": \"tt1424381\", \"words\": 22788, \"gross\": 3591.0}, {\"imdb_id\": \"tt0119099\", \"words\": 72436, \"gross\": 3588.0}, {\"imdb_id\": \"tt1229822\", \"words\": 372255, \"gross\": 3588.0}, {\"imdb_id\": \"tt0289992\", \"words\": 90288, \"gross\": 3584.0}, {\"imdb_id\": \"tt0433362\", \"words\": 66840, \"gross\": 3570.0}, {\"imdb_id\": \"tt3850214\", \"words\": 88660, \"gross\": 3564.0}, {\"imdb_id\": \"tt2883512\", \"words\": 103416, \"gross\": 3564.0}, {\"imdb_id\": \"tt2199571\", \"words\": 137060, \"gross\": 3564.0}, {\"imdb_id\": \"tt0962736\", \"words\": 244461, \"gross\": 3528.0}, {\"imdb_id\": \"tt0478087\", \"words\": 59985, \"gross\": 3528.0}, {\"imdb_id\": \"tt0091474\", \"words\": 152656, \"gross\": 3520.0}, {\"imdb_id\": \"tt0309377\", \"words\": 37116, \"gross\": 3510.0}, {\"imdb_id\": \"tt0113253\", \"words\": 56420, \"gross\": 3510.0}, {\"imdb_id\": \"tt0462200\", \"words\": 558308, \"gross\": 3480.0}, {\"imdb_id\": \"tt0137523\", \"words\": 113982, \"gross\": 3465.0}, {\"imdb_id\": \"tt0268126\", \"words\": 145200, \"gross\": 3465.0}, {\"imdb_id\": \"tt0230838\", \"words\": 114530, \"gross\": 3458.0}, {\"imdb_id\": \"tt0163579\", \"words\": 230204, \"gross\": 3458.0}, {\"imdb_id\": \"tt0114852\", \"words\": 89528, \"gross\": 3420.0}, {\"imdb_id\": \"tt0947810\", \"words\": 84060, \"gross\": 3420.0}, {\"imdb_id\": \"tt0384537\", \"words\": 38225, \"gross\": 3410.0}, {\"imdb_id\": \"tt1220198\", \"words\": 85904, \"gross\": 3393.0}, {\"imdb_id\": \"tt0104040\", \"words\": 68328, \"gross\": 3380.0}, {\"imdb_id\": \"tt0120735\", \"words\": 529782, \"gross\": 3366.0}, {\"imdb_id\": \"tt1129445\", \"words\": 612066, \"gross\": 3360.0}, {\"imdb_id\": \"tt0109642\", \"words\": 81740, \"gross\": 3360.0}, {\"imdb_id\": \"tt0120586\", \"words\": 153920, \"gross\": 3360.0}, {\"imdb_id\": \"tt2172934\", \"words\": 208635, \"gross\": 3360.0}, {\"imdb_id\": \"tt1764183\", \"words\": 328524, \"gross\": 3360.0}, {\"imdb_id\": \"tt0307901\", \"words\": 149520, \"gross\": 3344.0}, {\"imdb_id\": \"tt2402157\", \"words\": 85056, \"gross\": 3328.0}, {\"imdb_id\": \"tt0478134\", \"words\": 204386, \"gross\": 3328.0}, {\"imdb_id\": \"tt0126886\", \"words\": 443004, \"gross\": 3325.0}, {\"imdb_id\": \"tt0330793\", \"words\": 19992, \"gross\": 3290.0}, {\"imdb_id\": \"tt1300851\", \"words\": 197208, \"gross\": 3267.0}, {\"imdb_id\": \"tt2377322\", \"words\": 110075, \"gross\": 3264.0}, {\"imdb_id\": \"tt0118636\", \"words\": 477258, \"gross\": 3264.0}, {\"imdb_id\": \"tt0251736\", \"words\": 125805, \"gross\": 3240.0}, {\"imdb_id\": \"tt0480249\", \"words\": 21650, \"gross\": 3230.0}, {\"imdb_id\": \"tt0455407\", \"words\": 51660, \"gross\": 3225.0}, {\"imdb_id\": \"tt0093777\", \"words\": 72462, \"gross\": 3224.0}, {\"imdb_id\": \"tt0209144\", \"words\": 261248, \"gross\": 3198.0}, {\"imdb_id\": \"tt0137363\", \"words\": 124072, \"gross\": 3198.0}, {\"imdb_id\": \"tt0780504\", \"words\": 63300, \"gross\": 3192.0}, {\"imdb_id\": \"tt0114478\", \"words\": 261036, \"gross\": 3168.0}, {\"imdb_id\": \"tt1655460\", \"words\": 205040, \"gross\": 3168.0}, {\"imdb_id\": \"tt0091203\", \"words\": 127622, \"gross\": 3146.0}, {\"imdb_id\": \"tt0119051\", \"words\": 83484, \"gross\": 3120.0}, {\"imdb_id\": \"tt0483607\", \"words\": 148840, \"gross\": 3120.0}, {\"imdb_id\": \"tt0107507\", \"words\": 331155, \"gross\": 3105.0}, {\"imdb_id\": \"tt0115641\", \"words\": 15640, \"gross\": 3100.0}, {\"imdb_id\": \"tt0185183\", \"words\": 73008, \"gross\": 3094.0}, {\"imdb_id\": \"tt1967545\", \"words\": 162780, \"gross\": 3080.0}, {\"imdb_id\": \"tt0118842\", \"words\": 566280, \"gross\": 3080.0}, {\"imdb_id\": \"tt3316948\", \"words\": 180246, \"gross\": 3080.0}, {\"imdb_id\": \"tt2193215\", \"words\": 59489, \"gross\": 3078.0}, {\"imdb_id\": \"tt0335266\", \"words\": 45720, \"gross\": 3072.0}, {\"imdb_id\": \"tt0120694\", \"words\": 16182, \"gross\": 3060.0}, {\"imdb_id\": \"tt0097737\", \"words\": 48420, \"gross\": 3060.0}, {\"imdb_id\": \"tt0317248\", \"words\": 165125, \"gross\": 3025.0}, {\"imdb_id\": \"tt1148204\", \"words\": 96588, \"gross\": 3024.0}, {\"imdb_id\": \"tt1670345\", \"words\": 40440, \"gross\": 3024.0}, {\"imdb_id\": \"tt0164181\", \"words\": 95652, \"gross\": 3024.0}, {\"imdb_id\": \"tt0780571\", \"words\": 82908, \"gross\": 3024.0}, {\"imdb_id\": \"tt1341188\", \"words\": 153075, \"gross\": 3003.0}, {\"imdb_id\": \"tt1430607\", \"words\": 37800, \"gross\": 3000.0}, {\"imdb_id\": \"tt0105414\", \"words\": 50832, \"gross\": 3000.0}, {\"imdb_id\": \"tt0086510\", \"words\": 315612, \"gross\": 2970.0}, {\"imdb_id\": \"tt1034032\", \"words\": 35552, \"gross\": 2944.0}, {\"imdb_id\": \"tt0419706\", \"words\": 69718, \"gross\": 2926.0}, {\"imdb_id\": \"tt0089686\", \"words\": 27870, \"gross\": 2920.0}, {\"imdb_id\": \"tt2120120\", \"words\": 15660, \"gross\": 2916.0}, {\"imdb_id\": \"tt0420223\", \"words\": 80300, \"gross\": 2915.0}, {\"imdb_id\": \"tt0497465\", \"words\": 177099, \"gross\": 2912.0}, {\"imdb_id\": \"tt0101545\", \"words\": 144242, \"gross\": 2898.0}, {\"imdb_id\": \"tt0095497\", \"words\": 122570, \"gross\": 2890.0}, {\"imdb_id\": \"tt2872718\", \"words\": 152507, \"gross\": 2890.0}, {\"imdb_id\": \"tt0113101\", \"words\": 524200, \"gross\": 2880.0}, {\"imdb_id\": \"tt1931533\", \"words\": 199440, \"gross\": 2880.0}, {\"imdb_id\": \"tt0467200\", \"words\": 70790, \"gross\": 2880.0}, {\"imdb_id\": \"tt0918927\", \"words\": 142758, \"gross\": 2880.0}, {\"imdb_id\": \"tt0035423\", \"words\": 37160, \"gross\": 2880.0}, {\"imdb_id\": \"tt0365748\", \"words\": 154000, \"gross\": 2880.0}, {\"imdb_id\": \"tt0120684\", \"words\": 657894, \"gross\": 2871.0}, {\"imdb_id\": \"tt0325805\", \"words\": 101097, \"gross\": 2862.0}, {\"imdb_id\": \"tt0120824\", \"words\": 271684, \"gross\": 2856.0}, {\"imdb_id\": \"tt0204313\", \"words\": 45872, \"gross\": 2784.0}, {\"imdb_id\": \"tt0120646\", \"words\": 85148, \"gross\": 2772.0}, {\"imdb_id\": \"tt0180073\", \"words\": 260650, \"gross\": 2750.0}, {\"imdb_id\": \"tt0113540\", \"words\": 265104, \"gross\": 2744.0}, {\"imdb_id\": \"tt1131734\", \"words\": 184680, \"gross\": 2736.0}, {\"imdb_id\": \"tt0119280\", \"words\": 303840, \"gross\": 2720.0}, {\"imdb_id\": \"tt0780653\", \"words\": 63690, \"gross\": 2720.0}, {\"imdb_id\": \"tt0118954\", \"words\": 43877, \"gross\": 2720.0}, {\"imdb_id\": \"tt0257516\", \"words\": 59787, \"gross\": 2704.0}, {\"imdb_id\": \"tt0097243\", \"words\": 269776, \"gross\": 2704.0}, {\"imdb_id\": \"tt1172233\", \"words\": 132660, \"gross\": 2700.0}, {\"imdb_id\": \"tt0112401\", \"words\": 148986, \"gross\": 2700.0}, {\"imdb_id\": \"tt0119177\", \"words\": 54340, \"gross\": 2691.0}, {\"imdb_id\": \"tt1601913\", \"words\": 41028, \"gross\": 2688.0}, {\"imdb_id\": \"tt0765443\", \"words\": 93520, \"gross\": 2688.0}, {\"imdb_id\": \"tt1225822\", \"words\": 255833, \"gross\": 2652.0}, {\"imdb_id\": \"tt0880578\", \"words\": 93093, \"gross\": 2652.0}, {\"imdb_id\": \"tt0118564\", \"words\": 396000, \"gross\": 2640.0}, {\"imdb_id\": \"tt2334649\", \"words\": 165788, \"gross\": 2635.0}, {\"imdb_id\": \"tt0480255\", \"words\": 122010, \"gross\": 2625.0}, {\"imdb_id\": \"tt0120202\", \"words\": 175389, \"gross\": 2618.0}, {\"imdb_id\": \"tt0085382\", \"words\": 26505, \"gross\": 2610.0}, {\"imdb_id\": \"tt0089886\", \"words\": 74830, \"gross\": 2604.0}, {\"imdb_id\": \"tt1922777\", \"words\": 66160, \"gross\": 2600.0}, {\"imdb_id\": \"tt0266489\", \"words\": 151960, \"gross\": 2600.0}, {\"imdb_id\": \"tt0397065\", \"words\": 24360, \"gross\": 2580.0}, {\"imdb_id\": \"tt0083190\", \"words\": 168674, \"gross\": 2574.0}, {\"imdb_id\": \"tt0087262\", \"words\": 43648, \"gross\": 2574.0}, {\"imdb_id\": \"tt0114194\", \"words\": 64080, \"gross\": 2560.0}, {\"imdb_id\": \"tt1430612\", \"words\": 138720, \"gross\": 2520.0}, {\"imdb_id\": \"tt0479884\", \"words\": 67102, \"gross\": 2520.0}, {\"imdb_id\": \"tt1126590\", \"words\": 168735, \"gross\": 2520.0}, {\"imdb_id\": \"tt1403981\", \"words\": 119867, \"gross\": 2499.0}, {\"imdb_id\": \"tt0395169\", \"words\": 71942, \"gross\": 2496.0}, {\"imdb_id\": \"tt0208988\", \"words\": 62049, \"gross\": 2496.0}, {\"imdb_id\": \"tt0292644\", \"words\": 233300, \"gross\": 2475.0}, {\"imdb_id\": \"tt0281358\", \"words\": 38584, \"gross\": 2440.0}, {\"imdb_id\": \"tt0310910\", \"words\": 142506, \"gross\": 2431.0}, {\"imdb_id\": \"tt0106453\", \"words\": 82810, \"gross\": 2430.0}, {\"imdb_id\": \"tt0104990\", \"words\": 246360, \"gross\": 2400.0}, {\"imdb_id\": \"tt0118956\", \"words\": 61452, \"gross\": 2400.0}, {\"imdb_id\": \"tt1464540\", \"words\": 85808, \"gross\": 2400.0}, {\"imdb_id\": \"tt0256276\", \"words\": 97344, \"gross\": 2400.0}, {\"imdb_id\": \"tt0822847\", \"words\": 110352, \"gross\": 2387.0}, {\"imdb_id\": \"tt2126355\", \"words\": 15790, \"gross\": 2385.0}, {\"imdb_id\": \"tt1980929\", \"words\": 187432, \"gross\": 2380.0}, {\"imdb_id\": \"tt0240510\", \"words\": 235488, \"gross\": 2376.0}, {\"imdb_id\": \"tt0318374\", \"words\": 447228, \"gross\": 2376.0}, {\"imdb_id\": \"tt0395251\", \"words\": 212576, \"gross\": 2366.0}, {\"imdb_id\": \"tt0327554\", \"words\": 55608, \"gross\": 2352.0}, {\"imdb_id\": \"tt0971209\", \"words\": 139679, \"gross\": 2346.0}, {\"imdb_id\": \"tt2334873\", \"words\": 38720, \"gross\": 2310.0}, {\"imdb_id\": \"tt0100224\", \"words\": 65580, \"gross\": 2310.0}, {\"imdb_id\": \"tt0113972\", \"words\": 246240, \"gross\": 2304.0}, {\"imdb_id\": \"tt0089346\", \"words\": 66114, \"gross\": 2304.0}, {\"imdb_id\": \"tt0368709\", \"words\": 84912, \"gross\": 2304.0}, {\"imdb_id\": \"tt1521197\", \"words\": 326432, \"gross\": 2304.0}, {\"imdb_id\": \"tt0795351\", \"words\": 151715, \"gross\": 2280.0}, {\"imdb_id\": \"tt2446980\", \"words\": 86550, \"gross\": 2280.0}, {\"imdb_id\": \"tt0981227\", \"words\": 55430, \"gross\": 2280.0}, {\"imdb_id\": \"tt0375154\", \"words\": 143610, \"gross\": 2280.0}, {\"imdb_id\": \"tt0292506\", \"words\": 62480, \"gross\": 2280.0}, {\"imdb_id\": \"tt0096256\", \"words\": 53340, \"gross\": 2268.0}, {\"imdb_id\": \"tt0117104\", \"words\": 126429, \"gross\": 2261.0}, {\"imdb_id\": \"tt0109045\", \"words\": 52836, \"gross\": 2254.0}, {\"imdb_id\": \"tt0864761\", \"words\": 154180, \"gross\": 2240.0}, {\"imdb_id\": \"tt0087050\", \"words\": 50710, \"gross\": 2220.0}, {\"imdb_id\": \"tt0120399\", \"words\": 459060, \"gross\": 2184.0}, {\"imdb_id\": \"tt0999913\", \"words\": 135198, \"gross\": 2178.0}, {\"imdb_id\": \"tt0098663\", \"words\": 40300, \"gross\": 2170.0}, {\"imdb_id\": \"tt0167456\", \"words\": 157840, \"gross\": 2160.0}, {\"imdb_id\": \"tt1633356\", \"words\": 63312, \"gross\": 2160.0}, {\"imdb_id\": \"tt0114011\", \"words\": 41860, \"gross\": 2160.0}, {\"imdb_id\": \"tt2080374\", \"words\": 303270, \"gross\": 2160.0}, {\"imdb_id\": \"tt2364841\", \"words\": 163656, \"gross\": 2160.0}, {\"imdb_id\": \"tt1622547\", \"words\": 120717, \"gross\": 2160.0}, {\"imdb_id\": \"tt0305206\", \"words\": 517380, \"gross\": 2160.0}, {\"imdb_id\": \"tt1204977\", \"words\": 49056, \"gross\": 2160.0}, {\"imdb_id\": \"tt0140397\", \"words\": 605440, \"gross\": 2156.0}, {\"imdb_id\": \"tt0308383\", \"words\": 188716, \"gross\": 2156.0}, {\"imdb_id\": \"tt1232783\", \"words\": 126660, \"gross\": 2145.0}, {\"imdb_id\": \"tt1440728\", \"words\": 50732, \"gross\": 2145.0}, {\"imdb_id\": \"tt0324127\", \"words\": 235576, \"gross\": 2112.0}, {\"imdb_id\": \"tt0337921\", \"words\": 55216, \"gross\": 2112.0}, {\"imdb_id\": \"tt0335119\", \"words\": 97416, \"gross\": 2112.0}, {\"imdb_id\": \"tt0114898\", \"words\": 13536, \"gross\": 2112.0}, {\"imdb_id\": \"tt1228987\", \"words\": 58230, \"gross\": 2106.0}, {\"imdb_id\": \"tt0404203\", \"words\": 137050, \"gross\": 2100.0}, {\"imdb_id\": \"tt2390361\", \"words\": 132962, \"gross\": 2052.0}, {\"imdb_id\": \"tt1625346\", \"words\": 128565, \"gross\": 2040.0}, {\"imdb_id\": \"tt0159382\", \"words\": 378718, \"gross\": 2024.0}, {\"imdb_id\": \"tt0041959\", \"words\": 221030, \"gross\": 2024.0}, {\"imdb_id\": \"tt0454082\", \"words\": 51012, \"gross\": 2016.0}, {\"imdb_id\": \"tt1032755\", \"words\": 182910, \"gross\": 2016.0}, {\"imdb_id\": \"tt0119381\", \"words\": 375876, \"gross\": 1980.0}, {\"imdb_id\": \"tt3622592\", \"words\": 105636, \"gross\": 1980.0}, {\"imdb_id\": \"tt3332064\", \"words\": 104126, \"gross\": 1980.0}, {\"imdb_id\": \"tt0105128\", \"words\": 27808, \"gross\": 1960.0}, {\"imdb_id\": \"tt1244754\", \"words\": 203360, \"gross\": 1953.0}, {\"imdb_id\": \"tt0124198\", \"words\": 96060, \"gross\": 1944.0}, {\"imdb_id\": \"tt0870111\", \"words\": 149908, \"gross\": 1936.0}, {\"imdb_id\": \"tt0816462\", \"words\": 76930, \"gross\": 1932.0}, {\"imdb_id\": \"tt0093177\", \"words\": 81264, \"gross\": 1920.0}, {\"imdb_id\": \"tt0399201\", \"words\": 36340, \"gross\": 1920.0}, {\"imdb_id\": \"tt1483013\", \"words\": 65365, \"gross\": 1900.0}, {\"imdb_id\": \"tt1226753\", \"words\": 66066, \"gross\": 1870.0}, {\"imdb_id\": \"tt1172991\", \"words\": 255948, \"gross\": 1848.0}, {\"imdb_id\": \"tt0116922\", \"words\": 90168, \"gross\": 1848.0}, {\"imdb_id\": \"tt0107711\", \"words\": 14640, \"gross\": 1840.0}, {\"imdb_id\": \"tt0104070\", \"words\": 7455, \"gross\": 1830.0}, {\"imdb_id\": \"tt0887912\", \"words\": 82000, \"gross\": 1824.0}, {\"imdb_id\": \"tt0272338\", \"words\": 84322, \"gross\": 1820.0}, {\"imdb_id\": \"tt0110413\", \"words\": 48600, \"gross\": 1809.0}, {\"imdb_id\": \"tt0432291\", \"words\": 36036, \"gross\": 1800.0}, {\"imdb_id\": \"tt0137494\", \"words\": 66560, \"gross\": 1800.0}, {\"imdb_id\": \"tt0097289\", \"words\": 451290, \"gross\": 1800.0}, {\"imdb_id\": \"tt1560747\", \"words\": 196935, \"gross\": 1785.0}, {\"imdb_id\": \"tt1606392\", \"words\": 202446, \"gross\": 1782.0}, {\"imdb_id\": \"tt0857191\", \"words\": 216936, \"gross\": 1782.0}, {\"imdb_id\": \"tt0804497\", \"words\": 198237, \"gross\": 1771.0}, {\"imdb_id\": \"tt1502404\", \"words\": 83280, \"gross\": 1760.0}, {\"imdb_id\": \"tt0144964\", \"words\": 80773, \"gross\": 1760.0}, {\"imdb_id\": \"tt2473794\", \"words\": 288200, \"gross\": 1760.0}, {\"imdb_id\": \"tt0452625\", \"words\": 77428, \"gross\": 1716.0}, {\"imdb_id\": \"tt0128445\", \"words\": 48279, \"gross\": 1705.0}, {\"imdb_id\": \"tt1742334\", \"words\": 115651, \"gross\": 1683.0}, {\"imdb_id\": \"tt0227005\", \"words\": 222390, \"gross\": 1680.0}, {\"imdb_id\": \"tt0101410\", \"words\": 136276, \"gross\": 1680.0}, {\"imdb_id\": \"tt1781922\", \"words\": 74775, \"gross\": 1680.0}, {\"imdb_id\": \"tt0203230\", \"words\": 335160, \"gross\": 1680.0}, {\"imdb_id\": \"tt0254099\", \"words\": 238520, \"gross\": 1680.0}, {\"imdb_id\": \"tt1174732\", \"words\": 279840, \"gross\": 1680.0}, {\"imdb_id\": \"tt1764234\", \"words\": 197509, \"gross\": 1664.0}, {\"imdb_id\": \"tt0104804\", \"words\": 169136, \"gross\": 1664.0}, {\"imdb_id\": \"tt2091473\", \"words\": 249964, \"gross\": 1656.0}, {\"imdb_id\": \"tt0047396\", \"words\": 236280, \"gross\": 1650.0}, {\"imdb_id\": \"tt0338427\", \"words\": 134295, \"gross\": 1638.0}, {\"imdb_id\": \"tt0073092\", \"words\": 70460, \"gross\": 1638.0}, {\"imdb_id\": \"tt0120324\", \"words\": 82053, \"gross\": 1620.0}, {\"imdb_id\": \"tt0118531\", \"words\": 128980, \"gross\": 1600.0}, {\"imdb_id\": \"tt0115632\", \"words\": 355946, \"gross\": 1595.0}, {\"imdb_id\": \"tt0206314\", \"words\": 60540, \"gross\": 1584.0}, {\"imdb_id\": \"tt0375173\", \"words\": 79002, \"gross\": 1584.0}, {\"imdb_id\": \"tt1054606\", \"words\": 312444, \"gross\": 1584.0}, {\"imdb_id\": \"tt0103976\", \"words\": 91546, \"gross\": 1560.0}, {\"imdb_id\": \"tt0295700\", \"words\": 55960, \"gross\": 1540.0}, {\"imdb_id\": \"tt1853739\", \"words\": 59136, \"gross\": 1540.0}, {\"imdb_id\": \"tt0115986\", \"words\": 28996, \"gross\": 1540.0}, {\"imdb_id\": \"tt0364955\", \"words\": 214944, \"gross\": 1536.0}, {\"imdb_id\": \"tt0106834\", \"words\": 684992, \"gross\": 1536.0}, {\"imdb_id\": \"tt0362478\", \"words\": 144840, \"gross\": 1530.0}, {\"imdb_id\": \"tt1142977\", \"words\": 17504, \"gross\": 1520.0}, {\"imdb_id\": \"tt0384680\", \"words\": 51433, \"gross\": 1520.0}, {\"imdb_id\": \"tt0118604\", \"words\": 47082, \"gross\": 1500.0}, {\"imdb_id\": \"tt1343727\", \"words\": 64125, \"gross\": 1470.0}, {\"imdb_id\": \"tt1600196\", \"words\": 132449, \"gross\": 1463.0}, {\"imdb_id\": \"tt0913354\", \"words\": 40500, \"gross\": 1458.0}, {\"imdb_id\": \"tt0111127\", \"words\": 42393, \"gross\": 1456.0}, {\"imdb_id\": \"tt0052357\", \"words\": 77680, \"gross\": 1450.0}, {\"imdb_id\": \"tt1423894\", \"words\": 169686, \"gross\": 1440.0}, {\"imdb_id\": \"tt0491747\", \"words\": 84060, \"gross\": 1440.0}, {\"imdb_id\": \"tt0105585\", \"words\": 39505, \"gross\": 1410.0}, {\"imdb_id\": \"tt0279113\", \"words\": 158000, \"gross\": 1400.0}, {\"imdb_id\": \"tt0435625\", \"words\": 26928, \"gross\": 1400.0}, {\"imdb_id\": \"tt1307068\", \"words\": 124992, \"gross\": 1386.0}, {\"imdb_id\": \"tt0120255\", \"words\": 312018, \"gross\": 1360.0}, {\"imdb_id\": \"tt0113409\", \"words\": 71535, \"gross\": 1350.0}, {\"imdb_id\": \"tt0770772\", \"words\": 127230, \"gross\": 1350.0}, {\"imdb_id\": \"tt0372588\", \"words\": 9888, \"gross\": 1350.0}, {\"imdb_id\": \"tt3170832\", \"words\": 118230, \"gross\": 1350.0}, {\"imdb_id\": \"tt0288477\", \"words\": 95988, \"gross\": 1350.0}, {\"imdb_id\": \"tt0100485\", \"words\": 50352, \"gross\": 1344.0}, {\"imdb_id\": \"tt0108174\", \"words\": 64872, \"gross\": 1344.0}, {\"imdb_id\": \"tt0252501\", \"words\": 51516, \"gross\": 1332.0}, {\"imdb_id\": \"tt3316960\", \"words\": 82370, \"gross\": 1330.0}, {\"imdb_id\": \"tt0166110\", \"words\": 92940, \"gross\": 1320.0}, {\"imdb_id\": \"tt0091557\", \"words\": 21320, \"gross\": 1320.0}, {\"imdb_id\": \"tt0116095\", \"words\": 46792, \"gross\": 1320.0}, {\"imdb_id\": \"tt3045616\", \"words\": 152915, \"gross\": 1309.0}, {\"imdb_id\": \"tt0082288\", \"words\": 46440, \"gross\": 1296.0}, {\"imdb_id\": \"tt0189998\", \"words\": 123497, \"gross\": 1287.0}, {\"imdb_id\": \"tt0108330\", \"words\": 227888, \"gross\": 1280.0}, {\"imdb_id\": \"tt0995039\", \"words\": 133332, \"gross\": 1260.0}, {\"imdb_id\": \"tt0975645\", \"words\": 161238, \"gross\": 1260.0}, {\"imdb_id\": \"tt0108065\", \"words\": 100056, \"gross\": 1260.0}, {\"imdb_id\": \"tt2935476\", \"words\": 98100, \"gross\": 1260.0}, {\"imdb_id\": \"tt2404181\", \"words\": 104823, \"gross\": 1254.0}, {\"imdb_id\": \"tt1067774\", \"words\": 94130, \"gross\": 1250.0}, {\"imdb_id\": \"tt0102494\", \"words\": 77744, \"gross\": 1248.0}, {\"imdb_id\": \"tt0104409\", \"words\": 37288, \"gross\": 1248.0}, {\"imdb_id\": \"tt2582802\", \"words\": 133232, \"gross\": 1248.0}, {\"imdb_id\": \"tt2388715\", \"words\": 44576, \"gross\": 1218.0}, {\"imdb_id\": \"tt1791682\", \"words\": 214947, \"gross\": 1216.0}, {\"imdb_id\": \"tt0891592\", \"words\": 80304, \"gross\": 1200.0}, {\"imdb_id\": \"tt0093415\", \"words\": 72969, \"gross\": 1196.0}, {\"imdb_id\": \"tt0369441\", \"words\": 5912, \"gross\": 1192.0}, {\"imdb_id\": \"tt2101441\", \"words\": 24947, \"gross\": 1170.0}, {\"imdb_id\": \"tt1176740\", \"words\": 137241, \"gross\": 1170.0}, {\"imdb_id\": \"tt1716777\", \"words\": 124950, \"gross\": 1170.0}, {\"imdb_id\": \"tt0104114\", \"words\": 2700, \"gross\": 1164.0}, {\"imdb_id\": \"tt2387559\", \"words\": 42264, \"gross\": 1152.0}, {\"imdb_id\": \"tt2937898\", \"words\": 274296, \"gross\": 1152.0}, {\"imdb_id\": \"tt2170439\", \"words\": 33552, \"gross\": 1140.0}, {\"imdb_id\": \"tt0180093\", \"words\": 211500, \"gross\": 1125.0}, {\"imdb_id\": \"tt1084950\", \"words\": 189840, \"gross\": 1125.0}, {\"imdb_id\": \"tt3235888\", \"words\": 51195, \"gross\": 1125.0}, {\"imdb_id\": \"tt0118158\", \"words\": 45192, \"gross\": 1120.0}, {\"imdb_id\": \"tt0450405\", \"words\": 76920, \"gross\": 1120.0}, {\"imdb_id\": \"tt0166276\", \"words\": 81928, \"gross\": 1120.0}, {\"imdb_id\": \"tt2132285\", \"words\": 109512, \"gross\": 1092.0}, {\"imdb_id\": \"tt0129167\", \"words\": 35931, \"gross\": 1092.0}, {\"imdb_id\": \"tt0106379\", \"words\": 226560, \"gross\": 1080.0}, {\"imdb_id\": \"tt3181822\", \"words\": 53268, \"gross\": 1080.0}, {\"imdb_id\": \"tt2140379\", \"words\": 72342, \"gross\": 1080.0}, {\"imdb_id\": \"tt0106308\", \"words\": 70620, \"gross\": 1056.0}, {\"imdb_id\": \"tt0083908\", \"words\": 160812, \"gross\": 1053.0}, {\"imdb_id\": \"tt0838221\", \"words\": 77250, \"gross\": 1050.0}, {\"imdb_id\": \"tt0878835\", \"words\": 208974, \"gross\": 1044.0}, {\"imdb_id\": \"tt0109445\", \"words\": 505818, \"gross\": 1020.0}, {\"imdb_id\": \"tt0091499\", \"words\": 28980, \"gross\": 1020.0}, {\"imdb_id\": \"tt0199753\", \"words\": 76386, \"gross\": 1008.0}, {\"imdb_id\": \"tt2209764\", \"words\": 56224, \"gross\": 1008.0}, {\"imdb_id\": \"tt0102753\", \"words\": 351072, \"gross\": 1008.0}, {\"imdb_id\": \"tt3236120\", \"words\": 151152, \"gross\": 1008.0}, {\"imdb_id\": \"tt1714206\", \"words\": 187812, \"gross\": 1008.0}, {\"imdb_id\": \"tt1706620\", \"words\": 158975, \"gross\": 1000.0}, {\"imdb_id\": \"tt0401445\", \"words\": 107767, \"gross\": 990.0}, {\"imdb_id\": \"tt0307479\", \"words\": 54639, \"gross\": 990.0}, {\"imdb_id\": \"tt0266452\", \"words\": 82665, \"gross\": 972.0}, {\"imdb_id\": \"tt0202677\", \"words\": 127752, \"gross\": 972.0}, {\"imdb_id\": \"tt0479997\", \"words\": 33534, \"gross\": 972.0}, {\"imdb_id\": \"tt0094919\", \"words\": 49980, \"gross\": 960.0}, {\"imdb_id\": \"tt0360009\", \"words\": 112720, \"gross\": 960.0}, {\"imdb_id\": \"tt0117802\", \"words\": 263070, \"gross\": 960.0}, {\"imdb_id\": \"tt0787475\", \"words\": 95608, \"gross\": 952.0}, {\"imdb_id\": \"tt1748227\", \"words\": 77550, \"gross\": 945.0}, {\"imdb_id\": \"tt1399683\", \"words\": 77292, \"gross\": 931.0}, {\"imdb_id\": \"tt0089469\", \"words\": 54050, \"gross\": 925.0}, {\"imdb_id\": \"tt0435705\", \"words\": 36015, \"gross\": 924.0}, {\"imdb_id\": \"tt1837703\", \"words\": 282212, \"gross\": 924.0}, {\"imdb_id\": \"tt0824758\", \"words\": 228840, \"gross\": 924.0}, {\"imdb_id\": \"tt0094964\", \"words\": 71388, \"gross\": 912.0}, {\"imdb_id\": \"tt2582496\", \"words\": 180101, \"gross\": 912.0}, {\"imdb_id\": \"tt0443680\", \"words\": 141493, \"gross\": 912.0}, {\"imdb_id\": \"tt0118929\", \"words\": 54404, \"gross\": 910.0}, {\"imdb_id\": \"tt2918436\", \"words\": 39256, \"gross\": 910.0}, {\"imdb_id\": \"tt0067991\", \"words\": 21270, \"gross\": 909.0}, {\"imdb_id\": \"tt0891527\", \"words\": 50785, \"gross\": 882.0}, {\"imdb_id\": \"tt0963794\", \"words\": 168014, \"gross\": 882.0}, {\"imdb_id\": \"tt1194263\", \"words\": 142461, \"gross\": 880.0}, {\"imdb_id\": \"tt0383028\", \"words\": 312997, \"gross\": 870.0}, {\"imdb_id\": \"tt0098724\", \"words\": 95008, \"gross\": 864.0}, {\"imdb_id\": \"tt0366627\", \"words\": 183960, \"gross\": 864.0}, {\"imdb_id\": \"tt0390221\", \"words\": 105672, \"gross\": 864.0}, {\"imdb_id\": \"tt0780536\", \"words\": 124344, \"gross\": 864.0}, {\"imdb_id\": \"tt0287467\", \"words\": 42801, \"gross\": 858.0}, {\"imdb_id\": \"tt0165854\", \"words\": 321776, \"gross\": 850.0}, {\"imdb_id\": \"tt1438176\", \"words\": 104405, \"gross\": 840.0}, {\"imdb_id\": \"tt1315981\", \"words\": 80948, \"gross\": 840.0}, {\"imdb_id\": \"tt1120985\", \"words\": 96250, \"gross\": 840.0}, {\"imdb_id\": \"tt4270516\", \"words\": 115905, \"gross\": 840.0}, {\"imdb_id\": \"tt0088930\", \"words\": 112884, \"gross\": 840.0}, {\"imdb_id\": \"tt1477837\", \"words\": 137275, \"gross\": 833.0}, {\"imdb_id\": \"tt1866249\", \"words\": 178211, \"gross\": 816.0}, {\"imdb_id\": \"tt1540133\", \"words\": 146160, \"gross\": 810.0}, {\"imdb_id\": \"tt0264616\", \"words\": 68460, \"gross\": 800.0}, {\"imdb_id\": \"tt3077214\", \"words\": 118540, \"gross\": 800.0}, {\"imdb_id\": \"tt0458522\", \"words\": 107312, \"gross\": 800.0}, {\"imdb_id\": \"tt0104348\", \"words\": 134880, \"gross\": 792.0}, {\"imdb_id\": \"tt1075747\", \"words\": 61632, \"gross\": 792.0}, {\"imdb_id\": \"tt0173716\", \"words\": 207620, \"gross\": 770.0}, {\"imdb_id\": \"tt0097240\", \"words\": 126632, \"gross\": 770.0}, {\"imdb_id\": \"tt0099740\", \"words\": 36440, \"gross\": 770.0}, {\"imdb_id\": \"tt1615147\", \"words\": 168476, \"gross\": 770.0}, {\"imdb_id\": \"tt1532958\", \"words\": 100668, \"gross\": 756.0}, {\"imdb_id\": \"tt0369226\", \"words\": 115956, \"gross\": 756.0}, {\"imdb_id\": \"tt1174730\", \"words\": 93090, \"gross\": 735.0}, {\"imdb_id\": \"tt0100212\", \"words\": 8270, \"gross\": 720.0}, {\"imdb_id\": \"tt0097493\", \"words\": 241704, \"gross\": 720.0}, {\"imdb_id\": \"tt1226774\", \"words\": 647588, \"gross\": 690.0}, {\"imdb_id\": \"tt3859076\", \"words\": 259670, \"gross\": 690.0}, {\"imdb_id\": \"tt0091983\", \"words\": 53442, \"gross\": 684.0}, {\"imdb_id\": \"tt1405365\", \"words\": 261500, \"gross\": 660.0}, {\"imdb_id\": \"tt0439815\", \"words\": 87724, \"gross\": 650.0}, {\"imdb_id\": \"tt0085794\", \"words\": 121173, \"gross\": 637.0}, {\"imdb_id\": \"tt0110074\", \"words\": 116410, \"gross\": 630.0}, {\"imdb_id\": \"tt2403021\", \"words\": 65054, \"gross\": 616.0}, {\"imdb_id\": \"tt0083658\", \"words\": 195916, \"gross\": 616.0}, {\"imdb_id\": \"tt0093605\", \"words\": 36300, \"gross\": 616.0}, {\"imdb_id\": \"tt0113749\", \"words\": 92990, \"gross\": 612.0}, {\"imdb_id\": \"tt1100089\", \"words\": 118524, \"gross\": 612.0}, {\"imdb_id\": \"tt1772288\", \"words\": 122595, \"gross\": 600.0}, {\"imdb_id\": \"tt0367089\", \"words\": 70941, \"gross\": 585.0}, {\"imdb_id\": \"tt0452702\", \"words\": 29244, \"gross\": 576.0}, {\"imdb_id\": \"tt2235108\", \"words\": 144504, \"gross\": 576.0}, {\"imdb_id\": \"tt0082971\", \"words\": 36045, \"gross\": 567.0}, {\"imdb_id\": \"tt0427470\", \"words\": 142198, \"gross\": 560.0}, {\"imdb_id\": \"tt1542344\", \"words\": 36015, \"gross\": 560.0}, {\"imdb_id\": \"tt2209418\", \"words\": 149560, \"gross\": 560.0}, {\"imdb_id\": \"tt0472399\", \"words\": 44580, \"gross\": 558.0}, {\"imdb_id\": \"tt0405296\", \"words\": 116922, \"gross\": 546.0}, {\"imdb_id\": \"tt0114938\", \"words\": 70770, \"gross\": 540.0}, {\"imdb_id\": \"tt0105236\", \"words\": 229944, \"gross\": 540.0}, {\"imdb_id\": \"tt0298388\", \"words\": 7469, \"gross\": 532.0}, {\"imdb_id\": \"tt0107302\", \"words\": 158739, \"gross\": 525.0}, {\"imdb_id\": \"tt0188453\", \"words\": 130848, \"gross\": 504.0}, {\"imdb_id\": \"tt1017451\", \"words\": 121212, \"gross\": 504.0}, {\"imdb_id\": \"tt2515034\", \"words\": 56010, \"gross\": 500.0}, {\"imdb_id\": \"tt1371155\", \"words\": 298716, \"gross\": 496.0}, {\"imdb_id\": \"tt0371257\", \"words\": 109290, \"gross\": 480.0}, {\"imdb_id\": \"tt1862079\", \"words\": 120785, \"gross\": 476.0}, {\"imdb_id\": \"tt1532503\", \"words\": 143182, \"gross\": 468.0}, {\"imdb_id\": \"tt0455538\", \"words\": 125256, \"gross\": 459.0}, {\"imdb_id\": \"tt1588334\", \"words\": 106324, \"gross\": 456.0}, {\"imdb_id\": \"tt1234654\", \"words\": 88749, \"gross\": 456.0}, {\"imdb_id\": \"tt0105159\", \"words\": 47216, \"gross\": 455.0}, {\"imdb_id\": \"tt0102511\", \"words\": 88543, \"gross\": 455.0}, {\"imdb_id\": \"tt1045772\", \"words\": 382140, \"gross\": 450.0}, {\"imdb_id\": \"tt0111149\", \"words\": 165210, \"gross\": 450.0}, {\"imdb_id\": \"tt1121977\", \"words\": 250874, \"gross\": 442.0}, {\"imdb_id\": \"tt0990413\", \"words\": 289590, \"gross\": 441.0}, {\"imdb_id\": \"tt1012804\", \"words\": 114092, \"gross\": 440.0}, {\"imdb_id\": \"tt1019452\", \"words\": 70895, \"gross\": 440.0}, {\"imdb_id\": \"tt0913425\", \"words\": 165044, \"gross\": 440.0}, {\"imdb_id\": \"tt0365929\", \"words\": 31040, \"gross\": 440.0}, {\"imdb_id\": \"tt0844286\", \"words\": 206490, \"gross\": 420.0}, {\"imdb_id\": \"tt1477855\", \"words\": 64250, \"gross\": 420.0}, {\"imdb_id\": \"tt0478304\", \"words\": 44340, \"gross\": 420.0}, {\"imdb_id\": \"tt2639344\", \"words\": 160417, \"gross\": 418.0}, {\"imdb_id\": \"tt0470752\", \"words\": 30392, \"gross\": 416.0}, {\"imdb_id\": \"tt0423977\", \"words\": 86008, \"gross\": 416.0}, {\"imdb_id\": \"tt0364045\", \"words\": 10614, \"gross\": 405.0}, {\"imdb_id\": \"tt3062976\", \"words\": 115596, \"gross\": 399.0}, {\"imdb_id\": \"tt0246578\", \"words\": 173124, \"gross\": 392.0}, {\"imdb_id\": \"tt0401383\", \"words\": 52118, \"gross\": 385.0}, {\"imdb_id\": \"tt0810784\", \"words\": 98560, \"gross\": 385.0}, {\"imdb_id\": \"tt1921064\", \"words\": 14064, \"gross\": 384.0}, {\"imdb_id\": \"tt0078748\", \"words\": 68016, \"gross\": 384.0}, {\"imdb_id\": \"tt0120907\", \"words\": 111732, \"gross\": 384.0}, {\"imdb_id\": \"tt0100791\", \"words\": 292258, \"gross\": 380.0}, {\"imdb_id\": \"tt0250081\", \"words\": 327672, \"gross\": 378.0}, {\"imdb_id\": \"tt1596345\", \"words\": 162794, \"gross\": 368.0}, {\"imdb_id\": \"tt1723811\", \"words\": 103014, \"gross\": 360.0}, {\"imdb_id\": \"tt1431181\", \"words\": 193305, \"gross\": 360.0}, {\"imdb_id\": \"tt0896872\", \"words\": 194610, \"gross\": 338.0}, {\"imdb_id\": \"tt0097438\", \"words\": 62150, \"gross\": 330.0}, {\"imdb_id\": \"tt0215545\", \"words\": 109010, \"gross\": 330.0}, {\"imdb_id\": \"tt2870708\", \"words\": 129852, \"gross\": 324.0}, {\"imdb_id\": \"tt0115736\", \"words\": 164232, \"gross\": 315.0}, {\"imdb_id\": \"tt2234003\", \"words\": 86983, \"gross\": 312.0}, {\"imdb_id\": \"tt1441953\", \"words\": 191880, \"gross\": 312.0}, {\"imdb_id\": \"tt0120906\", \"words\": 234855, \"gross\": 306.0}, {\"imdb_id\": \"tt0122529\", \"words\": 138491, \"gross\": 304.0}, {\"imdb_id\": \"tt0393109\", \"words\": 296160, \"gross\": 300.0}, {\"imdb_id\": \"tt0105226\", \"words\": 40572, \"gross\": 300.0}, {\"imdb_id\": \"tt3312830\", \"words\": 141376, \"gross\": 288.0}, {\"imdb_id\": \"tt0115734\", \"words\": 332520, \"gross\": 280.0}, {\"imdb_id\": \"tt1023114\", \"words\": 173250, \"gross\": 280.0}, {\"imdb_id\": \"tt0116768\", \"words\": 19670, \"gross\": 280.0}, {\"imdb_id\": \"tt1188729\", \"words\": 92250, \"gross\": 275.0}, {\"imdb_id\": \"tt3011894\", \"words\": 33215, \"gross\": 273.0}, {\"imdb_id\": \"tt0102307\", \"words\": 212400, \"gross\": 270.0}, {\"imdb_id\": \"tt0110005\", \"words\": 89562, \"gross\": 264.0}, {\"imdb_id\": \"tt0102181\", \"words\": 85217, \"gross\": 264.0}, {\"imdb_id\": \"tt1441326\", \"words\": 71093, \"gross\": 264.0}, {\"imdb_id\": \"tt0935075\", \"words\": 135256, \"gross\": 264.0}, {\"imdb_id\": \"tt0138704\", \"words\": 147732, \"gross\": 260.0}, {\"imdb_id\": \"tt0097334\", \"words\": 23807, \"gross\": 245.0}, {\"imdb_id\": \"tt3569230\", \"words\": 187596, \"gross\": 243.0}, {\"imdb_id\": \"tt1336617\", \"words\": 66180, \"gross\": 240.0}, {\"imdb_id\": \"tt1640548\", \"words\": 139723, \"gross\": 238.0}, {\"imdb_id\": \"tt0086250\", \"words\": 243468, \"gross\": 234.0}, {\"imdb_id\": \"tt0086979\", \"words\": 52646, \"gross\": 220.0}, {\"imdb_id\": \"tt0978759\", \"words\": 212148, \"gross\": 216.0}, {\"imdb_id\": \"tt2872462\", \"words\": 155025, \"gross\": 210.0}, {\"imdb_id\": \"tt0790712\", \"words\": 145038, \"gross\": 207.0}, {\"imdb_id\": \"tt3442006\", \"words\": 124440, \"gross\": 200.0}, {\"imdb_id\": \"tt0104627\", \"words\": 181522, \"gross\": 198.0}, {\"imdb_id\": \"tt1334260\", \"words\": 89208, \"gross\": 196.0}, {\"imdb_id\": \"tt1531663\", \"words\": 104608, \"gross\": 192.0}, {\"imdb_id\": \"tt0113677\", \"words\": 250344, \"gross\": 192.0}, {\"imdb_id\": \"tt0129332\", \"words\": 34794, \"gross\": 189.0}, {\"imdb_id\": \"tt1313092\", \"words\": 151268, \"gross\": 182.0}, {\"imdb_id\": \"tt0115710\", \"words\": 147080, \"gross\": 180.0}, {\"imdb_id\": \"tt0099291\", \"words\": 147756, \"gross\": 168.0}, {\"imdb_id\": \"tt0093223\", \"words\": 28908, \"gross\": 165.0}, {\"imdb_id\": \"tt0363282\", \"words\": 15752, \"gross\": 152.0}, {\"imdb_id\": \"tt1675192\", \"words\": 218190, \"gross\": 147.0}, {\"imdb_id\": \"tt0757361\", \"words\": 164112, \"gross\": 144.0}, {\"imdb_id\": \"tt0335563\", \"words\": 110944, \"gross\": 144.0}, {\"imdb_id\": \"tt1645131\", \"words\": 82758, \"gross\": 143.0}, {\"imdb_id\": \"tt0119485\", \"words\": 4214, \"gross\": 140.0}, {\"imdb_id\": \"tt1182345\", \"words\": 35770, \"gross\": 140.0}, {\"imdb_id\": \"tt1311071\", \"words\": 85275, \"gross\": 135.0}, {\"imdb_id\": \"tt0113537\", \"words\": 95304, \"gross\": 133.0}, {\"imdb_id\": \"tt2125435\", \"words\": 15480, \"gross\": 130.0}, {\"imdb_id\": \"tt0103759\", \"words\": 29712, \"gross\": 128.0}, {\"imdb_id\": \"tt1029120\", \"words\": 48231, \"gross\": 126.0}, {\"imdb_id\": \"tt0109450\", \"words\": 131190, \"gross\": 120.0}, {\"imdb_id\": \"tt0455960\", \"words\": 13080, \"gross\": 120.0}, {\"imdb_id\": \"tt1700845\", \"words\": 63699, \"gross\": 119.0}, {\"imdb_id\": \"tt1772240\", \"words\": 5156, \"gross\": 114.0}, {\"imdb_id\": \"tt0235737\", \"words\": 82272, \"gross\": 112.0}, {\"imdb_id\": \"tt1726669\", \"words\": 81477, \"gross\": 108.0}, {\"imdb_id\": \"tt1127715\", \"words\": 25776, \"gross\": 108.0}, {\"imdb_id\": \"tt0800240\", \"words\": 54621, \"gross\": 105.0}, {\"imdb_id\": \"tt0434541\", \"words\": 76037, \"gross\": 104.0}, {\"imdb_id\": \"tt1266029\", \"words\": 78489, \"gross\": 102.0}, {\"imdb_id\": \"tt2692904\", \"words\": 108636, \"gross\": 96.0}, {\"imdb_id\": \"tt0118647\", \"words\": 116148, \"gross\": 96.0}, {\"imdb_id\": \"tt0804516\", \"words\": 37182, \"gross\": 90.0}, {\"imdb_id\": \"tt2350496\", \"words\": 20636, \"gross\": 88.0}, {\"imdb_id\": \"tt0106471\", \"words\": 53136, \"gross\": 81.0}, {\"imdb_id\": \"tt0381681\", \"words\": 45115, \"gross\": 80.0}, {\"imdb_id\": \"tt0110604\", \"words\": 34270, \"gross\": 80.0}, {\"imdb_id\": \"tt3172532\", \"words\": 122745, \"gross\": 75.0}, {\"imdb_id\": \"tt1462758\", \"words\": 132792, \"gross\": 66.0}, {\"imdb_id\": \"tt3416744\", \"words\": 23947, \"gross\": 63.0}, {\"imdb_id\": \"tt2370248\", \"words\": 78252, \"gross\": 60.0}, {\"imdb_id\": \"tt0112471\", \"words\": 33060, \"gross\": 60.0}, {\"imdb_id\": \"tt1321860\", \"words\": 124040, \"gross\": 60.0}, {\"imdb_id\": \"tt1242460\", \"words\": 103935, \"gross\": 60.0}, {\"imdb_id\": \"tt1423995\", \"words\": 126910, \"gross\": 56.0}, {\"imdb_id\": \"tt0219822\", \"words\": 211244, \"gross\": 55.0}, {\"imdb_id\": \"tt0238380\", \"words\": 34254, \"gross\": 55.0}, {\"imdb_id\": \"tt0106447\", \"words\": 115236, \"gross\": 45.0}, {\"imdb_id\": \"tt1969062\", \"words\": 100875, \"gross\": 45.0}, {\"imdb_id\": \"tt2053425\", \"words\": 71512, \"gross\": 42.0}, {\"imdb_id\": \"tt2404461\", \"words\": 55125, \"gross\": 35.0}, {\"imdb_id\": \"tt3099498\", \"words\": 46776, \"gross\": 30.0}, {\"imdb_id\": \"tt0058946\", \"words\": 24810, \"gross\": 30.0}, {\"imdb_id\": \"tt2345737\", \"words\": 24087, \"gross\": 28.0}, {\"imdb_id\": \"tt1592281\", \"words\": 58541, \"gross\": 21.0}, {\"imdb_id\": \"tt3808342\", \"words\": 5552, \"gross\": 0.0}, {\"imdb_id\": \"tt1486190\", \"words\": 287204, \"gross\": 0.0}, {\"imdb_id\": \"tt1480656\", \"words\": 134064, \"gross\": 0.0}, {\"imdb_id\": \"tt1586752\", \"words\": 179536, \"gross\": 0.0}, {\"imdb_id\": \"tt3722070\", \"words\": 195569, \"gross\": 0.0}, {\"imdb_id\": \"tt0453548\", \"words\": 180180, \"gross\": 0.0}, {\"imdb_id\": \"tt1278379\", \"words\": 72432, \"gross\": 0.0}, {\"imdb_id\": \"tt0803057\", \"words\": 100283, \"gross\": 0.0}, {\"imdb_id\": \"tt1602613\", \"words\": 76193, \"gross\": 0.0}, {\"imdb_id\": \"tt0110265\", \"words\": 102000, \"gross\": 0.0}, {\"imdb_id\": \"tt0276816\", \"words\": 143854, \"gross\": 0.0}, {\"imdb_id\": \"tt0123755\", \"words\": 23292, \"gross\": 0.0}, {\"imdb_id\": \"tt0387808\", \"words\": 158171, \"gross\": 0.0}, {\"imdb_id\": \"tt1372686\", \"words\": 200142, \"gross\": 0.0}, {\"imdb_id\": \"tt0120238\", \"words\": 139818, \"gross\": 0.0}, {\"imdb_id\": \"tt1226271\", \"words\": 423552, \"gross\": 0.0}, {\"imdb_id\": \"tt2321549\", \"words\": 53352, \"gross\": 0.0}, {\"imdb_id\": \"tt1233334\", \"words\": 45917, \"gross\": 0.0}, {\"imdb_id\": \"tt0247199\", \"words\": 459916, \"gross\": 0.0}]}}, {\"mode\": \"vega-lite\"});\n",
       "</script>"
      ],
      "text/plain": [
       "alt.LayerChart(...)"
      ]
     },
     "execution_count": 105,
     "metadata": {},
     "output_type": "execute_result"
    }
   ],
   "source": [
    "source = df2\n",
    "\n",
    "line = alt.Chart(source, title='Words_sum & Gross Each Film').mark_line().encode(\n",
    "    x=alt.X('words:Q', title='words sum in each film'),\n",
    "    y=alt.Y('gross:Q', title='inflation-adjusted gross'),\n",
    ").properties(width=1000)\n",
    "\n",
    "points = alt.Chart(source).mark_circle(size=50).encode(\n",
    "    x=alt.X('words:Q', title='words sum in each film'),\n",
    "    y=alt.Y('gross:Q', title='inflation-adjusted gross'),\n",
    "    tooltip=[alt.Tooltip('words:Q', title='words', format=','),\n",
    "             alt.Tooltip('gross:Q', title='gross', format=',')]\n",
    ").properties(width=1000)\n",
    "\n",
    "chart = line + points\n",
    "chart"
   ]
  },
  {
   "cell_type": "code",
   "execution_count": 106,
   "metadata": {},
   "outputs": [
    {
     "data": {
      "text/html": [
       "\n",
       "<style>\n",
       "  #altair-viz-132b98995a744d2db4238b68ef1d76ee.vega-embed {\n",
       "    width: 100%;\n",
       "    display: flex;\n",
       "  }\n",
       "\n",
       "  #altair-viz-132b98995a744d2db4238b68ef1d76ee.vega-embed details,\n",
       "  #altair-viz-132b98995a744d2db4238b68ef1d76ee.vega-embed details summary {\n",
       "    position: relative;\n",
       "  }\n",
       "</style>\n",
       "<div id=\"altair-viz-132b98995a744d2db4238b68ef1d76ee\"></div>\n",
       "<script type=\"text/javascript\">\n",
       "  var VEGA_DEBUG = (typeof VEGA_DEBUG == \"undefined\") ? {} : VEGA_DEBUG;\n",
       "  (function(spec, embedOpt){\n",
       "    let outputDiv = document.currentScript.previousElementSibling;\n",
       "    if (outputDiv.id !== \"altair-viz-132b98995a744d2db4238b68ef1d76ee\") {\n",
       "      outputDiv = document.getElementById(\"altair-viz-132b98995a744d2db4238b68ef1d76ee\");\n",
       "    }\n",
       "    const paths = {\n",
       "      \"vega\": \"https://cdn.jsdelivr.net/npm/vega@5?noext\",\n",
       "      \"vega-lib\": \"https://cdn.jsdelivr.net/npm/vega-lib?noext\",\n",
       "      \"vega-lite\": \"https://cdn.jsdelivr.net/npm/vega-lite@5.16.3?noext\",\n",
       "      \"vega-embed\": \"https://cdn.jsdelivr.net/npm/vega-embed@6?noext\",\n",
       "    };\n",
       "\n",
       "    function maybeLoadScript(lib, version) {\n",
       "      var key = `${lib.replace(\"-\", \"\")}_version`;\n",
       "      return (VEGA_DEBUG[key] == version) ?\n",
       "        Promise.resolve(paths[lib]) :\n",
       "        new Promise(function(resolve, reject) {\n",
       "          var s = document.createElement('script');\n",
       "          document.getElementsByTagName(\"head\")[0].appendChild(s);\n",
       "          s.async = true;\n",
       "          s.onload = () => {\n",
       "            VEGA_DEBUG[key] = version;\n",
       "            return resolve(paths[lib]);\n",
       "          };\n",
       "          s.onerror = () => reject(`Error loading script: ${paths[lib]}`);\n",
       "          s.src = paths[lib];\n",
       "        });\n",
       "    }\n",
       "\n",
       "    function showError(err) {\n",
       "      outputDiv.innerHTML = `<div class=\"error\" style=\"color:red;\">${err}</div>`;\n",
       "      throw err;\n",
       "    }\n",
       "\n",
       "    function displayChart(vegaEmbed) {\n",
       "      vegaEmbed(outputDiv, spec, embedOpt)\n",
       "        .catch(err => showError(`Javascript Error: ${err.message}<br>This usually means there's a typo in your chart specification. See the javascript console for the full traceback.`));\n",
       "    }\n",
       "\n",
       "    if(typeof define === \"function\" && define.amd) {\n",
       "      requirejs.config({paths});\n",
       "      require([\"vega-embed\"], displayChart, err => showError(`Error loading script: ${err.message}`));\n",
       "    } else {\n",
       "      maybeLoadScript(\"vega\", \"5\")\n",
       "        .then(() => maybeLoadScript(\"vega-lite\", \"5.16.3\"))\n",
       "        .then(() => maybeLoadScript(\"vega-embed\", \"6\"))\n",
       "        .catch(showError)\n",
       "        .then(() => displayChart(vegaEmbed));\n",
       "    }\n",
       "  })({\"config\": {\"view\": {\"continuousWidth\": 300, \"continuousHeight\": 300}}, \"layer\": [{\"mark\": {\"type\": \"line\"}, \"encoding\": {\"x\": {\"field\": \"words\", \"scale\": {\"domain\": [0, 1200000]}, \"title\": \"words sum in each film\", \"type\": \"quantitative\"}, \"y\": {\"field\": \"gross\", \"scale\": {\"domain\": [0, 1000000]}, \"title\": \"inflation-adjusted gross\", \"type\": \"quantitative\"}}, \"title\": \"Words_sum & Gross Each Film\"}, {\"mark\": {\"type\": \"circle\", \"size\": 50}, \"encoding\": {\"tooltip\": [{\"field\": \"words\", \"format\": \",\", \"title\": \"words\", \"type\": \"quantitative\"}, {\"field\": \"gross\", \"format\": \",\", \"title\": \"gross\", \"type\": \"quantitative\"}], \"x\": {\"field\": \"words\", \"scale\": {\"domain\": [0, 1200000]}, \"title\": \"words sum in each film\", \"type\": \"quantitative\"}, \"y\": {\"field\": \"gross\", \"scale\": {\"domain\": [0, 1000000]}, \"title\": \"inflation-adjusted gross\", \"type\": \"quantitative\"}}}], \"data\": {\"name\": \"data-5915ef13618782285214f24751f66438\"}, \"width\": 1000, \"$schema\": \"https://vega.github.io/schema/vega-lite/v5.16.3.json\", \"datasets\": {\"data-5915ef13618782285214f24751f66438\": [{\"imdb_id\": \"tt0468569\", \"words\": 2147832, \"gross\": 1157130.0}, {\"imdb_id\": \"tt0120338\", \"words\": 496908, \"gross\": 913019.0}, {\"imdb_id\": \"tt0076759\", \"words\": 187283, \"gross\": 478268.0}, {\"imdb_id\": \"tt0120915\", \"words\": 299715, \"gross\": 400809.0}, {\"imdb_id\": \"tt0068646\", \"words\": 385230, \"gross\": 393300.0}, {\"imdb_id\": \"tt0106977\", \"words\": 624348, \"gross\": 362840.0}, {\"imdb_id\": \"tt0330373\", \"words\": 688940, \"gross\": 330120.0}, {\"imdb_id\": \"tt0102138\", \"words\": 4033950, \"gross\": 282750.0}, {\"imdb_id\": \"tt1345836\", \"words\": 398541, \"gross\": 266994.0}, {\"imdb_id\": \"tt0080684\", \"words\": 207138, \"gross\": 258612.0}, {\"imdb_id\": \"tt0499549\", \"words\": 375936, \"gross\": 252252.0}, {\"imdb_id\": \"tt0266543\", \"words\": 452592, \"gross\": 237168.0}, {\"imdb_id\": \"tt0073195\", \"words\": 192843, \"gross\": 231630.0}, {\"imdb_id\": \"tt0070735\", \"words\": 121900, \"gross\": 220080.0}, {\"imdb_id\": \"tt0071562\", \"words\": 689866, \"gross\": 218120.0}, {\"imdb_id\": \"tt0107290\", \"words\": 202521, \"gross\": 200872.0}, {\"imdb_id\": \"tt0295297\", \"words\": 405240, \"gross\": 197568.0}, {\"imdb_id\": \"tt0435761\", \"words\": 270405, \"gross\": 197424.0}, {\"imdb_id\": \"tt2488496\", \"words\": 134652, \"gross\": 194670.0}, {\"imdb_id\": \"tt1259571\", \"words\": 608600, \"gross\": 187136.0}, {\"imdb_id\": \"tt0848228\", \"words\": 232740, \"gross\": 183600.0}, {\"imdb_id\": \"tt0077766\", \"words\": 217442, \"gross\": 177248.0}, {\"imdb_id\": \"tt0099348\", \"words\": 421476, \"gross\": 174636.0}, {\"imdb_id\": \"tt0116629\", \"words\": 114969, \"gross\": 171570.0}, {\"imdb_id\": \"tt0069704\", \"words\": 212842, \"gross\": 168935.0}, {\"imdb_id\": \"tt0383574\", \"words\": 227000, \"gross\": 168300.0}, {\"imdb_id\": \"tt0304141\", \"words\": 356063, \"gross\": 168084.0}, {\"imdb_id\": \"tt0099810\", \"words\": 371370, \"gross\": 157500.0}, {\"imdb_id\": \"tt0265086\", \"words\": 308402, \"gross\": 157481.0}, {\"imdb_id\": \"tt0116695\", \"words\": 792870, \"gross\": 153621.0}, {\"imdb_id\": \"tt0443272\", \"words\": 474192, \"gross\": 146520.0}, {\"imdb_id\": \"tt0121765\", \"words\": 157815, \"gross\": 146475.0}, {\"imdb_id\": \"tt0109830\", \"words\": 209070, \"gross\": 142002.0}, {\"imdb_id\": \"tt0129387\", \"words\": 622242, \"gross\": 140832.0}, {\"imdb_id\": \"tt0086190\", \"words\": 81440, \"gross\": 136480.0}, {\"imdb_id\": \"tt0091763\", \"words\": 500340, \"gross\": 135660.0}, {\"imdb_id\": \"tt0167260\", \"words\": 76627, \"gross\": 134121.0}, {\"imdb_id\": \"tt0413267\", \"words\": 253170, \"gross\": 133650.0}, {\"imdb_id\": \"tt0104257\", \"words\": 1031000, \"gross\": 132750.0}, {\"imdb_id\": \"tt0167261\", \"words\": 92922, \"gross\": 129795.0}, {\"imdb_id\": \"tt0097428\", \"words\": 745734, \"gross\": 129360.0}, {\"imdb_id\": \"tt0240772\", \"words\": 763572, \"gross\": 128136.0}, {\"imdb_id\": \"tt0417741\", \"words\": 329394, \"gross\": 127400.0}, {\"imdb_id\": \"tt1190080\", \"words\": 559158, \"gross\": 125952.0}, {\"imdb_id\": \"tt0066026\", \"words\": 329050, \"gross\": 125950.0}, {\"imdb_id\": \"tt0118571\", \"words\": 148104, \"gross\": 125568.0}, {\"imdb_id\": \"tt0122933\", \"words\": 1020456, \"gross\": 125172.0}, {\"imdb_id\": \"tt0372784\", \"words\": 229350, \"gross\": 125100.0}, {\"imdb_id\": \"tt0061852\", \"words\": 77660, \"gross\": 124509.0}, {\"imdb_id\": \"tt0112641\", \"words\": 4699594, \"gross\": 122640.0}, {\"imdb_id\": \"tt0032138\", \"words\": 129864, \"gross\": 117460.0}, {\"imdb_id\": \"tt0071230\", \"words\": 106302, \"gross\": 117180.0}, {\"imdb_id\": \"tt0095016\", \"words\": 626320, \"gross\": 116960.0}, {\"imdb_id\": \"tt0120660\", \"words\": 522060, \"gross\": 116127.0}, {\"imdb_id\": \"tt0121766\", \"words\": 270980, \"gross\": 113300.0}, {\"imdb_id\": \"tt0332452\", \"words\": 970224, \"gross\": 113274.0}, {\"imdb_id\": \"tt0083511\", \"words\": 669312, \"gross\": 112896.0}, {\"imdb_id\": \"tt1216475\", \"words\": 432360, \"gross\": 112860.0}, {\"imdb_id\": \"tt0159365\", \"words\": 913770, \"gross\": 112203.0}, {\"imdb_id\": \"tt0878804\", \"words\": 413943, \"gross\": 110112.0}, {\"imdb_id\": \"tt0241527\", \"words\": 123184, \"gross\": 109312.0}, {\"imdb_id\": \"tt0102798\", \"words\": 317457, \"gross\": 108045.0}, {\"imdb_id\": \"tt0120737\", \"words\": 139120, \"gross\": 107968.0}, {\"imdb_id\": \"tt0075148\", \"words\": 141168, \"gross\": 106848.0}, {\"imdb_id\": \"tt0110357\", \"words\": 33144, \"gross\": 105600.0}, {\"imdb_id\": \"tt0117060\", \"words\": 334488, \"gross\": 104664.0}, {\"imdb_id\": \"tt2179136\", \"words\": 111259, \"gross\": 103788.0}, {\"imdb_id\": \"tt1001508\", \"words\": 1063458, \"gross\": 102787.0}, {\"imdb_id\": \"tt0181689\", \"words\": 467466, \"gross\": 100470.0}, {\"imdb_id\": \"tt0087332\", \"words\": 225351, \"gross\": 99456.0}, {\"imdb_id\": \"tt0069113\", \"words\": 100113, \"gross\": 97308.0}, {\"imdb_id\": \"tt0092007\", \"words\": 232075, \"gross\": 96375.0}, {\"imdb_id\": \"tt0081573\", \"words\": 133998, \"gross\": 96324.0}, {\"imdb_id\": \"tt0120591\", \"words\": 144417, \"gross\": 94248.0}, {\"imdb_id\": \"tt1000774\", \"words\": 1075824, \"gross\": 93240.0}, {\"imdb_id\": \"tt0181865\", \"words\": 251227, \"gross\": 92800.0}, {\"imdb_id\": \"tt0099423\", \"words\": 277965, \"gross\": 91234.0}, {\"imdb_id\": \"tt1024648\", \"words\": 375496, \"gross\": 91168.0}, {\"imdb_id\": \"tt1392170\", \"words\": 142783, \"gross\": 90780.0}, {\"imdb_id\": \"tt0449088\", \"words\": 168672, \"gross\": 90090.0}, {\"imdb_id\": \"tt0478311\", \"words\": 690704, \"gross\": 89488.0}, {\"imdb_id\": \"tt1099212\", \"words\": 337776, \"gross\": 88704.0}, {\"imdb_id\": \"tt0112346\", \"words\": 1398480, \"gross\": 88400.0}, {\"imdb_id\": \"tt0112462\", \"words\": 288912, \"gross\": 88320.0}, {\"imdb_id\": \"tt0407887\", \"words\": 937728, \"gross\": 88200.0}, {\"imdb_id\": \"tt0163187\", \"words\": 541372, \"gross\": 87880.0}, {\"imdb_id\": \"tt0093565\", \"words\": 611590, \"gross\": 87710.0}, {\"imdb_id\": \"tt1707386\", \"words\": 470376, \"gross\": 87480.0}, {\"imdb_id\": \"tt0053291\", \"words\": 241587, \"gross\": 86904.0}, {\"imdb_id\": \"tt0107818\", \"words\": 524636, \"gross\": 86346.0}, {\"imdb_id\": \"tt0372183\", \"words\": 253044, \"gross\": 86346.0}, {\"imdb_id\": \"tt0138097\", \"words\": 591624, \"gross\": 85470.0}, {\"imdb_id\": \"tt0097576\", \"words\": 325424, \"gross\": 85338.0}, {\"imdb_id\": \"tt0123964\", \"words\": 1062984, \"gross\": 85020.0}, {\"imdb_id\": \"tt0108160\", \"words\": 301774, \"gross\": 84854.0}, {\"imdb_id\": \"tt0117500\", \"words\": 146300, \"gross\": 84160.0}, {\"imdb_id\": \"tt0097165\", \"words\": 644672, \"gross\": 82320.0}, {\"imdb_id\": \"tt0363771\", \"words\": 78999, \"gross\": 80784.0}, {\"imdb_id\": \"tt0084434\", \"words\": 216315, \"gross\": 80256.0}, {\"imdb_id\": \"tt0119822\", \"words\": 628472, \"gross\": 80080.0}, {\"imdb_id\": \"tt3659388\", \"words\": 211806, \"gross\": 78960.0}, {\"imdb_id\": \"tt0290334\", \"words\": 81144, \"gross\": 78120.0}, {\"imdb_id\": \"tt1152836\", \"words\": 377006, \"gross\": 76832.0}, {\"imdb_id\": \"tt0163651\", \"words\": 471312, \"gross\": 75168.0}, {\"imdb_id\": \"tt0119567\", \"words\": 140752, \"gross\": 74214.0}, {\"imdb_id\": \"tt0167404\", \"words\": 234654, \"gross\": 73941.0}, {\"imdb_id\": \"tt0120667\", \"words\": 477576, \"gross\": 73710.0}, {\"imdb_id\": \"tt1014759\", \"words\": 107960, \"gross\": 73600.0}, {\"imdb_id\": \"tt0113161\", \"words\": 734332, \"gross\": 73440.0}, {\"imdb_id\": \"tt0172495\", \"words\": 400356, \"gross\": 73326.0}, {\"imdb_id\": \"tt0100802\", \"words\": 175890, \"gross\": 73200.0}, {\"imdb_id\": \"tt0114369\", \"words\": 570024, \"gross\": 72800.0}, {\"imdb_id\": \"tt0453562\", \"words\": 584235, \"gross\": 72720.0}, {\"imdb_id\": \"tt0122151\", \"words\": 517750, \"gross\": 72300.0}, {\"imdb_id\": \"tt0081375\", \"words\": 250320, \"gross\": 72000.0}, {\"imdb_id\": \"tt0088170\", \"words\": 178984, \"gross\": 71708.0}, {\"imdb_id\": \"tt0360717\", \"words\": 328560, \"gross\": 70800.0}, {\"imdb_id\": \"tt0325980\", \"words\": 187600, \"gross\": 70400.0}, {\"imdb_id\": \"tt1735898\", \"words\": 347334, \"gross\": 70304.0}, {\"imdb_id\": \"tt0108358\", \"words\": 236495, \"gross\": 70210.0}, {\"imdb_id\": \"tt0117705\", \"words\": 149589, \"gross\": 70092.0}, {\"imdb_id\": \"tt0092099\", \"words\": 275820, \"gross\": 69630.0}, {\"imdb_id\": \"tt0120082\", \"words\": 169296, \"gross\": 68760.0}, {\"imdb_id\": \"tt0119528\", \"words\": 151860, \"gross\": 68600.0}, {\"imdb_id\": \"tt0119654\", \"words\": 96960, \"gross\": 68112.0}, {\"imdb_id\": \"tt0985699\", \"words\": 540464, \"gross\": 68000.0}, {\"imdb_id\": \"tt0101414\", \"words\": 146160, \"gross\": 67800.0}, {\"imdb_id\": \"tt1790885\", \"words\": 429794, \"gross\": 67184.0}, {\"imdb_id\": \"tt0128853\", \"words\": 640752, \"gross\": 67080.0}, {\"imdb_id\": \"tt0101921\", \"words\": 284391, \"gross\": 66825.0}, {\"imdb_id\": \"tt0118971\", \"words\": 913562, \"gross\": 66010.0}, {\"imdb_id\": \"tt1637725\", \"words\": 308975, \"gross\": 65725.0}, {\"imdb_id\": \"tt1453405\", \"words\": 115330, \"gross\": 65208.0}, {\"imdb_id\": \"tt0361748\", \"words\": 409131, \"gross\": 64260.0}, {\"imdb_id\": \"tt0198781\", \"words\": 137579, \"gross\": 63635.0}, {\"imdb_id\": \"tt0053285\", \"words\": 40869, \"gross\": 63360.0}, {\"imdb_id\": \"tt0175880\", \"words\": 2164710, \"gross\": 62776.0}, {\"imdb_id\": \"tt0221027\", \"words\": 1066572, \"gross\": 62694.0}, {\"imdb_id\": \"tt0146838\", \"words\": 569754, \"gross\": 62694.0}, {\"imdb_id\": \"tt0079417\", \"words\": 184025, \"gross\": 62390.0}, {\"imdb_id\": \"tt0120689\", \"words\": 235695, \"gross\": 62244.0}, {\"imdb_id\": \"tt0090605\", \"words\": 317664, \"gross\": 62088.0}, {\"imdb_id\": \"tt0800369\", \"words\": 463166, \"gross\": 60984.0}, {\"imdb_id\": \"tt0195685\", \"words\": 384723, \"gross\": 60291.0}, {\"imdb_id\": \"tt0458339\", \"words\": 183540, \"gross\": 59752.0}, {\"imdb_id\": \"tt0817230\", \"words\": 234987, \"gross\": 59653.0}, {\"imdb_id\": \"tt0099653\", \"words\": 368828, \"gross\": 59584.0}, {\"imdb_id\": \"tt0079945\", \"words\": 166060, \"gross\": 59565.0}, {\"imdb_id\": \"tt0084805\", \"words\": 39984, \"gross\": 58576.0}, {\"imdb_id\": \"tt1454029\", \"words\": 545664, \"gross\": 58032.0}, {\"imdb_id\": \"tt0213149\", \"words\": 113468, \"gross\": 57950.0}, {\"imdb_id\": \"tt0086393\", \"words\": 259578, \"gross\": 57915.0}, {\"imdb_id\": \"tt0101393\", \"words\": 660000, \"gross\": 57600.0}, {\"imdb_id\": \"tt0319343\", \"words\": 207322, \"gross\": 57270.0}, {\"imdb_id\": \"tt0107798\", \"words\": 210060, \"gross\": 57240.0}, {\"imdb_id\": \"tt0086425\", \"words\": 166200, \"gross\": 57216.0}, {\"imdb_id\": \"tt1690953\", \"words\": 89088, \"gross\": 56592.0}, {\"imdb_id\": \"tt0389790\", \"words\": 246294, \"gross\": 56160.0}, {\"imdb_id\": \"tt1285016\", \"words\": 648813, \"gross\": 55968.0}, {\"imdb_id\": \"tt0822832\", \"words\": 394174, \"gross\": 55706.0}, {\"imdb_id\": \"tt0080487\", \"words\": 304916, \"gross\": 55552.0}, {\"imdb_id\": \"tt0349903\", \"words\": 386946, \"gross\": 55440.0}, {\"imdb_id\": \"tt0094291\", \"words\": 1094704, \"gross\": 55290.0}, {\"imdb_id\": \"tt0486946\", \"words\": 398140, \"gross\": 55120.0}, {\"imdb_id\": \"tt1375666\", \"words\": 256428, \"gross\": 54910.0}, {\"imdb_id\": \"tt0185431\", \"words\": 562302, \"gross\": 54054.0}, {\"imdb_id\": \"tt0218967\", \"words\": 735852, \"gross\": 53924.0}, {\"imdb_id\": \"tt0327056\", \"words\": 325952, \"gross\": 53664.0}, {\"imdb_id\": \"tt0396269\", \"words\": 323986, \"gross\": 52921.0}, {\"imdb_id\": \"tt0264464\", \"words\": 269784, \"gross\": 52920.0}, {\"imdb_id\": \"tt0088763\", \"words\": 131563, \"gross\": 52734.0}, {\"imdb_id\": \"tt0120762\", \"words\": 256680, \"gross\": 52416.0}, {\"imdb_id\": \"tt0416449\", \"words\": 164101, \"gross\": 52360.0}, {\"imdb_id\": \"tt0259446\", \"words\": 109872, \"gross\": 51840.0}, {\"imdb_id\": \"tt0111503\", \"words\": 365902, \"gross\": 51813.0}, {\"imdb_id\": \"tt0440963\", \"words\": 182232, \"gross\": 51660.0}, {\"imdb_id\": \"tt0993846\", \"words\": 490477, \"gross\": 50750.0}, {\"imdb_id\": \"tt0109040\", \"words\": 254856, \"gross\": 50400.0}, {\"imdb_id\": \"tt0316654\", \"words\": 101244, \"gross\": 50112.0}, {\"imdb_id\": \"tt0097815\", \"words\": 894748, \"gross\": 49704.0}, {\"imdb_id\": \"tt0261392\", \"words\": 1024690, \"gross\": 49450.0}, {\"imdb_id\": \"tt0816692\", \"words\": 179797, \"gross\": 49400.0}, {\"imdb_id\": \"tt0099785\", \"words\": 35728, \"gross\": 49392.0}, {\"imdb_id\": \"tt0151738\", \"words\": 709586, \"gross\": 49210.0}, {\"imdb_id\": \"tt0765429\", \"words\": 154780, \"gross\": 49200.0}, {\"imdb_id\": \"tt0054215\", \"words\": 69759, \"gross\": 49050.0}, {\"imdb_id\": \"tt0415306\", \"words\": 172275, \"gross\": 49000.0}, {\"imdb_id\": \"tt0103855\", \"words\": 212560, \"gross\": 48960.0}, {\"imdb_id\": \"tt0338751\", \"words\": 377910, \"gross\": 48672.0}, {\"imdb_id\": \"tt0375679\", \"words\": 331904, \"gross\": 48640.0}, {\"imdb_id\": \"tt0120755\", \"words\": 290696, \"gross\": 48580.0}, {\"imdb_id\": \"tt0111280\", \"words\": 194480, \"gross\": 48356.0}, {\"imdb_id\": \"tt0365737\", \"words\": 500795, \"gross\": 47804.0}, {\"imdb_id\": \"tt0094898\", \"words\": 112368, \"gross\": 47520.0}, {\"imdb_id\": \"tt1327773\", \"words\": 243049, \"gross\": 47125.0}, {\"imdb_id\": \"tt0369339\", \"words\": 294952, \"gross\": 47040.0}, {\"imdb_id\": \"tt2267998\", \"words\": 270144, \"gross\": 46992.0}, {\"imdb_id\": \"tt0113277\", \"words\": 109425, \"gross\": 46900.0}, {\"imdb_id\": \"tt0102975\", \"words\": 167694, \"gross\": 46816.0}, {\"imdb_id\": \"tt0110912\", \"words\": 165072, \"gross\": 46816.0}, {\"imdb_id\": \"tt0441773\", \"words\": 203760, \"gross\": 46800.0}, {\"imdb_id\": \"tt0118688\", \"words\": 207942, \"gross\": 46662.0}, {\"imdb_id\": \"tt0311113\", \"words\": 188876, \"gross\": 46575.0}, {\"imdb_id\": \"tt0120863\", \"words\": 560967, \"gross\": 46431.0}, {\"imdb_id\": \"tt0096895\", \"words\": 52514, \"gross\": 46200.0}, {\"imdb_id\": \"tt0096754\", \"words\": 377364, \"gross\": 46020.0}, {\"imdb_id\": \"tt1020072\", \"words\": 549340, \"gross\": 45980.0}, {\"imdb_id\": \"tt0280707\", \"words\": 347004, \"gross\": 44982.0}, {\"imdb_id\": \"tt0367882\", \"words\": 139100, \"gross\": 44928.0}, {\"imdb_id\": \"tt0096320\", \"words\": 157878, \"gross\": 44793.0}, {\"imdb_id\": \"tt0097958\", \"words\": 169347, \"gross\": 44460.0}, {\"imdb_id\": \"tt0266915\", \"words\": 263680, \"gross\": 44416.0}, {\"imdb_id\": \"tt0109686\", \"words\": 380310, \"gross\": 44352.0}, {\"imdb_id\": \"tt0107206\", \"words\": 187381, \"gross\": 44298.0}, {\"imdb_id\": \"tt0105695\", \"words\": 155420, \"gross\": 44099.0}, {\"imdb_id\": \"tt0118749\", \"words\": 702880, \"gross\": 44000.0}, {\"imdb_id\": \"tt0105417\", \"words\": 125325, \"gross\": 43950.0}, {\"imdb_id\": \"tt1568911\", \"words\": 159912, \"gross\": 43848.0}, {\"imdb_id\": \"tt0091167\", \"words\": 981584, \"gross\": 43710.0}, {\"imdb_id\": \"tt1325004\", \"words\": 52096, \"gross\": 43692.0}, {\"imdb_id\": \"tt0119282\", \"words\": 183519, \"gross\": 43197.0}, {\"imdb_id\": \"tt1568346\", \"words\": 333531, \"gross\": 42714.0}, {\"imdb_id\": \"tt0465234\", \"words\": 196112, \"gross\": 42534.0}, {\"imdb_id\": \"tt0090022\", \"words\": 234045, \"gross\": 42525.0}, {\"imdb_id\": \"tt0116209\", \"words\": 394600, \"gross\": 42350.0}, {\"imdb_id\": \"tt0086465\", \"words\": 145554, \"gross\": 42330.0}, {\"imdb_id\": \"tt1478338\", \"words\": 207290, \"gross\": 42180.0}, {\"imdb_id\": \"tt0382932\", \"words\": 134622, \"gross\": 42120.0}, {\"imdb_id\": \"tt0109446\", \"words\": 96420, \"gross\": 42020.0}, {\"imdb_id\": \"tt1205489\", \"words\": 700076, \"gross\": 41886.0}, {\"imdb_id\": \"tt1650062\", \"words\": 201000, \"gross\": 41700.0}, {\"imdb_id\": \"tt1800241\", \"words\": 416420, \"gross\": 41600.0}, {\"imdb_id\": \"tt0125439\", \"words\": 416514, \"gross\": 41580.0}, {\"imdb_id\": \"tt0102926\", \"words\": 184314, \"gross\": 41310.0}, {\"imdb_id\": \"tt0116996\", \"words\": 190185, \"gross\": 41292.0}, {\"imdb_id\": \"tt0258463\", \"words\": 119586, \"gross\": 41268.0}, {\"imdb_id\": \"tt0112573\", \"words\": 115626, \"gross\": 41223.0}, {\"imdb_id\": \"tt2096673\", \"words\": 105448, \"gross\": 41104.0}, {\"imdb_id\": \"tt0454848\", \"words\": 324108, \"gross\": 41067.0}, {\"imdb_id\": \"tt0080339\", \"words\": 97717, \"gross\": 40888.0}, {\"imdb_id\": \"tt2024544\", \"words\": 662080, \"gross\": 40800.0}, {\"imdb_id\": \"tt0102057\", \"words\": 112605, \"gross\": 40755.0}, {\"imdb_id\": \"tt0936501\", \"words\": 120004, \"gross\": 39900.0}, {\"imdb_id\": \"tt0104691\", \"words\": 255984, \"gross\": 39864.0}, {\"imdb_id\": \"tt0317705\", \"words\": 70308, \"gross\": 39420.0}, {\"imdb_id\": \"tt0443706\", \"words\": 534240, \"gross\": 39360.0}, {\"imdb_id\": \"tt1284575\", \"words\": 357264, \"gross\": 39240.0}, {\"imdb_id\": \"tt0110148\", \"words\": 415512, \"gross\": 39240.0}, {\"imdb_id\": \"tt0070047\", \"words\": 125220, \"gross\": 39000.0}, {\"imdb_id\": \"tt0119116\", \"words\": 174975, \"gross\": 39000.0}, {\"imdb_id\": \"tt0106582\", \"words\": 165020, \"gross\": 38720.0}, {\"imdb_id\": \"tt0096438\", \"words\": 138176, \"gross\": 38675.0}, {\"imdb_id\": \"tt0119217\", \"words\": 467124, \"gross\": 38367.0}, {\"imdb_id\": \"tt0084855\", \"words\": 499536, \"gross\": 38160.0}, {\"imdb_id\": \"tt0103064\", \"words\": 70620, \"gross\": 38070.0}, {\"imdb_id\": \"tt0125664\", \"words\": 777238, \"gross\": 37583.0}, {\"imdb_id\": \"tt0472181\", \"words\": 204240, \"gross\": 37440.0}, {\"imdb_id\": \"tt0110475\", \"words\": 89625, \"gross\": 37350.0}, {\"imdb_id\": \"tt0143145\", \"words\": 210482, \"gross\": 37107.0}, {\"imdb_id\": \"tt1010048\", \"words\": 488870, \"gross\": 36890.0}, {\"imdb_id\": \"tt0408306\", \"words\": 334336, \"gross\": 36864.0}, {\"imdb_id\": \"tt0177789\", \"words\": 238075, \"gross\": 36600.0}, {\"imdb_id\": \"tt0251160\", \"words\": 150351, \"gross\": 36570.0}, {\"imdb_id\": \"tt1046173\", \"words\": 208710, \"gross\": 36540.0}, {\"imdb_id\": \"tt0117571\", \"words\": 154980, \"gross\": 36360.0}, {\"imdb_id\": \"tt0092699\", \"words\": 882752, \"gross\": 36160.0}, {\"imdb_id\": \"tt0093058\", \"words\": 331250, \"gross\": 36050.0}, {\"imdb_id\": \"tt0134084\", \"words\": 277776, \"gross\": 36036.0}, {\"imdb_id\": \"tt0421715\", \"words\": 211032, \"gross\": 35802.0}, {\"imdb_id\": \"tt0094721\", \"words\": 204839, \"gross\": 35340.0}, {\"imdb_id\": \"tt0186566\", \"words\": 207856, \"gross\": 35332.0}, {\"imdb_id\": \"tt0910936\", \"words\": 350832, \"gross\": 35280.0}, {\"imdb_id\": \"tt0449467\", \"words\": 608520, \"gross\": 35100.0}, {\"imdb_id\": \"tt0093409\", \"words\": 302984, \"gross\": 35090.0}, {\"imdb_id\": \"tt0134119\", \"words\": 465444, \"gross\": 35028.0}, {\"imdb_id\": \"tt1386588\", \"words\": 183293, \"gross\": 34846.0}, {\"imdb_id\": \"tt3682448\", \"words\": 378726, \"gross\": 34780.0}, {\"imdb_id\": \"tt0120201\", \"words\": 207720, \"gross\": 34608.0}, {\"imdb_id\": \"tt0096446\", \"words\": 305604, \"gross\": 34606.0}, {\"imdb_id\": \"tt0114746\", \"words\": 214710, \"gross\": 34578.0}, {\"imdb_id\": \"tt1907668\", \"words\": 320352, \"gross\": 34272.0}, {\"imdb_id\": \"tt0250494\", \"words\": 148374, \"gross\": 34164.0}, {\"imdb_id\": \"tt0298148\", \"words\": 24248, \"gross\": 34160.0}, {\"imdb_id\": \"tt0120789\", \"words\": 541940, \"gross\": 34125.0}, {\"imdb_id\": \"tt0120885\", \"words\": 738568, \"gross\": 33858.0}, {\"imdb_id\": \"tt0101272\", \"words\": 102672, \"gross\": 33840.0}, {\"imdb_id\": \"tt0072431\", \"words\": 111426, \"gross\": 33684.0}, {\"imdb_id\": \"tt2294449\", \"words\": 170064, \"gross\": 33048.0}, {\"imdb_id\": \"tt0124315\", \"words\": 215649, \"gross\": 32928.0}, {\"imdb_id\": \"tt0988045\", \"words\": 166974, \"gross\": 32912.0}, {\"imdb_id\": \"tt0162661\", \"words\": 256120, \"gross\": 32680.0}, {\"imdb_id\": \"tt2294629\", \"words\": 88578, \"gross\": 32604.0}, {\"imdb_id\": \"tt0081283\", \"words\": 513544, \"gross\": 32568.0}, {\"imdb_id\": \"tt0131369\", \"words\": 1077616, \"gross\": 32148.0}, {\"imdb_id\": \"tt0120832\", \"words\": 294864, \"gross\": 32136.0}, {\"imdb_id\": \"tt0105435\", \"words\": 189380, \"gross\": 32100.0}, {\"imdb_id\": \"tt0169547\", \"words\": 267584, \"gross\": 31968.0}, {\"imdb_id\": \"tt0087538\", \"words\": 140352, \"gross\": 31960.0}, {\"imdb_id\": \"tt0109444\", \"words\": 59738, \"gross\": 31878.0}, {\"imdb_id\": \"tt0097757\", \"words\": 136392, \"gross\": 31812.0}, {\"imdb_id\": \"tt0120616\", \"words\": 71724, \"gross\": 31800.0}, {\"imdb_id\": \"tt1230414\", \"words\": 233816, \"gross\": 31702.0}, {\"imdb_id\": \"tt1758830\", \"words\": 518049, \"gross\": 31536.0}, {\"imdb_id\": \"tt0315327\", \"words\": 125970, \"gross\": 31500.0}, {\"imdb_id\": \"tt0086200\", \"words\": 117864, \"gross\": 31500.0}, {\"imdb_id\": \"tt0047296\", \"words\": 172074, \"gross\": 31450.0}, {\"imdb_id\": \"tt0133952\", \"words\": 852264, \"gross\": 31350.0}, {\"imdb_id\": \"tt1596363\", \"words\": 268926, \"gross\": 31248.0}, {\"imdb_id\": \"tt0181875\", \"words\": 786030, \"gross\": 30940.0}, {\"imdb_id\": \"tt0096874\", \"words\": 130271, \"gross\": 30702.0}, {\"imdb_id\": \"tt0187078\", \"words\": 164424, \"gross\": 30668.0}, {\"imdb_id\": \"tt0116905\", \"words\": 1336586, \"gross\": 30550.0}, {\"imdb_id\": \"tt0108052\", \"words\": 131250, \"gross\": 30150.0}, {\"imdb_id\": \"tt0371724\", \"words\": 514752, \"gross\": 29808.0}, {\"imdb_id\": \"tt0101507\", \"words\": 150633, \"gross\": 29736.0}, {\"imdb_id\": \"tt0093629\", \"words\": 147260, \"gross\": 29700.0}, {\"imdb_id\": \"tt1772341\", \"words\": 182112, \"gross\": 29664.0}, {\"imdb_id\": \"tt0080549\", \"words\": 170525, \"gross\": 29412.0}, {\"imdb_id\": \"tt0248667\", \"words\": 194458, \"gross\": 29370.0}, {\"imdb_id\": \"tt0117381\", \"words\": 249565, \"gross\": 29260.0}, {\"imdb_id\": \"tt0120812\", \"words\": 107352, \"gross\": 29232.0}, {\"imdb_id\": \"tt0120784\", \"words\": 124341, \"gross\": 29190.0}, {\"imdb_id\": \"tt0467406\", \"words\": 393408, \"gross\": 29160.0}, {\"imdb_id\": \"tt0119314\", \"words\": 532760, \"gross\": 29051.0}, {\"imdb_id\": \"tt1646971\", \"words\": 119350, \"gross\": 28952.0}, {\"imdb_id\": \"tt1189340\", \"words\": 505710, \"gross\": 28917.0}, {\"imdb_id\": \"tt0112864\", \"words\": 114606, \"gross\": 28800.0}, {\"imdb_id\": \"tt0126029\", \"words\": 279244, \"gross\": 28770.0}, {\"imdb_id\": \"tt0409459\", \"words\": 213218, \"gross\": 28500.0}, {\"imdb_id\": \"tt0120611\", \"words\": 286160, \"gross\": 28380.0}, {\"imdb_id\": \"tt1403865\", \"words\": 107445, \"gross\": 28200.0}, {\"imdb_id\": \"tt0110478\", \"words\": 172007, \"gross\": 28196.0}, {\"imdb_id\": \"tt1587310\", \"words\": 146806, \"gross\": 28160.0}, {\"imdb_id\": \"tt0086034\", \"words\": 49725, \"gross\": 28050.0}, {\"imdb_id\": \"tt0974661\", \"words\": 449226, \"gross\": 27972.0}, {\"imdb_id\": \"tt0119094\", \"words\": 59865, \"gross\": 27560.0}, {\"imdb_id\": \"tt0389860\", \"words\": 179189, \"gross\": 27512.0}, {\"imdb_id\": \"tt0103639\", \"words\": 70750, \"gross\": 27240.0}, {\"imdb_id\": \"tt1142988\", \"words\": 330144, \"gross\": 27192.0}, {\"imdb_id\": \"tt0368891\", \"words\": 119200, \"gross\": 27104.0}, {\"imdb_id\": \"tt0257106\", \"words\": 187112, \"gross\": 26923.0}, {\"imdb_id\": \"tt0329101\", \"words\": 128763, \"gross\": 26904.0}, {\"imdb_id\": \"tt1981677\", \"words\": 226314, \"gross\": 26838.0}, {\"imdb_id\": \"tt0368447\", \"words\": 76986, \"gross\": 26712.0}, {\"imdb_id\": \"tt2293640\", \"words\": 32923, \"gross\": 26642.0}, {\"imdb_id\": \"tt0063442\", \"words\": 109816, \"gross\": 26488.0}, {\"imdb_id\": \"tt0113820\", \"words\": 108262, \"gross\": 26400.0}, {\"imdb_id\": \"tt0212720\", \"words\": 110300, \"gross\": 26400.0}, {\"imdb_id\": \"tt0100405\", \"words\": 89064, \"gross\": 26352.0}, {\"imdb_id\": \"tt0811080\", \"words\": 319841, \"gross\": 26129.0}, {\"imdb_id\": \"tt0087469\", \"words\": 41936, \"gross\": 26096.0}, {\"imdb_id\": \"tt1343092\", \"words\": 217392, \"gross\": 26040.0}, {\"imdb_id\": \"tt1320253\", \"words\": 143564, \"gross\": 25764.0}, {\"imdb_id\": \"tt0103644\", \"words\": 165700, \"gross\": 25520.0}, {\"imdb_id\": \"tt0096463\", \"words\": 195678, \"gross\": 25515.0}, {\"imdb_id\": \"tt0119488\", \"words\": 151791, \"gross\": 25498.0}, {\"imdb_id\": \"tt0120780\", \"words\": 813800, \"gross\": 25116.0}, {\"imdb_id\": \"tt0800320\", \"words\": 117908, \"gross\": 25060.0}, {\"imdb_id\": \"tt0114148\", \"words\": 63745, \"gross\": 24992.0}, {\"imdb_id\": \"tt0120844\", \"words\": 140848, \"gross\": 24960.0}, {\"imdb_id\": \"tt0092005\", \"words\": 148971, \"gross\": 24888.0}, {\"imdb_id\": \"tt0113987\", \"words\": 984880, \"gross\": 24840.0}, {\"imdb_id\": \"tt0120902\", \"words\": 158580, \"gross\": 24800.0}, {\"imdb_id\": \"tt0096969\", \"words\": 102402, \"gross\": 24786.0}, {\"imdb_id\": \"tt0187393\", \"words\": 107831, \"gross\": 24752.0}, {\"imdb_id\": \"tt0114069\", \"words\": 155688, \"gross\": 24570.0}, {\"imdb_id\": \"tt0479143\", \"words\": 154484, \"gross\": 24552.0}, {\"imdb_id\": \"tt0103776\", \"words\": 67194, \"gross\": 24552.0}, {\"imdb_id\": \"tt0453467\", \"words\": 318024, \"gross\": 24480.0}, {\"imdb_id\": \"tt0117731\", \"words\": 93195, \"gross\": 24435.0}, {\"imdb_id\": \"tt0139654\", \"words\": 210404, \"gross\": 24219.0}, {\"imdb_id\": \"tt0117509\", \"words\": 181906, \"gross\": 24206.0}, {\"imdb_id\": \"tt0062622\", \"words\": 32512, \"gross\": 24064.0}, {\"imdb_id\": \"tt0079116\", \"words\": 113620, \"gross\": 23940.0}, {\"imdb_id\": \"tt1045778\", \"words\": 664428, \"gross\": 23800.0}, {\"imdb_id\": \"tt1049413\", \"words\": 122388, \"gross\": 23730.0}, {\"imdb_id\": \"tt0209958\", \"words\": 241076, \"gross\": 23716.0}, {\"imdb_id\": \"tt0469641\", \"words\": 126454, \"gross\": 23529.0}, {\"imdb_id\": \"tt0309593\", \"words\": 203283, \"gross\": 23517.0}, {\"imdb_id\": \"tt0829482\", \"words\": 210528, \"gross\": 23409.0}, {\"imdb_id\": \"tt0106673\", \"words\": 181588, \"gross\": 23408.0}, {\"imdb_id\": \"tt0140352\", \"words\": 764320, \"gross\": 23324.0}, {\"imdb_id\": \"tt0187738\", \"words\": 213028, \"gross\": 23180.0}, {\"imdb_id\": \"tt0145660\", \"words\": 48774, \"gross\": 23166.0}, {\"imdb_id\": \"tt0298130\", \"words\": 87600, \"gross\": 23160.0}, {\"imdb_id\": \"tt0272152\", \"words\": 197325, \"gross\": 23100.0}, {\"imdb_id\": \"tt1318514\", \"words\": 120717, \"gross\": 23086.0}, {\"imdb_id\": \"tt0277027\", \"words\": 428598, \"gross\": 23058.0}, {\"imdb_id\": \"tt0102803\", \"words\": 158440, \"gross\": 23040.0}, {\"imdb_id\": \"tt1490017\", \"words\": 81192, \"gross\": 23016.0}, {\"imdb_id\": \"tt0114388\", \"words\": 588888, \"gross\": 22950.0}, {\"imdb_id\": \"tt0124298\", \"words\": 1077872, \"gross\": 22770.0}, {\"imdb_id\": \"tt0091738\", \"words\": 198846, \"gross\": 22698.0}, {\"imdb_id\": \"tt0405159\", \"words\": 187956, \"gross\": 22680.0}, {\"imdb_id\": \"tt0120188\", \"words\": 174880, \"gross\": 22660.0}, {\"imdb_id\": \"tt0458525\", \"words\": 84696, \"gross\": 22464.0}, {\"imdb_id\": \"tt2180411\", \"words\": 97785, \"gross\": 22440.0}, {\"imdb_id\": \"tt0120815\", \"words\": 80384, \"gross\": 22400.0}, {\"imdb_id\": \"tt1482459\", \"words\": 62004, \"gross\": 22368.0}, {\"imdb_id\": \"tt0103772\", \"words\": 75510, \"gross\": 22230.0}, {\"imdb_id\": \"tt0808151\", \"words\": 260604, \"gross\": 22176.0}, {\"imdb_id\": \"tt0115956\", \"words\": 172752, \"gross\": 22080.0}, {\"imdb_id\": \"tt0107889\", \"words\": 776112, \"gross\": 21888.0}, {\"imdb_id\": \"tt1504320\", \"words\": 186511, \"gross\": 21879.0}, {\"imdb_id\": \"tt1033575\", \"words\": 293436, \"gross\": 21780.0}, {\"imdb_id\": \"tt0086927\", \"words\": 67320, \"gross\": 21780.0}, {\"imdb_id\": \"tt0232500\", \"words\": 80248, \"gross\": 21756.0}, {\"imdb_id\": \"tt0090966\", \"words\": 153625, \"gross\": 21750.0}, {\"imdb_id\": \"tt0241303\", \"words\": 107331, \"gross\": 21735.0}, {\"imdb_id\": \"tt0475394\", \"words\": 232047, \"gross\": 21620.0}, {\"imdb_id\": \"tt2017020\", \"words\": 172056, \"gross\": 21600.0}, {\"imdb_id\": \"tt0278504\", \"words\": 256140, \"gross\": 21600.0}, {\"imdb_id\": \"tt0099685\", \"words\": 322950, \"gross\": 21600.0}, {\"imdb_id\": \"tt0098382\", \"words\": 106125, \"gross\": 21600.0}, {\"imdb_id\": \"tt0212985\", \"words\": 96747, \"gross\": 21505.0}, {\"imdb_id\": \"tt0445934\", \"words\": 155168, \"gross\": 21456.0}, {\"imdb_id\": \"tt0163025\", \"words\": 45441, \"gross\": 21406.0}, {\"imdb_id\": \"tt0073629\", \"words\": 21894, \"gross\": 21384.0}, {\"imdb_id\": \"tt1323594\", \"words\": 47872, \"gross\": 21329.0}, {\"imdb_id\": \"tt0113492\", \"words\": 244178, \"gross\": 21252.0}, {\"imdb_id\": \"tt0094812\", \"words\": 317108, \"gross\": 21186.0}, {\"imdb_id\": \"tt0139668\", \"words\": 381420, \"gross\": 21168.0}, {\"imdb_id\": \"tt0112697\", \"words\": 169558, \"gross\": 21131.0}, {\"imdb_id\": \"tt0164912\", \"words\": 60203, \"gross\": 21032.0}, {\"imdb_id\": \"tt0133093\", \"words\": 68556, \"gross\": 21024.0}, {\"imdb_id\": \"tt0458352\", \"words\": 158634, \"gross\": 20916.0}, {\"imdb_id\": \"tt0104797\", \"words\": 177537, \"gross\": 20907.0}, {\"imdb_id\": \"tt0098554\", \"words\": 140582, \"gross\": 20878.0}, {\"imdb_id\": \"tt0816711\", \"words\": 62192, \"gross\": 20736.0}, {\"imdb_id\": \"tt0115759\", \"words\": 125400, \"gross\": 20700.0}, {\"imdb_id\": \"tt0101862\", \"words\": 135506, \"gross\": 20608.0}, {\"imdb_id\": \"tt2024432\", \"words\": 142524, \"gross\": 20592.0}, {\"imdb_id\": \"tt0442933\", \"words\": 104688, \"gross\": 20394.0}, {\"imdb_id\": \"tt0414387\", \"words\": 434148, \"gross\": 20332.0}, {\"imdb_id\": \"tt0112442\", \"words\": 161952, \"gross\": 20174.0}, {\"imdb_id\": \"tt0171580\", \"words\": 427644, \"gross\": 20160.0}, {\"imdb_id\": \"tt0359013\", \"words\": 162650, \"gross\": 20075.0}, {\"imdb_id\": \"tt0289765\", \"words\": 68656, \"gross\": 20016.0}, {\"imdb_id\": \"tt0443274\", \"words\": 76130, \"gross\": 20010.0}, {\"imdb_id\": \"tt0120891\", \"words\": 277712, \"gross\": 19890.0}, {\"imdb_id\": \"tt0405422\", \"words\": 138870, \"gross\": 19845.0}, {\"imdb_id\": \"tt0114436\", \"words\": 343511, \"gross\": 19840.0}, {\"imdb_id\": \"tt0120347\", \"words\": 40884, \"gross\": 19824.0}, {\"imdb_id\": \"tt0088247\", \"words\": 217800, \"gross\": 19800.0}, {\"imdb_id\": \"tt0824747\", \"words\": 335934, \"gross\": 19737.0}, {\"imdb_id\": \"tt0477348\", \"words\": 157689, \"gross\": 19530.0}, {\"imdb_id\": \"tt0108333\", \"words\": 137666, \"gross\": 19210.0}, {\"imdb_id\": \"tt0104412\", \"words\": 368896, \"gross\": 19200.0}, {\"imdb_id\": \"tt0377092\", \"words\": 126480, \"gross\": 19200.0}, {\"imdb_id\": \"tt0892769\", \"words\": 167950, \"gross\": 19120.0}, {\"imdb_id\": \"tt0186151\", \"words\": 316608, \"gross\": 19008.0}, {\"imdb_id\": \"tt0098273\", \"words\": 141687, \"gross\": 18816.0}, {\"imdb_id\": \"tt1535108\", \"words\": 153843, \"gross\": 18810.0}, {\"imdb_id\": \"tt0118548\", \"words\": 237760, \"gross\": 18800.0}, {\"imdb_id\": \"tt1409024\", \"words\": 190672, \"gross\": 18720.0}, {\"imdb_id\": \"tt0120855\", \"words\": 36248, \"gross\": 18688.0}, {\"imdb_id\": \"tt0110932\", \"words\": 269438, \"gross\": 18564.0}, {\"imdb_id\": \"tt0119396\", \"words\": 745332, \"gross\": 18525.0}, {\"imdb_id\": \"tt0082495\", \"words\": 69696, \"gross\": 18486.0}, {\"imdb_id\": \"tt0391198\", \"words\": 91170, \"gross\": 18480.0}, {\"imdb_id\": \"tt0482571\", \"words\": 225168, \"gross\": 18480.0}, {\"imdb_id\": \"tt0106519\", \"words\": 158680, \"gross\": 18480.0}, {\"imdb_id\": \"tt0120633\", \"words\": 76928, \"gross\": 18480.0}, {\"imdb_id\": \"tt0320661\", \"words\": 177168, \"gross\": 18432.0}, {\"imdb_id\": \"tt0286106\", \"words\": 48861, \"gross\": 18414.0}, {\"imdb_id\": \"tt0090060\", \"words\": 338000, \"gross\": 18400.0}, {\"imdb_id\": \"tt0068638\", \"words\": 103493, \"gross\": 18354.0}, {\"imdb_id\": \"tt0118884\", \"words\": 114852, \"gross\": 18336.0}, {\"imdb_id\": \"tt0160127\", \"words\": 137436, \"gross\": 18291.0}, {\"imdb_id\": \"tt0120655\", \"words\": 882252, \"gross\": 18252.0}, {\"imdb_id\": \"tt1041829\", \"words\": 164616, \"gross\": 18240.0}, {\"imdb_id\": \"tt1210166\", \"words\": 380989, \"gross\": 18204.0}, {\"imdb_id\": \"tt0375063\", \"words\": 486036, \"gross\": 18000.0}, {\"imdb_id\": \"tt2278388\", \"words\": 242353, \"gross\": 17980.0}, {\"imdb_id\": \"tt2582846\", \"words\": 267390, \"gross\": 17955.0}, {\"imdb_id\": \"tt0097216\", \"words\": 136160, \"gross\": 17940.0}, {\"imdb_id\": \"tt0480687\", \"words\": 531232, \"gross\": 17836.0}, {\"imdb_id\": \"tt0075686\", \"words\": 170768, \"gross\": 17784.0}, {\"imdb_id\": \"tt0120751\", \"words\": 125362, \"gross\": 17670.0}, {\"imdb_id\": \"tt0116583\", \"words\": 58220, \"gross\": 17640.0}, {\"imdb_id\": \"tt0357413\", \"words\": 151050, \"gross\": 17550.0}, {\"imdb_id\": \"tt1250777\", \"words\": 235680, \"gross\": 17472.0}, {\"imdb_id\": \"tt0102266\", \"words\": 190047, \"gross\": 17446.0}, {\"imdb_id\": \"tt0409847\", \"words\": 170784, \"gross\": 17440.0}, {\"imdb_id\": \"tt1398426\", \"words\": 77574, \"gross\": 17430.0}, {\"imdb_id\": \"tt0418689\", \"words\": 201960, \"gross\": 17424.0}, {\"imdb_id\": \"tt2404425\", \"words\": 375424, \"gross\": 17408.0}, {\"imdb_id\": \"tt0099487\", \"words\": 74940, \"gross\": 17400.0}, {\"imdb_id\": \"tt0112740\", \"words\": 111853, \"gross\": 17290.0}, {\"imdb_id\": \"tt0118883\", \"words\": 161400, \"gross\": 17280.0}, {\"imdb_id\": \"tt0325710\", \"words\": 201552, \"gross\": 17280.0}, {\"imdb_id\": \"tt0146309\", \"words\": 174264, \"gross\": 17160.0}, {\"imdb_id\": \"tt1201167\", \"words\": 941336, \"gross\": 17160.0}, {\"imdb_id\": \"tt0171363\", \"words\": 201344, \"gross\": 17160.0}, {\"imdb_id\": \"tt0268978\", \"words\": 84851, \"gross\": 17030.0}, {\"imdb_id\": \"tt1219289\", \"words\": 195660, \"gross\": 17028.0}, {\"imdb_id\": \"tt1605783\", \"words\": 232428, \"gross\": 16926.0}, {\"imdb_id\": \"tt0097351\", \"words\": 198456, \"gross\": 16920.0}, {\"imdb_id\": \"tt0783233\", \"words\": 134618, \"gross\": 16896.0}, {\"imdb_id\": \"tt0094012\", \"words\": 111580, \"gross\": 16800.0}, {\"imdb_id\": \"tt1091191\", \"words\": 88380, \"gross\": 16758.0}, {\"imdb_id\": \"tt0217505\", \"words\": 131556, \"gross\": 16704.0}, {\"imdb_id\": \"tt0120903\", \"words\": 48719, \"gross\": 16698.0}, {\"imdb_id\": \"tt0118799\", \"words\": 137564, \"gross\": 16677.0}, {\"imdb_id\": \"tt0356910\", \"words\": 53218, \"gross\": 16632.0}, {\"imdb_id\": \"tt0465538\", \"words\": 223346, \"gross\": 16592.0}, {\"imdb_id\": \"tt0964517\", \"words\": 305670, \"gross\": 16583.0}, {\"imdb_id\": \"tt0119173\", \"words\": 117194, \"gross\": 16562.0}, {\"imdb_id\": \"tt0368008\", \"words\": 155505, \"gross\": 16560.0}, {\"imdb_id\": \"tt1535109\", \"words\": 113238, \"gross\": 16416.0}, {\"imdb_id\": \"tt0976051\", \"words\": 357600, \"gross\": 16400.0}, {\"imdb_id\": \"tt0112722\", \"words\": 755264, \"gross\": 16384.0}, {\"imdb_id\": \"tt0099700\", \"words\": 115424, \"gross\": 16320.0}, {\"imdb_id\": \"tt0302886\", \"words\": 61883, \"gross\": 16264.0}, {\"imdb_id\": \"tt1499658\", \"words\": 169722, \"gross\": 16254.0}, {\"imdb_id\": \"tt0167190\", \"words\": 110736, \"gross\": 16236.0}, {\"imdb_id\": \"tt0087363\", \"words\": 32095, \"gross\": 16086.0}, {\"imdb_id\": \"tt0267913\", \"words\": 75720, \"gross\": 16030.0}, {\"imdb_id\": \"tt2084970\", \"words\": 152985, \"gross\": 16005.0}, {\"imdb_id\": \"tt0430357\", \"words\": 154755, \"gross\": 15960.0}, {\"imdb_id\": \"tt0099088\", \"words\": 98681, \"gross\": 15840.0}, {\"imdb_id\": \"tt0157503\", \"words\": 522480, \"gross\": 15840.0}, {\"imdb_id\": \"tt0120890\", \"words\": 433536, \"gross\": 15840.0}, {\"imdb_id\": \"tt0097441\", \"words\": 168126, \"gross\": 15834.0}, {\"imdb_id\": \"tt0102510\", \"words\": 53097, \"gross\": 15752.0}, {\"imdb_id\": \"tt0161081\", \"words\": 120798, \"gross\": 15750.0}, {\"imdb_id\": \"tt0094137\", \"words\": 80752, \"gross\": 15666.0}, {\"imdb_id\": \"tt0098635\", \"words\": 105160, \"gross\": 15631.0}, {\"imdb_id\": \"tt1037705\", \"words\": 282750, \"gross\": 15600.0}, {\"imdb_id\": \"tt0190641\", \"words\": 41104, \"gross\": 15484.0}, {\"imdb_id\": \"tt0385726\", \"words\": 237875, \"gross\": 15400.0}, {\"imdb_id\": \"tt0107048\", \"words\": 116324, \"gross\": 15392.0}, {\"imdb_id\": \"tt0120738\", \"words\": 90468, \"gross\": 15360.0}, {\"imdb_id\": \"tt2802144\", \"words\": 87648, \"gross\": 15232.0}, {\"imdb_id\": \"tt0099165\", \"words\": 327400, \"gross\": 15200.0}, {\"imdb_id\": \"tt0146675\", \"words\": 63061, \"gross\": 15162.0}, {\"imdb_id\": \"tt2140373\", \"words\": 267529, \"gross\": 15130.0}, {\"imdb_id\": \"tt0091875\", \"words\": 182763, \"gross\": 15120.0}, {\"imdb_id\": \"tt0093378\", \"words\": 127050, \"gross\": 15120.0}, {\"imdb_id\": \"tt2872732\", \"words\": 90960, \"gross\": 15120.0}, {\"imdb_id\": \"tt1013743\", \"words\": 187080, \"gross\": 15120.0}, {\"imdb_id\": \"tt0317740\", \"words\": 45419, \"gross\": 15048.0}, {\"imdb_id\": \"tt0147800\", \"words\": 408996, \"gross\": 15015.0}, {\"imdb_id\": \"tt1895587\", \"words\": 401577, \"gross\": 15015.0}, {\"imdb_id\": \"tt0333766\", \"words\": 484785, \"gross\": 14985.0}, {\"imdb_id\": \"tt0080319\", \"words\": 16371, \"gross\": 14985.0}, {\"imdb_id\": \"tt0099077\", \"words\": 146538, \"gross\": 14980.0}, {\"imdb_id\": \"tt0095742\", \"words\": 67590, \"gross\": 14976.0}, {\"imdb_id\": \"tt0117666\", \"words\": 698308, \"gross\": 14976.0}, {\"imdb_id\": \"tt1133985\", \"words\": 111969, \"gross\": 14976.0}, {\"imdb_id\": \"tt1570728\", \"words\": 189432, \"gross\": 14904.0}, {\"imdb_id\": \"tt0295701\", \"words\": 79310, \"gross\": 14770.0}, {\"imdb_id\": \"tt1193138\", \"words\": 217398, \"gross\": 14744.0}, {\"imdb_id\": \"tt0268995\", \"words\": 195372, \"gross\": 14742.0}, {\"imdb_id\": \"tt0942385\", \"words\": 111353, \"gross\": 14630.0}, {\"imdb_id\": \"tt0088128\", \"words\": 120773, \"gross\": 14628.0}, {\"imdb_id\": \"tt0111161\", \"words\": 371840, \"gross\": 14616.0}, {\"imdb_id\": \"tt0089155\", \"words\": 98256, \"gross\": 14592.0}, {\"imdb_id\": \"tt0116253\", \"words\": 97020, \"gross\": 14580.0}, {\"imdb_id\": \"tt0238546\", \"words\": 418392, \"gross\": 14580.0}, {\"imdb_id\": \"tt0080761\", \"words\": 41205, \"gross\": 14520.0}, {\"imdb_id\": \"tt0190590\", \"words\": 155898, \"gross\": 14454.0}, {\"imdb_id\": \"tt0265666\", \"words\": 149780, \"gross\": 14400.0}, {\"imdb_id\": \"tt0118055\", \"words\": 60138, \"gross\": 14400.0}, {\"imdb_id\": \"tt1446714\", \"words\": 78540, \"gross\": 14385.0}, {\"imdb_id\": \"tt0104389\", \"words\": 118170, \"gross\": 14352.0}, {\"imdb_id\": \"tt0087182\", \"words\": 102884, \"gross\": 14280.0}, {\"imdb_id\": \"tt0108037\", \"words\": 139740, \"gross\": 14280.0}, {\"imdb_id\": \"tt0099371\", \"words\": 66768, \"gross\": 14280.0}, {\"imdb_id\": \"tt0118655\", \"words\": 76902, \"gross\": 14280.0}, {\"imdb_id\": \"tt0101761\", \"words\": 210546, \"gross\": 14256.0}, {\"imdb_id\": \"tt0144214\", \"words\": 87435, \"gross\": 14256.0}, {\"imdb_id\": \"tt0120888\", \"words\": 85476, \"gross\": 14208.0}, {\"imdb_id\": \"tt1034303\", \"words\": 267722, \"gross\": 14144.0}, {\"imdb_id\": \"tt0381849\", \"words\": 119889, \"gross\": 14070.0}, {\"imdb_id\": \"tt1212419\", \"words\": 157404, \"gross\": 14040.0}, {\"imdb_id\": \"tt2305051\", \"words\": 244377, \"gross\": 14040.0}, {\"imdb_id\": \"tt1321870\", \"words\": 213148, \"gross\": 14014.0}, {\"imdb_id\": \"tt0132347\", \"words\": 264200, \"gross\": 14000.0}, {\"imdb_id\": \"tt0397535\", \"words\": 106020, \"gross\": 13860.0}, {\"imdb_id\": \"tt0094155\", \"words\": 382622, \"gross\": 13832.0}, {\"imdb_id\": \"tt0195945\", \"words\": 117105, \"gross\": 13800.0}, {\"imdb_id\": \"tt1397280\", \"words\": 106668, \"gross\": 13770.0}, {\"imdb_id\": \"tt0758730\", \"words\": 107280, \"gross\": 13728.0}, {\"imdb_id\": \"tt0477080\", \"words\": 137028, \"gross\": 13528.0}, {\"imdb_id\": \"tt0087062\", \"words\": 91426, \"gross\": 13464.0}, {\"imdb_id\": \"tt0109506\", \"words\": 100672, \"gross\": 13440.0}, {\"imdb_id\": \"tt0120587\", \"words\": 122240, \"gross\": 13440.0}, {\"imdb_id\": \"tt0021884\", \"words\": 34191, \"gross\": 13410.0}, {\"imdb_id\": \"tt0328099\", \"words\": 226317, \"gross\": 13377.0}, {\"imdb_id\": \"tt0117998\", \"words\": 38290, \"gross\": 13328.0}, {\"imdb_id\": \"tt0790724\", \"words\": 94095, \"gross\": 13311.0}, {\"imdb_id\": \"tt1068680\", \"words\": 251860, \"gross\": 13216.0}, {\"imdb_id\": \"tt0093260\", \"words\": 159390, \"gross\": 13167.0}, {\"imdb_id\": \"tt1599348\", \"words\": 67092, \"gross\": 13152.0}, {\"imdb_id\": \"tt0094737\", \"words\": 106722, \"gross\": 13122.0}, {\"imdb_id\": \"tt0082533\", \"words\": 97452, \"gross\": 13104.0}, {\"imdb_id\": \"tt0109813\", \"words\": 42544, \"gross\": 13056.0}, {\"imdb_id\": \"tt0101540\", \"words\": 65900, \"gross\": 13040.0}, {\"imdb_id\": \"tt0122459\", \"words\": 135250, \"gross\": 13000.0}, {\"imdb_id\": \"tt1371111\", \"words\": 310016, \"gross\": 12992.0}, {\"imdb_id\": \"tt0120686\", \"words\": 328504, \"gross\": 12936.0}, {\"imdb_id\": \"tt1405500\", \"words\": 255717, \"gross\": 12915.0}, {\"imdb_id\": \"tt0324216\", \"words\": 74074, \"gross\": 12880.0}, {\"imdb_id\": \"tt0077928\", \"words\": 46046, \"gross\": 12870.0}, {\"imdb_id\": \"tt0107808\", \"words\": 170856, \"gross\": 12870.0}, {\"imdb_id\": \"tt1028576\", \"words\": 150174, \"gross\": 12870.0}, {\"imdb_id\": \"tt1119646\", \"words\": 138900, \"gross\": 12840.0}, {\"imdb_id\": \"tt0102492\", \"words\": 86801, \"gross\": 12792.0}, {\"imdb_id\": \"tt0099871\", \"words\": 204840, \"gross\": 12720.0}, {\"imdb_id\": \"tt0408790\", \"words\": 93429, \"gross\": 12705.0}, {\"imdb_id\": \"tt0253474\", \"words\": 193820, \"gross\": 12672.0}, {\"imdb_id\": \"tt1798684\", \"words\": 235872, \"gross\": 12636.0}, {\"imdb_id\": \"tt0082398\", \"words\": 24011, \"gross\": 12610.0}, {\"imdb_id\": \"tt0431197\", \"words\": 111909, \"gross\": 12600.0}, {\"imdb_id\": \"tt1583420\", \"words\": 232636, \"gross\": 12597.0}, {\"imdb_id\": \"tt0259711\", \"words\": 93591, \"gross\": 12555.0}, {\"imdb_id\": \"tt0120770\", \"words\": 231984, \"gross\": 12544.0}, {\"imdb_id\": \"tt0070328\", \"words\": 23094, \"gross\": 12528.0}, {\"imdb_id\": \"tt0082031\", \"words\": 88291, \"gross\": 12516.0}, {\"imdb_id\": \"tt0100935\", \"words\": 794560, \"gross\": 12480.0}, {\"imdb_id\": \"tt0208092\", \"words\": 228420, \"gross\": 12480.0}, {\"imdb_id\": \"tt0385267\", \"words\": 161766, \"gross\": 12474.0}, {\"imdb_id\": \"tt0103874\", \"words\": 71432, \"gross\": 12384.0}, {\"imdb_id\": \"tt0100133\", \"words\": 137836, \"gross\": 12376.0}, {\"imdb_id\": \"tt0395584\", \"words\": 498456, \"gross\": 12320.0}, {\"imdb_id\": \"tt0191397\", \"words\": 68077, \"gross\": 12312.0}, {\"imdb_id\": \"tt0243585\", \"words\": 91504, \"gross\": 12288.0}, {\"imdb_id\": \"tt1748122\", \"words\": 153275, \"gross\": 12250.0}, {\"imdb_id\": \"tt0438488\", \"words\": 46128, \"gross\": 12180.0}, {\"imdb_id\": \"tt0881891\", \"words\": 370320, \"gross\": 12168.0}, {\"imdb_id\": \"tt0278435\", \"words\": 212325, \"gross\": 12122.0}, {\"imdb_id\": \"tt2096672\", \"words\": 217170, \"gross\": 12103.0}, {\"imdb_id\": \"tt0166943\", \"words\": 910008, \"gross\": 12100.0}, {\"imdb_id\": \"tt0098084\", \"words\": 95280, \"gross\": 12096.0}, {\"imdb_id\": \"tt0449059\", \"words\": 140063, \"gross\": 12087.0}, {\"imdb_id\": \"tt0884328\", \"words\": 307425, \"gross\": 12000.0}, {\"imdb_id\": \"tt0434409\", \"words\": 92092, \"gross\": 11970.0}, {\"imdb_id\": \"tt0319061\", \"words\": 125510, \"gross\": 11970.0}, {\"imdb_id\": \"tt0119345\", \"words\": 60973, \"gross\": 11968.0}, {\"imdb_id\": \"tt0103893\", \"words\": 238084, \"gross\": 11968.0}, {\"imdb_id\": \"tt0110613\", \"words\": 219560, \"gross\": 11968.0}, {\"imdb_id\": \"tt0031725\", \"words\": 350878, \"gross\": 11880.0}, {\"imdb_id\": \"tt0119925\", \"words\": 524130, \"gross\": 11880.0}, {\"imdb_id\": \"tt2334879\", \"words\": 126483, \"gross\": 11856.0}, {\"imdb_id\": \"tt0094332\", \"words\": 104664, \"gross\": 11844.0}, {\"imdb_id\": \"tt0130018\", \"words\": 151392, \"gross\": 11840.0}, {\"imdb_id\": \"tt0068327\", \"words\": 41895, \"gross\": 11826.0}, {\"imdb_id\": \"tt0395699\", \"words\": 63987, \"gross\": 11781.0}, {\"imdb_id\": \"tt0446029\", \"words\": 465681, \"gross\": 11730.0}, {\"imdb_id\": \"tt0103074\", \"words\": 196294, \"gross\": 11718.0}, {\"imdb_id\": \"tt0206275\", \"words\": 104076, \"gross\": 11676.0}, {\"imdb_id\": \"tt0120382\", \"words\": 49280, \"gross\": 11650.0}, {\"imdb_id\": \"tt0119174\", \"words\": 149040, \"gross\": 11648.0}, {\"imdb_id\": \"tt0087747\", \"words\": 154648, \"gross\": 11648.0}, {\"imdb_id\": \"tt0986263\", \"words\": 276288, \"gross\": 11616.0}, {\"imdb_id\": \"tt0104036\", \"words\": 166606, \"gross\": 11528.0}, {\"imdb_id\": \"tt0094715\", \"words\": 65120, \"gross\": 11520.0}, {\"imdb_id\": \"tt0119738\", \"words\": 58116, \"gross\": 11520.0}, {\"imdb_id\": \"tt0108399\", \"words\": 755514, \"gross\": 11475.0}, {\"imdb_id\": \"tt0104952\", \"words\": 53781, \"gross\": 11440.0}, {\"imdb_id\": \"tt0493464\", \"words\": 90570, \"gross\": 11410.0}, {\"imdb_id\": \"tt0286716\", \"words\": 45612, \"gross\": 11400.0}, {\"imdb_id\": \"tt0343818\", \"words\": 57456, \"gross\": 11368.0}, {\"imdb_id\": \"tt0118583\", \"words\": 61460, \"gross\": 11340.0}, {\"imdb_id\": \"tt0337741\", \"words\": 142362, \"gross\": 11340.0}, {\"imdb_id\": \"tt0844471\", \"words\": 80899, \"gross\": 11310.0}, {\"imdb_id\": \"tt1985966\", \"words\": 94512, \"gross\": 11264.0}, {\"imdb_id\": \"tt2226417\", \"words\": 83874, \"gross\": 11214.0}, {\"imdb_id\": \"tt0146336\", \"words\": 117280, \"gross\": 11200.0}, {\"imdb_id\": \"tt0086066\", \"words\": 121392, \"gross\": 11200.0}, {\"imdb_id\": \"tt0100477\", \"words\": 154784, \"gross\": 11172.0}, {\"imdb_id\": \"tt1929263\", \"words\": 139555, \"gross\": 11058.0}, {\"imdb_id\": \"tt0360486\", \"words\": 105456, \"gross\": 11016.0}, {\"imdb_id\": \"tt1276104\", \"words\": 257032, \"gross\": 10944.0}, {\"imdb_id\": \"tt1060277\", \"words\": 129523, \"gross\": 10944.0}, {\"imdb_id\": \"tt0983193\", \"words\": 88128, \"gross\": 10880.0}, {\"imdb_id\": \"tt1385826\", \"words\": 278720, \"gross\": 10880.0}, {\"imdb_id\": \"tt0109836\", \"words\": 130000, \"gross\": 10800.0}, {\"imdb_id\": \"tt0091306\", \"words\": 135020, \"gross\": 10800.0}, {\"imdb_id\": \"tt0825232\", \"words\": 144040, \"gross\": 10738.0}, {\"imdb_id\": \"tt0127536\", \"words\": 117495, \"gross\": 10725.0}, {\"imdb_id\": \"tt0416320\", \"words\": 448753, \"gross\": 10695.0}, {\"imdb_id\": \"tt0103919\", \"words\": 97650, \"gross\": 10692.0}, {\"imdb_id\": \"tt0117438\", \"words\": 31640, \"gross\": 10680.0}, {\"imdb_id\": \"tt0098987\", \"words\": 201674, \"gross\": 10648.0}, {\"imdb_id\": \"tt1272878\", \"words\": 185991, \"gross\": 10640.0}, {\"imdb_id\": \"tt1126591\", \"words\": 334590, \"gross\": 10621.0}, {\"imdb_id\": \"tt0379786\", \"words\": 684480, \"gross\": 10608.0}, {\"imdb_id\": \"tt0074812\", \"words\": 74581, \"gross\": 10608.0}, {\"imdb_id\": \"tt0800080\", \"words\": 51220, \"gross\": 10595.0}, {\"imdb_id\": \"tt2381111\", \"words\": 263004, \"gross\": 10571.0}, {\"imdb_id\": \"tt0086154\", \"words\": 140055, \"gross\": 10560.0}, {\"imdb_id\": \"tt0146882\", \"words\": 814960, \"gross\": 10560.0}, {\"imdb_id\": \"tt1657507\", \"words\": 175128, \"gross\": 10560.0}, {\"imdb_id\": \"tt1340800\", \"words\": 253638, \"gross\": 10530.0}, {\"imdb_id\": \"tt0758746\", \"words\": 56602, \"gross\": 10500.0}, {\"imdb_id\": \"tt0076729\", \"words\": 31899, \"gross\": 10395.0}, {\"imdb_id\": \"tt0455944\", \"words\": 64896, \"gross\": 10368.0}, {\"imdb_id\": \"tt0116282\", \"words\": 323664, \"gross\": 10368.0}, {\"imdb_id\": \"tt0061619\", \"words\": 228200, \"gross\": 10340.0}, {\"imdb_id\": \"tt0195714\", \"words\": 41625, \"gross\": 10320.0}, {\"imdb_id\": \"tt0106697\", \"words\": 76284, \"gross\": 10248.0}, {\"imdb_id\": \"tt0425112\", \"words\": 236800, \"gross\": 10150.0}, {\"imdb_id\": \"tt0944835\", \"words\": 74503, \"gross\": 10140.0}, {\"imdb_id\": \"tt1446192\", \"words\": 128535, \"gross\": 10080.0}, {\"imdb_id\": \"tt1623288\", \"words\": 192285, \"gross\": 10065.0}, {\"imdb_id\": \"tt0181984\", \"words\": 412703, \"gross\": 10044.0}, {\"imdb_id\": \"tt0091080\", \"words\": 92967, \"gross\": 10032.0}, {\"imdb_id\": \"tt0110632\", \"words\": 125016, \"gross\": 9984.0}, {\"imdb_id\": \"tt0093437\", \"words\": 104370, \"gross\": 9940.0}, {\"imdb_id\": \"tt0115798\", \"words\": 133434, \"gross\": 9912.0}, {\"imdb_id\": \"tt0220506\", \"words\": 89672, \"gross\": 9900.0}, {\"imdb_id\": \"tt0265349\", \"words\": 180766, \"gross\": 9880.0}, {\"imdb_id\": \"tt1392214\", \"words\": 123405, \"gross\": 9880.0}, {\"imdb_id\": \"tt0758774\", \"words\": 230874, \"gross\": 9870.0}, {\"imdb_id\": \"tt1321509\", \"words\": 281100, \"gross\": 9870.0}, {\"imdb_id\": \"tt0112857\", \"words\": 515704, \"gross\": 9856.0}, {\"imdb_id\": \"tt0253754\", \"words\": 143570, \"gross\": 9856.0}, {\"imdb_id\": \"tt0199725\", \"words\": 253260, \"gross\": 9856.0}, {\"imdb_id\": \"tt1226273\", \"words\": 222604, \"gross\": 9823.0}, {\"imdb_id\": \"tt1282140\", \"words\": 196945, \"gross\": 9792.0}, {\"imdb_id\": \"tt0174480\", \"words\": 229248, \"gross\": 9760.0}, {\"imdb_id\": \"tt0244244\", \"words\": 82160, \"gross\": 9737.0}, {\"imdb_id\": \"tt0183523\", \"words\": 92004, \"gross\": 9702.0}, {\"imdb_id\": \"tt0388125\", \"words\": 222640, \"gross\": 9680.0}, {\"imdb_id\": \"tt0929632\", \"words\": 411750, \"gross\": 9625.0}, {\"imdb_id\": \"tt0385880\", \"words\": 69344, \"gross\": 9603.0}, {\"imdb_id\": \"tt0090329\", \"words\": 52120, \"gross\": 9600.0}, {\"imdb_id\": \"tt0481499\", \"words\": 57152, \"gross\": 9600.0}, {\"imdb_id\": \"tt0301470\", \"words\": 83872, \"gross\": 9600.0}, {\"imdb_id\": \"tt0389722\", \"words\": 123408, \"gross\": 9600.0}, {\"imdb_id\": \"tt0454876\", \"words\": 78372, \"gross\": 9520.0}, {\"imdb_id\": \"tt1706593\", \"words\": 82042, \"gross\": 9520.0}, {\"imdb_id\": \"tt0379725\", \"words\": 528225, \"gross\": 9500.0}, {\"imdb_id\": \"tt0359950\", \"words\": 131325, \"gross\": 9486.0}, {\"imdb_id\": \"tt0139239\", \"words\": 311116, \"gross\": 9464.0}, {\"imdb_id\": \"tt1263670\", \"words\": 211134, \"gross\": 9450.0}, {\"imdb_id\": \"tt0164052\", \"words\": 165340, \"gross\": 9440.0}, {\"imdb_id\": \"tt1655420\", \"words\": 642096, \"gross\": 9408.0}, {\"imdb_id\": \"tt0107822\", \"words\": 130872, \"gross\": 9408.0}, {\"imdb_id\": \"tt0082340\", \"words\": 96750, \"gross\": 9360.0}, {\"imdb_id\": \"tt0120177\", \"words\": 71110, \"gross\": 9360.0}, {\"imdb_id\": \"tt0119229\", \"words\": 102464, \"gross\": 9328.0}, {\"imdb_id\": \"tt2562232\", \"words\": 223629, \"gross\": 9315.0}, {\"imdb_id\": \"tt0082846\", \"words\": 30310, \"gross\": 9300.0}, {\"imdb_id\": \"tt0307987\", \"words\": 105984, \"gross\": 9288.0}, {\"imdb_id\": \"tt0106677\", \"words\": 340476, \"gross\": 9248.0}, {\"imdb_id\": \"tt0387564\", \"words\": 284352, \"gross\": 9240.0}, {\"imdb_id\": \"tt1197624\", \"words\": 96024, \"gross\": 9180.0}, {\"imdb_id\": \"tt0118689\", \"words\": 108768, \"gross\": 9180.0}, {\"imdb_id\": \"tt0328107\", \"words\": 78216, \"gross\": 9156.0}, {\"imdb_id\": \"tt0114814\", \"words\": 209646, \"gross\": 9108.0}, {\"imdb_id\": \"tt0266697\", \"words\": 123740, \"gross\": 9090.0}, {\"imdb_id\": \"tt1979320\", \"words\": 243783, \"gross\": 9072.0}, {\"imdb_id\": \"tt0095253\", \"words\": 122746, \"gross\": 9048.0}, {\"imdb_id\": \"tt0162222\", \"words\": 31860, \"gross\": 9048.0}, {\"imdb_id\": \"tt0077651\", \"words\": 37869, \"gross\": 9048.0}, {\"imdb_id\": \"tt0289848\", \"words\": 209474, \"gross\": 8976.0}, {\"imdb_id\": \"tt1458175\", \"words\": 203760, \"gross\": 8970.0}, {\"imdb_id\": \"tt0101889\", \"words\": 101998, \"gross\": 8944.0}, {\"imdb_id\": \"tt0093779\", \"words\": 108927, \"gross\": 8840.0}, {\"imdb_id\": \"tt2039393\", \"words\": 259833, \"gross\": 8820.0}, {\"imdb_id\": \"tt0120603\", \"words\": 573594, \"gross\": 8820.0}, {\"imdb_id\": \"tt0089880\", \"words\": 13944, \"gross\": 8808.0}, {\"imdb_id\": \"tt0366551\", \"words\": 228536, \"gross\": 8800.0}, {\"imdb_id\": \"tt2980516\", \"words\": 121737, \"gross\": 8778.0}, {\"imdb_id\": \"tt0947798\", \"words\": 65865, \"gross\": 8775.0}, {\"imdb_id\": \"tt0114709\", \"words\": 80652, \"gross\": 8723.0}, {\"imdb_id\": \"tt1528100\", \"words\": 104937, \"gross\": 8694.0}, {\"imdb_id\": \"tt0386588\", \"words\": 54552, \"gross\": 8676.0}, {\"imdb_id\": \"tt0309698\", \"words\": 56810, \"gross\": 8658.0}, {\"imdb_id\": \"tt2784678\", \"words\": 313860, \"gross\": 8580.0}, {\"imdb_id\": \"tt0084726\", \"words\": 184484, \"gross\": 8568.0}, {\"imdb_id\": \"tt0386117\", \"words\": 67632, \"gross\": 8544.0}, {\"imdb_id\": \"tt0102685\", \"words\": 86912, \"gross\": 8544.0}, {\"imdb_id\": \"tt0098258\", \"words\": 173691, \"gross\": 8505.0}, {\"imdb_id\": \"tt0840361\", \"words\": 139510, \"gross\": 8484.0}, {\"imdb_id\": \"tt0289043\", \"words\": 64582, \"gross\": 8442.0}, {\"imdb_id\": \"tt0101669\", \"words\": 63240, \"gross\": 8424.0}, {\"imdb_id\": \"tt0417217\", \"words\": 430080, \"gross\": 8370.0}, {\"imdb_id\": \"tt0993842\", \"words\": 185858, \"gross\": 8360.0}, {\"imdb_id\": \"tt0085333\", \"words\": 85424, \"gross\": 8352.0}, {\"imdb_id\": \"tt0083972\", \"words\": 39845, \"gross\": 8346.0}, {\"imdb_id\": \"tt0102070\", \"words\": 183311, \"gross\": 8330.0}, {\"imdb_id\": \"tt0184858\", \"words\": 571900, \"gross\": 8325.0}, {\"imdb_id\": \"tt2431286\", \"words\": 211432, \"gross\": 8320.0}, {\"imdb_id\": \"tt0436697\", \"words\": 77798, \"gross\": 8288.0}, {\"imdb_id\": \"tt0095963\", \"words\": 120428, \"gross\": 8288.0}, {\"imdb_id\": \"tt0093300\", \"words\": 154170, \"gross\": 8280.0}, {\"imdb_id\": \"tt0117918\", \"words\": 141739, \"gross\": 8268.0}, {\"imdb_id\": \"tt1130080\", \"words\": 244344, \"gross\": 8208.0}, {\"imdb_id\": \"tt1067583\", \"words\": 265792, \"gross\": 8192.0}, {\"imdb_id\": \"tt0097981\", \"words\": 119578, \"gross\": 8160.0}, {\"imdb_id\": \"tt0094074\", \"words\": 152880, \"gross\": 8160.0}, {\"imdb_id\": \"tt0234215\", \"words\": 7710, \"gross\": 8100.0}, {\"imdb_id\": \"tt0115907\", \"words\": 225446, \"gross\": 8073.0}, {\"imdb_id\": \"tt0083967\", \"words\": 840128, \"gross\": 8064.0}, {\"imdb_id\": \"tt2473602\", \"words\": 238284, \"gross\": 8064.0}, {\"imdb_id\": \"tt0264796\", \"words\": 530000, \"gross\": 8050.0}, {\"imdb_id\": \"tt0084602\", \"words\": 170810, \"gross\": 8037.0}, {\"imdb_id\": \"tt1872194\", \"words\": 196700, \"gross\": 8000.0}, {\"imdb_id\": \"tt1007029\", \"words\": 174250, \"gross\": 8000.0}, {\"imdb_id\": \"tt1065073\", \"words\": 498168, \"gross\": 7992.0}, {\"imdb_id\": \"tt0120663\", \"words\": 40460, \"gross\": 7980.0}, {\"imdb_id\": \"tt1212450\", \"words\": 188640, \"gross\": 7920.0}, {\"imdb_id\": \"tt2404311\", \"words\": 222517, \"gross\": 7917.0}, {\"imdb_id\": \"tt0343737\", \"words\": 46490, \"gross\": 7900.0}, {\"imdb_id\": \"tt0118771\", \"words\": 58800, \"gross\": 7896.0}, {\"imdb_id\": \"tt0887883\", \"words\": 85956, \"gross\": 7884.0}, {\"imdb_id\": \"tt0091042\", \"words\": 47760, \"gross\": 7872.0}, {\"imdb_id\": \"tt0388795\", \"words\": 47908, \"gross\": 7840.0}, {\"imdb_id\": \"tt0206634\", \"words\": 129557, \"gross\": 7820.0}, {\"imdb_id\": \"tt0134273\", \"words\": 256424, \"gross\": 7812.0}, {\"imdb_id\": \"tt0179626\", \"words\": 157415, \"gross\": 7733.0}, {\"imdb_id\": \"tt0102789\", \"words\": 123196, \"gross\": 7695.0}, {\"imdb_id\": \"tt0085750\", \"words\": 62546, \"gross\": 7656.0}, {\"imdb_id\": \"tt0113627\", \"words\": 274176, \"gross\": 7616.0}, {\"imdb_id\": \"tt0407304\", \"words\": 13824, \"gross\": 7608.0}, {\"imdb_id\": \"tt0107362\", \"words\": 31020, \"gross\": 7560.0}, {\"imdb_id\": \"tt0107843\", \"words\": 85660, \"gross\": 7560.0}, {\"imdb_id\": \"tt0306685\", \"words\": 104650, \"gross\": 7546.0}, {\"imdb_id\": \"tt1013753\", \"words\": 191772, \"gross\": 7524.0}, {\"imdb_id\": \"tt1959490\", \"words\": 55970, \"gross\": 7490.0}, {\"imdb_id\": \"tt1124035\", \"words\": 180421, \"gross\": 7480.0}, {\"imdb_id\": \"tt0335245\", \"words\": 216240, \"gross\": 7480.0}, {\"imdb_id\": \"tt1179891\", \"words\": 88452, \"gross\": 7434.0}, {\"imdb_id\": \"tt0790686\", \"words\": 272720, \"gross\": 7400.0}, {\"imdb_id\": \"tt0133751\", \"words\": 59570, \"gross\": 7400.0}, {\"imdb_id\": \"tt0297884\", \"words\": 314784, \"gross\": 7360.0}, {\"imdb_id\": \"tt1340138\", \"words\": 118688, \"gross\": 7360.0}, {\"imdb_id\": \"tt0112571\", \"words\": 141184, \"gross\": 7360.0}, {\"imdb_id\": \"tt1663202\", \"words\": 42510, \"gross\": 7350.0}, {\"imdb_id\": \"tt0120744\", \"words\": 70960, \"gross\": 7350.0}, {\"imdb_id\": \"tt0787474\", \"words\": 88927, \"gross\": 7344.0}, {\"imdb_id\": \"tt0217869\", \"words\": 37384, \"gross\": 7344.0}, {\"imdb_id\": \"tt0102316\", \"words\": 176850, \"gross\": 7344.0}, {\"imdb_id\": \"tt1127180\", \"words\": 398276, \"gross\": 7344.0}, {\"imdb_id\": \"tt0247425\", \"words\": 221578, \"gross\": 7315.0}, {\"imdb_id\": \"tt0425210\", \"words\": 228186, \"gross\": 7308.0}, {\"imdb_id\": \"tt0240890\", \"words\": 140800, \"gross\": 7296.0}, {\"imdb_id\": \"tt1322269\", \"words\": 210070, \"gross\": 7280.0}, {\"imdb_id\": \"tt0411477\", \"words\": 98280, \"gross\": 7280.0}, {\"imdb_id\": \"tt0083833\", \"words\": 182908, \"gross\": 7216.0}, {\"imdb_id\": \"tt0093822\", \"words\": 111654, \"gross\": 7200.0}, {\"imdb_id\": \"tt0473075\", \"words\": 78612, \"gross\": 7200.0}, {\"imdb_id\": \"tt1038919\", \"words\": 93940, \"gross\": 7154.0}, {\"imdb_id\": \"tt0408236\", \"words\": 101220, \"gross\": 7128.0}, {\"imdb_id\": \"tt2713180\", \"words\": 88894, \"gross\": 7098.0}, {\"imdb_id\": \"tt0107688\", \"words\": 30105, \"gross\": 7065.0}, {\"imdb_id\": \"tt0105665\", \"words\": 384510, \"gross\": 7056.0}, {\"imdb_id\": \"tt0163978\", \"words\": 118899, \"gross\": 7040.0}, {\"imdb_id\": \"tt0294870\", \"words\": 170180, \"gross\": 7020.0}, {\"imdb_id\": \"tt0244000\", \"words\": 303534, \"gross\": 7020.0}, {\"imdb_id\": \"tt0120157\", \"words\": 218400, \"gross\": 7020.0}, {\"imdb_id\": \"tt0985694\", \"words\": 96866, \"gross\": 7018.0}, {\"imdb_id\": \"tt1412386\", \"words\": 240120, \"gross\": 7000.0}, {\"imdb_id\": \"tt0099739\", \"words\": 52152, \"gross\": 6984.0}, {\"imdb_id\": \"tt0258000\", \"words\": 30730, \"gross\": 6958.0}, {\"imdb_id\": \"tt1046947\", \"words\": 350976, \"gross\": 6912.0}, {\"imdb_id\": \"tt2170593\", \"words\": 118150, \"gross\": 6900.0}, {\"imdb_id\": \"tt0429493\", \"words\": 68229, \"gross\": 6885.0}, {\"imdb_id\": \"tt1038686\", \"words\": 135694, \"gross\": 6864.0}, {\"imdb_id\": \"tt0109707\", \"words\": 551646, \"gross\": 6840.0}, {\"imdb_id\": \"tt0103939\", \"words\": 206070, \"gross\": 6840.0}, {\"imdb_id\": \"tt0765010\", \"words\": 146047, \"gross\": 6732.0}, {\"imdb_id\": \"tt0120834\", \"words\": 204240, \"gross\": 6720.0}, {\"imdb_id\": \"tt0119349\", \"words\": 597180, \"gross\": 6720.0}, {\"imdb_id\": \"tt1817273\", \"words\": 274369, \"gross\": 6670.0}, {\"imdb_id\": \"tt1939659\", \"words\": 133700, \"gross\": 6660.0}, {\"imdb_id\": \"tt0285742\", \"words\": 78844, \"gross\": 6624.0}, {\"imdb_id\": \"tt0118715\", \"words\": 240741, \"gross\": 6624.0}, {\"imdb_id\": \"tt0120773\", \"words\": 262845, \"gross\": 6615.0}, {\"imdb_id\": \"tt0101698\", \"words\": 302300, \"gross\": 6600.0}, {\"imdb_id\": \"tt0100403\", \"words\": 58435, \"gross\": 6552.0}, {\"imdb_id\": \"tt1385867\", \"words\": 175997, \"gross\": 6517.0}, {\"imdb_id\": \"tt0186589\", \"words\": 348030, \"gross\": 6480.0}, {\"imdb_id\": \"tt0117057\", \"words\": 130220, \"gross\": 6480.0}, {\"imdb_id\": \"tt0099703\", \"words\": 346200, \"gross\": 6480.0}, {\"imdb_id\": \"tt0476964\", \"words\": 127428, \"gross\": 6440.0}, {\"imdb_id\": \"tt0116908\", \"words\": 66737, \"gross\": 6435.0}, {\"imdb_id\": \"tt1430132\", \"words\": 46395, \"gross\": 6390.0}, {\"imdb_id\": \"tt0132512\", \"words\": 456330, \"gross\": 6384.0}, {\"imdb_id\": \"tt0800039\", \"words\": 113218, \"gross\": 6384.0}, {\"imdb_id\": \"tt0371246\", \"words\": 165990, \"gross\": 6380.0}, {\"imdb_id\": \"tt3397884\", \"words\": 131318, \"gross\": 6336.0}, {\"imdb_id\": \"tt0160484\", \"words\": 160966, \"gross\": 6318.0}, {\"imdb_id\": \"tt0110737\", \"words\": 160986, \"gross\": 6314.0}, {\"imdb_id\": \"tt1125849\", \"words\": 285012, \"gross\": 6293.0}, {\"imdb_id\": \"tt0488120\", \"words\": 379104, \"gross\": 6272.0}, {\"imdb_id\": \"tt0890870\", \"words\": 51428, \"gross\": 6240.0}, {\"imdb_id\": \"tt1243957\", \"words\": 50076, \"gross\": 6216.0}, {\"imdb_id\": \"tt0101635\", \"words\": 150135, \"gross\": 6210.0}, {\"imdb_id\": \"tt1210042\", \"words\": 152925, \"gross\": 6200.0}, {\"imdb_id\": \"tt0116191\", \"words\": 188144, \"gross\": 6192.0}, {\"imdb_id\": \"tt0225071\", \"words\": 329766, \"gross\": 6120.0}, {\"imdb_id\": \"tt0101917\", \"words\": 45832, \"gross\": 6120.0}, {\"imdb_id\": \"tt0453556\", \"words\": 84210, \"gross\": 6120.0}, {\"imdb_id\": \"tt1022603\", \"words\": 272880, \"gross\": 6105.0}, {\"imdb_id\": \"tt1781769\", \"words\": 382176, \"gross\": 6084.0}, {\"imdb_id\": \"tt1306980\", \"words\": 156520, \"gross\": 6080.0}, {\"imdb_id\": \"tt0372532\", \"words\": 156480, \"gross\": 6048.0}, {\"imdb_id\": \"tt0268695\", \"words\": 62991, \"gross\": 6048.0}, {\"imdb_id\": \"tt0139414\", \"words\": 198548, \"gross\": 6048.0}, {\"imdb_id\": \"tt0120804\", \"words\": 68068, \"gross\": 6018.0}, {\"imdb_id\": \"tt0138524\", \"words\": 95376, \"gross\": 6000.0}, {\"imdb_id\": \"tt0144084\", \"words\": 412550, \"gross\": 6000.0}, {\"imdb_id\": \"tt0100814\", \"words\": 248320, \"gross\": 5984.0}, {\"imdb_id\": \"tt0166924\", \"words\": 456756, \"gross\": 5984.0}, {\"imdb_id\": \"tt1855325\", \"words\": 59735, \"gross\": 5980.0}, {\"imdb_id\": \"tt1632708\", \"words\": 109018, \"gross\": 5978.0}, {\"imdb_id\": \"tt0120696\", \"words\": 118320, \"gross\": 5940.0}, {\"imdb_id\": \"tt0454841\", \"words\": 106740, \"gross\": 5940.0}, {\"imdb_id\": \"tt0094631\", \"words\": 79604, \"gross\": 5936.0}, {\"imdb_id\": \"tt1980209\", \"words\": 74522, \"gross\": 5936.0}, {\"imdb_id\": \"tt1411238\", \"words\": 161249, \"gross\": 5929.0}, {\"imdb_id\": \"tt0092654\", \"words\": 99468, \"gross\": 5904.0}, {\"imdb_id\": \"tt0758752\", \"words\": 164031, \"gross\": 5880.0}, {\"imdb_id\": \"tt0139134\", \"words\": 202720, \"gross\": 5850.0}, {\"imdb_id\": \"tt0114084\", \"words\": 284576, \"gross\": 5824.0}, {\"imdb_id\": \"tt0489099\", \"words\": 88450, \"gross\": 5820.0}, {\"imdb_id\": \"tt0094008\", \"words\": 327648, \"gross\": 5808.0}, {\"imdb_id\": \"tt1057500\", \"words\": 105138, \"gross\": 5805.0}, {\"imdb_id\": \"tt0758758\", \"words\": 361620, \"gross\": 5796.0}, {\"imdb_id\": \"tt0185937\", \"words\": 56136, \"gross\": 5784.0}, {\"imdb_id\": \"tt0267891\", \"words\": 66450, \"gross\": 5760.0}, {\"imdb_id\": \"tt0104850\", \"words\": 140512, \"gross\": 5760.0}, {\"imdb_id\": \"tt0104549\", \"words\": 523200, \"gross\": 5750.0}, {\"imdb_id\": \"tt1092026\", \"words\": 233716, \"gross\": 5740.0}, {\"imdb_id\": \"tt0119643\", \"words\": 280600, \"gross\": 5740.0}, {\"imdb_id\": \"tt1336608\", \"words\": 62424, \"gross\": 5712.0}, {\"imdb_id\": \"tt0091867\", \"words\": 152796, \"gross\": 5712.0}, {\"imdb_id\": \"tt0112579\", \"words\": 43064, \"gross\": 5680.0}, {\"imdb_id\": \"tt0433383\", \"words\": 111705, \"gross\": 5670.0}, {\"imdb_id\": \"tt0151804\", \"words\": 356328, \"gross\": 5670.0}, {\"imdb_id\": \"tt0162346\", \"words\": 1029118, \"gross\": 5661.0}, {\"imdb_id\": \"tt0258153\", \"words\": 735258, \"gross\": 5642.0}, {\"imdb_id\": \"tt0373883\", \"words\": 48950, \"gross\": 5621.0}, {\"imdb_id\": \"tt0443543\", \"words\": 132156, \"gross\": 5616.0}, {\"imdb_id\": \"tt0116654\", \"words\": 64389, \"gross\": 5616.0}, {\"imdb_id\": \"tt0362270\", \"words\": 226219, \"gross\": 5610.0}, {\"imdb_id\": \"tt0427152\", \"words\": 103572, \"gross\": 5600.0}, {\"imdb_id\": \"tt0421073\", \"words\": 162576, \"gross\": 5580.0}, {\"imdb_id\": \"tt0093773\", \"words\": 16494, \"gross\": 5544.0}, {\"imdb_id\": \"tt0163988\", \"words\": 135180, \"gross\": 5544.0}, {\"imdb_id\": \"tt1186367\", \"words\": 124920, \"gross\": 5544.0}, {\"imdb_id\": \"tt0414982\", \"words\": 78910, \"gross\": 5538.0}, {\"imdb_id\": \"tt0078788\", \"words\": 468924, \"gross\": 5520.0}, {\"imdb_id\": \"tt0211915\", \"words\": 53232, \"gross\": 5508.0}, {\"imdb_id\": \"tt0327597\", \"words\": 46269, \"gross\": 5481.0}, {\"imdb_id\": \"tt0110097\", \"words\": 653172, \"gross\": 5460.0}, {\"imdb_id\": \"tt0113690\", \"words\": 212982, \"gross\": 5460.0}, {\"imdb_id\": \"tt1663662\", \"words\": 62330, \"gross\": 5450.0}, {\"imdb_id\": \"tt0471042\", \"words\": 50536, \"gross\": 5440.0}, {\"imdb_id\": \"tt0116365\", \"words\": 63546, \"gross\": 5440.0}, {\"imdb_id\": \"tt0084827\", \"words\": 27312, \"gross\": 5432.0}, {\"imdb_id\": \"tt0120791\", \"words\": 31464, \"gross\": 5418.0}, {\"imdb_id\": \"tt0116225\", \"words\": 47542, \"gross\": 5390.0}, {\"imdb_id\": \"tt0351977\", \"words\": 34296, \"gross\": 5376.0}, {\"imdb_id\": \"tt0348836\", \"words\": 110772, \"gross\": 5355.0}, {\"imdb_id\": \"tt0113189\", \"words\": 15010, \"gross\": 5350.0}, {\"imdb_id\": \"tt1486185\", \"words\": 179335, \"gross\": 5330.0}, {\"imdb_id\": \"tt0230600\", \"words\": 56538, \"gross\": 5328.0}, {\"imdb_id\": \"tt0095271\", \"words\": 53152, \"gross\": 5328.0}, {\"imdb_id\": \"tt0115644\", \"words\": 63024, \"gross\": 5328.0}, {\"imdb_id\": \"tt0100157\", \"words\": 69608, \"gross\": 5292.0}, {\"imdb_id\": \"tt0421054\", \"words\": 265582, \"gross\": 5278.0}, {\"imdb_id\": \"tt0090305\", \"words\": 108525, \"gross\": 5265.0}, {\"imdb_id\": \"tt1259521\", \"words\": 91039, \"gross\": 5265.0}, {\"imdb_id\": \"tt0469494\", \"words\": 112155, \"gross\": 5250.0}, {\"imdb_id\": \"tt0088847\", \"words\": 143104, \"gross\": 5208.0}, {\"imdb_id\": \"tt0218817\", \"words\": 461350, \"gross\": 5200.0}, {\"imdb_id\": \"tt0191754\", \"words\": 26444, \"gross\": 5192.0}, {\"imdb_id\": \"tt1058017\", \"words\": 153178, \"gross\": 5187.0}, {\"imdb_id\": \"tt0107497\", \"words\": 71271, \"gross\": 5184.0}, {\"imdb_id\": \"tt0463854\", \"words\": 55980, \"gross\": 5184.0}, {\"imdb_id\": \"tt0052311\", \"words\": 121176, \"gross\": 5168.0}, {\"imdb_id\": \"tt1059786\", \"words\": 38717, \"gross\": 5124.0}, {\"imdb_id\": \"tt0340163\", \"words\": 68156, \"gross\": 5060.0}, {\"imdb_id\": \"tt0088814\", \"words\": 58047, \"gross\": 5049.0}, {\"imdb_id\": \"tt0100507\", \"words\": 29496, \"gross\": 5040.0}, {\"imdb_id\": \"tt0399146\", \"words\": 121755, \"gross\": 5040.0}, {\"imdb_id\": \"tt2561572\", \"words\": 82323, \"gross\": 5022.0}, {\"imdb_id\": \"tt1855199\", \"words\": 137845, \"gross\": 5016.0}, {\"imdb_id\": \"tt1826590\", \"words\": 163758, \"gross\": 4998.0}, {\"imdb_id\": \"tt0114857\", \"words\": 84799, \"gross\": 4992.0}, {\"imdb_id\": \"tt0120004\", \"words\": 163254, \"gross\": 4992.0}, {\"imdb_id\": \"tt0383010\", \"words\": 73242, \"gross\": 4992.0}, {\"imdb_id\": \"tt0158983\", \"words\": 36416, \"gross\": 4984.0}, {\"imdb_id\": \"tt0183649\", \"words\": 140526, \"gross\": 4968.0}, {\"imdb_id\": \"tt0109456\", \"words\": 169697, \"gross\": 4961.0}, {\"imdb_id\": \"tt0101694\", \"words\": 79324, \"gross\": 4956.0}, {\"imdb_id\": \"tt1591095\", \"words\": 92520, \"gross\": 4956.0}, {\"imdb_id\": \"tt0120601\", \"words\": 141624, \"gross\": 4914.0}, {\"imdb_id\": \"tt0087800\", \"words\": 45837, \"gross\": 4896.0}, {\"imdb_id\": \"tt0959337\", \"words\": 340272, \"gross\": 4860.0}, {\"imdb_id\": \"tt0122690\", \"words\": 62703, \"gross\": 4851.0}, {\"imdb_id\": \"tt0875034\", \"words\": 161876, \"gross\": 4840.0}, {\"imdb_id\": \"tt0110955\", \"words\": 221445, \"gross\": 4830.0}, {\"imdb_id\": \"tt0099141\", \"words\": 27599, \"gross\": 4818.0}, {\"imdb_id\": \"tt0116409\", \"words\": 80832, \"gross\": 4800.0}, {\"imdb_id\": \"tt0097027\", \"words\": 124470, \"gross\": 4800.0}, {\"imdb_id\": \"tt1972571\", \"words\": 170373, \"gross\": 4788.0}, {\"imdb_id\": \"tt2980648\", \"words\": 68772, \"gross\": 4788.0}, {\"imdb_id\": \"tt0387877\", \"words\": 112290, \"gross\": 4785.0}, {\"imdb_id\": \"tt1411250\", \"words\": 59448, \"gross\": 4752.0}, {\"imdb_id\": \"tt0481369\", \"words\": 79392, \"gross\": 4752.0}, {\"imdb_id\": \"tt0096933\", \"words\": 33774, \"gross\": 4752.0}, {\"imdb_id\": \"tt0088846\", \"words\": 123084, \"gross\": 4752.0}, {\"imdb_id\": \"tt0185014\", \"words\": 378216, \"gross\": 4743.0}, {\"imdb_id\": \"tt0462322\", \"words\": 101167, \"gross\": 4743.0}, {\"imdb_id\": \"tt0367959\", \"words\": 71226, \"gross\": 4725.0}, {\"imdb_id\": \"tt0115963\", \"words\": 57484, \"gross\": 4704.0}, {\"imdb_id\": \"tt0113552\", \"words\": 112878, \"gross\": 4698.0}, {\"imdb_id\": \"tt1226229\", \"words\": 168014, \"gross\": 4690.0}, {\"imdb_id\": \"tt0332379\", \"words\": 27744, \"gross\": 4680.0}, {\"imdb_id\": \"tt0498399\", \"words\": 93652, \"gross\": 4680.0}, {\"imdb_id\": \"tt1265990\", \"words\": 182039, \"gross\": 4680.0}, {\"imdb_id\": \"tt0414055\", \"words\": 131688, \"gross\": 4680.0}, {\"imdb_id\": \"tt0790636\", \"words\": 148166, \"gross\": 4669.0}, {\"imdb_id\": \"tt0311289\", \"words\": 52896, \"gross\": 4656.0}, {\"imdb_id\": \"tt0118617\", \"words\": 25221, \"gross\": 4620.0}, {\"imdb_id\": \"tt0117951\", \"words\": 181792, \"gross\": 4608.0}, {\"imdb_id\": \"tt0106873\", \"words\": 472416, \"gross\": 4608.0}, {\"imdb_id\": \"tt0245674\", \"words\": 58545, \"gross\": 4608.0}, {\"imdb_id\": \"tt0829150\", \"words\": 59748, \"gross\": 4602.0}, {\"imdb_id\": \"tt1637688\", \"words\": 80864, \"gross\": 4592.0}, {\"imdb_id\": \"tt1659337\", \"words\": 199100, \"gross\": 4560.0}, {\"imdb_id\": \"tt0233469\", \"words\": 41558, \"gross\": 4543.0}, {\"imdb_id\": \"tt0097322\", \"words\": 189252, \"gross\": 4536.0}, {\"imdb_id\": \"tt1279935\", \"words\": 97391, \"gross\": 4536.0}, {\"imdb_id\": \"tt0963966\", \"words\": 91494, \"gross\": 4485.0}, {\"imdb_id\": \"tt0839980\", \"words\": 122584, \"gross\": 4480.0}, {\"imdb_id\": \"tt0094602\", \"words\": 106736, \"gross\": 4480.0}, {\"imdb_id\": \"tt0479968\", \"words\": 82300, \"gross\": 4480.0}, {\"imdb_id\": \"tt1488555\", \"words\": 258622, \"gross\": 4480.0}, {\"imdb_id\": \"tt0097388\", \"words\": 66944, \"gross\": 4464.0}, {\"imdb_id\": \"tt0120669\", \"words\": 622336, \"gross\": 4446.0}, {\"imdb_id\": \"tt0098524\", \"words\": 280436, \"gross\": 4446.0}, {\"imdb_id\": \"tt0142192\", \"words\": 135698, \"gross\": 4446.0}, {\"imdb_id\": \"tt0118900\", \"words\": 839752, \"gross\": 4440.0}, {\"imdb_id\": \"tt0111686\", \"words\": 89400, \"gross\": 4440.0}, {\"imdb_id\": \"tt1198138\", \"words\": 88284, \"gross\": 4424.0}, {\"imdb_id\": \"tt1764651\", \"words\": 32592, \"gross\": 4416.0}, {\"imdb_id\": \"tt0378194\", \"words\": 61648, \"gross\": 4416.0}, {\"imdb_id\": \"tt1528854\", \"words\": 90150, \"gross\": 4410.0}, {\"imdb_id\": \"tt0088206\", \"words\": 153552, \"gross\": 4410.0}, {\"imdb_id\": \"tt0266465\", \"words\": 101779, \"gross\": 4403.0}, {\"imdb_id\": \"tt0119081\", \"words\": 192478, \"gross\": 4400.0}, {\"imdb_id\": \"tt1454468\", \"words\": 28345, \"gross\": 4395.0}, {\"imdb_id\": \"tt0087843\", \"words\": 184380, \"gross\": 4368.0}, {\"imdb_id\": \"tt0450385\", \"words\": 39876, \"gross\": 4368.0}, {\"imdb_id\": \"tt0109348\", \"words\": 85088, \"gross\": 4320.0}, {\"imdb_id\": \"tt0465580\", \"words\": 70215, \"gross\": 4320.0}, {\"imdb_id\": \"tt1790864\", \"words\": 48984, \"gross\": 4320.0}, {\"imdb_id\": \"tt0862846\", \"words\": 440328, \"gross\": 4312.0}, {\"imdb_id\": \"tt0815236\", \"words\": 125720, \"gross\": 4284.0}, {\"imdb_id\": \"tt0105699\", \"words\": 47502, \"gross\": 4284.0}, {\"imdb_id\": \"tt0403702\", \"words\": 594936, \"gross\": 4284.0}, {\"imdb_id\": \"tt0104073\", \"words\": 71316, \"gross\": 4284.0}, {\"imdb_id\": \"tt0120184\", \"words\": 220104, \"gross\": 4284.0}, {\"imdb_id\": \"tt0149624\", \"words\": 214574, \"gross\": 4250.0}, {\"imdb_id\": \"tt0486822\", \"words\": 44429, \"gross\": 4242.0}, {\"imdb_id\": \"tt1231587\", \"words\": 133023, \"gross\": 4235.0}, {\"imdb_id\": \"tt0399295\", \"words\": 397584, \"gross\": 4224.0}, {\"imdb_id\": \"tt0106387\", \"words\": 97438, \"gross\": 4224.0}, {\"imdb_id\": \"tt1175491\", \"words\": 104412, \"gross\": 4200.0}, {\"imdb_id\": \"tt0107665\", \"words\": 47415, \"gross\": 4185.0}, {\"imdb_id\": \"tt0107254\", \"words\": 45288, \"gross\": 4158.0}, {\"imdb_id\": \"tt1234548\", \"words\": 131418, \"gross\": 4144.0}, {\"imdb_id\": \"tt0185371\", \"words\": 67790, \"gross\": 4140.0}, {\"imdb_id\": \"tt0106664\", \"words\": 208357, \"gross\": 4140.0}, {\"imdb_id\": \"tt0219653\", \"words\": 48490, \"gross\": 4134.0}, {\"imdb_id\": \"tt0450259\", \"words\": 46062, \"gross\": 4104.0}, {\"imdb_id\": \"tt0264395\", \"words\": 174408, \"gross\": 4104.0}, {\"imdb_id\": \"tt0432283\", \"words\": 233605, \"gross\": 4104.0}, {\"imdb_id\": \"tt0142688\", \"words\": 95536, \"gross\": 4096.0}, {\"imdb_id\": \"tt0116367\", \"words\": 330140, \"gross\": 4080.0}, {\"imdb_id\": \"tt0272020\", \"words\": 132420, \"gross\": 4050.0}, {\"imdb_id\": \"tt0128442\", \"words\": 69072, \"gross\": 4032.0}, {\"imdb_id\": \"tt0165710\", \"words\": 685760, \"gross\": 4032.0}, {\"imdb_id\": \"tt0271367\", \"words\": 174432, \"gross\": 4000.0}, {\"imdb_id\": \"tt0088172\", \"words\": 53919, \"gross\": 3996.0}, {\"imdb_id\": \"tt0134847\", \"words\": 118620, \"gross\": 3969.0}, {\"imdb_id\": \"tt1091722\", \"words\": 183326, \"gross\": 3960.0}, {\"imdb_id\": \"tt0119008\", \"words\": 105680, \"gross\": 3950.0}, {\"imdb_id\": \"tt0211443\", \"words\": 96807, \"gross\": 3933.0}, {\"imdb_id\": \"tt0467197\", \"words\": 48608, \"gross\": 3920.0}, {\"imdb_id\": \"tt0114558\", \"words\": 597052, \"gross\": 3915.0}, {\"imdb_id\": \"tt0098625\", \"words\": 161092, \"gross\": 3910.0}, {\"imdb_id\": \"tt0498380\", \"words\": 203856, \"gross\": 3906.0}, {\"imdb_id\": \"tt0113243\", \"words\": 293852, \"gross\": 3900.0}, {\"imdb_id\": \"tt1876451\", \"words\": 138015, \"gross\": 3900.0}, {\"imdb_id\": \"tt1821549\", \"words\": 193176, \"gross\": 3888.0}, {\"imdb_id\": \"tt1798709\", \"words\": 159824, \"gross\": 3888.0}, {\"imdb_id\": \"tt0108149\", \"words\": 465911, \"gross\": 3887.0}, {\"imdb_id\": \"tt0115857\", \"words\": 78128, \"gross\": 3840.0}, {\"imdb_id\": \"tt0892318\", \"words\": 101266, \"gross\": 3828.0}, {\"imdb_id\": \"tt0102411\", \"words\": 250444, \"gross\": 3825.0}, {\"imdb_id\": \"tt0457430\", \"words\": 50115, \"gross\": 3822.0}, {\"imdb_id\": \"tt1791528\", \"words\": 419244, \"gross\": 3808.0}, {\"imdb_id\": \"tt0097474\", \"words\": 48013, \"gross\": 3800.0}, {\"imdb_id\": \"tt0318155\", \"words\": 104976, \"gross\": 3780.0}, {\"imdb_id\": \"tt0116830\", \"words\": 79836, \"gross\": 3780.0}, {\"imdb_id\": \"tt0119664\", \"words\": 71820, \"gross\": 3780.0}, {\"imdb_id\": \"tt0093209\", \"words\": 134672, \"gross\": 3762.0}, {\"imdb_id\": \"tt0119675\", \"words\": 61854, \"gross\": 3744.0}, {\"imdb_id\": \"tt1212436\", \"words\": 142597, \"gross\": 3731.0}, {\"imdb_id\": \"tt0120053\", \"words\": 30792, \"gross\": 3712.0}, {\"imdb_id\": \"tt0103594\", \"words\": 151240, \"gross\": 3705.0}, {\"imdb_id\": \"tt0285531\", \"words\": 41943, \"gross\": 3696.0}, {\"imdb_id\": \"tt0859163\", \"words\": 40170, \"gross\": 3690.0}, {\"imdb_id\": \"tt1935179\", \"words\": 318160, \"gross\": 3680.0}, {\"imdb_id\": \"tt0094761\", \"words\": 88512, \"gross\": 3672.0}, {\"imdb_id\": \"tt0366548\", \"words\": 20293, \"gross\": 3668.0}, {\"imdb_id\": \"tt1197628\", \"words\": 493890, \"gross\": 3645.0}, {\"imdb_id\": \"tt0418819\", \"words\": 108405, \"gross\": 3645.0}, {\"imdb_id\": \"tt1291584\", \"words\": 193864, \"gross\": 3630.0}, {\"imdb_id\": \"tt0338013\", \"words\": 239536, \"gross\": 3619.0}, {\"imdb_id\": \"tt0090756\", \"words\": 352152, \"gross\": 3600.0}, {\"imdb_id\": \"tt0945513\", \"words\": 164520, \"gross\": 3600.0}, {\"imdb_id\": \"tt1424381\", \"words\": 22788, \"gross\": 3591.0}, {\"imdb_id\": \"tt0119099\", \"words\": 72436, \"gross\": 3588.0}, {\"imdb_id\": \"tt1229822\", \"words\": 372255, \"gross\": 3588.0}, {\"imdb_id\": \"tt0289992\", \"words\": 90288, \"gross\": 3584.0}, {\"imdb_id\": \"tt0433362\", \"words\": 66840, \"gross\": 3570.0}, {\"imdb_id\": \"tt3850214\", \"words\": 88660, \"gross\": 3564.0}, {\"imdb_id\": \"tt2883512\", \"words\": 103416, \"gross\": 3564.0}, {\"imdb_id\": \"tt2199571\", \"words\": 137060, \"gross\": 3564.0}, {\"imdb_id\": \"tt0962736\", \"words\": 244461, \"gross\": 3528.0}, {\"imdb_id\": \"tt0478087\", \"words\": 59985, \"gross\": 3528.0}, {\"imdb_id\": \"tt0091474\", \"words\": 152656, \"gross\": 3520.0}, {\"imdb_id\": \"tt0309377\", \"words\": 37116, \"gross\": 3510.0}, {\"imdb_id\": \"tt0113253\", \"words\": 56420, \"gross\": 3510.0}, {\"imdb_id\": \"tt0462200\", \"words\": 558308, \"gross\": 3480.0}, {\"imdb_id\": \"tt0137523\", \"words\": 113982, \"gross\": 3465.0}, {\"imdb_id\": \"tt0268126\", \"words\": 145200, \"gross\": 3465.0}, {\"imdb_id\": \"tt0230838\", \"words\": 114530, \"gross\": 3458.0}, {\"imdb_id\": \"tt0163579\", \"words\": 230204, \"gross\": 3458.0}, {\"imdb_id\": \"tt0114852\", \"words\": 89528, \"gross\": 3420.0}, {\"imdb_id\": \"tt0947810\", \"words\": 84060, \"gross\": 3420.0}, {\"imdb_id\": \"tt0384537\", \"words\": 38225, \"gross\": 3410.0}, {\"imdb_id\": \"tt1220198\", \"words\": 85904, \"gross\": 3393.0}, {\"imdb_id\": \"tt0104040\", \"words\": 68328, \"gross\": 3380.0}, {\"imdb_id\": \"tt0120735\", \"words\": 529782, \"gross\": 3366.0}, {\"imdb_id\": \"tt1129445\", \"words\": 612066, \"gross\": 3360.0}, {\"imdb_id\": \"tt0109642\", \"words\": 81740, \"gross\": 3360.0}, {\"imdb_id\": \"tt0120586\", \"words\": 153920, \"gross\": 3360.0}, {\"imdb_id\": \"tt2172934\", \"words\": 208635, \"gross\": 3360.0}, {\"imdb_id\": \"tt1764183\", \"words\": 328524, \"gross\": 3360.0}, {\"imdb_id\": \"tt0307901\", \"words\": 149520, \"gross\": 3344.0}, {\"imdb_id\": \"tt2402157\", \"words\": 85056, \"gross\": 3328.0}, {\"imdb_id\": \"tt0478134\", \"words\": 204386, \"gross\": 3328.0}, {\"imdb_id\": \"tt0126886\", \"words\": 443004, \"gross\": 3325.0}, {\"imdb_id\": \"tt0330793\", \"words\": 19992, \"gross\": 3290.0}, {\"imdb_id\": \"tt1300851\", \"words\": 197208, \"gross\": 3267.0}, {\"imdb_id\": \"tt2377322\", \"words\": 110075, \"gross\": 3264.0}, {\"imdb_id\": \"tt0118636\", \"words\": 477258, \"gross\": 3264.0}, {\"imdb_id\": \"tt0251736\", \"words\": 125805, \"gross\": 3240.0}, {\"imdb_id\": \"tt0480249\", \"words\": 21650, \"gross\": 3230.0}, {\"imdb_id\": \"tt0455407\", \"words\": 51660, \"gross\": 3225.0}, {\"imdb_id\": \"tt0093777\", \"words\": 72462, \"gross\": 3224.0}, {\"imdb_id\": \"tt0209144\", \"words\": 261248, \"gross\": 3198.0}, {\"imdb_id\": \"tt0137363\", \"words\": 124072, \"gross\": 3198.0}, {\"imdb_id\": \"tt0780504\", \"words\": 63300, \"gross\": 3192.0}, {\"imdb_id\": \"tt0114478\", \"words\": 261036, \"gross\": 3168.0}, {\"imdb_id\": \"tt1655460\", \"words\": 205040, \"gross\": 3168.0}, {\"imdb_id\": \"tt0091203\", \"words\": 127622, \"gross\": 3146.0}, {\"imdb_id\": \"tt0119051\", \"words\": 83484, \"gross\": 3120.0}, {\"imdb_id\": \"tt0483607\", \"words\": 148840, \"gross\": 3120.0}, {\"imdb_id\": \"tt0107507\", \"words\": 331155, \"gross\": 3105.0}, {\"imdb_id\": \"tt0115641\", \"words\": 15640, \"gross\": 3100.0}, {\"imdb_id\": \"tt0185183\", \"words\": 73008, \"gross\": 3094.0}, {\"imdb_id\": \"tt1967545\", \"words\": 162780, \"gross\": 3080.0}, {\"imdb_id\": \"tt0118842\", \"words\": 566280, \"gross\": 3080.0}, {\"imdb_id\": \"tt3316948\", \"words\": 180246, \"gross\": 3080.0}, {\"imdb_id\": \"tt2193215\", \"words\": 59489, \"gross\": 3078.0}, {\"imdb_id\": \"tt0335266\", \"words\": 45720, \"gross\": 3072.0}, {\"imdb_id\": \"tt0120694\", \"words\": 16182, \"gross\": 3060.0}, {\"imdb_id\": \"tt0097737\", \"words\": 48420, \"gross\": 3060.0}, {\"imdb_id\": \"tt0317248\", \"words\": 165125, \"gross\": 3025.0}, {\"imdb_id\": \"tt1148204\", \"words\": 96588, \"gross\": 3024.0}, {\"imdb_id\": \"tt1670345\", \"words\": 40440, \"gross\": 3024.0}, {\"imdb_id\": \"tt0164181\", \"words\": 95652, \"gross\": 3024.0}, {\"imdb_id\": \"tt0780571\", \"words\": 82908, \"gross\": 3024.0}, {\"imdb_id\": \"tt1341188\", \"words\": 153075, \"gross\": 3003.0}, {\"imdb_id\": \"tt1430607\", \"words\": 37800, \"gross\": 3000.0}, {\"imdb_id\": \"tt0105414\", \"words\": 50832, \"gross\": 3000.0}, {\"imdb_id\": \"tt0086510\", \"words\": 315612, \"gross\": 2970.0}, {\"imdb_id\": \"tt1034032\", \"words\": 35552, \"gross\": 2944.0}, {\"imdb_id\": \"tt0419706\", \"words\": 69718, \"gross\": 2926.0}, {\"imdb_id\": \"tt0089686\", \"words\": 27870, \"gross\": 2920.0}, {\"imdb_id\": \"tt2120120\", \"words\": 15660, \"gross\": 2916.0}, {\"imdb_id\": \"tt0420223\", \"words\": 80300, \"gross\": 2915.0}, {\"imdb_id\": \"tt0497465\", \"words\": 177099, \"gross\": 2912.0}, {\"imdb_id\": \"tt0101545\", \"words\": 144242, \"gross\": 2898.0}, {\"imdb_id\": \"tt0095497\", \"words\": 122570, \"gross\": 2890.0}, {\"imdb_id\": \"tt2872718\", \"words\": 152507, \"gross\": 2890.0}, {\"imdb_id\": \"tt0113101\", \"words\": 524200, \"gross\": 2880.0}, {\"imdb_id\": \"tt1931533\", \"words\": 199440, \"gross\": 2880.0}, {\"imdb_id\": \"tt0467200\", \"words\": 70790, \"gross\": 2880.0}, {\"imdb_id\": \"tt0918927\", \"words\": 142758, \"gross\": 2880.0}, {\"imdb_id\": \"tt0035423\", \"words\": 37160, \"gross\": 2880.0}, {\"imdb_id\": \"tt0365748\", \"words\": 154000, \"gross\": 2880.0}, {\"imdb_id\": \"tt0120684\", \"words\": 657894, \"gross\": 2871.0}, {\"imdb_id\": \"tt0325805\", \"words\": 101097, \"gross\": 2862.0}, {\"imdb_id\": \"tt0120824\", \"words\": 271684, \"gross\": 2856.0}, {\"imdb_id\": \"tt0204313\", \"words\": 45872, \"gross\": 2784.0}, {\"imdb_id\": \"tt0120646\", \"words\": 85148, \"gross\": 2772.0}, {\"imdb_id\": \"tt0180073\", \"words\": 260650, \"gross\": 2750.0}, {\"imdb_id\": \"tt0113540\", \"words\": 265104, \"gross\": 2744.0}, {\"imdb_id\": \"tt1131734\", \"words\": 184680, \"gross\": 2736.0}, {\"imdb_id\": \"tt0119280\", \"words\": 303840, \"gross\": 2720.0}, {\"imdb_id\": \"tt0780653\", \"words\": 63690, \"gross\": 2720.0}, {\"imdb_id\": \"tt0118954\", \"words\": 43877, \"gross\": 2720.0}, {\"imdb_id\": \"tt0257516\", \"words\": 59787, \"gross\": 2704.0}, {\"imdb_id\": \"tt0097243\", \"words\": 269776, \"gross\": 2704.0}, {\"imdb_id\": \"tt1172233\", \"words\": 132660, \"gross\": 2700.0}, {\"imdb_id\": \"tt0112401\", \"words\": 148986, \"gross\": 2700.0}, {\"imdb_id\": \"tt0119177\", \"words\": 54340, \"gross\": 2691.0}, {\"imdb_id\": \"tt1601913\", \"words\": 41028, \"gross\": 2688.0}, {\"imdb_id\": \"tt0765443\", \"words\": 93520, \"gross\": 2688.0}, {\"imdb_id\": \"tt1225822\", \"words\": 255833, \"gross\": 2652.0}, {\"imdb_id\": \"tt0880578\", \"words\": 93093, \"gross\": 2652.0}, {\"imdb_id\": \"tt0118564\", \"words\": 396000, \"gross\": 2640.0}, {\"imdb_id\": \"tt2334649\", \"words\": 165788, \"gross\": 2635.0}, {\"imdb_id\": \"tt0480255\", \"words\": 122010, \"gross\": 2625.0}, {\"imdb_id\": \"tt0120202\", \"words\": 175389, \"gross\": 2618.0}, {\"imdb_id\": \"tt0085382\", \"words\": 26505, \"gross\": 2610.0}, {\"imdb_id\": \"tt0089886\", \"words\": 74830, \"gross\": 2604.0}, {\"imdb_id\": \"tt1922777\", \"words\": 66160, \"gross\": 2600.0}, {\"imdb_id\": \"tt0266489\", \"words\": 151960, \"gross\": 2600.0}, {\"imdb_id\": \"tt0397065\", \"words\": 24360, \"gross\": 2580.0}, {\"imdb_id\": \"tt0083190\", \"words\": 168674, \"gross\": 2574.0}, {\"imdb_id\": \"tt0087262\", \"words\": 43648, \"gross\": 2574.0}, {\"imdb_id\": \"tt0114194\", \"words\": 64080, \"gross\": 2560.0}, {\"imdb_id\": \"tt1430612\", \"words\": 138720, \"gross\": 2520.0}, {\"imdb_id\": \"tt0479884\", \"words\": 67102, \"gross\": 2520.0}, {\"imdb_id\": \"tt1126590\", \"words\": 168735, \"gross\": 2520.0}, {\"imdb_id\": \"tt1403981\", \"words\": 119867, \"gross\": 2499.0}, {\"imdb_id\": \"tt0395169\", \"words\": 71942, \"gross\": 2496.0}, {\"imdb_id\": \"tt0208988\", \"words\": 62049, \"gross\": 2496.0}, {\"imdb_id\": \"tt0292644\", \"words\": 233300, \"gross\": 2475.0}, {\"imdb_id\": \"tt0281358\", \"words\": 38584, \"gross\": 2440.0}, {\"imdb_id\": \"tt0310910\", \"words\": 142506, \"gross\": 2431.0}, {\"imdb_id\": \"tt0106453\", \"words\": 82810, \"gross\": 2430.0}, {\"imdb_id\": \"tt0104990\", \"words\": 246360, \"gross\": 2400.0}, {\"imdb_id\": \"tt0118956\", \"words\": 61452, \"gross\": 2400.0}, {\"imdb_id\": \"tt1464540\", \"words\": 85808, \"gross\": 2400.0}, {\"imdb_id\": \"tt0256276\", \"words\": 97344, \"gross\": 2400.0}, {\"imdb_id\": \"tt0822847\", \"words\": 110352, \"gross\": 2387.0}, {\"imdb_id\": \"tt2126355\", \"words\": 15790, \"gross\": 2385.0}, {\"imdb_id\": \"tt1980929\", \"words\": 187432, \"gross\": 2380.0}, {\"imdb_id\": \"tt0240510\", \"words\": 235488, \"gross\": 2376.0}, {\"imdb_id\": \"tt0318374\", \"words\": 447228, \"gross\": 2376.0}, {\"imdb_id\": \"tt0395251\", \"words\": 212576, \"gross\": 2366.0}, {\"imdb_id\": \"tt0327554\", \"words\": 55608, \"gross\": 2352.0}, {\"imdb_id\": \"tt0971209\", \"words\": 139679, \"gross\": 2346.0}, {\"imdb_id\": \"tt2334873\", \"words\": 38720, \"gross\": 2310.0}, {\"imdb_id\": \"tt0100224\", \"words\": 65580, \"gross\": 2310.0}, {\"imdb_id\": \"tt0113972\", \"words\": 246240, \"gross\": 2304.0}, {\"imdb_id\": \"tt0089346\", \"words\": 66114, \"gross\": 2304.0}, {\"imdb_id\": \"tt0368709\", \"words\": 84912, \"gross\": 2304.0}, {\"imdb_id\": \"tt1521197\", \"words\": 326432, \"gross\": 2304.0}, {\"imdb_id\": \"tt0795351\", \"words\": 151715, \"gross\": 2280.0}, {\"imdb_id\": \"tt2446980\", \"words\": 86550, \"gross\": 2280.0}, {\"imdb_id\": \"tt0981227\", \"words\": 55430, \"gross\": 2280.0}, {\"imdb_id\": \"tt0375154\", \"words\": 143610, \"gross\": 2280.0}, {\"imdb_id\": \"tt0292506\", \"words\": 62480, \"gross\": 2280.0}, {\"imdb_id\": \"tt0096256\", \"words\": 53340, \"gross\": 2268.0}, {\"imdb_id\": \"tt0117104\", \"words\": 126429, \"gross\": 2261.0}, {\"imdb_id\": \"tt0109045\", \"words\": 52836, \"gross\": 2254.0}, {\"imdb_id\": \"tt0864761\", \"words\": 154180, \"gross\": 2240.0}, {\"imdb_id\": \"tt0087050\", \"words\": 50710, \"gross\": 2220.0}, {\"imdb_id\": \"tt0120399\", \"words\": 459060, \"gross\": 2184.0}, {\"imdb_id\": \"tt0999913\", \"words\": 135198, \"gross\": 2178.0}, {\"imdb_id\": \"tt0098663\", \"words\": 40300, \"gross\": 2170.0}, {\"imdb_id\": \"tt0167456\", \"words\": 157840, \"gross\": 2160.0}, {\"imdb_id\": \"tt1633356\", \"words\": 63312, \"gross\": 2160.0}, {\"imdb_id\": \"tt0114011\", \"words\": 41860, \"gross\": 2160.0}, {\"imdb_id\": \"tt2080374\", \"words\": 303270, \"gross\": 2160.0}, {\"imdb_id\": \"tt2364841\", \"words\": 163656, \"gross\": 2160.0}, {\"imdb_id\": \"tt1622547\", \"words\": 120717, \"gross\": 2160.0}, {\"imdb_id\": \"tt0305206\", \"words\": 517380, \"gross\": 2160.0}, {\"imdb_id\": \"tt1204977\", \"words\": 49056, \"gross\": 2160.0}, {\"imdb_id\": \"tt0140397\", \"words\": 605440, \"gross\": 2156.0}, {\"imdb_id\": \"tt0308383\", \"words\": 188716, \"gross\": 2156.0}, {\"imdb_id\": \"tt1232783\", \"words\": 126660, \"gross\": 2145.0}, {\"imdb_id\": \"tt1440728\", \"words\": 50732, \"gross\": 2145.0}, {\"imdb_id\": \"tt0324127\", \"words\": 235576, \"gross\": 2112.0}, {\"imdb_id\": \"tt0337921\", \"words\": 55216, \"gross\": 2112.0}, {\"imdb_id\": \"tt0335119\", \"words\": 97416, \"gross\": 2112.0}, {\"imdb_id\": \"tt0114898\", \"words\": 13536, \"gross\": 2112.0}, {\"imdb_id\": \"tt1228987\", \"words\": 58230, \"gross\": 2106.0}, {\"imdb_id\": \"tt0404203\", \"words\": 137050, \"gross\": 2100.0}, {\"imdb_id\": \"tt2390361\", \"words\": 132962, \"gross\": 2052.0}, {\"imdb_id\": \"tt1625346\", \"words\": 128565, \"gross\": 2040.0}, {\"imdb_id\": \"tt0159382\", \"words\": 378718, \"gross\": 2024.0}, {\"imdb_id\": \"tt0041959\", \"words\": 221030, \"gross\": 2024.0}, {\"imdb_id\": \"tt0454082\", \"words\": 51012, \"gross\": 2016.0}, {\"imdb_id\": \"tt1032755\", \"words\": 182910, \"gross\": 2016.0}, {\"imdb_id\": \"tt0119381\", \"words\": 375876, \"gross\": 1980.0}, {\"imdb_id\": \"tt3622592\", \"words\": 105636, \"gross\": 1980.0}, {\"imdb_id\": \"tt3332064\", \"words\": 104126, \"gross\": 1980.0}, {\"imdb_id\": \"tt0105128\", \"words\": 27808, \"gross\": 1960.0}, {\"imdb_id\": \"tt1244754\", \"words\": 203360, \"gross\": 1953.0}, {\"imdb_id\": \"tt0124198\", \"words\": 96060, \"gross\": 1944.0}, {\"imdb_id\": \"tt0870111\", \"words\": 149908, \"gross\": 1936.0}, {\"imdb_id\": \"tt0816462\", \"words\": 76930, \"gross\": 1932.0}, {\"imdb_id\": \"tt0093177\", \"words\": 81264, \"gross\": 1920.0}, {\"imdb_id\": \"tt0399201\", \"words\": 36340, \"gross\": 1920.0}, {\"imdb_id\": \"tt1483013\", \"words\": 65365, \"gross\": 1900.0}, {\"imdb_id\": \"tt1226753\", \"words\": 66066, \"gross\": 1870.0}, {\"imdb_id\": \"tt1172991\", \"words\": 255948, \"gross\": 1848.0}, {\"imdb_id\": \"tt0116922\", \"words\": 90168, \"gross\": 1848.0}, {\"imdb_id\": \"tt0107711\", \"words\": 14640, \"gross\": 1840.0}, {\"imdb_id\": \"tt0104070\", \"words\": 7455, \"gross\": 1830.0}, {\"imdb_id\": \"tt0887912\", \"words\": 82000, \"gross\": 1824.0}, {\"imdb_id\": \"tt0272338\", \"words\": 84322, \"gross\": 1820.0}, {\"imdb_id\": \"tt0110413\", \"words\": 48600, \"gross\": 1809.0}, {\"imdb_id\": \"tt0432291\", \"words\": 36036, \"gross\": 1800.0}, {\"imdb_id\": \"tt0137494\", \"words\": 66560, \"gross\": 1800.0}, {\"imdb_id\": \"tt0097289\", \"words\": 451290, \"gross\": 1800.0}, {\"imdb_id\": \"tt1560747\", \"words\": 196935, \"gross\": 1785.0}, {\"imdb_id\": \"tt1606392\", \"words\": 202446, \"gross\": 1782.0}, {\"imdb_id\": \"tt0857191\", \"words\": 216936, \"gross\": 1782.0}, {\"imdb_id\": \"tt0804497\", \"words\": 198237, \"gross\": 1771.0}, {\"imdb_id\": \"tt1502404\", \"words\": 83280, \"gross\": 1760.0}, {\"imdb_id\": \"tt0144964\", \"words\": 80773, \"gross\": 1760.0}, {\"imdb_id\": \"tt2473794\", \"words\": 288200, \"gross\": 1760.0}, {\"imdb_id\": \"tt0452625\", \"words\": 77428, \"gross\": 1716.0}, {\"imdb_id\": \"tt0128445\", \"words\": 48279, \"gross\": 1705.0}, {\"imdb_id\": \"tt1742334\", \"words\": 115651, \"gross\": 1683.0}, {\"imdb_id\": \"tt0227005\", \"words\": 222390, \"gross\": 1680.0}, {\"imdb_id\": \"tt0101410\", \"words\": 136276, \"gross\": 1680.0}, {\"imdb_id\": \"tt1781922\", \"words\": 74775, \"gross\": 1680.0}, {\"imdb_id\": \"tt0203230\", \"words\": 335160, \"gross\": 1680.0}, {\"imdb_id\": \"tt0254099\", \"words\": 238520, \"gross\": 1680.0}, {\"imdb_id\": \"tt1174732\", \"words\": 279840, \"gross\": 1680.0}, {\"imdb_id\": \"tt1764234\", \"words\": 197509, \"gross\": 1664.0}, {\"imdb_id\": \"tt0104804\", \"words\": 169136, \"gross\": 1664.0}, {\"imdb_id\": \"tt2091473\", \"words\": 249964, \"gross\": 1656.0}, {\"imdb_id\": \"tt0047396\", \"words\": 236280, \"gross\": 1650.0}, {\"imdb_id\": \"tt0338427\", \"words\": 134295, \"gross\": 1638.0}, {\"imdb_id\": \"tt0073092\", \"words\": 70460, \"gross\": 1638.0}, {\"imdb_id\": \"tt0120324\", \"words\": 82053, \"gross\": 1620.0}, {\"imdb_id\": \"tt0118531\", \"words\": 128980, \"gross\": 1600.0}, {\"imdb_id\": \"tt0115632\", \"words\": 355946, \"gross\": 1595.0}, {\"imdb_id\": \"tt0206314\", \"words\": 60540, \"gross\": 1584.0}, {\"imdb_id\": \"tt0375173\", \"words\": 79002, \"gross\": 1584.0}, {\"imdb_id\": \"tt1054606\", \"words\": 312444, \"gross\": 1584.0}, {\"imdb_id\": \"tt0103976\", \"words\": 91546, \"gross\": 1560.0}, {\"imdb_id\": \"tt0295700\", \"words\": 55960, \"gross\": 1540.0}, {\"imdb_id\": \"tt1853739\", \"words\": 59136, \"gross\": 1540.0}, {\"imdb_id\": \"tt0115986\", \"words\": 28996, \"gross\": 1540.0}, {\"imdb_id\": \"tt0364955\", \"words\": 214944, \"gross\": 1536.0}, {\"imdb_id\": \"tt0106834\", \"words\": 684992, \"gross\": 1536.0}, {\"imdb_id\": \"tt0362478\", \"words\": 144840, \"gross\": 1530.0}, {\"imdb_id\": \"tt1142977\", \"words\": 17504, \"gross\": 1520.0}, {\"imdb_id\": \"tt0384680\", \"words\": 51433, \"gross\": 1520.0}, {\"imdb_id\": \"tt0118604\", \"words\": 47082, \"gross\": 1500.0}, {\"imdb_id\": \"tt1343727\", \"words\": 64125, \"gross\": 1470.0}, {\"imdb_id\": \"tt1600196\", \"words\": 132449, \"gross\": 1463.0}, {\"imdb_id\": \"tt0913354\", \"words\": 40500, \"gross\": 1458.0}, {\"imdb_id\": \"tt0111127\", \"words\": 42393, \"gross\": 1456.0}, {\"imdb_id\": \"tt0052357\", \"words\": 77680, \"gross\": 1450.0}, {\"imdb_id\": \"tt1423894\", \"words\": 169686, \"gross\": 1440.0}, {\"imdb_id\": \"tt0491747\", \"words\": 84060, \"gross\": 1440.0}, {\"imdb_id\": \"tt0105585\", \"words\": 39505, \"gross\": 1410.0}, {\"imdb_id\": \"tt0279113\", \"words\": 158000, \"gross\": 1400.0}, {\"imdb_id\": \"tt0435625\", \"words\": 26928, \"gross\": 1400.0}, {\"imdb_id\": \"tt1307068\", \"words\": 124992, \"gross\": 1386.0}, {\"imdb_id\": \"tt0120255\", \"words\": 312018, \"gross\": 1360.0}, {\"imdb_id\": \"tt0113409\", \"words\": 71535, \"gross\": 1350.0}, {\"imdb_id\": \"tt0770772\", \"words\": 127230, \"gross\": 1350.0}, {\"imdb_id\": \"tt0372588\", \"words\": 9888, \"gross\": 1350.0}, {\"imdb_id\": \"tt3170832\", \"words\": 118230, \"gross\": 1350.0}, {\"imdb_id\": \"tt0288477\", \"words\": 95988, \"gross\": 1350.0}, {\"imdb_id\": \"tt0100485\", \"words\": 50352, \"gross\": 1344.0}, {\"imdb_id\": \"tt0108174\", \"words\": 64872, \"gross\": 1344.0}, {\"imdb_id\": \"tt0252501\", \"words\": 51516, \"gross\": 1332.0}, {\"imdb_id\": \"tt3316960\", \"words\": 82370, \"gross\": 1330.0}, {\"imdb_id\": \"tt0166110\", \"words\": 92940, \"gross\": 1320.0}, {\"imdb_id\": \"tt0091557\", \"words\": 21320, \"gross\": 1320.0}, {\"imdb_id\": \"tt0116095\", \"words\": 46792, \"gross\": 1320.0}, {\"imdb_id\": \"tt3045616\", \"words\": 152915, \"gross\": 1309.0}, {\"imdb_id\": \"tt0082288\", \"words\": 46440, \"gross\": 1296.0}, {\"imdb_id\": \"tt0189998\", \"words\": 123497, \"gross\": 1287.0}, {\"imdb_id\": \"tt0108330\", \"words\": 227888, \"gross\": 1280.0}, {\"imdb_id\": \"tt0995039\", \"words\": 133332, \"gross\": 1260.0}, {\"imdb_id\": \"tt0975645\", \"words\": 161238, \"gross\": 1260.0}, {\"imdb_id\": \"tt0108065\", \"words\": 100056, \"gross\": 1260.0}, {\"imdb_id\": \"tt2935476\", \"words\": 98100, \"gross\": 1260.0}, {\"imdb_id\": \"tt2404181\", \"words\": 104823, \"gross\": 1254.0}, {\"imdb_id\": \"tt1067774\", \"words\": 94130, \"gross\": 1250.0}, {\"imdb_id\": \"tt0102494\", \"words\": 77744, \"gross\": 1248.0}, {\"imdb_id\": \"tt0104409\", \"words\": 37288, \"gross\": 1248.0}, {\"imdb_id\": \"tt2582802\", \"words\": 133232, \"gross\": 1248.0}, {\"imdb_id\": \"tt2388715\", \"words\": 44576, \"gross\": 1218.0}, {\"imdb_id\": \"tt1791682\", \"words\": 214947, \"gross\": 1216.0}, {\"imdb_id\": \"tt0891592\", \"words\": 80304, \"gross\": 1200.0}, {\"imdb_id\": \"tt0093415\", \"words\": 72969, \"gross\": 1196.0}, {\"imdb_id\": \"tt0369441\", \"words\": 5912, \"gross\": 1192.0}, {\"imdb_id\": \"tt2101441\", \"words\": 24947, \"gross\": 1170.0}, {\"imdb_id\": \"tt1176740\", \"words\": 137241, \"gross\": 1170.0}, {\"imdb_id\": \"tt1716777\", \"words\": 124950, \"gross\": 1170.0}, {\"imdb_id\": \"tt0104114\", \"words\": 2700, \"gross\": 1164.0}, {\"imdb_id\": \"tt2387559\", \"words\": 42264, \"gross\": 1152.0}, {\"imdb_id\": \"tt2937898\", \"words\": 274296, \"gross\": 1152.0}, {\"imdb_id\": \"tt2170439\", \"words\": 33552, \"gross\": 1140.0}, {\"imdb_id\": \"tt0180093\", \"words\": 211500, \"gross\": 1125.0}, {\"imdb_id\": \"tt1084950\", \"words\": 189840, \"gross\": 1125.0}, {\"imdb_id\": \"tt3235888\", \"words\": 51195, \"gross\": 1125.0}, {\"imdb_id\": \"tt0118158\", \"words\": 45192, \"gross\": 1120.0}, {\"imdb_id\": \"tt0450405\", \"words\": 76920, \"gross\": 1120.0}, {\"imdb_id\": \"tt0166276\", \"words\": 81928, \"gross\": 1120.0}, {\"imdb_id\": \"tt2132285\", \"words\": 109512, \"gross\": 1092.0}, {\"imdb_id\": \"tt0129167\", \"words\": 35931, \"gross\": 1092.0}, {\"imdb_id\": \"tt0106379\", \"words\": 226560, \"gross\": 1080.0}, {\"imdb_id\": \"tt3181822\", \"words\": 53268, \"gross\": 1080.0}, {\"imdb_id\": \"tt2140379\", \"words\": 72342, \"gross\": 1080.0}, {\"imdb_id\": \"tt0106308\", \"words\": 70620, \"gross\": 1056.0}, {\"imdb_id\": \"tt0083908\", \"words\": 160812, \"gross\": 1053.0}, {\"imdb_id\": \"tt0838221\", \"words\": 77250, \"gross\": 1050.0}, {\"imdb_id\": \"tt0878835\", \"words\": 208974, \"gross\": 1044.0}, {\"imdb_id\": \"tt0109445\", \"words\": 505818, \"gross\": 1020.0}, {\"imdb_id\": \"tt0091499\", \"words\": 28980, \"gross\": 1020.0}, {\"imdb_id\": \"tt0199753\", \"words\": 76386, \"gross\": 1008.0}, {\"imdb_id\": \"tt2209764\", \"words\": 56224, \"gross\": 1008.0}, {\"imdb_id\": \"tt0102753\", \"words\": 351072, \"gross\": 1008.0}, {\"imdb_id\": \"tt3236120\", \"words\": 151152, \"gross\": 1008.0}, {\"imdb_id\": \"tt1714206\", \"words\": 187812, \"gross\": 1008.0}, {\"imdb_id\": \"tt1706620\", \"words\": 158975, \"gross\": 1000.0}, {\"imdb_id\": \"tt0401445\", \"words\": 107767, \"gross\": 990.0}, {\"imdb_id\": \"tt0307479\", \"words\": 54639, \"gross\": 990.0}, {\"imdb_id\": \"tt0266452\", \"words\": 82665, \"gross\": 972.0}, {\"imdb_id\": \"tt0202677\", \"words\": 127752, \"gross\": 972.0}, {\"imdb_id\": \"tt0479997\", \"words\": 33534, \"gross\": 972.0}, {\"imdb_id\": \"tt0094919\", \"words\": 49980, \"gross\": 960.0}, {\"imdb_id\": \"tt0360009\", \"words\": 112720, \"gross\": 960.0}, {\"imdb_id\": \"tt0117802\", \"words\": 263070, \"gross\": 960.0}, {\"imdb_id\": \"tt0787475\", \"words\": 95608, \"gross\": 952.0}, {\"imdb_id\": \"tt1748227\", \"words\": 77550, \"gross\": 945.0}, {\"imdb_id\": \"tt1399683\", \"words\": 77292, \"gross\": 931.0}, {\"imdb_id\": \"tt0089469\", \"words\": 54050, \"gross\": 925.0}, {\"imdb_id\": \"tt0435705\", \"words\": 36015, \"gross\": 924.0}, {\"imdb_id\": \"tt1837703\", \"words\": 282212, \"gross\": 924.0}, {\"imdb_id\": \"tt0824758\", \"words\": 228840, \"gross\": 924.0}, {\"imdb_id\": \"tt0094964\", \"words\": 71388, \"gross\": 912.0}, {\"imdb_id\": \"tt2582496\", \"words\": 180101, \"gross\": 912.0}, {\"imdb_id\": \"tt0443680\", \"words\": 141493, \"gross\": 912.0}, {\"imdb_id\": \"tt0118929\", \"words\": 54404, \"gross\": 910.0}, {\"imdb_id\": \"tt2918436\", \"words\": 39256, \"gross\": 910.0}, {\"imdb_id\": \"tt0067991\", \"words\": 21270, \"gross\": 909.0}, {\"imdb_id\": \"tt0891527\", \"words\": 50785, \"gross\": 882.0}, {\"imdb_id\": \"tt0963794\", \"words\": 168014, \"gross\": 882.0}, {\"imdb_id\": \"tt1194263\", \"words\": 142461, \"gross\": 880.0}, {\"imdb_id\": \"tt0383028\", \"words\": 312997, \"gross\": 870.0}, {\"imdb_id\": \"tt0098724\", \"words\": 95008, \"gross\": 864.0}, {\"imdb_id\": \"tt0366627\", \"words\": 183960, \"gross\": 864.0}, {\"imdb_id\": \"tt0390221\", \"words\": 105672, \"gross\": 864.0}, {\"imdb_id\": \"tt0780536\", \"words\": 124344, \"gross\": 864.0}, {\"imdb_id\": \"tt0287467\", \"words\": 42801, \"gross\": 858.0}, {\"imdb_id\": \"tt0165854\", \"words\": 321776, \"gross\": 850.0}, {\"imdb_id\": \"tt1438176\", \"words\": 104405, \"gross\": 840.0}, {\"imdb_id\": \"tt1315981\", \"words\": 80948, \"gross\": 840.0}, {\"imdb_id\": \"tt1120985\", \"words\": 96250, \"gross\": 840.0}, {\"imdb_id\": \"tt4270516\", \"words\": 115905, \"gross\": 840.0}, {\"imdb_id\": \"tt0088930\", \"words\": 112884, \"gross\": 840.0}, {\"imdb_id\": \"tt1477837\", \"words\": 137275, \"gross\": 833.0}, {\"imdb_id\": \"tt1866249\", \"words\": 178211, \"gross\": 816.0}, {\"imdb_id\": \"tt1540133\", \"words\": 146160, \"gross\": 810.0}, {\"imdb_id\": \"tt0264616\", \"words\": 68460, \"gross\": 800.0}, {\"imdb_id\": \"tt3077214\", \"words\": 118540, \"gross\": 800.0}, {\"imdb_id\": \"tt0458522\", \"words\": 107312, \"gross\": 800.0}, {\"imdb_id\": \"tt0104348\", \"words\": 134880, \"gross\": 792.0}, {\"imdb_id\": \"tt1075747\", \"words\": 61632, \"gross\": 792.0}, {\"imdb_id\": \"tt0173716\", \"words\": 207620, \"gross\": 770.0}, {\"imdb_id\": \"tt0097240\", \"words\": 126632, \"gross\": 770.0}, {\"imdb_id\": \"tt0099740\", \"words\": 36440, \"gross\": 770.0}, {\"imdb_id\": \"tt1615147\", \"words\": 168476, \"gross\": 770.0}, {\"imdb_id\": \"tt1532958\", \"words\": 100668, \"gross\": 756.0}, {\"imdb_id\": \"tt0369226\", \"words\": 115956, \"gross\": 756.0}, {\"imdb_id\": \"tt1174730\", \"words\": 93090, \"gross\": 735.0}, {\"imdb_id\": \"tt0100212\", \"words\": 8270, \"gross\": 720.0}, {\"imdb_id\": \"tt0097493\", \"words\": 241704, \"gross\": 720.0}, {\"imdb_id\": \"tt1226774\", \"words\": 647588, \"gross\": 690.0}, {\"imdb_id\": \"tt3859076\", \"words\": 259670, \"gross\": 690.0}, {\"imdb_id\": \"tt0091983\", \"words\": 53442, \"gross\": 684.0}, {\"imdb_id\": \"tt1405365\", \"words\": 261500, \"gross\": 660.0}, {\"imdb_id\": \"tt0439815\", \"words\": 87724, \"gross\": 650.0}, {\"imdb_id\": \"tt0085794\", \"words\": 121173, \"gross\": 637.0}, {\"imdb_id\": \"tt0110074\", \"words\": 116410, \"gross\": 630.0}, {\"imdb_id\": \"tt2403021\", \"words\": 65054, \"gross\": 616.0}, {\"imdb_id\": \"tt0083658\", \"words\": 195916, \"gross\": 616.0}, {\"imdb_id\": \"tt0093605\", \"words\": 36300, \"gross\": 616.0}, {\"imdb_id\": \"tt0113749\", \"words\": 92990, \"gross\": 612.0}, {\"imdb_id\": \"tt1100089\", \"words\": 118524, \"gross\": 612.0}, {\"imdb_id\": \"tt1772288\", \"words\": 122595, \"gross\": 600.0}, {\"imdb_id\": \"tt0367089\", \"words\": 70941, \"gross\": 585.0}, {\"imdb_id\": \"tt0452702\", \"words\": 29244, \"gross\": 576.0}, {\"imdb_id\": \"tt2235108\", \"words\": 144504, \"gross\": 576.0}, {\"imdb_id\": \"tt0082971\", \"words\": 36045, \"gross\": 567.0}, {\"imdb_id\": \"tt0427470\", \"words\": 142198, \"gross\": 560.0}, {\"imdb_id\": \"tt1542344\", \"words\": 36015, \"gross\": 560.0}, {\"imdb_id\": \"tt2209418\", \"words\": 149560, \"gross\": 560.0}, {\"imdb_id\": \"tt0472399\", \"words\": 44580, \"gross\": 558.0}, {\"imdb_id\": \"tt0405296\", \"words\": 116922, \"gross\": 546.0}, {\"imdb_id\": \"tt0114938\", \"words\": 70770, \"gross\": 540.0}, {\"imdb_id\": \"tt0105236\", \"words\": 229944, \"gross\": 540.0}, {\"imdb_id\": \"tt0298388\", \"words\": 7469, \"gross\": 532.0}, {\"imdb_id\": \"tt0107302\", \"words\": 158739, \"gross\": 525.0}, {\"imdb_id\": \"tt0188453\", \"words\": 130848, \"gross\": 504.0}, {\"imdb_id\": \"tt1017451\", \"words\": 121212, \"gross\": 504.0}, {\"imdb_id\": \"tt2515034\", \"words\": 56010, \"gross\": 500.0}, {\"imdb_id\": \"tt1371155\", \"words\": 298716, \"gross\": 496.0}, {\"imdb_id\": \"tt0371257\", \"words\": 109290, \"gross\": 480.0}, {\"imdb_id\": \"tt1862079\", \"words\": 120785, \"gross\": 476.0}, {\"imdb_id\": \"tt1532503\", \"words\": 143182, \"gross\": 468.0}, {\"imdb_id\": \"tt0455538\", \"words\": 125256, \"gross\": 459.0}, {\"imdb_id\": \"tt1588334\", \"words\": 106324, \"gross\": 456.0}, {\"imdb_id\": \"tt1234654\", \"words\": 88749, \"gross\": 456.0}, {\"imdb_id\": \"tt0105159\", \"words\": 47216, \"gross\": 455.0}, {\"imdb_id\": \"tt0102511\", \"words\": 88543, \"gross\": 455.0}, {\"imdb_id\": \"tt1045772\", \"words\": 382140, \"gross\": 450.0}, {\"imdb_id\": \"tt0111149\", \"words\": 165210, \"gross\": 450.0}, {\"imdb_id\": \"tt1121977\", \"words\": 250874, \"gross\": 442.0}, {\"imdb_id\": \"tt0990413\", \"words\": 289590, \"gross\": 441.0}, {\"imdb_id\": \"tt1012804\", \"words\": 114092, \"gross\": 440.0}, {\"imdb_id\": \"tt1019452\", \"words\": 70895, \"gross\": 440.0}, {\"imdb_id\": \"tt0913425\", \"words\": 165044, \"gross\": 440.0}, {\"imdb_id\": \"tt0365929\", \"words\": 31040, \"gross\": 440.0}, {\"imdb_id\": \"tt0844286\", \"words\": 206490, \"gross\": 420.0}, {\"imdb_id\": \"tt1477855\", \"words\": 64250, \"gross\": 420.0}, {\"imdb_id\": \"tt0478304\", \"words\": 44340, \"gross\": 420.0}, {\"imdb_id\": \"tt2639344\", \"words\": 160417, \"gross\": 418.0}, {\"imdb_id\": \"tt0470752\", \"words\": 30392, \"gross\": 416.0}, {\"imdb_id\": \"tt0423977\", \"words\": 86008, \"gross\": 416.0}, {\"imdb_id\": \"tt0364045\", \"words\": 10614, \"gross\": 405.0}, {\"imdb_id\": \"tt3062976\", \"words\": 115596, \"gross\": 399.0}, {\"imdb_id\": \"tt0246578\", \"words\": 173124, \"gross\": 392.0}, {\"imdb_id\": \"tt0401383\", \"words\": 52118, \"gross\": 385.0}, {\"imdb_id\": \"tt0810784\", \"words\": 98560, \"gross\": 385.0}, {\"imdb_id\": \"tt1921064\", \"words\": 14064, \"gross\": 384.0}, {\"imdb_id\": \"tt0078748\", \"words\": 68016, \"gross\": 384.0}, {\"imdb_id\": \"tt0120907\", \"words\": 111732, \"gross\": 384.0}, {\"imdb_id\": \"tt0100791\", \"words\": 292258, \"gross\": 380.0}, {\"imdb_id\": \"tt0250081\", \"words\": 327672, \"gross\": 378.0}, {\"imdb_id\": \"tt1596345\", \"words\": 162794, \"gross\": 368.0}, {\"imdb_id\": \"tt1723811\", \"words\": 103014, \"gross\": 360.0}, {\"imdb_id\": \"tt1431181\", \"words\": 193305, \"gross\": 360.0}, {\"imdb_id\": \"tt0896872\", \"words\": 194610, \"gross\": 338.0}, {\"imdb_id\": \"tt0097438\", \"words\": 62150, \"gross\": 330.0}, {\"imdb_id\": \"tt0215545\", \"words\": 109010, \"gross\": 330.0}, {\"imdb_id\": \"tt2870708\", \"words\": 129852, \"gross\": 324.0}, {\"imdb_id\": \"tt0115736\", \"words\": 164232, \"gross\": 315.0}, {\"imdb_id\": \"tt2234003\", \"words\": 86983, \"gross\": 312.0}, {\"imdb_id\": \"tt1441953\", \"words\": 191880, \"gross\": 312.0}, {\"imdb_id\": \"tt0120906\", \"words\": 234855, \"gross\": 306.0}, {\"imdb_id\": \"tt0122529\", \"words\": 138491, \"gross\": 304.0}, {\"imdb_id\": \"tt0393109\", \"words\": 296160, \"gross\": 300.0}, {\"imdb_id\": \"tt0105226\", \"words\": 40572, \"gross\": 300.0}, {\"imdb_id\": \"tt3312830\", \"words\": 141376, \"gross\": 288.0}, {\"imdb_id\": \"tt0115734\", \"words\": 332520, \"gross\": 280.0}, {\"imdb_id\": \"tt1023114\", \"words\": 173250, \"gross\": 280.0}, {\"imdb_id\": \"tt0116768\", \"words\": 19670, \"gross\": 280.0}, {\"imdb_id\": \"tt1188729\", \"words\": 92250, \"gross\": 275.0}, {\"imdb_id\": \"tt3011894\", \"words\": 33215, \"gross\": 273.0}, {\"imdb_id\": \"tt0102307\", \"words\": 212400, \"gross\": 270.0}, {\"imdb_id\": \"tt0110005\", \"words\": 89562, \"gross\": 264.0}, {\"imdb_id\": \"tt0102181\", \"words\": 85217, \"gross\": 264.0}, {\"imdb_id\": \"tt1441326\", \"words\": 71093, \"gross\": 264.0}, {\"imdb_id\": \"tt0935075\", \"words\": 135256, \"gross\": 264.0}, {\"imdb_id\": \"tt0138704\", \"words\": 147732, \"gross\": 260.0}, {\"imdb_id\": \"tt0097334\", \"words\": 23807, \"gross\": 245.0}, {\"imdb_id\": \"tt3569230\", \"words\": 187596, \"gross\": 243.0}, {\"imdb_id\": \"tt1336617\", \"words\": 66180, \"gross\": 240.0}, {\"imdb_id\": \"tt1640548\", \"words\": 139723, \"gross\": 238.0}, {\"imdb_id\": \"tt0086250\", \"words\": 243468, \"gross\": 234.0}, {\"imdb_id\": \"tt0086979\", \"words\": 52646, \"gross\": 220.0}, {\"imdb_id\": \"tt0978759\", \"words\": 212148, \"gross\": 216.0}, {\"imdb_id\": \"tt2872462\", \"words\": 155025, \"gross\": 210.0}, {\"imdb_id\": \"tt0790712\", \"words\": 145038, \"gross\": 207.0}, {\"imdb_id\": \"tt3442006\", \"words\": 124440, \"gross\": 200.0}, {\"imdb_id\": \"tt0104627\", \"words\": 181522, \"gross\": 198.0}, {\"imdb_id\": \"tt1334260\", \"words\": 89208, \"gross\": 196.0}, {\"imdb_id\": \"tt1531663\", \"words\": 104608, \"gross\": 192.0}, {\"imdb_id\": \"tt0113677\", \"words\": 250344, \"gross\": 192.0}, {\"imdb_id\": \"tt0129332\", \"words\": 34794, \"gross\": 189.0}, {\"imdb_id\": \"tt1313092\", \"words\": 151268, \"gross\": 182.0}, {\"imdb_id\": \"tt0115710\", \"words\": 147080, \"gross\": 180.0}, {\"imdb_id\": \"tt0099291\", \"words\": 147756, \"gross\": 168.0}, {\"imdb_id\": \"tt0093223\", \"words\": 28908, \"gross\": 165.0}, {\"imdb_id\": \"tt0363282\", \"words\": 15752, \"gross\": 152.0}, {\"imdb_id\": \"tt1675192\", \"words\": 218190, \"gross\": 147.0}, {\"imdb_id\": \"tt0757361\", \"words\": 164112, \"gross\": 144.0}, {\"imdb_id\": \"tt0335563\", \"words\": 110944, \"gross\": 144.0}, {\"imdb_id\": \"tt1645131\", \"words\": 82758, \"gross\": 143.0}, {\"imdb_id\": \"tt0119485\", \"words\": 4214, \"gross\": 140.0}, {\"imdb_id\": \"tt1182345\", \"words\": 35770, \"gross\": 140.0}, {\"imdb_id\": \"tt1311071\", \"words\": 85275, \"gross\": 135.0}, {\"imdb_id\": \"tt0113537\", \"words\": 95304, \"gross\": 133.0}, {\"imdb_id\": \"tt2125435\", \"words\": 15480, \"gross\": 130.0}, {\"imdb_id\": \"tt0103759\", \"words\": 29712, \"gross\": 128.0}, {\"imdb_id\": \"tt1029120\", \"words\": 48231, \"gross\": 126.0}, {\"imdb_id\": \"tt0109450\", \"words\": 131190, \"gross\": 120.0}, {\"imdb_id\": \"tt0455960\", \"words\": 13080, \"gross\": 120.0}, {\"imdb_id\": \"tt1700845\", \"words\": 63699, \"gross\": 119.0}, {\"imdb_id\": \"tt1772240\", \"words\": 5156, \"gross\": 114.0}, {\"imdb_id\": \"tt0235737\", \"words\": 82272, \"gross\": 112.0}, {\"imdb_id\": \"tt1726669\", \"words\": 81477, \"gross\": 108.0}, {\"imdb_id\": \"tt1127715\", \"words\": 25776, \"gross\": 108.0}, {\"imdb_id\": \"tt0800240\", \"words\": 54621, \"gross\": 105.0}, {\"imdb_id\": \"tt0434541\", \"words\": 76037, \"gross\": 104.0}, {\"imdb_id\": \"tt1266029\", \"words\": 78489, \"gross\": 102.0}, {\"imdb_id\": \"tt2692904\", \"words\": 108636, \"gross\": 96.0}, {\"imdb_id\": \"tt0118647\", \"words\": 116148, \"gross\": 96.0}, {\"imdb_id\": \"tt0804516\", \"words\": 37182, \"gross\": 90.0}, {\"imdb_id\": \"tt2350496\", \"words\": 20636, \"gross\": 88.0}, {\"imdb_id\": \"tt0106471\", \"words\": 53136, \"gross\": 81.0}, {\"imdb_id\": \"tt0381681\", \"words\": 45115, \"gross\": 80.0}, {\"imdb_id\": \"tt0110604\", \"words\": 34270, \"gross\": 80.0}, {\"imdb_id\": \"tt3172532\", \"words\": 122745, \"gross\": 75.0}, {\"imdb_id\": \"tt1462758\", \"words\": 132792, \"gross\": 66.0}, {\"imdb_id\": \"tt3416744\", \"words\": 23947, \"gross\": 63.0}, {\"imdb_id\": \"tt2370248\", \"words\": 78252, \"gross\": 60.0}, {\"imdb_id\": \"tt0112471\", \"words\": 33060, \"gross\": 60.0}, {\"imdb_id\": \"tt1321860\", \"words\": 124040, \"gross\": 60.0}, {\"imdb_id\": \"tt1242460\", \"words\": 103935, \"gross\": 60.0}, {\"imdb_id\": \"tt1423995\", \"words\": 126910, \"gross\": 56.0}, {\"imdb_id\": \"tt0219822\", \"words\": 211244, \"gross\": 55.0}, {\"imdb_id\": \"tt0238380\", \"words\": 34254, \"gross\": 55.0}, {\"imdb_id\": \"tt0106447\", \"words\": 115236, \"gross\": 45.0}, {\"imdb_id\": \"tt1969062\", \"words\": 100875, \"gross\": 45.0}, {\"imdb_id\": \"tt2053425\", \"words\": 71512, \"gross\": 42.0}, {\"imdb_id\": \"tt2404461\", \"words\": 55125, \"gross\": 35.0}, {\"imdb_id\": \"tt3099498\", \"words\": 46776, \"gross\": 30.0}, {\"imdb_id\": \"tt0058946\", \"words\": 24810, \"gross\": 30.0}, {\"imdb_id\": \"tt2345737\", \"words\": 24087, \"gross\": 28.0}, {\"imdb_id\": \"tt1592281\", \"words\": 58541, \"gross\": 21.0}, {\"imdb_id\": \"tt3808342\", \"words\": 5552, \"gross\": 0.0}, {\"imdb_id\": \"tt1486190\", \"words\": 287204, \"gross\": 0.0}, {\"imdb_id\": \"tt1480656\", \"words\": 134064, \"gross\": 0.0}, {\"imdb_id\": \"tt1586752\", \"words\": 179536, \"gross\": 0.0}, {\"imdb_id\": \"tt3722070\", \"words\": 195569, \"gross\": 0.0}, {\"imdb_id\": \"tt0453548\", \"words\": 180180, \"gross\": 0.0}, {\"imdb_id\": \"tt1278379\", \"words\": 72432, \"gross\": 0.0}, {\"imdb_id\": \"tt0803057\", \"words\": 100283, \"gross\": 0.0}, {\"imdb_id\": \"tt1602613\", \"words\": 76193, \"gross\": 0.0}, {\"imdb_id\": \"tt0110265\", \"words\": 102000, \"gross\": 0.0}, {\"imdb_id\": \"tt0276816\", \"words\": 143854, \"gross\": 0.0}, {\"imdb_id\": \"tt0123755\", \"words\": 23292, \"gross\": 0.0}, {\"imdb_id\": \"tt0387808\", \"words\": 158171, \"gross\": 0.0}, {\"imdb_id\": \"tt1372686\", \"words\": 200142, \"gross\": 0.0}, {\"imdb_id\": \"tt0120238\", \"words\": 139818, \"gross\": 0.0}, {\"imdb_id\": \"tt1226271\", \"words\": 423552, \"gross\": 0.0}, {\"imdb_id\": \"tt2321549\", \"words\": 53352, \"gross\": 0.0}, {\"imdb_id\": \"tt1233334\", \"words\": 45917, \"gross\": 0.0}, {\"imdb_id\": \"tt0247199\", \"words\": 459916, \"gross\": 0.0}]}}, {\"mode\": \"vega-lite\"});\n",
       "</script>"
      ],
      "text/plain": [
       "alt.LayerChart(...)"
      ]
     },
     "execution_count": 106,
     "metadata": {},
     "output_type": "execute_result"
    }
   ],
   "source": [
    "source = df2\n",
    "\n",
    "line = alt.Chart(source, title='Words_sum & Gross Each Film').mark_line().encode(\n",
    "    x=alt.X('words:Q', title='words sum in each film', scale=alt.Scale(domain=[0, 1200000])),\n",
    "    y=alt.Y('gross:Q', title='inflation-adjusted gross', scale=alt.Scale(domain=[0, 1000000])),\n",
    ").properties(width=1000)\n",
    "\n",
    "points = alt.Chart(source).mark_circle(size=50).encode(\n",
    "    x=alt.X('words:Q', title='words sum in each film', scale=alt.Scale(domain=[0, 1200000])),\n",
    "    y=alt.Y('gross:Q', title='inflation-adjusted gross', scale=alt.Scale(domain=[0, 1000000])),\n",
    "    tooltip=[alt.Tooltip('words:Q', title='words', format=','),\n",
    "             alt.Tooltip('gross:Q', title='gross', format=',')]\n",
    ").properties(width=1000)\n",
    "\n",
    "chart = line + points\n",
    "chart"
   ]
  },
  {
   "cell_type": "markdown",
   "metadata": {},
   "source": [
    "3. How does character frequency relate to the amount of dialogue in a film? Do we see similar character archetypes across genders or do certain gendered characters get more screen time?"
   ]
  },
  {
   "cell_type": "code",
   "execution_count": 107,
   "metadata": {},
   "outputs": [
    {
     "data": {
      "text/plain": [
       "Index(['script_id', 'imdb_character_name', 'words', 'gender', 'age', 'imdb_id',\n",
       "       'title', 'year', 'gross', 'lines_data', 'character_from_script',\n",
       "       'closest_character_name_from_imdb_match', 'closest_imdb_character_id',\n",
       "       'mapped_gender'],\n",
       "      dtype='object')"
      ]
     },
     "execution_count": 107,
     "metadata": {},
     "output_type": "execute_result"
    }
   ],
   "source": [
    "df.columns"
   ]
  },
  {
   "cell_type": "code",
   "execution_count": 108,
   "metadata": {},
   "outputs": [
    {
     "data": {
      "text/html": [
       "<div>\n",
       "<style scoped>\n",
       "    .dataframe tbody tr th:only-of-type {\n",
       "        vertical-align: middle;\n",
       "    }\n",
       "\n",
       "    .dataframe tbody tr th {\n",
       "        vertical-align: top;\n",
       "    }\n",
       "\n",
       "    .dataframe thead th {\n",
       "        text-align: right;\n",
       "    }\n",
       "</style>\n",
       "<table border=\"1\" class=\"dataframe\">\n",
       "  <thead>\n",
       "    <tr style=\"text-align: right;\">\n",
       "      <th></th>\n",
       "      <th>character_from_script</th>\n",
       "      <th>mapped_gender</th>\n",
       "    </tr>\n",
       "  </thead>\n",
       "  <tbody>\n",
       "    <tr>\n",
       "      <th>0</th>\n",
       "      <td>betty</td>\n",
       "      <td>0</td>\n",
       "    </tr>\n",
       "    <tr>\n",
       "      <th>1</th>\n",
       "      <td>carolyn</td>\n",
       "      <td>0</td>\n",
       "    </tr>\n",
       "    <tr>\n",
       "      <th>2</th>\n",
       "      <td>francesca</td>\n",
       "      <td>0</td>\n",
       "    </tr>\n",
       "    <tr>\n",
       "      <th>3</th>\n",
       "      <td>lawyer</td>\n",
       "      <td>0</td>\n",
       "    </tr>\n",
       "    <tr>\n",
       "      <th>4</th>\n",
       "      <td>madge</td>\n",
       "      <td>0</td>\n",
       "    </tr>\n",
       "    <tr>\n",
       "      <th>...</th>\n",
       "      <td>...</td>\n",
       "      <td>...</td>\n",
       "    </tr>\n",
       "    <tr>\n",
       "      <th>317679</th>\n",
       "      <td>lefou</td>\n",
       "      <td>0</td>\n",
       "    </tr>\n",
       "    <tr>\n",
       "      <th>317680</th>\n",
       "      <td>lumiere</td>\n",
       "      <td>0</td>\n",
       "    </tr>\n",
       "    <tr>\n",
       "      <th>317681</th>\n",
       "      <td>maurice</td>\n",
       "      <td>0</td>\n",
       "    </tr>\n",
       "    <tr>\n",
       "      <th>317682</th>\n",
       "      <td>mrs potts</td>\n",
       "      <td>0</td>\n",
       "    </tr>\n",
       "    <tr>\n",
       "      <th>317683</th>\n",
       "      <td>wardrobe</td>\n",
       "      <td>0</td>\n",
       "    </tr>\n",
       "  </tbody>\n",
       "</table>\n",
       "<p>317684 rows × 2 columns</p>\n",
       "</div>"
      ],
      "text/plain": [
       "       character_from_script  mapped_gender\n",
       "0                      betty              0\n",
       "1                    carolyn              0\n",
       "2                  francesca              0\n",
       "3                     lawyer              0\n",
       "4                      madge              0\n",
       "...                      ...            ...\n",
       "317679                 lefou              0\n",
       "317680               lumiere              0\n",
       "317681               maurice              0\n",
       "317682             mrs potts              0\n",
       "317683              wardrobe              0\n",
       "\n",
       "[317684 rows x 2 columns]"
      ]
     },
     "execution_count": 108,
     "metadata": {},
     "output_type": "execute_result"
    }
   ],
   "source": [
    "df[['character_from_script', 'mapped_gender']]"
   ]
  }
 ],
 "metadata": {
  "kernelspec": {
   "display_name": "is310-env",
   "language": "python",
   "name": "python3"
  },
  "language_info": {
   "codemirror_mode": {
    "name": "ipython",
    "version": 3
   },
   "file_extension": ".py",
   "mimetype": "text/x-python",
   "name": "python",
   "nbconvert_exporter": "python",
   "pygments_lexer": "ipython3",
   "version": "3.12.0"
  }
 },
 "nbformat": 4,
 "nbformat_minor": 2
}
